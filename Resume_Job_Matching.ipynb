{
  "nbformat": 4,
  "nbformat_minor": 0,
  "metadata": {
    "colab": {
      "name": "Resume-Job Matching.ipynb",
      "provenance": [],
      "authorship_tag": "ABX9TyOEutpP5rAvUCOvprIerOSS",
      "include_colab_link": true
    },
    "kernelspec": {
      "name": "python3",
      "display_name": "Python 3"
    },
    "language_info": {
      "name": "python"
    }
  },
  "cells": [
    {
      "cell_type": "markdown",
      "metadata": {
        "id": "view-in-github",
        "colab_type": "text"
      },
      "source": [
        "<a href=\"https://colab.research.google.com/github/bitanb1999/TalentSumoAI/blob/main/Resume_Job_Matching.ipynb\" target=\"_parent\"><img src=\"https://colab.research.google.com/assets/colab-badge.svg\" alt=\"Open In Colab\"/></a>"
      ]
    },
    {
      "cell_type": "code",
      "execution_count": 3,
      "metadata": {
        "colab": {
          "base_uri": "https://localhost:8080/"
        },
        "id": "5OZ4fQmZjj9G",
        "outputId": "83cd643b-3556-43b8-a8d7-3d4686f90b3e"
      },
      "outputs": [
        {
          "output_type": "stream",
          "name": "stdout",
          "text": [
            "Looking in indexes: https://pypi.org/simple, https://us-python.pkg.dev/colab-wheels/public/simple/\n",
            "Requirement already satisfied: gensim in /usr/local/lib/python3.7/dist-packages (3.6.0)\n",
            "Collecting docx2txt\n",
            "  Downloading docx2txt-0.8.tar.gz (2.8 kB)\n",
            "Requirement already satisfied: scipy>=0.18.1 in /usr/local/lib/python3.7/dist-packages (from gensim) (1.4.1)\n",
            "Requirement already satisfied: smart-open>=1.2.1 in /usr/local/lib/python3.7/dist-packages (from gensim) (6.0.0)\n",
            "Requirement already satisfied: numpy>=1.11.3 in /usr/local/lib/python3.7/dist-packages (from gensim) (1.21.6)\n",
            "Requirement already satisfied: six>=1.5.0 in /usr/local/lib/python3.7/dist-packages (from gensim) (1.15.0)\n",
            "Building wheels for collected packages: docx2txt\n",
            "  Building wheel for docx2txt (setup.py) ... \u001b[?25l\u001b[?25hdone\n",
            "  Created wheel for docx2txt: filename=docx2txt-0.8-py3-none-any.whl size=3980 sha256=a9b4aabced37426f3bd5871aacd756706bed45da2b23c9ee1f4e00281c32cc68\n",
            "  Stored in directory: /root/.cache/pip/wheels/b7/20/b2/473e3aea9a0c0d3e7b2f7bd81d06d0794fec12752733d1f3a8\n",
            "Successfully built docx2txt\n",
            "Installing collected packages: docx2txt\n",
            "Successfully installed docx2txt-0.8\n"
          ]
        }
      ],
      "source": [
        "!pip install gensim docx2txt\n",
        "from gensim.summarization.summarizer import summarize\n",
        "from gensim.summarization import keywords# Import the library\n",
        "# to convert MSword doc to txt for processing.\n",
        "import docx2txt"
      ]
    },
    {
      "cell_type": "code",
      "source": [
        "resume = docx2txt.process('resume.docx')\n",
        "text_resume = str(resume)#Summarize the text with ratio 0.1 (10% of the total words.)\n",
        "summarize(text_resume, ratio=0.5)"
      ],
      "metadata": {
        "colab": {
          "base_uri": "https://localhost:8080/",
          "height": 178
        },
        "id": "6aM0-73tjsgp",
        "outputId": "24d79127-9b4f-4aa9-f861-933ac968ac4d"
      },
      "execution_count": 7,
      "outputs": [
        {
          "output_type": "execute_result",
          "data": {
            "text/plain": [
              "'christoper.morgan@gmail.com\\nchristoper.morgan@gmail.com\\nCHRISTOPHER MORGAN\\nCHRISTOPHER MORGAN\\nSenior Web Developer specializing in front end development.\\nSenior Web Developer specializing in front end development.\\nExperienced with all stages of the development cycle for dynamic web projects.\\nExperienced with all stages of the development cycle for dynamic web projects.\\nWell-versed in numerous programming languages including HTML5, PHP OOP, JavaScript, CSS, MySQL.\\nWell-versed in numerous programming languages including HTML5, PHP OOP, JavaScript, CSS, MySQL.\\nStrong background in project management and customer relations.\\nStrong background in project management and customer relations.\\nProject management\\nProject management\\nStrong decision maker\\nCreative design\\nCreative design\\nWeb Developer - 09/2015 to 05/2019\\nWeb Developer - 09/2015 to 05/2019\\nLuna Web Design, New York\\nLuna Web Design, New York\\nCooperate with designers to create clean interfaces and simple, intuitive interactions and experiences.\\nCooperate with designers to create clean interfaces and simple, intuitive interactions and experiences.\\nDevelop project concepts and maintain optimal workflow.\\nDevelop project concepts and maintain optimal workflow.\\nWork with senior developer to manage large, complex design projects for corporate clients.\\nWork with senior developer to manage large, complex design projects for corporate clients.\\nComplete detailed programming and development tasks for front end public and internal websites as well as challenging back-end server code.\\nComplete detailed programming and development tasks for front end public and internal websites as well as challenging back-end server code.\\nLanguages\\nLanguages\\nPHP Framework (certificate): Zend, Codeigniter, Symfony.\\nPHP Framework (certificate): Zend, Codeigniter, Symfony.\\nProgramming Languages: JavaScript, HTML5, PHP OOP, CSS, SQL, MySQL.\\nProgramming Languages: JavaScript, HTML5, PHP OOP, CSS, SQL, MySQL.'"
            ],
            "application/vnd.google.colaboratory.intrinsic+json": {
              "type": "string"
            }
          },
          "metadata": {},
          "execution_count": 7
        }
      ]
    },
    {
      "cell_type": "code",
      "source": [
        "text = docx2txt.process('Job Role.docx') # Prompt for the Job description.\n",
        "# Convert text to string format\n",
        "text = str(text)#Summarize the text with ratio 0.1 (10% of the total words.)\n",
        "summarize(text, ratio=0.5)"
      ],
      "metadata": {
        "colab": {
          "base_uri": "https://localhost:8080/",
          "height": 143
        },
        "id": "nWwEAg6Vl4wn",
        "outputId": "e6b6236b-24d9-458d-9fed-ce9ae9ef2707"
      },
      "execution_count": 8,
      "outputs": [
        {
          "output_type": "execute_result",
          "data": {
            "text/plain": [
              "'Job Role: Web Developer\\nBuilds, designs, and maintains all websites and software applications.\\nDesigns, writes, and edits website content.\\nUnderstands UI, cross-browser compatibility, and general web functions and standards.\\nExecutes assignments with the use of web applications, scripts, and programming languages such as HTML, CSS, JavaScript, and APIs.\\nDesigns assignments with web services like REST, SOAP, etc.\\nMaintains a professional understanding of web development by tracking trends and participating in study groups.\\nWeb Developer Skills and Qualifications:\\nAbility to write and edit technical documentation\\nCreative problem-solving skills\\nStrong organizational skills\\nMinimum of [number] years’ experience as a web developer'"
            ],
            "application/vnd.google.colaboratory.intrinsic+json": {
              "type": "string"
            }
          },
          "metadata": {},
          "execution_count": 8
        }
      ]
    },
    {
      "cell_type": "code",
      "source": [
        "text_list = [text_resume, text]\n",
        "from sklearn.feature_extraction.text import CountVectorizer\n",
        "cv = CountVectorizer()\n",
        "count_matrix = cv.fit_transform(text_list)"
      ],
      "metadata": {
        "id": "5r8IV-pvmKMU"
      },
      "execution_count": 9,
      "outputs": []
    },
    {
      "cell_type": "code",
      "source": [
        "from sklearn.metrics.pairwise import cosine_similarity\n",
        "# get the match percentage\n",
        "matchPercentage = cosine_similarity(count_matrix)[0][1] * 100\n",
        "matchPercentage = round(matchPercentage, 2) # round to two decimal\n",
        "print(\"Your resume matches about \"+ str(matchPercentage)+ \"% of the job description.\")\n",
        "# output\n",
        "print(keywords(text, ratio=0.70)) \n",
        "# gives you the keywords of the job description"
      ],
      "metadata": {
        "colab": {
          "base_uri": "https://localhost:8080/"
        },
        "id": "oFL51wIAmSqW",
        "outputId": "336aabd3-29d4-4303-e026-b555666aad26"
      },
      "execution_count": 13,
      "outputs": [
        {
          "output_type": "stream",
          "name": "stdout",
          "text": [
            "Your resume matches about 54.87% of the job description.\n",
            "web\n",
            "designs\n",
            "skills\n",
            "applications\n",
            "developer\n",
            "develops\n",
            "development\n",
            "organizational\n",
            "software\n",
            "css\n",
            "interface\n",
            "problems\n",
            "problem\n",
            "environment\n",
            "executive management\n",
            "groups\n",
            "years\n",
            "requirements\n",
            "industry\n",
            "creates\n",
            "accomplishes company\n",
            "experience\n",
            "standards\n",
            "executes assignments\n",
            "understands\n",
            "understanding\n",
            "rest\n",
            "stakeholders\n",
            "html\n",
            "edit technical documentation\n",
            "network diagnostics\n",
            "content\n",
            "websites\n",
            "edits website\n",
            "managers\n",
            "regulates\n",
            "daily\n",
            "requests\n",
            "role\n",
            "minimum\n",
            "science\n",
            "validates test routines\n",
            "evaluates written code\n",
            "accepting ownership\n",
            "bugs\n",
            "programming languages\n",
            "tracking trends\n",
            "communicates\n",
            "maintains\n",
            "devices\n",
            "services like\n",
            "creative\n",
            "ability\n",
            "builds\n",
            "units\n",
            "strong\n",
            "education\n",
            "internal\n",
            "plans\n",
            "compatibility\n",
            "compatible\n"
          ]
        }
      ]
    },
    {
      "cell_type": "code",
      "source": [
        ""
      ],
      "metadata": {
        "id": "KvVaz8FpmkJl"
      },
      "execution_count": null,
      "outputs": []
    }
  ]
}