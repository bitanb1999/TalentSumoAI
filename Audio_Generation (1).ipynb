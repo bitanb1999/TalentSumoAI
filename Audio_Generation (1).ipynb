{
  "nbformat": 4,
  "nbformat_minor": 0,
  "metadata": {
    "colab": {
      "name": "Audio_Generation.ipynb",
      "provenance": [],
      "collapsed_sections": [],
      "machine_shape": "hm"
    },
    "kernelspec": {
      "name": "python3",
      "display_name": "Python 3"
    },
    "language_info": {
      "name": "python"
    },
    "accelerator": "TPU",
    "gpuClass": "standard",
    "widgets": {
      "application/vnd.jupyter.widget-state+json": {
        "7677618d36f04cd48981e4721824ed1c": {
          "model_module": "@jupyter-widgets/controls",
          "model_name": "HBoxModel",
          "model_module_version": "1.5.0",
          "state": {
            "_dom_classes": [],
            "_model_module": "@jupyter-widgets/controls",
            "_model_module_version": "1.5.0",
            "_model_name": "HBoxModel",
            "_view_count": null,
            "_view_module": "@jupyter-widgets/controls",
            "_view_module_version": "1.5.0",
            "_view_name": "HBoxView",
            "box_style": "",
            "children": [
              "IPY_MODEL_466285ac75744d4fab1a925b45e0a344",
              "IPY_MODEL_65d5a8d3dbb642d8858f1d57575ebd3d",
              "IPY_MODEL_69f19deadf4445dfa45fca76d4cd2b54"
            ],
            "layout": "IPY_MODEL_136806dea2d046f19847237805dd2d4d"
          }
        },
        "466285ac75744d4fab1a925b45e0a344": {
          "model_module": "@jupyter-widgets/controls",
          "model_name": "HTMLModel",
          "model_module_version": "1.5.0",
          "state": {
            "_dom_classes": [],
            "_model_module": "@jupyter-widgets/controls",
            "_model_module_version": "1.5.0",
            "_model_name": "HTMLModel",
            "_view_count": null,
            "_view_module": "@jupyter-widgets/controls",
            "_view_module_version": "1.5.0",
            "_view_name": "HTMLView",
            "description": "",
            "description_tooltip": null,
            "layout": "IPY_MODEL_002f71f43ece40a99113a8028e98a4dc",
            "placeholder": "​",
            "style": "IPY_MODEL_629801f408d444369355c2b466afdff2",
            "value": "Downloading config.json: 100%"
          }
        },
        "65d5a8d3dbb642d8858f1d57575ebd3d": {
          "model_module": "@jupyter-widgets/controls",
          "model_name": "FloatProgressModel",
          "model_module_version": "1.5.0",
          "state": {
            "_dom_classes": [],
            "_model_module": "@jupyter-widgets/controls",
            "_model_module_version": "1.5.0",
            "_model_name": "FloatProgressModel",
            "_view_count": null,
            "_view_module": "@jupyter-widgets/controls",
            "_view_module_version": "1.5.0",
            "_view_name": "ProgressView",
            "bar_style": "success",
            "description": "",
            "description_tooltip": null,
            "layout": "IPY_MODEL_0711cf684c3c457bbe66d0afe727eb49",
            "max": 1005,
            "min": 0,
            "orientation": "horizontal",
            "style": "IPY_MODEL_15ab9ee158624c4788f8add709597226",
            "value": 1005
          }
        },
        "69f19deadf4445dfa45fca76d4cd2b54": {
          "model_module": "@jupyter-widgets/controls",
          "model_name": "HTMLModel",
          "model_module_version": "1.5.0",
          "state": {
            "_dom_classes": [],
            "_model_module": "@jupyter-widgets/controls",
            "_model_module_version": "1.5.0",
            "_model_name": "HTMLModel",
            "_view_count": null,
            "_view_module": "@jupyter-widgets/controls",
            "_view_module_version": "1.5.0",
            "_view_name": "HTMLView",
            "description": "",
            "description_tooltip": null,
            "layout": "IPY_MODEL_e6d3773e1c3c498f8fac0b082ab70691",
            "placeholder": "​",
            "style": "IPY_MODEL_95cb54d1d0fb4400833cbd1c720d7eef",
            "value": " 0.98k/0.98k [00:00&lt;00:00, 36.2kB/s]"
          }
        },
        "136806dea2d046f19847237805dd2d4d": {
          "model_module": "@jupyter-widgets/base",
          "model_name": "LayoutModel",
          "model_module_version": "1.2.0",
          "state": {
            "_model_module": "@jupyter-widgets/base",
            "_model_module_version": "1.2.0",
            "_model_name": "LayoutModel",
            "_view_count": null,
            "_view_module": "@jupyter-widgets/base",
            "_view_module_version": "1.2.0",
            "_view_name": "LayoutView",
            "align_content": null,
            "align_items": null,
            "align_self": null,
            "border": null,
            "bottom": null,
            "display": null,
            "flex": null,
            "flex_flow": null,
            "grid_area": null,
            "grid_auto_columns": null,
            "grid_auto_flow": null,
            "grid_auto_rows": null,
            "grid_column": null,
            "grid_gap": null,
            "grid_row": null,
            "grid_template_areas": null,
            "grid_template_columns": null,
            "grid_template_rows": null,
            "height": null,
            "justify_content": null,
            "justify_items": null,
            "left": null,
            "margin": null,
            "max_height": null,
            "max_width": null,
            "min_height": null,
            "min_width": null,
            "object_fit": null,
            "object_position": null,
            "order": null,
            "overflow": null,
            "overflow_x": null,
            "overflow_y": null,
            "padding": null,
            "right": null,
            "top": null,
            "visibility": null,
            "width": null
          }
        },
        "002f71f43ece40a99113a8028e98a4dc": {
          "model_module": "@jupyter-widgets/base",
          "model_name": "LayoutModel",
          "model_module_version": "1.2.0",
          "state": {
            "_model_module": "@jupyter-widgets/base",
            "_model_module_version": "1.2.0",
            "_model_name": "LayoutModel",
            "_view_count": null,
            "_view_module": "@jupyter-widgets/base",
            "_view_module_version": "1.2.0",
            "_view_name": "LayoutView",
            "align_content": null,
            "align_items": null,
            "align_self": null,
            "border": null,
            "bottom": null,
            "display": null,
            "flex": null,
            "flex_flow": null,
            "grid_area": null,
            "grid_auto_columns": null,
            "grid_auto_flow": null,
            "grid_auto_rows": null,
            "grid_column": null,
            "grid_gap": null,
            "grid_row": null,
            "grid_template_areas": null,
            "grid_template_columns": null,
            "grid_template_rows": null,
            "height": null,
            "justify_content": null,
            "justify_items": null,
            "left": null,
            "margin": null,
            "max_height": null,
            "max_width": null,
            "min_height": null,
            "min_width": null,
            "object_fit": null,
            "object_position": null,
            "order": null,
            "overflow": null,
            "overflow_x": null,
            "overflow_y": null,
            "padding": null,
            "right": null,
            "top": null,
            "visibility": null,
            "width": null
          }
        },
        "629801f408d444369355c2b466afdff2": {
          "model_module": "@jupyter-widgets/controls",
          "model_name": "DescriptionStyleModel",
          "model_module_version": "1.5.0",
          "state": {
            "_model_module": "@jupyter-widgets/controls",
            "_model_module_version": "1.5.0",
            "_model_name": "DescriptionStyleModel",
            "_view_count": null,
            "_view_module": "@jupyter-widgets/base",
            "_view_module_version": "1.2.0",
            "_view_name": "StyleView",
            "description_width": ""
          }
        },
        "0711cf684c3c457bbe66d0afe727eb49": {
          "model_module": "@jupyter-widgets/base",
          "model_name": "LayoutModel",
          "model_module_version": "1.2.0",
          "state": {
            "_model_module": "@jupyter-widgets/base",
            "_model_module_version": "1.2.0",
            "_model_name": "LayoutModel",
            "_view_count": null,
            "_view_module": "@jupyter-widgets/base",
            "_view_module_version": "1.2.0",
            "_view_name": "LayoutView",
            "align_content": null,
            "align_items": null,
            "align_self": null,
            "border": null,
            "bottom": null,
            "display": null,
            "flex": null,
            "flex_flow": null,
            "grid_area": null,
            "grid_auto_columns": null,
            "grid_auto_flow": null,
            "grid_auto_rows": null,
            "grid_column": null,
            "grid_gap": null,
            "grid_row": null,
            "grid_template_areas": null,
            "grid_template_columns": null,
            "grid_template_rows": null,
            "height": null,
            "justify_content": null,
            "justify_items": null,
            "left": null,
            "margin": null,
            "max_height": null,
            "max_width": null,
            "min_height": null,
            "min_width": null,
            "object_fit": null,
            "object_position": null,
            "order": null,
            "overflow": null,
            "overflow_x": null,
            "overflow_y": null,
            "padding": null,
            "right": null,
            "top": null,
            "visibility": null,
            "width": null
          }
        },
        "15ab9ee158624c4788f8add709597226": {
          "model_module": "@jupyter-widgets/controls",
          "model_name": "ProgressStyleModel",
          "model_module_version": "1.5.0",
          "state": {
            "_model_module": "@jupyter-widgets/controls",
            "_model_module_version": "1.5.0",
            "_model_name": "ProgressStyleModel",
            "_view_count": null,
            "_view_module": "@jupyter-widgets/base",
            "_view_module_version": "1.2.0",
            "_view_name": "StyleView",
            "bar_color": null,
            "description_width": ""
          }
        },
        "e6d3773e1c3c498f8fac0b082ab70691": {
          "model_module": "@jupyter-widgets/base",
          "model_name": "LayoutModel",
          "model_module_version": "1.2.0",
          "state": {
            "_model_module": "@jupyter-widgets/base",
            "_model_module_version": "1.2.0",
            "_model_name": "LayoutModel",
            "_view_count": null,
            "_view_module": "@jupyter-widgets/base",
            "_view_module_version": "1.2.0",
            "_view_name": "LayoutView",
            "align_content": null,
            "align_items": null,
            "align_self": null,
            "border": null,
            "bottom": null,
            "display": null,
            "flex": null,
            "flex_flow": null,
            "grid_area": null,
            "grid_auto_columns": null,
            "grid_auto_flow": null,
            "grid_auto_rows": null,
            "grid_column": null,
            "grid_gap": null,
            "grid_row": null,
            "grid_template_areas": null,
            "grid_template_columns": null,
            "grid_template_rows": null,
            "height": null,
            "justify_content": null,
            "justify_items": null,
            "left": null,
            "margin": null,
            "max_height": null,
            "max_width": null,
            "min_height": null,
            "min_width": null,
            "object_fit": null,
            "object_position": null,
            "order": null,
            "overflow": null,
            "overflow_x": null,
            "overflow_y": null,
            "padding": null,
            "right": null,
            "top": null,
            "visibility": null,
            "width": null
          }
        },
        "95cb54d1d0fb4400833cbd1c720d7eef": {
          "model_module": "@jupyter-widgets/controls",
          "model_name": "DescriptionStyleModel",
          "model_module_version": "1.5.0",
          "state": {
            "_model_module": "@jupyter-widgets/controls",
            "_model_module_version": "1.5.0",
            "_model_name": "DescriptionStyleModel",
            "_view_count": null,
            "_view_module": "@jupyter-widgets/base",
            "_view_module_version": "1.2.0",
            "_view_name": "StyleView",
            "description_width": ""
          }
        },
        "1c103bdbd8c34cffa56329b14f3516c3": {
          "model_module": "@jupyter-widgets/controls",
          "model_name": "HBoxModel",
          "model_module_version": "1.5.0",
          "state": {
            "_dom_classes": [],
            "_model_module": "@jupyter-widgets/controls",
            "_model_module_version": "1.5.0",
            "_model_name": "HBoxModel",
            "_view_count": null,
            "_view_module": "@jupyter-widgets/controls",
            "_view_module_version": "1.5.0",
            "_view_name": "HBoxView",
            "box_style": "",
            "children": [
              "IPY_MODEL_58a0e9fe93254508a2a53a08821e33b2",
              "IPY_MODEL_95450383bbcc4d4b9934ca5e42f80afe",
              "IPY_MODEL_a9237e6b29744bb79e5a46ef910680ad"
            ],
            "layout": "IPY_MODEL_533b4f01075847f28c18de1dacc0894d"
          }
        },
        "58a0e9fe93254508a2a53a08821e33b2": {
          "model_module": "@jupyter-widgets/controls",
          "model_name": "HTMLModel",
          "model_module_version": "1.5.0",
          "state": {
            "_dom_classes": [],
            "_model_module": "@jupyter-widgets/controls",
            "_model_module_version": "1.5.0",
            "_model_name": "HTMLModel",
            "_view_count": null,
            "_view_module": "@jupyter-widgets/controls",
            "_view_module_version": "1.5.0",
            "_view_name": "HTMLView",
            "description": "",
            "description_tooltip": null,
            "layout": "IPY_MODEL_f93d4b4348ea4fe1a966b4a491cbc165",
            "placeholder": "​",
            "style": "IPY_MODEL_c376be95b0b0440c921eed6b8a355ad8",
            "value": "Downloading pytorch_model.bin: 100%"
          }
        },
        "95450383bbcc4d4b9934ca5e42f80afe": {
          "model_module": "@jupyter-widgets/controls",
          "model_name": "FloatProgressModel",
          "model_module_version": "1.5.0",
          "state": {
            "_dom_classes": [],
            "_model_module": "@jupyter-widgets/controls",
            "_model_module_version": "1.5.0",
            "_model_name": "FloatProgressModel",
            "_view_count": null,
            "_view_module": "@jupyter-widgets/controls",
            "_view_module_version": "1.5.0",
            "_view_name": "ProgressView",
            "bar_style": "success",
            "description": "",
            "description_tooltip": null,
            "layout": "IPY_MODEL_d2583f142623401299890427635c3f1b",
            "max": 328544361,
            "min": 0,
            "orientation": "horizontal",
            "style": "IPY_MODEL_02fc6a75bc4c4d36a57a7294bb4bcb50",
            "value": 328544361
          }
        },
        "a9237e6b29744bb79e5a46ef910680ad": {
          "model_module": "@jupyter-widgets/controls",
          "model_name": "HTMLModel",
          "model_module_version": "1.5.0",
          "state": {
            "_dom_classes": [],
            "_model_module": "@jupyter-widgets/controls",
            "_model_module_version": "1.5.0",
            "_model_name": "HTMLModel",
            "_view_count": null,
            "_view_module": "@jupyter-widgets/controls",
            "_view_module_version": "1.5.0",
            "_view_name": "HTMLView",
            "description": "",
            "description_tooltip": null,
            "layout": "IPY_MODEL_23913ba26daa42a9ada8846b4b8554a3",
            "placeholder": "​",
            "style": "IPY_MODEL_ec3d532e5f69488ba626bbdaa6f3da9e",
            "value": " 313M/313M [00:05&lt;00:00, 66.0MB/s]"
          }
        },
        "533b4f01075847f28c18de1dacc0894d": {
          "model_module": "@jupyter-widgets/base",
          "model_name": "LayoutModel",
          "model_module_version": "1.2.0",
          "state": {
            "_model_module": "@jupyter-widgets/base",
            "_model_module_version": "1.2.0",
            "_model_name": "LayoutModel",
            "_view_count": null,
            "_view_module": "@jupyter-widgets/base",
            "_view_module_version": "1.2.0",
            "_view_name": "LayoutView",
            "align_content": null,
            "align_items": null,
            "align_self": null,
            "border": null,
            "bottom": null,
            "display": null,
            "flex": null,
            "flex_flow": null,
            "grid_area": null,
            "grid_auto_columns": null,
            "grid_auto_flow": null,
            "grid_auto_rows": null,
            "grid_column": null,
            "grid_gap": null,
            "grid_row": null,
            "grid_template_areas": null,
            "grid_template_columns": null,
            "grid_template_rows": null,
            "height": null,
            "justify_content": null,
            "justify_items": null,
            "left": null,
            "margin": null,
            "max_height": null,
            "max_width": null,
            "min_height": null,
            "min_width": null,
            "object_fit": null,
            "object_position": null,
            "order": null,
            "overflow": null,
            "overflow_x": null,
            "overflow_y": null,
            "padding": null,
            "right": null,
            "top": null,
            "visibility": null,
            "width": null
          }
        },
        "f93d4b4348ea4fe1a966b4a491cbc165": {
          "model_module": "@jupyter-widgets/base",
          "model_name": "LayoutModel",
          "model_module_version": "1.2.0",
          "state": {
            "_model_module": "@jupyter-widgets/base",
            "_model_module_version": "1.2.0",
            "_model_name": "LayoutModel",
            "_view_count": null,
            "_view_module": "@jupyter-widgets/base",
            "_view_module_version": "1.2.0",
            "_view_name": "LayoutView",
            "align_content": null,
            "align_items": null,
            "align_self": null,
            "border": null,
            "bottom": null,
            "display": null,
            "flex": null,
            "flex_flow": null,
            "grid_area": null,
            "grid_auto_columns": null,
            "grid_auto_flow": null,
            "grid_auto_rows": null,
            "grid_column": null,
            "grid_gap": null,
            "grid_row": null,
            "grid_template_areas": null,
            "grid_template_columns": null,
            "grid_template_rows": null,
            "height": null,
            "justify_content": null,
            "justify_items": null,
            "left": null,
            "margin": null,
            "max_height": null,
            "max_width": null,
            "min_height": null,
            "min_width": null,
            "object_fit": null,
            "object_position": null,
            "order": null,
            "overflow": null,
            "overflow_x": null,
            "overflow_y": null,
            "padding": null,
            "right": null,
            "top": null,
            "visibility": null,
            "width": null
          }
        },
        "c376be95b0b0440c921eed6b8a355ad8": {
          "model_module": "@jupyter-widgets/controls",
          "model_name": "DescriptionStyleModel",
          "model_module_version": "1.5.0",
          "state": {
            "_model_module": "@jupyter-widgets/controls",
            "_model_module_version": "1.5.0",
            "_model_name": "DescriptionStyleModel",
            "_view_count": null,
            "_view_module": "@jupyter-widgets/base",
            "_view_module_version": "1.2.0",
            "_view_name": "StyleView",
            "description_width": ""
          }
        },
        "d2583f142623401299890427635c3f1b": {
          "model_module": "@jupyter-widgets/base",
          "model_name": "LayoutModel",
          "model_module_version": "1.2.0",
          "state": {
            "_model_module": "@jupyter-widgets/base",
            "_model_module_version": "1.2.0",
            "_model_name": "LayoutModel",
            "_view_count": null,
            "_view_module": "@jupyter-widgets/base",
            "_view_module_version": "1.2.0",
            "_view_name": "LayoutView",
            "align_content": null,
            "align_items": null,
            "align_self": null,
            "border": null,
            "bottom": null,
            "display": null,
            "flex": null,
            "flex_flow": null,
            "grid_area": null,
            "grid_auto_columns": null,
            "grid_auto_flow": null,
            "grid_auto_rows": null,
            "grid_column": null,
            "grid_gap": null,
            "grid_row": null,
            "grid_template_areas": null,
            "grid_template_columns": null,
            "grid_template_rows": null,
            "height": null,
            "justify_content": null,
            "justify_items": null,
            "left": null,
            "margin": null,
            "max_height": null,
            "max_width": null,
            "min_height": null,
            "min_width": null,
            "object_fit": null,
            "object_position": null,
            "order": null,
            "overflow": null,
            "overflow_x": null,
            "overflow_y": null,
            "padding": null,
            "right": null,
            "top": null,
            "visibility": null,
            "width": null
          }
        },
        "02fc6a75bc4c4d36a57a7294bb4bcb50": {
          "model_module": "@jupyter-widgets/controls",
          "model_name": "ProgressStyleModel",
          "model_module_version": "1.5.0",
          "state": {
            "_model_module": "@jupyter-widgets/controls",
            "_model_module_version": "1.5.0",
            "_model_name": "ProgressStyleModel",
            "_view_count": null,
            "_view_module": "@jupyter-widgets/base",
            "_view_module_version": "1.2.0",
            "_view_name": "StyleView",
            "bar_color": null,
            "description_width": ""
          }
        },
        "23913ba26daa42a9ada8846b4b8554a3": {
          "model_module": "@jupyter-widgets/base",
          "model_name": "LayoutModel",
          "model_module_version": "1.2.0",
          "state": {
            "_model_module": "@jupyter-widgets/base",
            "_model_module_version": "1.2.0",
            "_model_name": "LayoutModel",
            "_view_count": null,
            "_view_module": "@jupyter-widgets/base",
            "_view_module_version": "1.2.0",
            "_view_name": "LayoutView",
            "align_content": null,
            "align_items": null,
            "align_self": null,
            "border": null,
            "bottom": null,
            "display": null,
            "flex": null,
            "flex_flow": null,
            "grid_area": null,
            "grid_auto_columns": null,
            "grid_auto_flow": null,
            "grid_auto_rows": null,
            "grid_column": null,
            "grid_gap": null,
            "grid_row": null,
            "grid_template_areas": null,
            "grid_template_columns": null,
            "grid_template_rows": null,
            "height": null,
            "justify_content": null,
            "justify_items": null,
            "left": null,
            "margin": null,
            "max_height": null,
            "max_width": null,
            "min_height": null,
            "min_width": null,
            "object_fit": null,
            "object_position": null,
            "order": null,
            "overflow": null,
            "overflow_x": null,
            "overflow_y": null,
            "padding": null,
            "right": null,
            "top": null,
            "visibility": null,
            "width": null
          }
        },
        "ec3d532e5f69488ba626bbdaa6f3da9e": {
          "model_module": "@jupyter-widgets/controls",
          "model_name": "DescriptionStyleModel",
          "model_module_version": "1.5.0",
          "state": {
            "_model_module": "@jupyter-widgets/controls",
            "_model_module_version": "1.5.0",
            "_model_name": "DescriptionStyleModel",
            "_view_count": null,
            "_view_module": "@jupyter-widgets/base",
            "_view_module_version": "1.2.0",
            "_view_name": "StyleView",
            "description_width": ""
          }
        },
        "ab241c75426a43f480ecfecb929faca6": {
          "model_module": "@jupyter-widgets/controls",
          "model_name": "HBoxModel",
          "model_module_version": "1.5.0",
          "state": {
            "_dom_classes": [],
            "_model_module": "@jupyter-widgets/controls",
            "_model_module_version": "1.5.0",
            "_model_name": "HBoxModel",
            "_view_count": null,
            "_view_module": "@jupyter-widgets/controls",
            "_view_module_version": "1.5.0",
            "_view_name": "HBoxView",
            "box_style": "",
            "children": [
              "IPY_MODEL_6f11fedf6c504c0086d1ad46b9c85f46",
              "IPY_MODEL_9e129009cdd140939372865489ef69b6",
              "IPY_MODEL_3e6a11149a5c43be965e20934b0898ba"
            ],
            "layout": "IPY_MODEL_e6ec2fdd09d041da8062072af46cd0c7"
          }
        },
        "6f11fedf6c504c0086d1ad46b9c85f46": {
          "model_module": "@jupyter-widgets/controls",
          "model_name": "HTMLModel",
          "model_module_version": "1.5.0",
          "state": {
            "_dom_classes": [],
            "_model_module": "@jupyter-widgets/controls",
            "_model_module_version": "1.5.0",
            "_model_name": "HTMLModel",
            "_view_count": null,
            "_view_module": "@jupyter-widgets/controls",
            "_view_module_version": "1.5.0",
            "_view_name": "HTMLView",
            "description": "",
            "description_tooltip": null,
            "layout": "IPY_MODEL_f6e7147e7fa2440e9cfa1bd8ebe9785d",
            "placeholder": "​",
            "style": "IPY_MODEL_e18fbaf20ed34fa194bd2111ac37b972",
            "value": "Downloading tokenizer_config.json: 100%"
          }
        },
        "9e129009cdd140939372865489ef69b6": {
          "model_module": "@jupyter-widgets/controls",
          "model_name": "FloatProgressModel",
          "model_module_version": "1.5.0",
          "state": {
            "_dom_classes": [],
            "_model_module": "@jupyter-widgets/controls",
            "_model_module_version": "1.5.0",
            "_model_name": "FloatProgressModel",
            "_view_count": null,
            "_view_module": "@jupyter-widgets/controls",
            "_view_module_version": "1.5.0",
            "_view_name": "ProgressView",
            "bar_style": "success",
            "description": "",
            "description_tooltip": null,
            "layout": "IPY_MODEL_33f9f6876f1249aaa9f2d10fba252f43",
            "max": 294,
            "min": 0,
            "orientation": "horizontal",
            "style": "IPY_MODEL_dae57f4988b54450ba0b65fb2679db84",
            "value": 294
          }
        },
        "3e6a11149a5c43be965e20934b0898ba": {
          "model_module": "@jupyter-widgets/controls",
          "model_name": "HTMLModel",
          "model_module_version": "1.5.0",
          "state": {
            "_dom_classes": [],
            "_model_module": "@jupyter-widgets/controls",
            "_model_module_version": "1.5.0",
            "_model_name": "HTMLModel",
            "_view_count": null,
            "_view_module": "@jupyter-widgets/controls",
            "_view_module_version": "1.5.0",
            "_view_name": "HTMLView",
            "description": "",
            "description_tooltip": null,
            "layout": "IPY_MODEL_3a4003eb76d04af598fecf520ae50e5c",
            "placeholder": "​",
            "style": "IPY_MODEL_901c20c02d724914850d3ce7d3e7b788",
            "value": " 294/294 [00:00&lt;00:00, 11.3kB/s]"
          }
        },
        "e6ec2fdd09d041da8062072af46cd0c7": {
          "model_module": "@jupyter-widgets/base",
          "model_name": "LayoutModel",
          "model_module_version": "1.2.0",
          "state": {
            "_model_module": "@jupyter-widgets/base",
            "_model_module_version": "1.2.0",
            "_model_name": "LayoutModel",
            "_view_count": null,
            "_view_module": "@jupyter-widgets/base",
            "_view_module_version": "1.2.0",
            "_view_name": "LayoutView",
            "align_content": null,
            "align_items": null,
            "align_self": null,
            "border": null,
            "bottom": null,
            "display": null,
            "flex": null,
            "flex_flow": null,
            "grid_area": null,
            "grid_auto_columns": null,
            "grid_auto_flow": null,
            "grid_auto_rows": null,
            "grid_column": null,
            "grid_gap": null,
            "grid_row": null,
            "grid_template_areas": null,
            "grid_template_columns": null,
            "grid_template_rows": null,
            "height": null,
            "justify_content": null,
            "justify_items": null,
            "left": null,
            "margin": null,
            "max_height": null,
            "max_width": null,
            "min_height": null,
            "min_width": null,
            "object_fit": null,
            "object_position": null,
            "order": null,
            "overflow": null,
            "overflow_x": null,
            "overflow_y": null,
            "padding": null,
            "right": null,
            "top": null,
            "visibility": null,
            "width": null
          }
        },
        "f6e7147e7fa2440e9cfa1bd8ebe9785d": {
          "model_module": "@jupyter-widgets/base",
          "model_name": "LayoutModel",
          "model_module_version": "1.2.0",
          "state": {
            "_model_module": "@jupyter-widgets/base",
            "_model_module_version": "1.2.0",
            "_model_name": "LayoutModel",
            "_view_count": null,
            "_view_module": "@jupyter-widgets/base",
            "_view_module_version": "1.2.0",
            "_view_name": "LayoutView",
            "align_content": null,
            "align_items": null,
            "align_self": null,
            "border": null,
            "bottom": null,
            "display": null,
            "flex": null,
            "flex_flow": null,
            "grid_area": null,
            "grid_auto_columns": null,
            "grid_auto_flow": null,
            "grid_auto_rows": null,
            "grid_column": null,
            "grid_gap": null,
            "grid_row": null,
            "grid_template_areas": null,
            "grid_template_columns": null,
            "grid_template_rows": null,
            "height": null,
            "justify_content": null,
            "justify_items": null,
            "left": null,
            "margin": null,
            "max_height": null,
            "max_width": null,
            "min_height": null,
            "min_width": null,
            "object_fit": null,
            "object_position": null,
            "order": null,
            "overflow": null,
            "overflow_x": null,
            "overflow_y": null,
            "padding": null,
            "right": null,
            "top": null,
            "visibility": null,
            "width": null
          }
        },
        "e18fbaf20ed34fa194bd2111ac37b972": {
          "model_module": "@jupyter-widgets/controls",
          "model_name": "DescriptionStyleModel",
          "model_module_version": "1.5.0",
          "state": {
            "_model_module": "@jupyter-widgets/controls",
            "_model_module_version": "1.5.0",
            "_model_name": "DescriptionStyleModel",
            "_view_count": null,
            "_view_module": "@jupyter-widgets/base",
            "_view_module_version": "1.2.0",
            "_view_name": "StyleView",
            "description_width": ""
          }
        },
        "33f9f6876f1249aaa9f2d10fba252f43": {
          "model_module": "@jupyter-widgets/base",
          "model_name": "LayoutModel",
          "model_module_version": "1.2.0",
          "state": {
            "_model_module": "@jupyter-widgets/base",
            "_model_module_version": "1.2.0",
            "_model_name": "LayoutModel",
            "_view_count": null,
            "_view_module": "@jupyter-widgets/base",
            "_view_module_version": "1.2.0",
            "_view_name": "LayoutView",
            "align_content": null,
            "align_items": null,
            "align_self": null,
            "border": null,
            "bottom": null,
            "display": null,
            "flex": null,
            "flex_flow": null,
            "grid_area": null,
            "grid_auto_columns": null,
            "grid_auto_flow": null,
            "grid_auto_rows": null,
            "grid_column": null,
            "grid_gap": null,
            "grid_row": null,
            "grid_template_areas": null,
            "grid_template_columns": null,
            "grid_template_rows": null,
            "height": null,
            "justify_content": null,
            "justify_items": null,
            "left": null,
            "margin": null,
            "max_height": null,
            "max_width": null,
            "min_height": null,
            "min_width": null,
            "object_fit": null,
            "object_position": null,
            "order": null,
            "overflow": null,
            "overflow_x": null,
            "overflow_y": null,
            "padding": null,
            "right": null,
            "top": null,
            "visibility": null,
            "width": null
          }
        },
        "dae57f4988b54450ba0b65fb2679db84": {
          "model_module": "@jupyter-widgets/controls",
          "model_name": "ProgressStyleModel",
          "model_module_version": "1.5.0",
          "state": {
            "_model_module": "@jupyter-widgets/controls",
            "_model_module_version": "1.5.0",
            "_model_name": "ProgressStyleModel",
            "_view_count": null,
            "_view_module": "@jupyter-widgets/base",
            "_view_module_version": "1.2.0",
            "_view_name": "StyleView",
            "bar_color": null,
            "description_width": ""
          }
        },
        "3a4003eb76d04af598fecf520ae50e5c": {
          "model_module": "@jupyter-widgets/base",
          "model_name": "LayoutModel",
          "model_module_version": "1.2.0",
          "state": {
            "_model_module": "@jupyter-widgets/base",
            "_model_module_version": "1.2.0",
            "_model_name": "LayoutModel",
            "_view_count": null,
            "_view_module": "@jupyter-widgets/base",
            "_view_module_version": "1.2.0",
            "_view_name": "LayoutView",
            "align_content": null,
            "align_items": null,
            "align_self": null,
            "border": null,
            "bottom": null,
            "display": null,
            "flex": null,
            "flex_flow": null,
            "grid_area": null,
            "grid_auto_columns": null,
            "grid_auto_flow": null,
            "grid_auto_rows": null,
            "grid_column": null,
            "grid_gap": null,
            "grid_row": null,
            "grid_template_areas": null,
            "grid_template_columns": null,
            "grid_template_rows": null,
            "height": null,
            "justify_content": null,
            "justify_items": null,
            "left": null,
            "margin": null,
            "max_height": null,
            "max_width": null,
            "min_height": null,
            "min_width": null,
            "object_fit": null,
            "object_position": null,
            "order": null,
            "overflow": null,
            "overflow_x": null,
            "overflow_y": null,
            "padding": null,
            "right": null,
            "top": null,
            "visibility": null,
            "width": null
          }
        },
        "901c20c02d724914850d3ce7d3e7b788": {
          "model_module": "@jupyter-widgets/controls",
          "model_name": "DescriptionStyleModel",
          "model_module_version": "1.5.0",
          "state": {
            "_model_module": "@jupyter-widgets/controls",
            "_model_module_version": "1.5.0",
            "_model_name": "DescriptionStyleModel",
            "_view_count": null,
            "_view_module": "@jupyter-widgets/base",
            "_view_module_version": "1.2.0",
            "_view_name": "StyleView",
            "description_width": ""
          }
        },
        "598311649cce4133a9558ddc6b274497": {
          "model_module": "@jupyter-widgets/controls",
          "model_name": "HBoxModel",
          "model_module_version": "1.5.0",
          "state": {
            "_dom_classes": [],
            "_model_module": "@jupyter-widgets/controls",
            "_model_module_version": "1.5.0",
            "_model_name": "HBoxModel",
            "_view_count": null,
            "_view_module": "@jupyter-widgets/controls",
            "_view_module_version": "1.5.0",
            "_view_name": "HBoxView",
            "box_style": "",
            "children": [
              "IPY_MODEL_5b67424827f941c7915ddb82b1a3905a",
              "IPY_MODEL_c3bea866270b448891afe85d53d7f88c",
              "IPY_MODEL_fceef84144234bb2b2be61af13debf78"
            ],
            "layout": "IPY_MODEL_cffbaa8bd51449e5a10240c7a4ee5a7a"
          }
        },
        "5b67424827f941c7915ddb82b1a3905a": {
          "model_module": "@jupyter-widgets/controls",
          "model_name": "HTMLModel",
          "model_module_version": "1.5.0",
          "state": {
            "_dom_classes": [],
            "_model_module": "@jupyter-widgets/controls",
            "_model_module_version": "1.5.0",
            "_model_name": "HTMLModel",
            "_view_count": null,
            "_view_module": "@jupyter-widgets/controls",
            "_view_module_version": "1.5.0",
            "_view_name": "HTMLView",
            "description": "",
            "description_tooltip": null,
            "layout": "IPY_MODEL_c1e12001ce724a93bc38420b6008012c",
            "placeholder": "​",
            "style": "IPY_MODEL_999209e4943240598a6f8d9550f8e7b2",
            "value": "Downloading vocab.json: 100%"
          }
        },
        "c3bea866270b448891afe85d53d7f88c": {
          "model_module": "@jupyter-widgets/controls",
          "model_name": "FloatProgressModel",
          "model_module_version": "1.5.0",
          "state": {
            "_dom_classes": [],
            "_model_module": "@jupyter-widgets/controls",
            "_model_module_version": "1.5.0",
            "_model_name": "FloatProgressModel",
            "_view_count": null,
            "_view_module": "@jupyter-widgets/controls",
            "_view_module_version": "1.5.0",
            "_view_name": "ProgressView",
            "bar_style": "success",
            "description": "",
            "description_tooltip": null,
            "layout": "IPY_MODEL_5403987b18144eb487bc6a66b64fcd59",
            "max": 798293,
            "min": 0,
            "orientation": "horizontal",
            "style": "IPY_MODEL_e818adf5c36840729822b405fdcd7881",
            "value": 798293
          }
        },
        "fceef84144234bb2b2be61af13debf78": {
          "model_module": "@jupyter-widgets/controls",
          "model_name": "HTMLModel",
          "model_module_version": "1.5.0",
          "state": {
            "_dom_classes": [],
            "_model_module": "@jupyter-widgets/controls",
            "_model_module_version": "1.5.0",
            "_model_name": "HTMLModel",
            "_view_count": null,
            "_view_module": "@jupyter-widgets/controls",
            "_view_module_version": "1.5.0",
            "_view_name": "HTMLView",
            "description": "",
            "description_tooltip": null,
            "layout": "IPY_MODEL_8fce1b71a8af492b8a2489bd520afc55",
            "placeholder": "​",
            "style": "IPY_MODEL_a8c84ca1af344a5cb01e9e8bb5602f58",
            "value": " 780k/780k [00:00&lt;00:00, 2.38MB/s]"
          }
        },
        "cffbaa8bd51449e5a10240c7a4ee5a7a": {
          "model_module": "@jupyter-widgets/base",
          "model_name": "LayoutModel",
          "model_module_version": "1.2.0",
          "state": {
            "_model_module": "@jupyter-widgets/base",
            "_model_module_version": "1.2.0",
            "_model_name": "LayoutModel",
            "_view_count": null,
            "_view_module": "@jupyter-widgets/base",
            "_view_module_version": "1.2.0",
            "_view_name": "LayoutView",
            "align_content": null,
            "align_items": null,
            "align_self": null,
            "border": null,
            "bottom": null,
            "display": null,
            "flex": null,
            "flex_flow": null,
            "grid_area": null,
            "grid_auto_columns": null,
            "grid_auto_flow": null,
            "grid_auto_rows": null,
            "grid_column": null,
            "grid_gap": null,
            "grid_row": null,
            "grid_template_areas": null,
            "grid_template_columns": null,
            "grid_template_rows": null,
            "height": null,
            "justify_content": null,
            "justify_items": null,
            "left": null,
            "margin": null,
            "max_height": null,
            "max_width": null,
            "min_height": null,
            "min_width": null,
            "object_fit": null,
            "object_position": null,
            "order": null,
            "overflow": null,
            "overflow_x": null,
            "overflow_y": null,
            "padding": null,
            "right": null,
            "top": null,
            "visibility": null,
            "width": null
          }
        },
        "c1e12001ce724a93bc38420b6008012c": {
          "model_module": "@jupyter-widgets/base",
          "model_name": "LayoutModel",
          "model_module_version": "1.2.0",
          "state": {
            "_model_module": "@jupyter-widgets/base",
            "_model_module_version": "1.2.0",
            "_model_name": "LayoutModel",
            "_view_count": null,
            "_view_module": "@jupyter-widgets/base",
            "_view_module_version": "1.2.0",
            "_view_name": "LayoutView",
            "align_content": null,
            "align_items": null,
            "align_self": null,
            "border": null,
            "bottom": null,
            "display": null,
            "flex": null,
            "flex_flow": null,
            "grid_area": null,
            "grid_auto_columns": null,
            "grid_auto_flow": null,
            "grid_auto_rows": null,
            "grid_column": null,
            "grid_gap": null,
            "grid_row": null,
            "grid_template_areas": null,
            "grid_template_columns": null,
            "grid_template_rows": null,
            "height": null,
            "justify_content": null,
            "justify_items": null,
            "left": null,
            "margin": null,
            "max_height": null,
            "max_width": null,
            "min_height": null,
            "min_width": null,
            "object_fit": null,
            "object_position": null,
            "order": null,
            "overflow": null,
            "overflow_x": null,
            "overflow_y": null,
            "padding": null,
            "right": null,
            "top": null,
            "visibility": null,
            "width": null
          }
        },
        "999209e4943240598a6f8d9550f8e7b2": {
          "model_module": "@jupyter-widgets/controls",
          "model_name": "DescriptionStyleModel",
          "model_module_version": "1.5.0",
          "state": {
            "_model_module": "@jupyter-widgets/controls",
            "_model_module_version": "1.5.0",
            "_model_name": "DescriptionStyleModel",
            "_view_count": null,
            "_view_module": "@jupyter-widgets/base",
            "_view_module_version": "1.2.0",
            "_view_name": "StyleView",
            "description_width": ""
          }
        },
        "5403987b18144eb487bc6a66b64fcd59": {
          "model_module": "@jupyter-widgets/base",
          "model_name": "LayoutModel",
          "model_module_version": "1.2.0",
          "state": {
            "_model_module": "@jupyter-widgets/base",
            "_model_module_version": "1.2.0",
            "_model_name": "LayoutModel",
            "_view_count": null,
            "_view_module": "@jupyter-widgets/base",
            "_view_module_version": "1.2.0",
            "_view_name": "LayoutView",
            "align_content": null,
            "align_items": null,
            "align_self": null,
            "border": null,
            "bottom": null,
            "display": null,
            "flex": null,
            "flex_flow": null,
            "grid_area": null,
            "grid_auto_columns": null,
            "grid_auto_flow": null,
            "grid_auto_rows": null,
            "grid_column": null,
            "grid_gap": null,
            "grid_row": null,
            "grid_template_areas": null,
            "grid_template_columns": null,
            "grid_template_rows": null,
            "height": null,
            "justify_content": null,
            "justify_items": null,
            "left": null,
            "margin": null,
            "max_height": null,
            "max_width": null,
            "min_height": null,
            "min_width": null,
            "object_fit": null,
            "object_position": null,
            "order": null,
            "overflow": null,
            "overflow_x": null,
            "overflow_y": null,
            "padding": null,
            "right": null,
            "top": null,
            "visibility": null,
            "width": null
          }
        },
        "e818adf5c36840729822b405fdcd7881": {
          "model_module": "@jupyter-widgets/controls",
          "model_name": "ProgressStyleModel",
          "model_module_version": "1.5.0",
          "state": {
            "_model_module": "@jupyter-widgets/controls",
            "_model_module_version": "1.5.0",
            "_model_name": "ProgressStyleModel",
            "_view_count": null,
            "_view_module": "@jupyter-widgets/base",
            "_view_module_version": "1.2.0",
            "_view_name": "StyleView",
            "bar_color": null,
            "description_width": ""
          }
        },
        "8fce1b71a8af492b8a2489bd520afc55": {
          "model_module": "@jupyter-widgets/base",
          "model_name": "LayoutModel",
          "model_module_version": "1.2.0",
          "state": {
            "_model_module": "@jupyter-widgets/base",
            "_model_module_version": "1.2.0",
            "_model_name": "LayoutModel",
            "_view_count": null,
            "_view_module": "@jupyter-widgets/base",
            "_view_module_version": "1.2.0",
            "_view_name": "LayoutView",
            "align_content": null,
            "align_items": null,
            "align_self": null,
            "border": null,
            "bottom": null,
            "display": null,
            "flex": null,
            "flex_flow": null,
            "grid_area": null,
            "grid_auto_columns": null,
            "grid_auto_flow": null,
            "grid_auto_rows": null,
            "grid_column": null,
            "grid_gap": null,
            "grid_row": null,
            "grid_template_areas": null,
            "grid_template_columns": null,
            "grid_template_rows": null,
            "height": null,
            "justify_content": null,
            "justify_items": null,
            "left": null,
            "margin": null,
            "max_height": null,
            "max_width": null,
            "min_height": null,
            "min_width": null,
            "object_fit": null,
            "object_position": null,
            "order": null,
            "overflow": null,
            "overflow_x": null,
            "overflow_y": null,
            "padding": null,
            "right": null,
            "top": null,
            "visibility": null,
            "width": null
          }
        },
        "a8c84ca1af344a5cb01e9e8bb5602f58": {
          "model_module": "@jupyter-widgets/controls",
          "model_name": "DescriptionStyleModel",
          "model_module_version": "1.5.0",
          "state": {
            "_model_module": "@jupyter-widgets/controls",
            "_model_module_version": "1.5.0",
            "_model_name": "DescriptionStyleModel",
            "_view_count": null,
            "_view_module": "@jupyter-widgets/base",
            "_view_module_version": "1.2.0",
            "_view_name": "StyleView",
            "description_width": ""
          }
        },
        "3767de0d6e1148c0a67f5a2c4374e040": {
          "model_module": "@jupyter-widgets/controls",
          "model_name": "HBoxModel",
          "model_module_version": "1.5.0",
          "state": {
            "_dom_classes": [],
            "_model_module": "@jupyter-widgets/controls",
            "_model_module_version": "1.5.0",
            "_model_name": "HBoxModel",
            "_view_count": null,
            "_view_module": "@jupyter-widgets/controls",
            "_view_module_version": "1.5.0",
            "_view_name": "HBoxView",
            "box_style": "",
            "children": [
              "IPY_MODEL_b4d0596991924139bd17f5fbee95d950",
              "IPY_MODEL_f93e38397c6b4842ac4b52e8643f3031",
              "IPY_MODEL_79b9cf3e8750482398a2a4c4408d179a"
            ],
            "layout": "IPY_MODEL_73482a956cae416e91995d3bb43831f5"
          }
        },
        "b4d0596991924139bd17f5fbee95d950": {
          "model_module": "@jupyter-widgets/controls",
          "model_name": "HTMLModel",
          "model_module_version": "1.5.0",
          "state": {
            "_dom_classes": [],
            "_model_module": "@jupyter-widgets/controls",
            "_model_module_version": "1.5.0",
            "_model_name": "HTMLModel",
            "_view_count": null,
            "_view_module": "@jupyter-widgets/controls",
            "_view_module_version": "1.5.0",
            "_view_name": "HTMLView",
            "description": "",
            "description_tooltip": null,
            "layout": "IPY_MODEL_510a86174eb14793936ed81706fea021",
            "placeholder": "​",
            "style": "IPY_MODEL_b2a189ec07654c66be605a2835eca81e",
            "value": "Downloading merges.txt: 100%"
          }
        },
        "f93e38397c6b4842ac4b52e8643f3031": {
          "model_module": "@jupyter-widgets/controls",
          "model_name": "FloatProgressModel",
          "model_module_version": "1.5.0",
          "state": {
            "_dom_classes": [],
            "_model_module": "@jupyter-widgets/controls",
            "_model_module_version": "1.5.0",
            "_model_name": "FloatProgressModel",
            "_view_count": null,
            "_view_module": "@jupyter-widgets/controls",
            "_view_module_version": "1.5.0",
            "_view_name": "ProgressView",
            "bar_style": "success",
            "description": "",
            "description_tooltip": null,
            "layout": "IPY_MODEL_696dc9b4f7314362864f37f2023ba2bb",
            "max": 456356,
            "min": 0,
            "orientation": "horizontal",
            "style": "IPY_MODEL_9b19c15309984fa0918bd0bec63c584f",
            "value": 456356
          }
        },
        "79b9cf3e8750482398a2a4c4408d179a": {
          "model_module": "@jupyter-widgets/controls",
          "model_name": "HTMLModel",
          "model_module_version": "1.5.0",
          "state": {
            "_dom_classes": [],
            "_model_module": "@jupyter-widgets/controls",
            "_model_module_version": "1.5.0",
            "_model_name": "HTMLModel",
            "_view_count": null,
            "_view_module": "@jupyter-widgets/controls",
            "_view_module_version": "1.5.0",
            "_view_name": "HTMLView",
            "description": "",
            "description_tooltip": null,
            "layout": "IPY_MODEL_2a30514025094100af2b2d7616ae3e52",
            "placeholder": "​",
            "style": "IPY_MODEL_678540f466ba4014ac92032e680348cb",
            "value": " 446k/446k [00:00&lt;00:00, 1.39MB/s]"
          }
        },
        "73482a956cae416e91995d3bb43831f5": {
          "model_module": "@jupyter-widgets/base",
          "model_name": "LayoutModel",
          "model_module_version": "1.2.0",
          "state": {
            "_model_module": "@jupyter-widgets/base",
            "_model_module_version": "1.2.0",
            "_model_name": "LayoutModel",
            "_view_count": null,
            "_view_module": "@jupyter-widgets/base",
            "_view_module_version": "1.2.0",
            "_view_name": "LayoutView",
            "align_content": null,
            "align_items": null,
            "align_self": null,
            "border": null,
            "bottom": null,
            "display": null,
            "flex": null,
            "flex_flow": null,
            "grid_area": null,
            "grid_auto_columns": null,
            "grid_auto_flow": null,
            "grid_auto_rows": null,
            "grid_column": null,
            "grid_gap": null,
            "grid_row": null,
            "grid_template_areas": null,
            "grid_template_columns": null,
            "grid_template_rows": null,
            "height": null,
            "justify_content": null,
            "justify_items": null,
            "left": null,
            "margin": null,
            "max_height": null,
            "max_width": null,
            "min_height": null,
            "min_width": null,
            "object_fit": null,
            "object_position": null,
            "order": null,
            "overflow": null,
            "overflow_x": null,
            "overflow_y": null,
            "padding": null,
            "right": null,
            "top": null,
            "visibility": null,
            "width": null
          }
        },
        "510a86174eb14793936ed81706fea021": {
          "model_module": "@jupyter-widgets/base",
          "model_name": "LayoutModel",
          "model_module_version": "1.2.0",
          "state": {
            "_model_module": "@jupyter-widgets/base",
            "_model_module_version": "1.2.0",
            "_model_name": "LayoutModel",
            "_view_count": null,
            "_view_module": "@jupyter-widgets/base",
            "_view_module_version": "1.2.0",
            "_view_name": "LayoutView",
            "align_content": null,
            "align_items": null,
            "align_self": null,
            "border": null,
            "bottom": null,
            "display": null,
            "flex": null,
            "flex_flow": null,
            "grid_area": null,
            "grid_auto_columns": null,
            "grid_auto_flow": null,
            "grid_auto_rows": null,
            "grid_column": null,
            "grid_gap": null,
            "grid_row": null,
            "grid_template_areas": null,
            "grid_template_columns": null,
            "grid_template_rows": null,
            "height": null,
            "justify_content": null,
            "justify_items": null,
            "left": null,
            "margin": null,
            "max_height": null,
            "max_width": null,
            "min_height": null,
            "min_width": null,
            "object_fit": null,
            "object_position": null,
            "order": null,
            "overflow": null,
            "overflow_x": null,
            "overflow_y": null,
            "padding": null,
            "right": null,
            "top": null,
            "visibility": null,
            "width": null
          }
        },
        "b2a189ec07654c66be605a2835eca81e": {
          "model_module": "@jupyter-widgets/controls",
          "model_name": "DescriptionStyleModel",
          "model_module_version": "1.5.0",
          "state": {
            "_model_module": "@jupyter-widgets/controls",
            "_model_module_version": "1.5.0",
            "_model_name": "DescriptionStyleModel",
            "_view_count": null,
            "_view_module": "@jupyter-widgets/base",
            "_view_module_version": "1.2.0",
            "_view_name": "StyleView",
            "description_width": ""
          }
        },
        "696dc9b4f7314362864f37f2023ba2bb": {
          "model_module": "@jupyter-widgets/base",
          "model_name": "LayoutModel",
          "model_module_version": "1.2.0",
          "state": {
            "_model_module": "@jupyter-widgets/base",
            "_model_module_version": "1.2.0",
            "_model_name": "LayoutModel",
            "_view_count": null,
            "_view_module": "@jupyter-widgets/base",
            "_view_module_version": "1.2.0",
            "_view_name": "LayoutView",
            "align_content": null,
            "align_items": null,
            "align_self": null,
            "border": null,
            "bottom": null,
            "display": null,
            "flex": null,
            "flex_flow": null,
            "grid_area": null,
            "grid_auto_columns": null,
            "grid_auto_flow": null,
            "grid_auto_rows": null,
            "grid_column": null,
            "grid_gap": null,
            "grid_row": null,
            "grid_template_areas": null,
            "grid_template_columns": null,
            "grid_template_rows": null,
            "height": null,
            "justify_content": null,
            "justify_items": null,
            "left": null,
            "margin": null,
            "max_height": null,
            "max_width": null,
            "min_height": null,
            "min_width": null,
            "object_fit": null,
            "object_position": null,
            "order": null,
            "overflow": null,
            "overflow_x": null,
            "overflow_y": null,
            "padding": null,
            "right": null,
            "top": null,
            "visibility": null,
            "width": null
          }
        },
        "9b19c15309984fa0918bd0bec63c584f": {
          "model_module": "@jupyter-widgets/controls",
          "model_name": "ProgressStyleModel",
          "model_module_version": "1.5.0",
          "state": {
            "_model_module": "@jupyter-widgets/controls",
            "_model_module_version": "1.5.0",
            "_model_name": "ProgressStyleModel",
            "_view_count": null,
            "_view_module": "@jupyter-widgets/base",
            "_view_module_version": "1.2.0",
            "_view_name": "StyleView",
            "bar_color": null,
            "description_width": ""
          }
        },
        "2a30514025094100af2b2d7616ae3e52": {
          "model_module": "@jupyter-widgets/base",
          "model_name": "LayoutModel",
          "model_module_version": "1.2.0",
          "state": {
            "_model_module": "@jupyter-widgets/base",
            "_model_module_version": "1.2.0",
            "_model_name": "LayoutModel",
            "_view_count": null,
            "_view_module": "@jupyter-widgets/base",
            "_view_module_version": "1.2.0",
            "_view_name": "LayoutView",
            "align_content": null,
            "align_items": null,
            "align_self": null,
            "border": null,
            "bottom": null,
            "display": null,
            "flex": null,
            "flex_flow": null,
            "grid_area": null,
            "grid_auto_columns": null,
            "grid_auto_flow": null,
            "grid_auto_rows": null,
            "grid_column": null,
            "grid_gap": null,
            "grid_row": null,
            "grid_template_areas": null,
            "grid_template_columns": null,
            "grid_template_rows": null,
            "height": null,
            "justify_content": null,
            "justify_items": null,
            "left": null,
            "margin": null,
            "max_height": null,
            "max_width": null,
            "min_height": null,
            "min_width": null,
            "object_fit": null,
            "object_position": null,
            "order": null,
            "overflow": null,
            "overflow_x": null,
            "overflow_y": null,
            "padding": null,
            "right": null,
            "top": null,
            "visibility": null,
            "width": null
          }
        },
        "678540f466ba4014ac92032e680348cb": {
          "model_module": "@jupyter-widgets/controls",
          "model_name": "DescriptionStyleModel",
          "model_module_version": "1.5.0",
          "state": {
            "_model_module": "@jupyter-widgets/controls",
            "_model_module_version": "1.5.0",
            "_model_name": "DescriptionStyleModel",
            "_view_count": null,
            "_view_module": "@jupyter-widgets/base",
            "_view_module_version": "1.2.0",
            "_view_name": "StyleView",
            "description_width": ""
          }
        },
        "c1c3dbb938054385803f8b2a2d1af34b": {
          "model_module": "@jupyter-widgets/controls",
          "model_name": "HBoxModel",
          "model_module_version": "1.5.0",
          "state": {
            "_dom_classes": [],
            "_model_module": "@jupyter-widgets/controls",
            "_model_module_version": "1.5.0",
            "_model_name": "HBoxModel",
            "_view_count": null,
            "_view_module": "@jupyter-widgets/controls",
            "_view_module_version": "1.5.0",
            "_view_name": "HBoxView",
            "box_style": "",
            "children": [
              "IPY_MODEL_98559bdd0b5346b38f53b1040d307d2a",
              "IPY_MODEL_5bd9ea36593b4bf59de43351a4957455",
              "IPY_MODEL_8f939242b1244eca9e0b8f9d6c66c7b8"
            ],
            "layout": "IPY_MODEL_12294a1a2d87452e9a9b8ca2391c7949"
          }
        },
        "98559bdd0b5346b38f53b1040d307d2a": {
          "model_module": "@jupyter-widgets/controls",
          "model_name": "HTMLModel",
          "model_module_version": "1.5.0",
          "state": {
            "_dom_classes": [],
            "_model_module": "@jupyter-widgets/controls",
            "_model_module_version": "1.5.0",
            "_model_name": "HTMLModel",
            "_view_count": null,
            "_view_module": "@jupyter-widgets/controls",
            "_view_module_version": "1.5.0",
            "_view_name": "HTMLView",
            "description": "",
            "description_tooltip": null,
            "layout": "IPY_MODEL_4f0cf0a9ecd9417fa349aa247a103fc4",
            "placeholder": "​",
            "style": "IPY_MODEL_f80797fb61a14d1b950ce55fdec93d73",
            "value": "Downloading tokenizer.json: 100%"
          }
        },
        "5bd9ea36593b4bf59de43351a4957455": {
          "model_module": "@jupyter-widgets/controls",
          "model_name": "FloatProgressModel",
          "model_module_version": "1.5.0",
          "state": {
            "_dom_classes": [],
            "_model_module": "@jupyter-widgets/controls",
            "_model_module_version": "1.5.0",
            "_model_name": "FloatProgressModel",
            "_view_count": null,
            "_view_module": "@jupyter-widgets/controls",
            "_view_module_version": "1.5.0",
            "_view_name": "ProgressView",
            "bar_style": "success",
            "description": "",
            "description_tooltip": null,
            "layout": "IPY_MODEL_c8501f75d72c47a0aead14ae5b0fe00b",
            "max": 1356047,
            "min": 0,
            "orientation": "horizontal",
            "style": "IPY_MODEL_ca2ee2483f16409185015c95f7b89efa",
            "value": 1356047
          }
        },
        "8f939242b1244eca9e0b8f9d6c66c7b8": {
          "model_module": "@jupyter-widgets/controls",
          "model_name": "HTMLModel",
          "model_module_version": "1.5.0",
          "state": {
            "_dom_classes": [],
            "_model_module": "@jupyter-widgets/controls",
            "_model_module_version": "1.5.0",
            "_model_name": "HTMLModel",
            "_view_count": null,
            "_view_module": "@jupyter-widgets/controls",
            "_view_module_version": "1.5.0",
            "_view_name": "HTMLView",
            "description": "",
            "description_tooltip": null,
            "layout": "IPY_MODEL_b966b609b472490ebfd49cb45d31d5ea",
            "placeholder": "​",
            "style": "IPY_MODEL_0d11495b85e34e7a96fb7e50dfb279fc",
            "value": " 1.29M/1.29M [00:00&lt;00:00, 2.32MB/s]"
          }
        },
        "12294a1a2d87452e9a9b8ca2391c7949": {
          "model_module": "@jupyter-widgets/base",
          "model_name": "LayoutModel",
          "model_module_version": "1.2.0",
          "state": {
            "_model_module": "@jupyter-widgets/base",
            "_model_module_version": "1.2.0",
            "_model_name": "LayoutModel",
            "_view_count": null,
            "_view_module": "@jupyter-widgets/base",
            "_view_module_version": "1.2.0",
            "_view_name": "LayoutView",
            "align_content": null,
            "align_items": null,
            "align_self": null,
            "border": null,
            "bottom": null,
            "display": null,
            "flex": null,
            "flex_flow": null,
            "grid_area": null,
            "grid_auto_columns": null,
            "grid_auto_flow": null,
            "grid_auto_rows": null,
            "grid_column": null,
            "grid_gap": null,
            "grid_row": null,
            "grid_template_areas": null,
            "grid_template_columns": null,
            "grid_template_rows": null,
            "height": null,
            "justify_content": null,
            "justify_items": null,
            "left": null,
            "margin": null,
            "max_height": null,
            "max_width": null,
            "min_height": null,
            "min_width": null,
            "object_fit": null,
            "object_position": null,
            "order": null,
            "overflow": null,
            "overflow_x": null,
            "overflow_y": null,
            "padding": null,
            "right": null,
            "top": null,
            "visibility": null,
            "width": null
          }
        },
        "4f0cf0a9ecd9417fa349aa247a103fc4": {
          "model_module": "@jupyter-widgets/base",
          "model_name": "LayoutModel",
          "model_module_version": "1.2.0",
          "state": {
            "_model_module": "@jupyter-widgets/base",
            "_model_module_version": "1.2.0",
            "_model_name": "LayoutModel",
            "_view_count": null,
            "_view_module": "@jupyter-widgets/base",
            "_view_module_version": "1.2.0",
            "_view_name": "LayoutView",
            "align_content": null,
            "align_items": null,
            "align_self": null,
            "border": null,
            "bottom": null,
            "display": null,
            "flex": null,
            "flex_flow": null,
            "grid_area": null,
            "grid_auto_columns": null,
            "grid_auto_flow": null,
            "grid_auto_rows": null,
            "grid_column": null,
            "grid_gap": null,
            "grid_row": null,
            "grid_template_areas": null,
            "grid_template_columns": null,
            "grid_template_rows": null,
            "height": null,
            "justify_content": null,
            "justify_items": null,
            "left": null,
            "margin": null,
            "max_height": null,
            "max_width": null,
            "min_height": null,
            "min_width": null,
            "object_fit": null,
            "object_position": null,
            "order": null,
            "overflow": null,
            "overflow_x": null,
            "overflow_y": null,
            "padding": null,
            "right": null,
            "top": null,
            "visibility": null,
            "width": null
          }
        },
        "f80797fb61a14d1b950ce55fdec93d73": {
          "model_module": "@jupyter-widgets/controls",
          "model_name": "DescriptionStyleModel",
          "model_module_version": "1.5.0",
          "state": {
            "_model_module": "@jupyter-widgets/controls",
            "_model_module_version": "1.5.0",
            "_model_name": "DescriptionStyleModel",
            "_view_count": null,
            "_view_module": "@jupyter-widgets/base",
            "_view_module_version": "1.2.0",
            "_view_name": "StyleView",
            "description_width": ""
          }
        },
        "c8501f75d72c47a0aead14ae5b0fe00b": {
          "model_module": "@jupyter-widgets/base",
          "model_name": "LayoutModel",
          "model_module_version": "1.2.0",
          "state": {
            "_model_module": "@jupyter-widgets/base",
            "_model_module_version": "1.2.0",
            "_model_name": "LayoutModel",
            "_view_count": null,
            "_view_module": "@jupyter-widgets/base",
            "_view_module_version": "1.2.0",
            "_view_name": "LayoutView",
            "align_content": null,
            "align_items": null,
            "align_self": null,
            "border": null,
            "bottom": null,
            "display": null,
            "flex": null,
            "flex_flow": null,
            "grid_area": null,
            "grid_auto_columns": null,
            "grid_auto_flow": null,
            "grid_auto_rows": null,
            "grid_column": null,
            "grid_gap": null,
            "grid_row": null,
            "grid_template_areas": null,
            "grid_template_columns": null,
            "grid_template_rows": null,
            "height": null,
            "justify_content": null,
            "justify_items": null,
            "left": null,
            "margin": null,
            "max_height": null,
            "max_width": null,
            "min_height": null,
            "min_width": null,
            "object_fit": null,
            "object_position": null,
            "order": null,
            "overflow": null,
            "overflow_x": null,
            "overflow_y": null,
            "padding": null,
            "right": null,
            "top": null,
            "visibility": null,
            "width": null
          }
        },
        "ca2ee2483f16409185015c95f7b89efa": {
          "model_module": "@jupyter-widgets/controls",
          "model_name": "ProgressStyleModel",
          "model_module_version": "1.5.0",
          "state": {
            "_model_module": "@jupyter-widgets/controls",
            "_model_module_version": "1.5.0",
            "_model_name": "ProgressStyleModel",
            "_view_count": null,
            "_view_module": "@jupyter-widgets/base",
            "_view_module_version": "1.2.0",
            "_view_name": "StyleView",
            "bar_color": null,
            "description_width": ""
          }
        },
        "b966b609b472490ebfd49cb45d31d5ea": {
          "model_module": "@jupyter-widgets/base",
          "model_name": "LayoutModel",
          "model_module_version": "1.2.0",
          "state": {
            "_model_module": "@jupyter-widgets/base",
            "_model_module_version": "1.2.0",
            "_model_name": "LayoutModel",
            "_view_count": null,
            "_view_module": "@jupyter-widgets/base",
            "_view_module_version": "1.2.0",
            "_view_name": "LayoutView",
            "align_content": null,
            "align_items": null,
            "align_self": null,
            "border": null,
            "bottom": null,
            "display": null,
            "flex": null,
            "flex_flow": null,
            "grid_area": null,
            "grid_auto_columns": null,
            "grid_auto_flow": null,
            "grid_auto_rows": null,
            "grid_column": null,
            "grid_gap": null,
            "grid_row": null,
            "grid_template_areas": null,
            "grid_template_columns": null,
            "grid_template_rows": null,
            "height": null,
            "justify_content": null,
            "justify_items": null,
            "left": null,
            "margin": null,
            "max_height": null,
            "max_width": null,
            "min_height": null,
            "min_width": null,
            "object_fit": null,
            "object_position": null,
            "order": null,
            "overflow": null,
            "overflow_x": null,
            "overflow_y": null,
            "padding": null,
            "right": null,
            "top": null,
            "visibility": null,
            "width": null
          }
        },
        "0d11495b85e34e7a96fb7e50dfb279fc": {
          "model_module": "@jupyter-widgets/controls",
          "model_name": "DescriptionStyleModel",
          "model_module_version": "1.5.0",
          "state": {
            "_model_module": "@jupyter-widgets/controls",
            "_model_module_version": "1.5.0",
            "_model_name": "DescriptionStyleModel",
            "_view_count": null,
            "_view_module": "@jupyter-widgets/base",
            "_view_module_version": "1.2.0",
            "_view_name": "StyleView",
            "description_width": ""
          }
        },
        "5ed7c3c7b3a3493b88ec8052dd77d084": {
          "model_module": "@jupyter-widgets/controls",
          "model_name": "HBoxModel",
          "model_module_version": "1.5.0",
          "state": {
            "_dom_classes": [],
            "_model_module": "@jupyter-widgets/controls",
            "_model_module_version": "1.5.0",
            "_model_name": "HBoxModel",
            "_view_count": null,
            "_view_module": "@jupyter-widgets/controls",
            "_view_module_version": "1.5.0",
            "_view_name": "HBoxView",
            "box_style": "",
            "children": [
              "IPY_MODEL_b1b86afd996b4eff931286a6a0933f84",
              "IPY_MODEL_254f91efba7241cc8dabd00b046699ff",
              "IPY_MODEL_f95ae261e1ad4d16b859b7e16d559e1b"
            ],
            "layout": "IPY_MODEL_8d740582336243549849e3cf764e8a31"
          }
        },
        "b1b86afd996b4eff931286a6a0933f84": {
          "model_module": "@jupyter-widgets/controls",
          "model_name": "HTMLModel",
          "model_module_version": "1.5.0",
          "state": {
            "_dom_classes": [],
            "_model_module": "@jupyter-widgets/controls",
            "_model_module_version": "1.5.0",
            "_model_name": "HTMLModel",
            "_view_count": null,
            "_view_module": "@jupyter-widgets/controls",
            "_view_module_version": "1.5.0",
            "_view_name": "HTMLView",
            "description": "",
            "description_tooltip": null,
            "layout": "IPY_MODEL_81308ddb848e46b1b9693e23642d0849",
            "placeholder": "​",
            "style": "IPY_MODEL_8e7096ccb4a9491bae4a5b0cc2cd3884",
            "value": "Downloading special_tokens_map.json: 100%"
          }
        },
        "254f91efba7241cc8dabd00b046699ff": {
          "model_module": "@jupyter-widgets/controls",
          "model_name": "FloatProgressModel",
          "model_module_version": "1.5.0",
          "state": {
            "_dom_classes": [],
            "_model_module": "@jupyter-widgets/controls",
            "_model_module_version": "1.5.0",
            "_model_name": "FloatProgressModel",
            "_view_count": null,
            "_view_module": "@jupyter-widgets/controls",
            "_view_module_version": "1.5.0",
            "_view_name": "ProgressView",
            "bar_style": "success",
            "description": "",
            "description_tooltip": null,
            "layout": "IPY_MODEL_55005ff907c046ed9629675783695de9",
            "max": 239,
            "min": 0,
            "orientation": "horizontal",
            "style": "IPY_MODEL_d9c6779728044c529b79f4a43f12ff7f",
            "value": 239
          }
        },
        "f95ae261e1ad4d16b859b7e16d559e1b": {
          "model_module": "@jupyter-widgets/controls",
          "model_name": "HTMLModel",
          "model_module_version": "1.5.0",
          "state": {
            "_dom_classes": [],
            "_model_module": "@jupyter-widgets/controls",
            "_model_module_version": "1.5.0",
            "_model_name": "HTMLModel",
            "_view_count": null,
            "_view_module": "@jupyter-widgets/controls",
            "_view_module_version": "1.5.0",
            "_view_name": "HTMLView",
            "description": "",
            "description_tooltip": null,
            "layout": "IPY_MODEL_5fcfd5fc711a44b1ae58b8ad4444bee3",
            "placeholder": "​",
            "style": "IPY_MODEL_ebc9b2d1eca14b3b8fc598644cd986a3",
            "value": " 239/239 [00:00&lt;00:00, 9.79kB/s]"
          }
        },
        "8d740582336243549849e3cf764e8a31": {
          "model_module": "@jupyter-widgets/base",
          "model_name": "LayoutModel",
          "model_module_version": "1.2.0",
          "state": {
            "_model_module": "@jupyter-widgets/base",
            "_model_module_version": "1.2.0",
            "_model_name": "LayoutModel",
            "_view_count": null,
            "_view_module": "@jupyter-widgets/base",
            "_view_module_version": "1.2.0",
            "_view_name": "LayoutView",
            "align_content": null,
            "align_items": null,
            "align_self": null,
            "border": null,
            "bottom": null,
            "display": null,
            "flex": null,
            "flex_flow": null,
            "grid_area": null,
            "grid_auto_columns": null,
            "grid_auto_flow": null,
            "grid_auto_rows": null,
            "grid_column": null,
            "grid_gap": null,
            "grid_row": null,
            "grid_template_areas": null,
            "grid_template_columns": null,
            "grid_template_rows": null,
            "height": null,
            "justify_content": null,
            "justify_items": null,
            "left": null,
            "margin": null,
            "max_height": null,
            "max_width": null,
            "min_height": null,
            "min_width": null,
            "object_fit": null,
            "object_position": null,
            "order": null,
            "overflow": null,
            "overflow_x": null,
            "overflow_y": null,
            "padding": null,
            "right": null,
            "top": null,
            "visibility": null,
            "width": null
          }
        },
        "81308ddb848e46b1b9693e23642d0849": {
          "model_module": "@jupyter-widgets/base",
          "model_name": "LayoutModel",
          "model_module_version": "1.2.0",
          "state": {
            "_model_module": "@jupyter-widgets/base",
            "_model_module_version": "1.2.0",
            "_model_name": "LayoutModel",
            "_view_count": null,
            "_view_module": "@jupyter-widgets/base",
            "_view_module_version": "1.2.0",
            "_view_name": "LayoutView",
            "align_content": null,
            "align_items": null,
            "align_self": null,
            "border": null,
            "bottom": null,
            "display": null,
            "flex": null,
            "flex_flow": null,
            "grid_area": null,
            "grid_auto_columns": null,
            "grid_auto_flow": null,
            "grid_auto_rows": null,
            "grid_column": null,
            "grid_gap": null,
            "grid_row": null,
            "grid_template_areas": null,
            "grid_template_columns": null,
            "grid_template_rows": null,
            "height": null,
            "justify_content": null,
            "justify_items": null,
            "left": null,
            "margin": null,
            "max_height": null,
            "max_width": null,
            "min_height": null,
            "min_width": null,
            "object_fit": null,
            "object_position": null,
            "order": null,
            "overflow": null,
            "overflow_x": null,
            "overflow_y": null,
            "padding": null,
            "right": null,
            "top": null,
            "visibility": null,
            "width": null
          }
        },
        "8e7096ccb4a9491bae4a5b0cc2cd3884": {
          "model_module": "@jupyter-widgets/controls",
          "model_name": "DescriptionStyleModel",
          "model_module_version": "1.5.0",
          "state": {
            "_model_module": "@jupyter-widgets/controls",
            "_model_module_version": "1.5.0",
            "_model_name": "DescriptionStyleModel",
            "_view_count": null,
            "_view_module": "@jupyter-widgets/base",
            "_view_module_version": "1.2.0",
            "_view_name": "StyleView",
            "description_width": ""
          }
        },
        "55005ff907c046ed9629675783695de9": {
          "model_module": "@jupyter-widgets/base",
          "model_name": "LayoutModel",
          "model_module_version": "1.2.0",
          "state": {
            "_model_module": "@jupyter-widgets/base",
            "_model_module_version": "1.2.0",
            "_model_name": "LayoutModel",
            "_view_count": null,
            "_view_module": "@jupyter-widgets/base",
            "_view_module_version": "1.2.0",
            "_view_name": "LayoutView",
            "align_content": null,
            "align_items": null,
            "align_self": null,
            "border": null,
            "bottom": null,
            "display": null,
            "flex": null,
            "flex_flow": null,
            "grid_area": null,
            "grid_auto_columns": null,
            "grid_auto_flow": null,
            "grid_auto_rows": null,
            "grid_column": null,
            "grid_gap": null,
            "grid_row": null,
            "grid_template_areas": null,
            "grid_template_columns": null,
            "grid_template_rows": null,
            "height": null,
            "justify_content": null,
            "justify_items": null,
            "left": null,
            "margin": null,
            "max_height": null,
            "max_width": null,
            "min_height": null,
            "min_width": null,
            "object_fit": null,
            "object_position": null,
            "order": null,
            "overflow": null,
            "overflow_x": null,
            "overflow_y": null,
            "padding": null,
            "right": null,
            "top": null,
            "visibility": null,
            "width": null
          }
        },
        "d9c6779728044c529b79f4a43f12ff7f": {
          "model_module": "@jupyter-widgets/controls",
          "model_name": "ProgressStyleModel",
          "model_module_version": "1.5.0",
          "state": {
            "_model_module": "@jupyter-widgets/controls",
            "_model_module_version": "1.5.0",
            "_model_name": "ProgressStyleModel",
            "_view_count": null,
            "_view_module": "@jupyter-widgets/base",
            "_view_module_version": "1.2.0",
            "_view_name": "StyleView",
            "bar_color": null,
            "description_width": ""
          }
        },
        "5fcfd5fc711a44b1ae58b8ad4444bee3": {
          "model_module": "@jupyter-widgets/base",
          "model_name": "LayoutModel",
          "model_module_version": "1.2.0",
          "state": {
            "_model_module": "@jupyter-widgets/base",
            "_model_module_version": "1.2.0",
            "_model_name": "LayoutModel",
            "_view_count": null,
            "_view_module": "@jupyter-widgets/base",
            "_view_module_version": "1.2.0",
            "_view_name": "LayoutView",
            "align_content": null,
            "align_items": null,
            "align_self": null,
            "border": null,
            "bottom": null,
            "display": null,
            "flex": null,
            "flex_flow": null,
            "grid_area": null,
            "grid_auto_columns": null,
            "grid_auto_flow": null,
            "grid_auto_rows": null,
            "grid_column": null,
            "grid_gap": null,
            "grid_row": null,
            "grid_template_areas": null,
            "grid_template_columns": null,
            "grid_template_rows": null,
            "height": null,
            "justify_content": null,
            "justify_items": null,
            "left": null,
            "margin": null,
            "max_height": null,
            "max_width": null,
            "min_height": null,
            "min_width": null,
            "object_fit": null,
            "object_position": null,
            "order": null,
            "overflow": null,
            "overflow_x": null,
            "overflow_y": null,
            "padding": null,
            "right": null,
            "top": null,
            "visibility": null,
            "width": null
          }
        },
        "ebc9b2d1eca14b3b8fc598644cd986a3": {
          "model_module": "@jupyter-widgets/controls",
          "model_name": "DescriptionStyleModel",
          "model_module_version": "1.5.0",
          "state": {
            "_model_module": "@jupyter-widgets/controls",
            "_model_module_version": "1.5.0",
            "_model_name": "DescriptionStyleModel",
            "_view_count": null,
            "_view_module": "@jupyter-widgets/base",
            "_view_module_version": "1.2.0",
            "_view_name": "StyleView",
            "description_width": ""
          }
        }
      }
    }
  },
  "cells": [
    {
      "cell_type": "markdown",
      "source": [
        "## Requirements"
      ],
      "metadata": {
        "id": "LzkaiOj_Xjny"
      }
    },
    {
      "cell_type": "code",
      "source": [
        "!pip install fuzzywuzzy\n",
        "!pip install imageio==2.4.1\n",
        "!pip install pygame"
      ],
      "metadata": {
        "colab": {
          "base_uri": "https://localhost:8080/"
        },
        "id": "-dw1o9J-5Bws",
        "outputId": "860c465f-e343-464f-987c-e8f2fce6fe3e"
      },
      "execution_count": 1,
      "outputs": [
        {
          "output_type": "stream",
          "name": "stdout",
          "text": [
            "Looking in indexes: https://pypi.org/simple, https://us-python.pkg.dev/colab-wheels/public/simple/\n",
            "Collecting fuzzywuzzy\n",
            "  Downloading fuzzywuzzy-0.18.0-py2.py3-none-any.whl (18 kB)\n",
            "Installing collected packages: fuzzywuzzy\n",
            "Successfully installed fuzzywuzzy-0.18.0\n",
            "Looking in indexes: https://pypi.org/simple, https://us-python.pkg.dev/colab-wheels/public/simple/\n",
            "Collecting imageio==2.4.1\n",
            "  Downloading imageio-2.4.1.tar.gz (3.3 MB)\n",
            "\u001b[K     |████████████████████████████████| 3.3 MB 5.0 MB/s \n",
            "\u001b[?25hRequirement already satisfied: numpy in /usr/local/lib/python3.7/dist-packages (from imageio==2.4.1) (1.21.6)\n",
            "Requirement already satisfied: pillow in /usr/local/lib/python3.7/dist-packages (from imageio==2.4.1) (7.1.2)\n",
            "Building wheels for collected packages: imageio\n",
            "  Building wheel for imageio (setup.py) ... \u001b[?25l\u001b[?25hdone\n",
            "  Created wheel for imageio: filename=imageio-2.4.1-py3-none-any.whl size=3303885 sha256=23817c51a17490c224a37f98d80b8ff7054b16da629a1726749cabcd38df6ea2\n",
            "  Stored in directory: /root/.cache/pip/wheels/46/20/07/7bb9c8c44e6ec2efa60fd0e6280094f53f65f41767ef69a5ee\n",
            "Successfully built imageio\n",
            "Installing collected packages: imageio\n",
            "  Attempting uninstall: imageio\n",
            "    Found existing installation: imageio 2.9.0\n",
            "    Uninstalling imageio-2.9.0:\n",
            "      Successfully uninstalled imageio-2.9.0\n",
            "Successfully installed imageio-2.4.1\n",
            "Looking in indexes: https://pypi.org/simple, https://us-python.pkg.dev/colab-wheels/public/simple/\n",
            "Collecting pygame\n",
            "  Downloading pygame-2.1.2-cp37-cp37m-manylinux_2_17_x86_64.manylinux2014_x86_64.whl (21.8 MB)\n",
            "\u001b[K     |████████████████████████████████| 21.8 MB 546 kB/s \n",
            "\u001b[?25hInstalling collected packages: pygame\n",
            "Successfully installed pygame-2.1.2\n"
          ]
        }
      ]
    },
    {
      "cell_type": "code",
      "source": [
        "!pip install PyQt5 nltk pyLDAvis\n",
        "!pip install numba==0.48\n",
        "!pip install librosa==0.6\n",
        "import librosa\n",
        "!pip install amfm_decompy aubio pydub\n",
        "!pip install Wave moviepy==0.2.1.1 SpeechRecognition\n",
        "!pip install sentence-transformers\n",
        "!pip install wordninja"
      ],
      "metadata": {
        "colab": {
          "base_uri": "https://localhost:8080/",
          "height": 1000
        },
        "id": "R5v6JGlcXhit",
        "outputId": "234a6864-af42-4557-fe05-641db59f5fb9"
      },
      "execution_count": 2,
      "outputs": [
        {
          "output_type": "stream",
          "name": "stdout",
          "text": [
            "Looking in indexes: https://pypi.org/simple, https://us-python.pkg.dev/colab-wheels/public/simple/\n",
            "Collecting PyQt5\n",
            "  Downloading PyQt5-5.15.7-cp37-abi3-manylinux1_x86_64.whl (8.4 MB)\n",
            "\u001b[K     |████████████████████████████████| 8.4 MB 4.9 MB/s \n",
            "\u001b[?25hRequirement already satisfied: nltk in /usr/local/lib/python3.7/dist-packages (3.7)\n",
            "Collecting pyLDAvis\n",
            "  Downloading pyLDAvis-3.3.1.tar.gz (1.7 MB)\n",
            "\u001b[K     |████████████████████████████████| 1.7 MB 80.4 MB/s \n",
            "\u001b[?25h  Installing build dependencies ... \u001b[?25l\u001b[?25hdone\n",
            "  Getting requirements to build wheel ... \u001b[?25l\u001b[?25hdone\n",
            "  Installing backend dependencies ... \u001b[?25l\u001b[?25hdone\n",
            "    Preparing wheel metadata ... \u001b[?25l\u001b[?25hdone\n",
            "Collecting PyQt5-sip<13,>=12.11\n",
            "  Downloading PyQt5_sip-12.11.0-cp37-cp37m-manylinux1_x86_64.whl (344 kB)\n",
            "\u001b[K     |████████████████████████████████| 344 kB 76.5 MB/s \n",
            "\u001b[?25hCollecting PyQt5-Qt5>=5.15.0\n",
            "  Downloading PyQt5_Qt5-5.15.2-py3-none-manylinux2014_x86_64.whl (59.9 MB)\n",
            "\u001b[K     |████████████████████████████████| 59.9 MB 1.4 MB/s \n",
            "\u001b[?25hRequirement already satisfied: tqdm in /usr/local/lib/python3.7/dist-packages (from nltk) (4.64.0)\n",
            "Requirement already satisfied: regex>=2021.8.3 in /usr/local/lib/python3.7/dist-packages (from nltk) (2022.6.2)\n",
            "Requirement already satisfied: click in /usr/local/lib/python3.7/dist-packages (from nltk) (7.1.2)\n",
            "Requirement already satisfied: joblib in /usr/local/lib/python3.7/dist-packages (from nltk) (1.1.0)\n",
            "Requirement already satisfied: scipy in /usr/local/lib/python3.7/dist-packages (from pyLDAvis) (1.7.3)\n",
            "Requirement already satisfied: setuptools in /usr/local/lib/python3.7/dist-packages (from pyLDAvis) (57.4.0)\n",
            "Requirement already satisfied: numexpr in /usr/local/lib/python3.7/dist-packages (from pyLDAvis) (2.8.3)\n",
            "Requirement already satisfied: sklearn in /usr/local/lib/python3.7/dist-packages (from pyLDAvis) (0.0)\n",
            "Requirement already satisfied: scikit-learn in /usr/local/lib/python3.7/dist-packages (from pyLDAvis) (1.0.2)\n",
            "Requirement already satisfied: future in /usr/local/lib/python3.7/dist-packages (from pyLDAvis) (0.16.0)\n",
            "Requirement already satisfied: jinja2 in /usr/local/lib/python3.7/dist-packages (from pyLDAvis) (2.11.3)\n",
            "Collecting funcy\n",
            "  Downloading funcy-1.17-py2.py3-none-any.whl (33 kB)\n",
            "Requirement already satisfied: gensim in /usr/local/lib/python3.7/dist-packages (from pyLDAvis) (3.6.0)\n",
            "Requirement already satisfied: numpy>=1.20.0 in /usr/local/lib/python3.7/dist-packages (from pyLDAvis) (1.21.6)\n",
            "Requirement already satisfied: pandas>=1.2.0 in /usr/local/lib/python3.7/dist-packages (from pyLDAvis) (1.3.5)\n",
            "Requirement already satisfied: pytz>=2017.3 in /usr/local/lib/python3.7/dist-packages (from pandas>=1.2.0->pyLDAvis) (2022.1)\n",
            "Requirement already satisfied: python-dateutil>=2.7.3 in /usr/local/lib/python3.7/dist-packages (from pandas>=1.2.0->pyLDAvis) (2.8.2)\n",
            "Requirement already satisfied: six>=1.5 in /usr/local/lib/python3.7/dist-packages (from python-dateutil>=2.7.3->pandas>=1.2.0->pyLDAvis) (1.15.0)\n",
            "Requirement already satisfied: smart-open>=1.2.1 in /usr/local/lib/python3.7/dist-packages (from gensim->pyLDAvis) (5.2.1)\n",
            "Requirement already satisfied: MarkupSafe>=0.23 in /usr/local/lib/python3.7/dist-packages (from jinja2->pyLDAvis) (2.0.1)\n",
            "Requirement already satisfied: packaging in /usr/local/lib/python3.7/dist-packages (from numexpr->pyLDAvis) (21.3)\n",
            "Requirement already satisfied: pyparsing!=3.0.5,>=2.0.2 in /usr/local/lib/python3.7/dist-packages (from packaging->numexpr->pyLDAvis) (3.0.9)\n",
            "Requirement already satisfied: threadpoolctl>=2.0.0 in /usr/local/lib/python3.7/dist-packages (from scikit-learn->pyLDAvis) (3.1.0)\n",
            "Building wheels for collected packages: pyLDAvis\n",
            "  Building wheel for pyLDAvis (PEP 517) ... \u001b[?25l\u001b[?25hdone\n",
            "  Created wheel for pyLDAvis: filename=pyLDAvis-3.3.1-py2.py3-none-any.whl size=136898 sha256=f3b4a4d2c7df675fc4a11d03a6a68a24c8814b1463b7d9f1da92f06bc37b9cdd\n",
            "  Stored in directory: /root/.cache/pip/wheels/c9/21/f6/17bcf2667e8a68532ba2fbf6d5c72fdf4c7f7d9abfa4852d2f\n",
            "Successfully built pyLDAvis\n",
            "Installing collected packages: PyQt5-sip, PyQt5-Qt5, funcy, PyQt5, pyLDAvis\n",
            "Successfully installed PyQt5-5.15.7 PyQt5-Qt5-5.15.2 PyQt5-sip-12.11.0 funcy-1.17 pyLDAvis-3.3.1\n",
            "Looking in indexes: https://pypi.org/simple, https://us-python.pkg.dev/colab-wheels/public/simple/\n",
            "Collecting numba==0.48\n",
            "  Downloading numba-0.48.0-1-cp37-cp37m-manylinux2014_x86_64.whl (3.5 MB)\n",
            "\u001b[K     |████████████████████████████████| 3.5 MB 5.0 MB/s \n",
            "\u001b[?25hRequirement already satisfied: setuptools in /usr/local/lib/python3.7/dist-packages (from numba==0.48) (57.4.0)\n",
            "Collecting llvmlite<0.32.0,>=0.31.0dev0\n",
            "  Downloading llvmlite-0.31.0-cp37-cp37m-manylinux1_x86_64.whl (20.2 MB)\n",
            "\u001b[K     |████████████████████████████████| 20.2 MB 73.6 MB/s \n",
            "\u001b[?25hRequirement already satisfied: numpy>=1.15 in /usr/local/lib/python3.7/dist-packages (from numba==0.48) (1.21.6)\n",
            "Installing collected packages: llvmlite, numba\n",
            "  Attempting uninstall: llvmlite\n",
            "    Found existing installation: llvmlite 0.39.0\n",
            "    Uninstalling llvmlite-0.39.0:\n",
            "      Successfully uninstalled llvmlite-0.39.0\n",
            "  Attempting uninstall: numba\n",
            "    Found existing installation: numba 0.56.0\n",
            "    Uninstalling numba-0.56.0:\n",
            "      Successfully uninstalled numba-0.56.0\n",
            "Successfully installed llvmlite-0.31.0 numba-0.48.0\n",
            "Looking in indexes: https://pypi.org/simple, https://us-python.pkg.dev/colab-wheels/public/simple/\n",
            "Collecting librosa==0.6\n",
            "  Downloading librosa-0.6.0.tar.gz (1.5 MB)\n",
            "\u001b[K     |████████████████████████████████| 1.5 MB 5.1 MB/s \n",
            "\u001b[?25hRequirement already satisfied: audioread>=2.0.0 in /usr/local/lib/python3.7/dist-packages (from librosa==0.6) (2.1.9)\n",
            "Requirement already satisfied: numpy>=1.8.0 in /usr/local/lib/python3.7/dist-packages (from librosa==0.6) (1.21.6)\n",
            "Requirement already satisfied: scipy>=0.14.0 in /usr/local/lib/python3.7/dist-packages (from librosa==0.6) (1.7.3)\n",
            "Requirement already satisfied: scikit-learn!=0.19.0,>=0.14.0 in /usr/local/lib/python3.7/dist-packages (from librosa==0.6) (1.0.2)\n",
            "Requirement already satisfied: joblib>=0.7.0 in /usr/local/lib/python3.7/dist-packages (from librosa==0.6) (1.1.0)\n",
            "Requirement already satisfied: decorator>=3.0.0 in /usr/local/lib/python3.7/dist-packages (from librosa==0.6) (4.4.2)\n",
            "Requirement already satisfied: six>=1.3 in /usr/local/lib/python3.7/dist-packages (from librosa==0.6) (1.15.0)\n",
            "Requirement already satisfied: resampy>=0.2.0 in /usr/local/lib/python3.7/dist-packages (from librosa==0.6) (0.3.1)\n",
            "Requirement already satisfied: numba>=0.47 in /usr/local/lib/python3.7/dist-packages (from resampy>=0.2.0->librosa==0.6) (0.48.0)\n",
            "Requirement already satisfied: setuptools in /usr/local/lib/python3.7/dist-packages (from numba>=0.47->resampy>=0.2.0->librosa==0.6) (57.4.0)\n",
            "Requirement already satisfied: llvmlite<0.32.0,>=0.31.0dev0 in /usr/local/lib/python3.7/dist-packages (from numba>=0.47->resampy>=0.2.0->librosa==0.6) (0.31.0)\n",
            "Requirement already satisfied: threadpoolctl>=2.0.0 in /usr/local/lib/python3.7/dist-packages (from scikit-learn!=0.19.0,>=0.14.0->librosa==0.6) (3.1.0)\n",
            "Building wheels for collected packages: librosa\n",
            "  Building wheel for librosa (setup.py) ... \u001b[?25l\u001b[?25hdone\n",
            "  Created wheel for librosa: filename=librosa-0.6.0-py3-none-any.whl size=1553494 sha256=02a6d9ba731e7a507b010080e31b44a85130d600ff71f2b8ce64c827acbcd2eb\n",
            "  Stored in directory: /root/.cache/pip/wheels/c3/b3/35/7d46f91ae587ddc98ef185534386c1830ed6773a93a8da085d\n",
            "Successfully built librosa\n",
            "Installing collected packages: librosa\n",
            "  Attempting uninstall: librosa\n",
            "    Found existing installation: librosa 0.8.1\n",
            "    Uninstalling librosa-0.8.1:\n",
            "      Successfully uninstalled librosa-0.8.1\n",
            "\u001b[31mERROR: pip's dependency resolver does not currently take into account all the packages that are installed. This behaviour is the source of the following dependency conflicts.\n",
            "kapre 0.3.7 requires librosa>=0.7.2, but you have librosa 0.6.0 which is incompatible.\u001b[0m\n",
            "Successfully installed librosa-0.6.0\n",
            "Looking in indexes: https://pypi.org/simple, https://us-python.pkg.dev/colab-wheels/public/simple/\n",
            "Collecting amfm_decompy\n",
            "  Downloading AMFM_decompy-1.0.11.tar.gz (751 kB)\n",
            "\u001b[K     |████████████████████████████████| 751 kB 4.8 MB/s \n",
            "\u001b[?25hCollecting aubio\n",
            "  Downloading aubio-0.4.9.tar.gz (479 kB)\n",
            "\u001b[K     |████████████████████████████████| 479 kB 80.8 MB/s \n",
            "\u001b[?25hCollecting pydub\n",
            "  Downloading pydub-0.25.1-py2.py3-none-any.whl (32 kB)\n",
            "Requirement already satisfied: numpy in /usr/local/lib/python3.7/dist-packages (from amfm_decompy) (1.21.6)\n",
            "Requirement already satisfied: scipy in /usr/local/lib/python3.7/dist-packages (from amfm_decompy) (1.7.3)\n",
            "Building wheels for collected packages: amfm-decompy, aubio\n",
            "  Building wheel for amfm-decompy (setup.py) ... \u001b[?25l\u001b[?25hdone\n",
            "  Created wheel for amfm-decompy: filename=AMFM_decompy-1.0.11-py3-none-any.whl size=42848 sha256=d24b20c1ee76c819f04e785bc255644799cf61ce3ccf34707493e1477c488bb6\n",
            "  Stored in directory: /root/.cache/pip/wheels/a6/76/66/d51bd6c921a5842c5f22c9e0f59ed0735fbedd06a27d17f62e\n",
            "  Building wheel for aubio (setup.py) ... \u001b[?25l\u001b[?25hdone\n",
            "  Created wheel for aubio: filename=aubio-0.4.9-cp37-cp37m-linux_x86_64.whl size=390172 sha256=b0a187f80134b1cd3f65edbcf90ebe9a7ab54cd868011f97c9819cc4b8366c21\n",
            "  Stored in directory: /root/.cache/pip/wheels/82/d4/6a/930c11ef645b5c5b14e5152ea5030ab1d665593405ca3c5d3e\n",
            "Successfully built amfm-decompy aubio\n",
            "Installing collected packages: pydub, aubio, amfm-decompy\n",
            "Successfully installed amfm-decompy-1.0.11 aubio-0.4.9 pydub-0.25.1\n",
            "Looking in indexes: https://pypi.org/simple, https://us-python.pkg.dev/colab-wheels/public/simple/\n",
            "Collecting Wave\n",
            "  Downloading Wave-0.0.2.zip (38 kB)\n",
            "Collecting moviepy==0.2.1.1\n",
            "  Downloading moviepy-0.2.1.1.tar.gz (56 kB)\n",
            "\u001b[K     |████████████████████████████████| 56 kB 4.0 MB/s \n",
            "\u001b[33mWARNING: Discarding https://files.pythonhosted.org/packages/22/cf/c5c29de87b81423fabbf6c84e75f6aad6c6d39903345f0401bebe76dae60/moviepy-0.2.1.1.tar.gz#sha256=ba43ddd781d743becc26068bfaf4e4477bf876b5e4aa2121b188f8b6c2053783 (from https://pypi.org/simple/moviepy/). Command errored out with exit status 1: python setup.py egg_info Check the logs for full command output.\u001b[0m\n",
            "\u001b[31mERROR: Could not find a version that satisfies the requirement moviepy==0.2.1.1 (from versions: 0.2.1.6.3.linux-i686, 0.2.1, 0.2.1.1, 0.2.1.2, 0.2.1.3, 0.2.1.4, 0.2.1.5, 0.2.1.6, 0.2.1.6.1, 0.2.1.6.2, 0.2.1.6.3, 0.2.1.6.4, 0.2.1.6.5, 0.2.1.6.7, 0.2.1.6.8, 0.2.1.6.9, 0.2.1.6.91, 0.2.1.6.92, 0.2.1.6.93, 0.2.1.7, 0.2.1.7.2, 0.2.1.7.3, 0.2.1.7.8, 0.2.1.7.9, 0.2.1.7.10, 0.2.1.7.11, 0.2.1.7.12, 0.2.1.7.13, 0.2.1.7.14, 0.2.1.7.15, 0.2.1.7.16, 0.2.1.7.17, 0.2.1.7.18, 0.2.1.7.19, 0.2.1.7.20, 0.2.1.7.21, 0.2.1.7.22, 0.2.1.8, 0.2.1.8.1, 0.2.1.8.2, 0.2.1.8.3, 0.2.1.8.4, 0.2.1.8.5, 0.2.1.8.6, 0.2.1.8.7, 0.2.1.8.8, 0.2.1.8.9, 0.2.1.8.10, 0.2.1.8.11, 0.2.1.8.12, 0.2.1.9, 0.2.1.9.1, 0.2.1.9.2, 0.2.1.9.3, 0.2.1.9.4, 0.2.1.9.5, 0.2.1.9.7, 0.2.2, 0.2.2.1, 0.2.2.2, 0.2.2.3, 0.2.2.4, 0.2.2.5, 0.2.2.6, 0.2.2.7, 0.2.2.8, 0.2.2.9, 0.2.2.10, 0.2.2.11, 0.2.2.12, 0.2.2.13, 0.2.3.1, 0.2.3.2, 0.2.3.3, 0.2.3.4, 0.2.3.5, 1.0.0, 1.0.1, 1.0.2, 1.0.3, 2.0.0.dev1, 2.0.0.dev2)\u001b[0m\n",
            "\u001b[31mERROR: No matching distribution found for moviepy==0.2.1.1\u001b[0m\n",
            "\u001b[?25hLooking in indexes: https://pypi.org/simple, https://us-python.pkg.dev/colab-wheels/public/simple/\n",
            "Collecting sentence-transformers\n",
            "  Downloading sentence-transformers-2.2.2.tar.gz (85 kB)\n",
            "\u001b[K     |████████████████████████████████| 85 kB 2.9 MB/s \n",
            "\u001b[?25hCollecting transformers<5.0.0,>=4.6.0\n",
            "  Downloading transformers-4.21.0-py3-none-any.whl (4.7 MB)\n",
            "\u001b[K     |████████████████████████████████| 4.7 MB 31.5 MB/s \n",
            "\u001b[?25hRequirement already satisfied: tqdm in /usr/local/lib/python3.7/dist-packages (from sentence-transformers) (4.64.0)\n",
            "Requirement already satisfied: torch>=1.6.0 in /usr/local/lib/python3.7/dist-packages (from sentence-transformers) (1.12.0+cu113)\n",
            "Requirement already satisfied: torchvision in /usr/local/lib/python3.7/dist-packages (from sentence-transformers) (0.13.0+cu113)\n",
            "Requirement already satisfied: numpy in /usr/local/lib/python3.7/dist-packages (from sentence-transformers) (1.21.6)\n",
            "Requirement already satisfied: scikit-learn in /usr/local/lib/python3.7/dist-packages (from sentence-transformers) (1.0.2)\n",
            "Requirement already satisfied: scipy in /usr/local/lib/python3.7/dist-packages (from sentence-transformers) (1.7.3)\n",
            "Requirement already satisfied: nltk in /usr/local/lib/python3.7/dist-packages (from sentence-transformers) (3.7)\n",
            "Collecting sentencepiece\n",
            "  Downloading sentencepiece-0.1.96-cp37-cp37m-manylinux_2_17_x86_64.manylinux2014_x86_64.whl (1.2 MB)\n",
            "\u001b[K     |████████████████████████████████| 1.2 MB 61.2 MB/s \n",
            "\u001b[?25hCollecting huggingface-hub>=0.4.0\n",
            "  Downloading huggingface_hub-0.8.1-py3-none-any.whl (101 kB)\n",
            "\u001b[K     |████████████████████████████████| 101 kB 10.9 MB/s \n",
            "\u001b[?25hRequirement already satisfied: requests in /usr/local/lib/python3.7/dist-packages (from huggingface-hub>=0.4.0->sentence-transformers) (2.23.0)\n",
            "Requirement already satisfied: packaging>=20.9 in /usr/local/lib/python3.7/dist-packages (from huggingface-hub>=0.4.0->sentence-transformers) (21.3)\n",
            "Requirement already satisfied: importlib-metadata in /usr/local/lib/python3.7/dist-packages (from huggingface-hub>=0.4.0->sentence-transformers) (4.12.0)\n",
            "Collecting pyyaml>=5.1\n",
            "  Downloading PyYAML-6.0-cp37-cp37m-manylinux_2_5_x86_64.manylinux1_x86_64.manylinux_2_12_x86_64.manylinux2010_x86_64.whl (596 kB)\n",
            "\u001b[K     |████████████████████████████████| 596 kB 8.3 MB/s \n",
            "\u001b[?25hRequirement already satisfied: filelock in /usr/local/lib/python3.7/dist-packages (from huggingface-hub>=0.4.0->sentence-transformers) (3.7.1)\n",
            "Requirement already satisfied: typing-extensions>=3.7.4.3 in /usr/local/lib/python3.7/dist-packages (from huggingface-hub>=0.4.0->sentence-transformers) (4.1.1)\n",
            "Requirement already satisfied: pyparsing!=3.0.5,>=2.0.2 in /usr/local/lib/python3.7/dist-packages (from packaging>=20.9->huggingface-hub>=0.4.0->sentence-transformers) (3.0.9)\n",
            "Collecting tokenizers!=0.11.3,<0.13,>=0.11.1\n",
            "  Downloading tokenizers-0.12.1-cp37-cp37m-manylinux_2_12_x86_64.manylinux2010_x86_64.whl (6.6 MB)\n",
            "\u001b[K     |████████████████████████████████| 6.6 MB 74.8 MB/s \n",
            "\u001b[?25hRequirement already satisfied: regex!=2019.12.17 in /usr/local/lib/python3.7/dist-packages (from transformers<5.0.0,>=4.6.0->sentence-transformers) (2022.6.2)\n",
            "Requirement already satisfied: zipp>=0.5 in /usr/local/lib/python3.7/dist-packages (from importlib-metadata->huggingface-hub>=0.4.0->sentence-transformers) (3.8.1)\n",
            "Requirement already satisfied: joblib in /usr/local/lib/python3.7/dist-packages (from nltk->sentence-transformers) (1.1.0)\n",
            "Requirement already satisfied: click in /usr/local/lib/python3.7/dist-packages (from nltk->sentence-transformers) (7.1.2)\n",
            "Requirement already satisfied: certifi>=2017.4.17 in /usr/local/lib/python3.7/dist-packages (from requests->huggingface-hub>=0.4.0->sentence-transformers) (2022.6.15)\n",
            "Requirement already satisfied: idna<3,>=2.5 in /usr/local/lib/python3.7/dist-packages (from requests->huggingface-hub>=0.4.0->sentence-transformers) (2.10)\n",
            "Requirement already satisfied: urllib3!=1.25.0,!=1.25.1,<1.26,>=1.21.1 in /usr/local/lib/python3.7/dist-packages (from requests->huggingface-hub>=0.4.0->sentence-transformers) (1.24.3)\n",
            "Requirement already satisfied: chardet<4,>=3.0.2 in /usr/local/lib/python3.7/dist-packages (from requests->huggingface-hub>=0.4.0->sentence-transformers) (3.0.4)\n",
            "Requirement already satisfied: threadpoolctl>=2.0.0 in /usr/local/lib/python3.7/dist-packages (from scikit-learn->sentence-transformers) (3.1.0)\n",
            "Requirement already satisfied: pillow!=8.3.*,>=5.3.0 in /usr/local/lib/python3.7/dist-packages (from torchvision->sentence-transformers) (7.1.2)\n",
            "Building wheels for collected packages: sentence-transformers\n",
            "  Building wheel for sentence-transformers (setup.py) ... \u001b[?25l\u001b[?25hdone\n",
            "  Created wheel for sentence-transformers: filename=sentence_transformers-2.2.2-py3-none-any.whl size=125938 sha256=c1cb4bb4f0a115a625d28a997852795f3af2028c49849361089fc7f36ff7c740\n",
            "  Stored in directory: /root/.cache/pip/wheels/bf/06/fb/d59c1e5bd1dac7f6cf61ec0036cc3a10ab8fecaa6b2c3d3ee9\n",
            "Successfully built sentence-transformers\n",
            "Installing collected packages: pyyaml, tokenizers, huggingface-hub, transformers, sentencepiece, sentence-transformers\n",
            "  Attempting uninstall: pyyaml\n",
            "    Found existing installation: PyYAML 3.13\n",
            "    Uninstalling PyYAML-3.13:\n",
            "      Successfully uninstalled PyYAML-3.13\n",
            "Successfully installed huggingface-hub-0.8.1 pyyaml-6.0 sentence-transformers-2.2.2 sentencepiece-0.1.96 tokenizers-0.12.1 transformers-4.21.0\n"
          ]
        },
        {
          "output_type": "display_data",
          "data": {
            "application/vnd.colab-display-data+json": {
              "pip_warning": {
                "packages": [
                  "yaml"
                ]
              }
            }
          },
          "metadata": {}
        },
        {
          "output_type": "stream",
          "name": "stdout",
          "text": [
            "Looking in indexes: https://pypi.org/simple, https://us-python.pkg.dev/colab-wheels/public/simple/\n",
            "Collecting wordninja\n",
            "  Downloading wordninja-2.0.0.tar.gz (541 kB)\n",
            "\u001b[K     |████████████████████████████████| 541 kB 5.0 MB/s \n",
            "\u001b[?25hBuilding wheels for collected packages: wordninja\n",
            "  Building wheel for wordninja (setup.py) ... \u001b[?25l\u001b[?25hdone\n",
            "  Created wheel for wordninja: filename=wordninja-2.0.0-py3-none-any.whl size=541551 sha256=095da78c9b2590b6ac69a157270230179b9edc097571205ac7b1c2ed7fbb20e0\n",
            "  Stored in directory: /root/.cache/pip/wheels/dd/3f/eb/a2692e3d2b9deb1487b09ba4967dd6920bd5032bfd9ff7acfc\n",
            "Successfully built wordninja\n",
            "Installing collected packages: wordninja\n",
            "Successfully installed wordninja-2.0.0\n"
          ]
        }
      ]
    },
    {
      "cell_type": "code",
      "source": [
        "!pip install gensim docx2txt\n",
        "from gensim.summarization.summarizer import summarize\n",
        "from gensim.summarization import keywords# Import the library\n",
        "# to convert MSword doc to txt for processing.\n",
        "import docx2txt\n",
        "!pip install textract PyPDF2\n",
        "import textract\n",
        "import PyPDF2\n",
        "!pip install jsonlines\n",
        "!pip install pyyaml==5.4.1"
      ],
      "metadata": {
        "colab": {
          "base_uri": "https://localhost:8080/",
          "height": 1000
        },
        "id": "WoB76e4bdTUT",
        "outputId": "606b37a7-a385-40c7-903c-b76d01826059"
      },
      "execution_count": 3,
      "outputs": [
        {
          "output_type": "stream",
          "name": "stdout",
          "text": [
            "Looking in indexes: https://pypi.org/simple, https://us-python.pkg.dev/colab-wheels/public/simple/\n",
            "Requirement already satisfied: gensim in /usr/local/lib/python3.7/dist-packages (3.6.0)\n",
            "Collecting docx2txt\n",
            "  Downloading docx2txt-0.8.tar.gz (2.8 kB)\n",
            "Requirement already satisfied: scipy>=0.18.1 in /usr/local/lib/python3.7/dist-packages (from gensim) (1.7.3)\n",
            "Requirement already satisfied: numpy>=1.11.3 in /usr/local/lib/python3.7/dist-packages (from gensim) (1.21.6)\n",
            "Requirement already satisfied: six>=1.5.0 in /usr/local/lib/python3.7/dist-packages (from gensim) (1.15.0)\n",
            "Requirement already satisfied: smart-open>=1.2.1 in /usr/local/lib/python3.7/dist-packages (from gensim) (5.2.1)\n",
            "Building wheels for collected packages: docx2txt\n",
            "  Building wheel for docx2txt (setup.py) ... \u001b[?25l\u001b[?25hdone\n",
            "  Created wheel for docx2txt: filename=docx2txt-0.8-py3-none-any.whl size=3980 sha256=375769f09e7670f9b8e15f5176188252a3eb1966f070450f3bb745e20af6b5c4\n",
            "  Stored in directory: /root/.cache/pip/wheels/b7/20/b2/473e3aea9a0c0d3e7b2f7bd81d06d0794fec12752733d1f3a8\n",
            "Successfully built docx2txt\n",
            "Installing collected packages: docx2txt\n",
            "Successfully installed docx2txt-0.8\n",
            "Looking in indexes: https://pypi.org/simple, https://us-python.pkg.dev/colab-wheels/public/simple/\n",
            "Collecting textract\n",
            "  Downloading textract-1.6.5-py3-none-any.whl (23 kB)\n",
            "Collecting PyPDF2\n",
            "  Downloading PyPDF2-2.9.0-py3-none-any.whl (207 kB)\n",
            "\u001b[K     |████████████████████████████████| 207 kB 6.9 MB/s \n",
            "\u001b[?25hCollecting extract-msg<=0.29.*\n",
            "  Downloading extract_msg-0.28.7-py2.py3-none-any.whl (69 kB)\n",
            "\u001b[K     |████████████████████████████████| 69 kB 7.1 MB/s \n",
            "\u001b[?25hCollecting xlrd~=1.2.0\n",
            "  Downloading xlrd-1.2.0-py2.py3-none-any.whl (103 kB)\n",
            "\u001b[K     |████████████████████████████████| 103 kB 86.5 MB/s \n",
            "\u001b[?25hCollecting SpeechRecognition~=3.8.1\n",
            "  Downloading SpeechRecognition-3.8.1-py2.py3-none-any.whl (32.8 MB)\n",
            "\u001b[K     |████████████████████████████████| 32.8 MB 1.2 MB/s \n",
            "\u001b[?25hCollecting pdfminer.six==20191110\n",
            "  Downloading pdfminer.six-20191110-py2.py3-none-any.whl (5.6 MB)\n",
            "\u001b[K     |████████████████████████████████| 5.6 MB 34.4 MB/s \n",
            "\u001b[?25hRequirement already satisfied: chardet==3.* in /usr/local/lib/python3.7/dist-packages (from textract) (3.0.4)\n",
            "Requirement already satisfied: docx2txt~=0.8 in /usr/local/lib/python3.7/dist-packages (from textract) (0.8)\n",
            "Collecting beautifulsoup4~=4.8.0\n",
            "  Downloading beautifulsoup4-4.8.2-py3-none-any.whl (106 kB)\n",
            "\u001b[K     |████████████████████████████████| 106 kB 91.1 MB/s \n",
            "\u001b[?25hCollecting six~=1.12.0\n",
            "  Downloading six-1.12.0-py2.py3-none-any.whl (10 kB)\n",
            "Collecting python-pptx~=0.6.18\n",
            "  Downloading python-pptx-0.6.21.tar.gz (10.1 MB)\n",
            "\u001b[K     |████████████████████████████████| 10.1 MB 73.4 MB/s \n",
            "\u001b[?25hCollecting argcomplete~=1.10.0\n",
            "  Downloading argcomplete-1.10.3-py2.py3-none-any.whl (36 kB)\n",
            "Requirement already satisfied: sortedcontainers in /usr/local/lib/python3.7/dist-packages (from pdfminer.six==20191110->textract) (2.4.0)\n",
            "Collecting pycryptodome\n",
            "  Downloading pycryptodome-3.15.0-cp35-abi3-manylinux2010_x86_64.whl (2.3 MB)\n",
            "\u001b[K     |████████████████████████████████| 2.3 MB 70.5 MB/s \n",
            "\u001b[?25hRequirement already satisfied: soupsieve>=1.2 in /usr/local/lib/python3.7/dist-packages (from beautifulsoup4~=4.8.0->textract) (2.3.2.post1)\n",
            "Collecting tzlocal>=2.1\n",
            "  Downloading tzlocal-4.2-py3-none-any.whl (19 kB)\n",
            "Collecting compressed-rtf>=1.0.6\n",
            "  Downloading compressed_rtf-1.0.6.tar.gz (5.8 kB)\n",
            "Collecting ebcdic>=1.1.1\n",
            "  Downloading ebcdic-1.1.1-py2.py3-none-any.whl (128 kB)\n",
            "\u001b[K     |████████████████████████████████| 128 kB 80.3 MB/s \n",
            "\u001b[?25hCollecting olefile>=0.46\n",
            "  Downloading olefile-0.46.zip (112 kB)\n",
            "\u001b[K     |████████████████████████████████| 112 kB 91.3 MB/s \n",
            "\u001b[?25hCollecting imapclient==2.1.0\n",
            "  Downloading IMAPClient-2.1.0-py2.py3-none-any.whl (73 kB)\n",
            "\u001b[K     |████████████████████████████████| 73 kB 2.5 MB/s \n",
            "\u001b[?25hRequirement already satisfied: lxml>=3.1.0 in /usr/local/lib/python3.7/dist-packages (from python-pptx~=0.6.18->textract) (4.9.1)\n",
            "Requirement already satisfied: Pillow>=3.3.2 in /usr/local/lib/python3.7/dist-packages (from python-pptx~=0.6.18->textract) (7.1.2)\n",
            "Collecting XlsxWriter>=0.5.7\n",
            "  Downloading XlsxWriter-3.0.3-py3-none-any.whl (149 kB)\n",
            "\u001b[K     |████████████████████████████████| 149 kB 86.3 MB/s \n",
            "\u001b[?25hCollecting pytz-deprecation-shim\n",
            "  Downloading pytz_deprecation_shim-0.1.0.post0-py2.py3-none-any.whl (15 kB)\n",
            "Collecting backports.zoneinfo\n",
            "  Downloading backports.zoneinfo-0.2.1-cp37-cp37m-manylinux1_x86_64.whl (70 kB)\n",
            "\u001b[K     |████████████████████████████████| 70 kB 9.5 MB/s \n",
            "\u001b[?25hRequirement already satisfied: typing-extensions in /usr/local/lib/python3.7/dist-packages (from PyPDF2) (4.1.1)\n",
            "Collecting tzdata\n",
            "  Downloading tzdata-2022.1-py2.py3-none-any.whl (339 kB)\n",
            "\u001b[K     |████████████████████████████████| 339 kB 54.4 MB/s \n",
            "\u001b[?25hBuilding wheels for collected packages: compressed-rtf, olefile, python-pptx\n",
            "  Building wheel for compressed-rtf (setup.py) ... \u001b[?25l\u001b[?25hdone\n",
            "  Created wheel for compressed-rtf: filename=compressed_rtf-1.0.6-py3-none-any.whl size=6204 sha256=ebe9d99e968cf6e1ed3b975d2b34ef5453b62baeaef005d03ea4e759be717f6c\n",
            "  Stored in directory: /root/.cache/pip/wheels/bb/33/88/88ceee84d1b74b391c086bc594d3fcf80800decfbd6e1ff565\n",
            "  Building wheel for olefile (setup.py) ... \u001b[?25l\u001b[?25hdone\n",
            "  Created wheel for olefile: filename=olefile-0.46-py2.py3-none-any.whl size=35432 sha256=566e5ba8a8317e4a1405ba78db32bd1573e8bd1925d2aa46eeb09693478c7be6\n",
            "  Stored in directory: /root/.cache/pip/wheels/84/53/e6/37d90ccb3ad1a3ca98d2b17107e9fda401a7c541ea1eb6a65a\n",
            "  Building wheel for python-pptx (setup.py) ... \u001b[?25l\u001b[?25hdone\n",
            "  Created wheel for python-pptx: filename=python_pptx-0.6.21-py3-none-any.whl size=470951 sha256=d90a6c7c2d5999ef6659f004a75f6574e9c7b5ab690b9b6e34e1a98cc1f0de2c\n",
            "  Stored in directory: /root/.cache/pip/wheels/a7/ab/f4/52560d0d4bd4055e9261c6df6e51c7b56c2b23cca3dee811a3\n",
            "Successfully built compressed-rtf olefile python-pptx\n",
            "Installing collected packages: tzdata, backports.zoneinfo, six, pytz-deprecation-shim, XlsxWriter, tzlocal, pycryptodome, olefile, imapclient, ebcdic, compressed-rtf, xlrd, SpeechRecognition, python-pptx, pdfminer.six, extract-msg, beautifulsoup4, argcomplete, textract, PyPDF2\n",
            "  Attempting uninstall: six\n",
            "    Found existing installation: six 1.15.0\n",
            "    Uninstalling six-1.15.0:\n",
            "      Successfully uninstalled six-1.15.0\n",
            "  Attempting uninstall: tzlocal\n",
            "    Found existing installation: tzlocal 1.5.1\n",
            "    Uninstalling tzlocal-1.5.1:\n",
            "      Successfully uninstalled tzlocal-1.5.1\n",
            "  Attempting uninstall: xlrd\n",
            "    Found existing installation: xlrd 1.1.0\n",
            "    Uninstalling xlrd-1.1.0:\n",
            "      Successfully uninstalled xlrd-1.1.0\n",
            "  Attempting uninstall: beautifulsoup4\n",
            "    Found existing installation: beautifulsoup4 4.6.3\n",
            "    Uninstalling beautifulsoup4-4.6.3:\n",
            "      Successfully uninstalled beautifulsoup4-4.6.3\n",
            "\u001b[31mERROR: pip's dependency resolver does not currently take into account all the packages that are installed. This behaviour is the source of the following dependency conflicts.\n",
            "kapre 0.3.7 requires librosa>=0.7.2, but you have librosa 0.6.0 which is incompatible.\n",
            "google-api-python-client 1.12.11 requires six<2dev,>=1.13.0, but you have six 1.12.0 which is incompatible.\n",
            "google-api-core 1.31.6 requires six>=1.13.0, but you have six 1.12.0 which is incompatible.\u001b[0m\n",
            "Successfully installed PyPDF2-2.9.0 SpeechRecognition-3.8.1 XlsxWriter-3.0.3 argcomplete-1.10.3 backports.zoneinfo-0.2.1 beautifulsoup4-4.8.2 compressed-rtf-1.0.6 ebcdic-1.1.1 extract-msg-0.28.7 imapclient-2.1.0 olefile-0.46 pdfminer.six-20191110 pycryptodome-3.15.0 python-pptx-0.6.21 pytz-deprecation-shim-0.1.0.post0 six-1.12.0 textract-1.6.5 tzdata-2022.1 tzlocal-4.2 xlrd-1.2.0\n"
          ]
        },
        {
          "output_type": "display_data",
          "data": {
            "application/vnd.colab-display-data+json": {
              "pip_warning": {
                "packages": [
                  "six"
                ]
              }
            }
          },
          "metadata": {}
        },
        {
          "output_type": "stream",
          "name": "stdout",
          "text": [
            "Looking in indexes: https://pypi.org/simple, https://us-python.pkg.dev/colab-wheels/public/simple/\n",
            "Collecting jsonlines\n",
            "  Downloading jsonlines-3.1.0-py3-none-any.whl (8.6 kB)\n",
            "Requirement already satisfied: attrs>=19.2.0 in /usr/local/lib/python3.7/dist-packages (from jsonlines) (22.1.0)\n",
            "Requirement already satisfied: typing-extensions in /usr/local/lib/python3.7/dist-packages (from jsonlines) (4.1.1)\n",
            "Installing collected packages: jsonlines\n",
            "Successfully installed jsonlines-3.1.0\n",
            "Looking in indexes: https://pypi.org/simple, https://us-python.pkg.dev/colab-wheels/public/simple/\n",
            "Collecting pyyaml==5.4.1\n",
            "  Downloading PyYAML-5.4.1-cp37-cp37m-manylinux1_x86_64.whl (636 kB)\n",
            "\u001b[K     |████████████████████████████████| 636 kB 5.0 MB/s \n",
            "\u001b[?25hInstalling collected packages: pyyaml\n",
            "  Attempting uninstall: pyyaml\n",
            "    Found existing installation: PyYAML 6.0\n",
            "    Uninstalling PyYAML-6.0:\n",
            "      Successfully uninstalled PyYAML-6.0\n",
            "Successfully installed pyyaml-5.4.1\n"
          ]
        },
        {
          "output_type": "display_data",
          "data": {
            "application/vnd.colab-display-data+json": {
              "pip_warning": {
                "packages": [
                  "yaml"
                ]
              }
            }
          },
          "metadata": {}
        }
      ]
    },
    {
      "cell_type": "code",
      "source": [
        "#spacy\n",
        "import spacy\n",
        "from spacy.pipeline import EntityRuler\n",
        "from spacy.lang.en import English\n",
        "from spacy.tokens import Doc\n",
        "\n",
        "#gensim\n",
        "import gensim\n",
        "from gensim import corpora\n",
        "\n",
        "#Visualization\n",
        "from spacy import displacy\n",
        "import pyLDAvis.gensim_models\n",
        "from wordcloud import WordCloud\n",
        "import plotly.express as px\n",
        "import matplotlib.pyplot as plt\n",
        "\n",
        "#Data loading/ Data manipulation\n",
        "import pandas as pd\n",
        "import numpy as np\n",
        "import jsonlines\n",
        "\n",
        "#nltk\n",
        "import re\n",
        "import nltk\n",
        "from nltk.corpus import stopwords\n",
        "from nltk.stem import WordNetLemmatizer\n",
        "nltk.download(['stopwords','wordnet'])\n",
        "\n",
        "#warning\n",
        "import warnings \n",
        "warnings.filterwarnings('ignore')"
      ],
      "metadata": {
        "colab": {
          "base_uri": "https://localhost:8080/"
        },
        "id": "X4HuUHubThdU",
        "outputId": "3beb8931-04ae-4b67-be8f-4046c96af947"
      },
      "execution_count": 4,
      "outputs": [
        {
          "output_type": "stream",
          "name": "stderr",
          "text": [
            "/usr/local/lib/python3.7/dist-packages/past/types/oldstr.py:5: DeprecationWarning: Using or importing the ABCs from 'collections' instead of from 'collections.abc' is deprecated since Python 3.3,and in 3.9 it will stop working\n",
            "  from collections import Iterable\n",
            "/usr/local/lib/python3.7/dist-packages/yaml/constructor.py:126: DeprecationWarning: Using or importing the ABCs from 'collections' instead of from 'collections.abc' is deprecated since Python 3.3,and in 3.9 it will stop working\n",
            "  raise ConstructorError(None, None,\n",
            "/usr/local/lib/python3.7/dist-packages/dask/array/numpy_compat.py:21: DeprecationWarning: `np.float` is a deprecated alias for the builtin `float`. To silence this warning, use `float` by itself. Doing this will not modify any behavior and is safe. If you specifically wanted the numpy scalar type, use `np.float64` here.\n",
            "Deprecated in NumPy 1.20; for more details and guidance: https://numpy.org/devdocs/release/1.20.0-notes.html#deprecations\n",
            "  np.divide(0.4, 1, casting=\"unsafe\", dtype=np.float),\n",
            "[nltk_data] Downloading package stopwords to /root/nltk_data...\n",
            "[nltk_data]   Unzipping corpora/stopwords.zip.\n",
            "[nltk_data] Downloading package wordnet to /root/nltk_data...\n"
          ]
        }
      ]
    },
    {
      "cell_type": "code",
      "source": [
        "!wget https://raw.githubusercontent.com/pandmi/jobzilla_ai/main/jz_skill_patterns.jsonl"
      ],
      "metadata": {
        "colab": {
          "base_uri": "https://localhost:8080/"
        },
        "id": "UNyTVJjig284",
        "outputId": "579ee731-9c9a-4994-ec5b-2ac7ee8d8b8b"
      },
      "execution_count": 5,
      "outputs": [
        {
          "output_type": "stream",
          "name": "stdout",
          "text": [
            "--2022-08-03 18:02:54--  https://raw.githubusercontent.com/pandmi/jobzilla_ai/main/jz_skill_patterns.jsonl\n",
            "Resolving raw.githubusercontent.com (raw.githubusercontent.com)... 185.199.110.133, 185.199.109.133, 185.199.108.133, ...\n",
            "Connecting to raw.githubusercontent.com (raw.githubusercontent.com)|185.199.110.133|:443... connected.\n",
            "HTTP request sent, awaiting response... 200 OK\n",
            "Length: 143937 (141K) [text/plain]\n",
            "Saving to: ‘jz_skill_patterns.jsonl’\n",
            "\n",
            "\rjz_skill_patterns.j   0%[                    ]       0  --.-KB/s               \rjz_skill_patterns.j 100%[===================>] 140.56K  --.-KB/s    in 0.02s   \n",
            "\n",
            "2022-08-03 18:02:55 (6.22 MB/s) - ‘jz_skill_patterns.jsonl’ saved [143937/143937]\n",
            "\n"
          ]
        }
      ]
    },
    {
      "cell_type": "code",
      "source": [
        "import en_core_web_sm\n",
        "nlp = spacy.load(\"en_core_web_sm\")\n",
        "skill_pattern_path = \"/content/jz_skill_patterns.jsonl\"\n",
        "ruler = nlp.add_pipe(\"entity_ruler\")\n",
        "ruler.from_disk(skill_pattern_path)\n",
        "nlp.pipe_names"
      ],
      "metadata": {
        "colab": {
          "base_uri": "https://localhost:8080/"
        },
        "id": "LwIYVUKBXlfb",
        "outputId": "198eff68-7ada-49ca-8a92-8f16a94a13f7"
      },
      "execution_count": 6,
      "outputs": [
        {
          "output_type": "execute_result",
          "data": {
            "text/plain": [
              "['tok2vec',\n",
              " 'tagger',\n",
              " 'parser',\n",
              " 'attribute_ruler',\n",
              " 'lemmatizer',\n",
              " 'ner',\n",
              " 'entity_ruler']"
            ]
          },
          "metadata": {},
          "execution_count": 6
        }
      ]
    },
    {
      "cell_type": "markdown",
      "source": [
        "## Input"
      ],
      "metadata": {
        "id": "LTbNizqpXo9c"
      }
    },
    {
      "cell_type": "code",
      "source": [
        "import os\n",
        "os.environ['GOOGLE_CLOUD_PROJECT']=\"august-cirrus-306813\""
      ],
      "metadata": {
        "id": "293YbvFlLZVb"
      },
      "execution_count": 7,
      "outputs": []
    },
    {
      "cell_type": "code",
      "execution_count": 8,
      "metadata": {
        "id": "MRXDBOwLe_S2"
      },
      "outputs": [],
      "source": [
        "from google.colab import auth\n",
        "import gspread\n",
        "from google.auth import default\n",
        "#autenticating to google\n",
        "auth.authenticate_user()\n",
        "creds, _ = default()\n",
        "gc = gspread.authorize(creds)"
      ]
    },
    {
      "cell_type": "code",
      "source": [
        "import pandas as pd\n",
        "#defining my worksheet\n",
        "worksheet = gc.open('Outsourcing Tracker').sheet1\n",
        "#get_all_values gives a list of rows\n",
        "rows = worksheet.get_all_values()\n",
        "#Convert to a DataFrame \n",
        "df = pd.DataFrame(rows)\n",
        "df.columns = df.iloc[0]\n",
        "df = df.iloc[1:]\n",
        "df.head()"
      ],
      "metadata": {
        "colab": {
          "base_uri": "https://localhost:8080/",
          "height": 583
        },
        "id": "xM6Jdl8UqvGn",
        "outputId": "9a7df7a6-c7cd-461d-cc47-512beefa2c4e"
      },
      "execution_count": 9,
      "outputs": [
        {
          "output_type": "execute_result",
          "data": {
            "text/plain": [
              "0 Interaction_ID Candidate_ID Test_ID      Track Interaction_Mode  \\\n",
              "1          67897          686    8890  New Grad             Audio   \n",
              "2                                                                   \n",
              "3                                                                   \n",
              "4                                                                   \n",
              "5                                                                   \n",
              "\n",
              "0                                        Description Question_ID  \\\n",
              "1  Web css html java python tailwind django web d...           1   \n",
              "2                                                              2   \n",
              "3                                                              3   \n",
              "4                                                              4   \n",
              "5                                                              5   \n",
              "\n",
              "0                                           Question Answer_Format  \\\n",
              "1                            Tell me about yourself?         Video   \n",
              "2  How would you rate yourself on a scale of 1 to...         Video   \n",
              "3  What are your greatest strengths and weaknesse...         Video   \n",
              "4                             What makes you unique?         Video   \n",
              "5                      Why do you want to work here?         Video   \n",
              "\n",
              "0 Base_Scoring  Content_Scoring  \\\n",
              "1           Yes             Yes   \n",
              "2           Yes             Yes   \n",
              "3           Yes              No   \n",
              "4           Yes              No   \n",
              "5           Yes              No   \n",
              "\n",
              "0                                           Response  \\\n",
              "1  https://drive.google.com/file/d/1MC-mZll6SVt5e...   \n",
              "2  https://drive.google.com/file/d/1ME4pnmzhhVZyC...   \n",
              "3  https://drive.google.com/file/d/1MEMk1pq3SoSYK...   \n",
              "4  https://drive.google.com/file/d/1MHiJtZhHhaFg8...   \n",
              "5  https://drive.google.com/file/d/1MMl2PShXqn7ZQ...   \n",
              "\n",
              "0                                       Ideal_answer  \n",
              "1  I am a determined, hard-working, passionate an...  \n",
              "2  I would like to rate myself an 8. 8 because I ...  \n",
              "3  I think one of my greatest strengths is that I...  \n",
              "4  What makes me unique is my ability to meet and...  \n",
              "5  The company’s mission to help college grads pa...  "
            ],
            "text/html": [
              "\n",
              "  <div id=\"df-ff69e6f8-8dd9-4963-b2e5-b03955950c34\">\n",
              "    <div class=\"colab-df-container\">\n",
              "      <div>\n",
              "<style scoped>\n",
              "    .dataframe tbody tr th:only-of-type {\n",
              "        vertical-align: middle;\n",
              "    }\n",
              "\n",
              "    .dataframe tbody tr th {\n",
              "        vertical-align: top;\n",
              "    }\n",
              "\n",
              "    .dataframe thead th {\n",
              "        text-align: right;\n",
              "    }\n",
              "</style>\n",
              "<table border=\"1\" class=\"dataframe\">\n",
              "  <thead>\n",
              "    <tr style=\"text-align: right;\">\n",
              "      <th></th>\n",
              "      <th>Interaction_ID</th>\n",
              "      <th>Candidate_ID</th>\n",
              "      <th>Test_ID</th>\n",
              "      <th>Track</th>\n",
              "      <th>Interaction_Mode</th>\n",
              "      <th>Description</th>\n",
              "      <th>Question_ID</th>\n",
              "      <th>Question</th>\n",
              "      <th>Answer_Format</th>\n",
              "      <th>Base_Scoring</th>\n",
              "      <th>Content_Scoring</th>\n",
              "      <th>Response</th>\n",
              "      <th>Ideal_answer</th>\n",
              "    </tr>\n",
              "  </thead>\n",
              "  <tbody>\n",
              "    <tr>\n",
              "      <th>1</th>\n",
              "      <td>67897</td>\n",
              "      <td>686</td>\n",
              "      <td>8890</td>\n",
              "      <td>New Grad</td>\n",
              "      <td>Audio</td>\n",
              "      <td>Web css html java python tailwind django web d...</td>\n",
              "      <td>1</td>\n",
              "      <td>Tell me about yourself?</td>\n",
              "      <td>Video</td>\n",
              "      <td>Yes</td>\n",
              "      <td>Yes</td>\n",
              "      <td>https://drive.google.com/file/d/1MC-mZll6SVt5e...</td>\n",
              "      <td>I am a determined, hard-working, passionate an...</td>\n",
              "    </tr>\n",
              "    <tr>\n",
              "      <th>2</th>\n",
              "      <td></td>\n",
              "      <td></td>\n",
              "      <td></td>\n",
              "      <td></td>\n",
              "      <td></td>\n",
              "      <td></td>\n",
              "      <td>2</td>\n",
              "      <td>How would you rate yourself on a scale of 1 to...</td>\n",
              "      <td>Video</td>\n",
              "      <td>Yes</td>\n",
              "      <td>Yes</td>\n",
              "      <td>https://drive.google.com/file/d/1ME4pnmzhhVZyC...</td>\n",
              "      <td>I would like to rate myself an 8. 8 because I ...</td>\n",
              "    </tr>\n",
              "    <tr>\n",
              "      <th>3</th>\n",
              "      <td></td>\n",
              "      <td></td>\n",
              "      <td></td>\n",
              "      <td></td>\n",
              "      <td></td>\n",
              "      <td></td>\n",
              "      <td>3</td>\n",
              "      <td>What are your greatest strengths and weaknesse...</td>\n",
              "      <td>Video</td>\n",
              "      <td>Yes</td>\n",
              "      <td>No</td>\n",
              "      <td>https://drive.google.com/file/d/1MEMk1pq3SoSYK...</td>\n",
              "      <td>I think one of my greatest strengths is that I...</td>\n",
              "    </tr>\n",
              "    <tr>\n",
              "      <th>4</th>\n",
              "      <td></td>\n",
              "      <td></td>\n",
              "      <td></td>\n",
              "      <td></td>\n",
              "      <td></td>\n",
              "      <td></td>\n",
              "      <td>4</td>\n",
              "      <td>What makes you unique?</td>\n",
              "      <td>Video</td>\n",
              "      <td>Yes</td>\n",
              "      <td>No</td>\n",
              "      <td>https://drive.google.com/file/d/1MHiJtZhHhaFg8...</td>\n",
              "      <td>What makes me unique is my ability to meet and...</td>\n",
              "    </tr>\n",
              "    <tr>\n",
              "      <th>5</th>\n",
              "      <td></td>\n",
              "      <td></td>\n",
              "      <td></td>\n",
              "      <td></td>\n",
              "      <td></td>\n",
              "      <td></td>\n",
              "      <td>5</td>\n",
              "      <td>Why do you want to work here?</td>\n",
              "      <td>Video</td>\n",
              "      <td>Yes</td>\n",
              "      <td>No</td>\n",
              "      <td>https://drive.google.com/file/d/1MMl2PShXqn7ZQ...</td>\n",
              "      <td>The company’s mission to help college grads pa...</td>\n",
              "    </tr>\n",
              "  </tbody>\n",
              "</table>\n",
              "</div>\n",
              "      <button class=\"colab-df-convert\" onclick=\"convertToInteractive('df-ff69e6f8-8dd9-4963-b2e5-b03955950c34')\"\n",
              "              title=\"Convert this dataframe to an interactive table.\"\n",
              "              style=\"display:none;\">\n",
              "        \n",
              "  <svg xmlns=\"http://www.w3.org/2000/svg\" height=\"24px\"viewBox=\"0 0 24 24\"\n",
              "       width=\"24px\">\n",
              "    <path d=\"M0 0h24v24H0V0z\" fill=\"none\"/>\n",
              "    <path d=\"M18.56 5.44l.94 2.06.94-2.06 2.06-.94-2.06-.94-.94-2.06-.94 2.06-2.06.94zm-11 1L8.5 8.5l.94-2.06 2.06-.94-2.06-.94L8.5 2.5l-.94 2.06-2.06.94zm10 10l.94 2.06.94-2.06 2.06-.94-2.06-.94-.94-2.06-.94 2.06-2.06.94z\"/><path d=\"M17.41 7.96l-1.37-1.37c-.4-.4-.92-.59-1.43-.59-.52 0-1.04.2-1.43.59L10.3 9.45l-7.72 7.72c-.78.78-.78 2.05 0 2.83L4 21.41c.39.39.9.59 1.41.59.51 0 1.02-.2 1.41-.59l7.78-7.78 2.81-2.81c.8-.78.8-2.07 0-2.86zM5.41 20L4 18.59l7.72-7.72 1.47 1.35L5.41 20z\"/>\n",
              "  </svg>\n",
              "      </button>\n",
              "      \n",
              "  <style>\n",
              "    .colab-df-container {\n",
              "      display:flex;\n",
              "      flex-wrap:wrap;\n",
              "      gap: 12px;\n",
              "    }\n",
              "\n",
              "    .colab-df-convert {\n",
              "      background-color: #E8F0FE;\n",
              "      border: none;\n",
              "      border-radius: 50%;\n",
              "      cursor: pointer;\n",
              "      display: none;\n",
              "      fill: #1967D2;\n",
              "      height: 32px;\n",
              "      padding: 0 0 0 0;\n",
              "      width: 32px;\n",
              "    }\n",
              "\n",
              "    .colab-df-convert:hover {\n",
              "      background-color: #E2EBFA;\n",
              "      box-shadow: 0px 1px 2px rgba(60, 64, 67, 0.3), 0px 1px 3px 1px rgba(60, 64, 67, 0.15);\n",
              "      fill: #174EA6;\n",
              "    }\n",
              "\n",
              "    [theme=dark] .colab-df-convert {\n",
              "      background-color: #3B4455;\n",
              "      fill: #D2E3FC;\n",
              "    }\n",
              "\n",
              "    [theme=dark] .colab-df-convert:hover {\n",
              "      background-color: #434B5C;\n",
              "      box-shadow: 0px 1px 3px 1px rgba(0, 0, 0, 0.15);\n",
              "      filter: drop-shadow(0px 1px 2px rgba(0, 0, 0, 0.3));\n",
              "      fill: #FFFFFF;\n",
              "    }\n",
              "  </style>\n",
              "\n",
              "      <script>\n",
              "        const buttonEl =\n",
              "          document.querySelector('#df-ff69e6f8-8dd9-4963-b2e5-b03955950c34 button.colab-df-convert');\n",
              "        buttonEl.style.display =\n",
              "          google.colab.kernel.accessAllowed ? 'block' : 'none';\n",
              "\n",
              "        async function convertToInteractive(key) {\n",
              "          const element = document.querySelector('#df-ff69e6f8-8dd9-4963-b2e5-b03955950c34');\n",
              "          const dataTable =\n",
              "            await google.colab.kernel.invokeFunction('convertToInteractive',\n",
              "                                                     [key], {});\n",
              "          if (!dataTable) return;\n",
              "\n",
              "          const docLinkHtml = 'Like what you see? Visit the ' +\n",
              "            '<a target=\"_blank\" href=https://colab.research.google.com/notebooks/data_table.ipynb>data table notebook</a>'\n",
              "            + ' to learn more about interactive tables.';\n",
              "          element.innerHTML = '';\n",
              "          dataTable['output_type'] = 'display_data';\n",
              "          await google.colab.output.renderOutput(dataTable, element);\n",
              "          const docLink = document.createElement('div');\n",
              "          docLink.innerHTML = docLinkHtml;\n",
              "          element.appendChild(docLink);\n",
              "        }\n",
              "      </script>\n",
              "    </div>\n",
              "  </div>\n",
              "  "
            ]
          },
          "metadata": {},
          "execution_count": 9
        }
      ]
    },
    {
      "cell_type": "code",
      "source": [
        "for i in range(7):\n",
        "  dir= \"question_answers\"+str(i+1)\n",
        "  %mkdir $dir\n",
        "  %cd $dir\n",
        "  file_id=df.iloc[i]['Response'].split(\"/\")[-2]\n",
        "  !gdown $file_id\n",
        "  %cd ../ "
      ],
      "metadata": {
        "colab": {
          "base_uri": "https://localhost:8080/"
        },
        "id": "ucScprmZzMq7",
        "outputId": "a145c7f7-aaf2-4eb7-c09c-9cb711ca7697"
      },
      "execution_count": 10,
      "outputs": [
        {
          "output_type": "stream",
          "name": "stdout",
          "text": [
            "/content/question_answers1\n",
            "Downloading...\n",
            "From: https://drive.google.com/uc?id=1MC-mZll6SVt5ekun8ncjkH2GymlbYf8y\n",
            "To: /content/question_answers1/VID_20220726_130803(0).mp4\n",
            "100% 125M/125M [00:03<00:00, 37.8MB/s]\n",
            "/content\n",
            "/content/question_answers2\n",
            "Downloading...\n",
            "From: https://drive.google.com/uc?id=1ME4pnmzhhVZyCFcBaDXaeUmWlF4ehKRy\n",
            "To: /content/question_answers2/VID_20220726_131310.mp4\n",
            "100% 59.6M/59.6M [00:00<00:00, 72.0MB/s]\n",
            "/content\n",
            "/content/question_answers3\n",
            "Downloading...\n",
            "From: https://drive.google.com/uc?id=1MEMk1pq3SoSYKYITIYJ7EHmyRwp4ZTbE\n",
            "To: /content/question_answers3/VID_20220726_131411.mp4\n",
            "100% 113M/113M [00:01<00:00, 83.4MB/s]\n",
            "/content\n",
            "/content/question_answers4\n",
            "Downloading...\n",
            "From: https://drive.google.com/uc?id=1MHiJtZhHhaFg8vxXXrkcuO66jpUxfnE7\n",
            "To: /content/question_answers4/VID_20220726_131753.mp4\n",
            "100% 67.4M/67.4M [00:00<00:00, 92.8MB/s]\n",
            "/content\n",
            "/content/question_answers5\n",
            "Downloading...\n",
            "From: https://drive.google.com/uc?id=1MMl2PShXqn7ZQtWVE5oAN8pxfjWfMWTE\n",
            "To: /content/question_answers5/VID_20220726_132525.mp4\n",
            "100% 93.4M/93.4M [00:00<00:00, 102MB/s] \n",
            "/content\n",
            "/content/question_answers6\n",
            "Downloading...\n",
            "From: https://drive.google.com/uc?id=1MMl2PShXqn7ZQtWVE5oAN8pxfjWfMWTE\n",
            "To: /content/question_answers6/VID_20220726_132525.mp4\n",
            "100% 93.4M/93.4M [00:01<00:00, 89.9MB/s]\n",
            "/content\n",
            "/content/question_answers7\n",
            "Downloading...\n",
            "From: https://drive.google.com/uc?id=18g1qvb_SPb2270ChyyVr7tzXP5TizjmD\n",
            "To: /content/question_answers7/RESUME.pdf\n",
            "100% 43.3k/43.3k [00:00<00:00, 56.7MB/s]\n",
            "/content\n"
          ]
        }
      ]
    },
    {
      "cell_type": "markdown",
      "source": [
        "## Calculations:"
      ],
      "metadata": {
        "id": "7Qs2YVL4ZrN9"
      }
    },
    {
      "cell_type": "code",
      "source": [
        "#ideal answers\n",
        "ideal={}\n",
        "for i in range(len(df['Ideal_answer'])-1):\n",
        "  ideal[i+1]=df.iloc[i]['Ideal_answer']"
      ],
      "metadata": {
        "id": "5ynFaH_7SBQz"
      },
      "execution_count": 11,
      "outputs": []
    },
    {
      "cell_type": "code",
      "source": [
        "ideal"
      ],
      "metadata": {
        "colab": {
          "base_uri": "https://localhost:8080/"
        },
        "id": "n_KoUKLNW4nK",
        "outputId": "b02f2c7b-ca4d-4f65-ac7d-a97f739048be"
      },
      "execution_count": 12,
      "outputs": [
        {
          "output_type": "execute_result",
          "data": {
            "text/plain": [
              "{1: 'I am a determined, hard-working, passionate and enthusiastic person who has ambitious plans for the future. Over the years I have built up a track record for being a self-starter, a highly motivated person and someone who is supportive of others when they need my help or assistance. I am a patient person who understands you only get what you want in life if you are prepared to work hard at it, if you listen to others’ experience and knowledge, and if you apply yourself fully in everything you do. I am respectful, disciplined and a good team worker and I understand there are many applicants all willing for this place but I can assure you I will do the best to benefit the company.',\n",
              " 2: 'I would like to rate myself an 8. 8 because I know that I am not perfect and there is always a scope for learning and improvement. Continuous learning is the most fundamental part of personal and professional growth.\\n',\n",
              " 3: 'I think one of my greatest strengths is that I am a great team player. I am also a self-motivated and quick learning individual. Whatever task that I set to do, I always give my best and complete it diligently well in advance. My weakness would be that I am learning to master people skills while meeting new individuals. I get nervous while talking to new people. I have been working on this for quite a long time and I can say with utmost confidence that I have come a long way.\\n',\n",
              " 4: 'What makes me unique is my ability to meet and exceed deadlines. In my previous role as an intern, my manager consistently praised me for completing my projects efficiently with a high level of quality. This allowed me to take on additional responsibilities and eventually led to a promotion',\n",
              " 5: 'The company’s mission to help college grads pay off their student loan debt resonates with me. I’ve been in student loan debt myself and would love the opportunity to work with a company that’s making a difference. Finding a company with a positive work environment and values that align with my own has remained a priority throughout my job search and this company ranks at the top of the list.',\n",
              " 6: 'Yes. It is quite essential to measure your performance and gain perspective of how effective your work procedure and working strategies are. Informally, it could be done by taking verbal feedback from your co-workers, subordinates and managers. A formal procedure for this would be 360-degree feedback to understand your working strategies and their effectiveness. Additionally, a performance appraisal should also be performed.'}"
            ]
          },
          "metadata": {},
          "execution_count": 12
        }
      ]
    },
    {
      "cell_type": "code",
      "source": [
        "#content_scoring flag\n",
        "flag=df['Content_Scoring']\n",
        "dat_format=df['Answer_Format']\n",
        "base_flag=df['Base_Scoring ']\n",
        "id={}\n",
        "labels=['Interaction_ID','Candidate_ID','Test_ID']\n",
        "for i in labels:\n",
        "  id[i]=df.iloc[0][i]"
      ],
      "metadata": {
        "id": "d7U-z2mYYJl9"
      },
      "execution_count": 13,
      "outputs": []
    },
    {
      "cell_type": "code",
      "source": [
        "flag"
      ],
      "metadata": {
        "colab": {
          "base_uri": "https://localhost:8080/"
        },
        "id": "5uFEPENg3P5Y",
        "outputId": "fef16f75-36aa-4b2f-9938-9be7113a5faf"
      },
      "execution_count": 14,
      "outputs": [
        {
          "output_type": "execute_result",
          "data": {
            "text/plain": [
              "1    Yes\n",
              "2    Yes\n",
              "3     No\n",
              "4     No\n",
              "5     No\n",
              "6     No\n",
              "7    Yes\n",
              "Name: Content_Scoring, dtype: object"
            ]
          },
          "metadata": {},
          "execution_count": 14
        }
      ]
    },
    {
      "cell_type": "code",
      "source": [
        "def extract_text_from_pdf(file):\n",
        "    '''Opens and reads in a PDF file from path'''\n",
        "    \n",
        "    pdfFileObj = open(file, 'rb')\n",
        "      \n",
        "    # creating a pdf reader object\n",
        "    pdfReader = PyPDF2.PdfFileReader(pdfFileObj)\n",
        "      \n",
        "    # printing number of pages in pdf file\n",
        "    page_count = pdfReader.getNumPages()\n",
        "      \n",
        "    # creating a page object\n",
        "    pageObj = pdfReader.getPage(0)\n",
        "      \n",
        "    # extracting text from page\n",
        "    text = [pdfReader.getPage(i).extractText() for i in range(page_count)]\n",
        "      \n",
        "    # closing the pdf file object\n",
        "    pdfFileObj.close()\n",
        "    \n",
        "    \n",
        "    \n",
        "    return str(text).replace(\"\\\\n\", \"\")"
      ],
      "metadata": {
        "id": "PsPo7sr_d0TA"
      },
      "execution_count": 15,
      "outputs": []
    },
    {
      "cell_type": "code",
      "source": [
        "import en_core_web_sm\n",
        "\n",
        "# Load pre-trained English language model\n",
        "#nlp = en_core_web_sm.load()\n",
        "\n",
        "def create_tokenized_texts_list():\n",
        "    '''Create two lists, one with the names of the candidate and one with the tokenized \n",
        "       resume texts extracted from either a .pdf or .doc'''\n",
        "    resume_texts= ''\n",
        "    \n",
        "    # Loop over the contents of the directory containing the resumes, filtering by .pdf or .doc(x)\n",
        "    resume=os.listdir('/content/question_answers7/')[0]\n",
        "\n",
        "    # Read in every resume with pdf extension in the directory\n",
        "    resume_texts=(extract_text_from_pdf('/content/question_answers7/' + resume))\n",
        "    \n",
        "        \n",
        "    return resume_texts, resume\n"
      ],
      "metadata": {
        "id": "c-iFjhFOeC-0"
      },
      "execution_count": 16,
      "outputs": []
    },
    {
      "cell_type": "code",
      "source": [
        "def get_skills(text):\n",
        "    doc = nlp(text)\n",
        "    myset = []\n",
        "    subset = []\n",
        "    for ent in doc.ents:\n",
        "        if ent.label_ == \"SKILL\":\n",
        "            subset.append(ent.text)\n",
        "    myset.append(subset)\n",
        "    return subset\n",
        "\n",
        "\n",
        "def unique_skills(x):\n",
        "    return list(set(x))"
      ],
      "metadata": {
        "id": "41buMeRzgXLN"
      },
      "execution_count": 17,
      "outputs": []
    },
    {
      "cell_type": "code",
      "source": [
        "import nltk\n",
        "import wordninja\n",
        "nltk.download('omw-1.4')\n",
        "def clean_resume():\n",
        "  texts,names=create_tokenized_texts_list()\n",
        "  texts=' '.join(texts.split(\"\\\\uf\"))\n",
        "  clean = []\n",
        "\n",
        "  review = re.sub(\n",
        "      '(@[A-Za-z0-9]+)|([^0-9A-Za-z \\t])|(\\w+:\\/\\/\\S+)|^rt|http.+?\"',\n",
        "      \" \",\n",
        "      texts,\n",
        "  )\n",
        "  review = review.lower()\n",
        "  review = review.split()\n",
        "  lm = WordNetLemmatizer()\n",
        "  review = [\n",
        "      lm.lemmatize(word)\n",
        "      for word in review\n",
        "      if not word in set(stopwords.words(\"english\"))\n",
        "  ]\n",
        "  review = \" \".join(review)\n",
        "  clean=' '.join(wordninja.split(review))\n",
        "  return clean"
      ],
      "metadata": {
        "colab": {
          "base_uri": "https://localhost:8080/"
        },
        "id": "jRh5TJoG1edF",
        "outputId": "e64f6ae0-ec4a-4173-ad10-a9ffa6dd017c"
      },
      "execution_count": 18,
      "outputs": [
        {
          "output_type": "stream",
          "name": "stderr",
          "text": [
            "[nltk_data] Downloading package omw-1.4 to /root/nltk_data...\n"
          ]
        }
      ]
    },
    {
      "cell_type": "code",
      "source": [
        "from fuzzywuzzy import fuzz\n",
        "from sklearn.feature_extraction.text import CountVectorizer\n",
        "from sklearn.metrics.pairwise import cosine_similarity\n",
        "# get the match percentage\n",
        "def resume_score():\n",
        "  cleaned_resume=clean_resume()\n",
        "  job_skills=df.iloc[0]['Description']\n",
        "  text_list = [cleaned_resume,job_skills]\n",
        "  cv = CountVectorizer()\n",
        "  count_matrix = cv.fit_transform(text_list)\n",
        "  matchPercentage = cosine_similarity(count_matrix)[0][1] * 100\n",
        "  matchPercentage = round(matchPercentage, 2)\n",
        "  mp2=round(((fuzz.token_sort_ratio(cleaned_resume.lower(),job_skills.lower()))/len(job_skills.split(\" \")))*100)\n",
        "\n",
        "\n",
        "  return mp2 if mp2>matchPercentage else matchPercentage\n"
      ],
      "metadata": {
        "id": "D3IrSQ2uhiZ0"
      },
      "execution_count": 19,
      "outputs": []
    },
    {
      "cell_type": "code",
      "source": [
        "resume_sc=resume_score()\n",
        "resume_sc"
      ],
      "metadata": {
        "colab": {
          "base_uri": "https://localhost:8080/"
        },
        "id": "qli_kNRQ2TJb",
        "outputId": "7f698821-4f55-479e-cee7-a8cad6021296"
      },
      "execution_count": 20,
      "outputs": [
        {
          "output_type": "execute_result",
          "data": {
            "text/plain": [
              "42"
            ]
          },
          "metadata": {},
          "execution_count": 20
        }
      ]
    },
    {
      "cell_type": "code",
      "source": [
        "def startConvertion(path = 'sample.wav',lang = 'en-IN'):\n",
        "    with sr.AudioFile(path) as source:\n",
        "        r = sr.Recognizer()\n",
        "        print('Fetching File')\n",
        "        audio_text = r.listen(source,timeout=6000, phrase_time_limit=6000)\n",
        "        # recoginize_() method will throw a request error if the API is unreachable, hence using exception handling\n",
        "        try:\n",
        "        \n",
        "            # using google speech recognition\n",
        "            print('Converting audio transcripts into text ...')\n",
        "            text = r.recognize_google(audio_text)\n",
        "            print(text)\n",
        "            return text\n",
        "    \n",
        "        except:\n",
        "            print('Sorry.. run again...')"
      ],
      "metadata": {
        "id": "wWarLstxZ3Xk"
      },
      "execution_count": 21,
      "outputs": []
    },
    {
      "cell_type": "code",
      "source": [
        "import numpy as np # linear algebra\n",
        "import pandas as pd\n",
        "import wave, math, contextlib\n",
        "import speech_recognition as sr\n",
        "#import imageio-ffmpeg\n",
        "from moviepy.editor import AudioFileClip\n",
        "\n",
        "#returns pace,duration,text,filenames\n",
        "def audio_read(path):\n",
        "  net_text=[]\n",
        "  net_word_count=[]\n",
        "  net_total_duration=[]\n",
        "  net_transcribed_audio_file_name=[]\n",
        "  for i in range(len(df['Response'])-1):\n",
        "    transcribed_audio_file_name = \"transcribed_speech\"+str(i+1)+\".wav\"\n",
        "    zoom_video_file_name = path[i]\n",
        "    audioclip = AudioFileClip(zoom_video_file_name)\n",
        "    audioclip.write_audiofile(transcribed_audio_file_name)\n",
        "    with contextlib.closing(wave.open(transcribed_audio_file_name,'r')) as f:\n",
        "        frames = f.getnframes()\n",
        "        rate = f.getframerate()\n",
        "        duration = frames / float(rate)\n",
        "    total_duration = math.ceil(duration / 60)\n",
        "    r = sr.Recognizer()\n",
        "    with open('transcription.txt', 'w') as f:\n",
        "      print(f.write(startConvertion(transcribed_audio_file_name)))\n",
        "    with open('transcription.txt', 'r') as f:\n",
        "      text=f.read()\n",
        "    word_count_tex=len(text.split(\" \"))/(total_duration/2);\n",
        "    #print(\"Words per minute are:\",word_count_tex)\n",
        "    net_text.append(text)\n",
        "    net_word_count.append(word_count_tex)\n",
        "    net_total_duration.append(total_duration)\n",
        "    net_transcribed_audio_file_name.append(transcribed_audio_file_name)\n",
        "  return net_text,net_word_count,net_total_duration,net_transcribed_audio_file_name"
      ],
      "metadata": {
        "id": "mBWCbHz-Q2Rx",
        "colab": {
          "base_uri": "https://localhost:8080/"
        },
        "outputId": "0bad67ab-51d9-4c21-d192-d4cdb4e372b6"
      },
      "execution_count": 22,
      "outputs": [
        {
          "output_type": "stream",
          "name": "stdout",
          "text": [
            "Imageio: 'ffmpeg-linux64-v3.3.1' was not found on your computer; downloading it now.\n",
            "Try 1. Download from https://github.com/imageio/imageio-binaries/raw/master/ffmpeg/ffmpeg-linux64-v3.3.1 (43.8 MB)\n",
            "Downloading: 8192/45929032 bytes (0.0%)\b\b\b\b\b\b\b\b\b\b\b\b\b\b\b\b\b\b\b\b\b\b\b\b\b\b3137536/45929032 bytes (6.8%)\b\b\b\b\b\b\b\b\b\b\b\b\b\b\b\b\b\b\b\b\b\b\b\b\b\b\b\b\b7438336/45929032 bytes (16.2%)\b\b\b\b\b\b\b\b\b\b\b\b\b\b\b\b\b\b\b\b\b\b\b\b\b\b\b\b\b\b11763712/45929032 bytes (25.6%)\b\b\b\b\b\b\b\b\b\b\b\b\b\b\b\b\b\b\b\b\b\b\b\b\b\b\b\b\b\b\b16031744/45929032 bytes (34.9%)\b\b\b\b\b\b\b\b\b\b\b\b\b\b\b\b\b\b\b\b\b\b\b\b\b\b\b\b\b\b\b20258816/45929032 bytes (44.1%)\b\b\b\b\b\b\b\b\b\b\b\b\b\b\b\b\b\b\b\b\b\b\b\b\b\b\b\b\b\b\b24502272/45929032 bytes (53.3%)\b\b\b\b\b\b\b\b\b\b\b\b\b\b\b\b\b\b\b\b\b\b\b\b\b\b\b\b\b\b\b28762112/45929032 bytes (62.6%)\b\b\b\b\b\b\b\b\b\b\b\b\b\b\b\b\b\b\b\b\b\b\b\b\b\b\b\b\b\b\b32612352/45929032 bytes (71.0%)\b\b\b\b\b\b\b\b\b\b\b\b\b\b\b\b\b\b\b\b\b\b\b\b\b\b\b\b\b\b\b36577280/45929032 bytes (79.6%)\b\b\b\b\b\b\b\b\b\b\b\b\b\b\b\b\b\b\b\b\b\b\b\b\b\b\b\b\b\b\b40779776/45929032 bytes (88.8%)\b\b\b\b\b\b\b\b\b\b\b\b\b\b\b\b\b\b\b\b\b\b\b\b\b\b\b\b\b\b\b45056000/45929032 bytes (98.1%)\b\b\b\b\b\b\b\b\b\b\b\b\b\b\b\b\b\b\b\b\b\b\b\b\b\b\b\b\b\b\b45929032/45929032 bytes (100.0%)\n",
            "  Done\n",
            "File saved as /root/.imageio/ffmpeg/ffmpeg-linux64-v3.3.1.\n",
            "pygame 2.1.2 (SDL 2.0.16, Python 3.7.13)\n",
            "Hello from the pygame community. https://www.pygame.org/contribute.html\n"
          ]
        }
      ]
    },
    {
      "cell_type": "code",
      "source": [
        "#storing all the data\n",
        "path=[]\n",
        "for i in range(len(df['Response'])-1):\n",
        "  dir='/content/question_answers'+str(i+1)+'/'\n",
        "  newfile=os.listdir(dir)[0]\n",
        "  new_dir=dir+newfile\n",
        "  path.append(new_dir)"
      ],
      "metadata": {
        "id": "Xh9OJYkhZeLX"
      },
      "execution_count": 23,
      "outputs": []
    },
    {
      "cell_type": "code",
      "source": [
        "path"
      ],
      "metadata": {
        "colab": {
          "base_uri": "https://localhost:8080/"
        },
        "id": "_vLjy5wyaiXh",
        "outputId": "b9d28f85-2a83-426b-c77f-64ce5a78897c"
      },
      "execution_count": 24,
      "outputs": [
        {
          "output_type": "execute_result",
          "data": {
            "text/plain": [
              "['/content/question_answers1/VID_20220726_130803(0).mp4',\n",
              " '/content/question_answers2/VID_20220726_131310.mp4',\n",
              " '/content/question_answers3/VID_20220726_131411.mp4',\n",
              " '/content/question_answers4/VID_20220726_131753.mp4',\n",
              " '/content/question_answers5/VID_20220726_132525.mp4',\n",
              " '/content/question_answers6/VID_20220726_132525.mp4']"
            ]
          },
          "metadata": {},
          "execution_count": 24
        }
      ]
    },
    {
      "cell_type": "code",
      "source": [
        "net_text,net_word_count,net_total_duration,net_transcribed_audio_file_name=audio_read(path)"
      ],
      "metadata": {
        "colab": {
          "base_uri": "https://localhost:8080/"
        },
        "id": "krYGE37Rajel",
        "outputId": "695e12ba-9f74-45eb-ce5c-4591204bbffe"
      },
      "execution_count": 25,
      "outputs": [
        {
          "output_type": "stream",
          "name": "stdout",
          "text": [
            "[MoviePy] Writing audio in transcribed_speech1.wav\n"
          ]
        },
        {
          "output_type": "stream",
          "name": "stderr",
          "text": [
            "100%|██████████| 1092/1092 [00:00<00:00, 3463.56it/s]"
          ]
        },
        {
          "output_type": "stream",
          "name": "stdout",
          "text": [
            "[MoviePy] Done.\n"
          ]
        },
        {
          "output_type": "stream",
          "name": "stderr",
          "text": [
            "\n"
          ]
        },
        {
          "output_type": "stream",
          "name": "stdout",
          "text": [
            "Fetching File\n",
            "Converting audio transcripts into text ...\n",
            "remind sidewalking passionate and enthusiastic person who is in line for the future\n",
            "83\n",
            "[MoviePy] Writing audio in transcribed_speech2.wav\n"
          ]
        },
        {
          "output_type": "stream",
          "name": "stderr",
          "text": [
            "100%|██████████| 520/520 [00:00<00:00, 3320.19it/s]"
          ]
        },
        {
          "output_type": "stream",
          "name": "stdout",
          "text": [
            "[MoviePy] Done.\n"
          ]
        },
        {
          "output_type": "stream",
          "name": "stderr",
          "text": [
            "\n"
          ]
        },
        {
          "output_type": "stream",
          "name": "stdout",
          "text": [
            "Fetching File\n",
            "Converting audio transcripts into text ...\n",
            "so rating from my Society scale of 1 to 10 I would like to rate myself 8.8 because I'm of course I'm not perfect and there is always a code for Learning and Development so continuous learning is the most important fundamental part of professional and personal growth so yeah\n",
            "274\n",
            "[MoviePy] Writing audio in transcribed_speech3.wav\n"
          ]
        },
        {
          "output_type": "stream",
          "name": "stderr",
          "text": [
            "100%|██████████| 987/987 [00:00<00:00, 3303.52it/s]"
          ]
        },
        {
          "output_type": "stream",
          "name": "stdout",
          "text": [
            "[MoviePy] Done.\n"
          ]
        },
        {
          "output_type": "stream",
          "name": "stderr",
          "text": [
            "\n"
          ]
        },
        {
          "output_type": "stream",
          "name": "stdout",
          "text": [
            "Fetching File\n",
            "Converting audio transcripts into text ...\n",
            "Mike distran so I think one of my greatest friends, gracing player and motivated and quit learning individual\n",
            "109\n",
            "[MoviePy] Writing audio in transcribed_speech4.wav\n"
          ]
        },
        {
          "output_type": "stream",
          "name": "stderr",
          "text": [
            "100%|██████████| 587/587 [00:00<00:00, 3221.58it/s]"
          ]
        },
        {
          "output_type": "stream",
          "name": "stdout",
          "text": [
            "[MoviePy] Done.\n"
          ]
        },
        {
          "output_type": "stream",
          "name": "stderr",
          "text": [
            "\n"
          ]
        },
        {
          "output_type": "stream",
          "name": "stdout",
          "text": [
            "Fetching File\n",
            "Converting audio transcripts into text ...\n",
            "so what makes me unique is basically what makes me unique is my ability to meet and exceed deadlines in my previous thoughts and completing my predict if he's needed a high level of quality\n",
            "189\n",
            "[MoviePy] Writing audio in transcribed_speech5.wav\n"
          ]
        },
        {
          "output_type": "stream",
          "name": "stderr",
          "text": [
            "100%|██████████| 818/818 [00:00<00:00, 3474.22it/s]"
          ]
        },
        {
          "output_type": "stream",
          "name": "stdout",
          "text": [
            "[MoviePy] Done.\n"
          ]
        },
        {
          "output_type": "stream",
          "name": "stderr",
          "text": [
            "\n"
          ]
        },
        {
          "output_type": "stream",
          "name": "stdout",
          "text": [
            "Fetching File\n",
            "Converting audio transcripts into text ...\n",
            "survive a 12-volt cordless complete mission is to help a college grad student loan debt myself and I would love the opportunity to work with the company that makes a difference so job search and\n",
            "194\n",
            "[MoviePy] Writing audio in transcribed_speech6.wav\n"
          ]
        },
        {
          "output_type": "stream",
          "name": "stderr",
          "text": [
            "100%|██████████| 818/818 [00:00<00:00, 3397.95it/s]"
          ]
        },
        {
          "output_type": "stream",
          "name": "stdout",
          "text": [
            "[MoviePy] Done.\n"
          ]
        },
        {
          "output_type": "stream",
          "name": "stderr",
          "text": [
            "\n"
          ]
        },
        {
          "output_type": "stream",
          "name": "stdout",
          "text": [
            "Fetching File\n",
            "Converting audio transcripts into text ...\n",
            "survive a 12-volt cordless complete mission is to help a college grad student loan debt myself and I would love the opportunity to work with the company that makes a difference so job search and\n",
            "194\n"
          ]
        }
      ]
    },
    {
      "cell_type": "code",
      "source": [
        "net_text[0],net_transcribed_audio_file_name[0],net_total_duration[0]"
      ],
      "metadata": {
        "colab": {
          "base_uri": "https://localhost:8080/"
        },
        "id": "xKsN6Oj6aryg",
        "outputId": "c16d7c5c-3969-472b-975d-f53278d2eea7"
      },
      "execution_count": 26,
      "outputs": [
        {
          "output_type": "execute_result",
          "data": {
            "text/plain": [
              "('remind sidewalking passionate and enthusiastic person who is in line for the future',\n",
              " 'transcribed_speech1.wav',\n",
              " 1)"
            ]
          },
          "metadata": {},
          "execution_count": 26
        }
      ]
    },
    {
      "cell_type": "code",
      "source": [
        "import nltk\n",
        "nltk.download('punkt')\n",
        "nltk.download('stopwords')\n",
        "from nltk.corpus import stopwords\n",
        "#print(stopwords.words('english'))\n",
        "from nltk.tokenize import word_tokenize\n",
        "stop_words = set(stopwords.words('english'))\n",
        "def filtered_words(net_text):\n",
        "  net_filtered=[]\n",
        "  net_filtered_unique=[]\n",
        "  for i in net_text:\n",
        "    word_tokens = word_tokenize(i)\n",
        "    filtered_sentence = []\n",
        "    for w in word_tokens:\n",
        "      if w not in stop_words:\n",
        "        filtered_sentence.append(w)\n",
        "    net_filtered.append(filtered_sentence)\n",
        "    filtered_sentence_unique=list(pd.Series(filtered_sentence).unique())\n",
        "    net_filtered_unique.append(filtered_sentence_unique)\n",
        "    #print(word_tokens)\n",
        "    #print(filtered_sentence)\n",
        "  return net_filtered,net_filtered_unique"
      ],
      "metadata": {
        "colab": {
          "base_uri": "https://localhost:8080/"
        },
        "id": "RtZ9ZonkbHOw",
        "outputId": "808fa62f-c288-4bdc-e00b-13ce24182355"
      },
      "execution_count": 27,
      "outputs": [
        {
          "output_type": "stream",
          "name": "stderr",
          "text": [
            "[nltk_data] Downloading package punkt to /root/nltk_data...\n",
            "[nltk_data]   Unzipping tokenizers/punkt.zip.\n",
            "[nltk_data] Downloading package stopwords to /root/nltk_data...\n",
            "[nltk_data]   Package stopwords is already up-to-date!\n"
          ]
        }
      ]
    },
    {
      "cell_type": "code",
      "source": [
        "net_filtered,net_filtered_unique=filtered_words(net_text)"
      ],
      "metadata": {
        "id": "KsKjzbgSsA13"
      },
      "execution_count": 28,
      "outputs": []
    },
    {
      "cell_type": "code",
      "source": [
        "from operator import itemgetter\n",
        "import math\n",
        "def total_length(net_text):\n",
        "  net_total_words=[]\n",
        "  for text in net_text:\n",
        "    total_words = text.split()\n",
        "    total_word_length = len(total_words)\n",
        "    net_total_words.append(total_word_length)\n",
        "  #print(total_word_length)\n",
        "  return net_total_words"
      ],
      "metadata": {
        "id": "HbjSa9FitHBs"
      },
      "execution_count": 29,
      "outputs": []
    },
    {
      "cell_type": "code",
      "source": [
        "net_total_length=total_length(net_text)\n",
        "net_total_length"
      ],
      "metadata": {
        "colab": {
          "base_uri": "https://localhost:8080/"
        },
        "id": "PA822OZSzS65",
        "outputId": "bf38100a-5711-4319-b53c-1ad7564a7606"
      },
      "execution_count": 30,
      "outputs": [
        {
          "output_type": "execute_result",
          "data": {
            "text/plain": [
              "[13, 50, 18, 35, 35, 35]"
            ]
          },
          "metadata": {},
          "execution_count": 30
        }
      ]
    },
    {
      "cell_type": "code",
      "source": [
        "def check_sent(word, sentences): \n",
        "    final = [all([w in x for w in word]) for x in sentences] \n",
        "    sent_len = [sentences[i] for i in range(0, len(final)) if final[i]]\n",
        "    return int(len(sent_len))"
      ],
      "metadata": {
        "id": "PvV6Xf88zvPX"
      },
      "execution_count": 31,
      "outputs": []
    },
    {
      "cell_type": "code",
      "source": [
        "def tf_scoring(text,net_filtered_unique):\n",
        "  net_total_length=total_length(net_text)\n",
        "  tf_score = {}\n",
        "  for each_word in ' '.join([' '.join(i) for i in net_filtered_unique]).split(\" \"):\n",
        "      each_word = each_word.replace('.','')\n",
        "      if each_word not in stop_words:\n",
        "          if each_word in tf_score:\n",
        "              tf_score[each_word] += 1\n",
        "          else:\n",
        "              tf_score[each_word] = 1\n",
        "\n",
        "  # Dividing by total_word_length for each dictionary element\n",
        "  tf_score.update((x, y/int(np.mean(net_total_length))) for x, y in tf_score.items())\n",
        "  #print(tf_score)\n",
        "  return tf_score"
      ],
      "metadata": {
        "id": "zqi0dh64z9e7"
      },
      "execution_count": 32,
      "outputs": []
    },
    {
      "cell_type": "code",
      "source": [
        "def get_top_n(dict_elem, n):\n",
        "    result = dict(sorted(dict_elem.items(), key = itemgetter(1), reverse = True)[:n]) \n",
        "    return result"
      ],
      "metadata": {
        "id": "4ccAOHol0VMs"
      },
      "execution_count": 33,
      "outputs": []
    },
    {
      "cell_type": "code",
      "source": [
        "def get_power_words(net_text,net_filtered_unique):\n",
        "  keymax=[]\n",
        "  tf_val=get_top_n(tf_scoring(' '.join(net_text),net_filtered_unique), 20)\n",
        "  keymax.extend(sorted(tf_val, key=tf_val.get, reverse=True))\n",
        "  return list(set(list(keymax)))[:20]"
      ],
      "metadata": {
        "id": "Lxypt2Rc0Y-i"
      },
      "execution_count": 34,
      "outputs": []
    },
    {
      "cell_type": "code",
      "source": [
        "power_words=get_power_words(net_text,net_filtered_unique)"
      ],
      "metadata": {
        "id": "7CUMeh9G7-eF"
      },
      "execution_count": 35,
      "outputs": []
    },
    {
      "cell_type": "code",
      "source": [
        "import matplotlib\n",
        "import pandas\n",
        "import wordcloud\n",
        "from wordcloud import WordCloud, STOPWORDS\n",
        "import matplotlib.pyplot as plt\n",
        "import pandas as pd\n",
        "\n",
        "\n",
        "def plot_cloud(net_text):\n",
        "  text=' '.join(net_text)\n",
        "  comment_words = ''\n",
        "  stopwords = set(STOPWORDS)\n",
        "  net_filtered,net_filtered_unique=filtered_words(net_text)\n",
        "  # split the value\n",
        "  tokens = ' '.join(([' '.join(i) for i in net_filtered_unique])).split(\" \")\n",
        "\n",
        "  # Converts each token into lowercase\n",
        "  for i in range(len(tokens)):\n",
        "      tokens[i] = tokens[i].lower()\n",
        "\n",
        "      comment_words += \" \".join(tokens)+\" \"\n",
        "\n",
        "      wordcloud = WordCloud(width = 800, height = 800,background_color ='white',stopwords = stopwords,min_font_size= 10).generate(comment_words)\n",
        "  plt.figure(figsize = (8, 8), facecolor = None)\n",
        "  plt.imshow(wordcloud)\n",
        "  plt.axis(\"off\")\n",
        "  plt.tight_layout(pad = 0)\n",
        "  plt.show()\n",
        "  \n",
        "  return wordcloud"
      ],
      "metadata": {
        "id": "VldTXyhn8AbZ"
      },
      "execution_count": 36,
      "outputs": []
    },
    {
      "cell_type": "code",
      "source": [
        " plot_cloud(net_text).to_file(\"word_cloud.png\")"
      ],
      "metadata": {
        "colab": {
          "base_uri": "https://localhost:8080/",
          "height": 625
        },
        "id": "_Jm9uXNQZRmz",
        "outputId": "aaab5365-d89f-4988-b091-adccdaf2181c"
      },
      "execution_count": 37,
      "outputs": [
        {
          "output_type": "display_data",
          "data": {
            "text/plain": [
              "<Figure size 576x576 with 1 Axes>"
            ],
            "image/png": "[encoded data removed]"
          },
          "metadata": {
            "needs_background": "light"
          }
        },
        {
          "output_type": "execute_result",
          "data": {
            "text/plain": [
              "<wordcloud.wordcloud.WordCloud at 0x7ff0c0e5ef90>"
            ]
          },
          "metadata": {},
          "execution_count": 37
        }
      ]
    },
    {
      "cell_type": "code",
      "source": [
        "def power_word_density(net_text):\n",
        "  cou=[];\n",
        "  total_duration=net_total_duration\n",
        "  net_filtered,net_filtered_unique=filtered_words([val for key,val in ideal.items()])\n",
        "  for i in net_text:\n",
        "    for j in net_filtered_unique:\n",
        "        cou.append(len(j)/len(i.split(\" \")))\n",
        "  \n",
        "  cou=np.mean(cou)\n",
        "  #print('Power word density/min:',cou)\n",
        "  return cou"
      ],
      "metadata": {
        "id": "F5paUX4fZUTq"
      },
      "execution_count": 38,
      "outputs": []
    },
    {
      "cell_type": "code",
      "source": [
        "power_density=power_word_density(net_text)\n",
        "power_density"
      ],
      "metadata": {
        "colab": {
          "base_uri": "https://localhost:8080/"
        },
        "id": "TNg6tgULfM2z",
        "outputId": "93f82e5c-f640-489b-90e1-ed9d126b5e52"
      },
      "execution_count": 39,
      "outputs": [
        {
          "output_type": "execute_result",
          "data": {
            "text/plain": [
              "1.4225410392077058"
            ]
          },
          "metadata": {},
          "execution_count": 39
        }
      ]
    },
    {
      "cell_type": "code",
      "source": [
        "import librosa\n",
        "import matplotlib.pyplot as plt\n",
        "import numpy as np\n",
        "import statsmodels.api as sm\n",
        "from scipy.signal import find_peaks\n",
        "import librosa.display\n",
        "import sklearn\n",
        "def pitch_calc(path):\n",
        "  ind=net_total_length.index(min(net_total_length))\n",
        "  path_to_wav=path[ind]\n",
        "  data, sampling_frequency = librosa.load(path_to_wav)\n",
        "  auto = sm.tsa.acf(data, nlags=2000)\n",
        "  peaks = find_peaks(auto)[0] # Find peaks of the autocorrelation\n",
        "  lag = peaks[0] # Choose the first peak as our pitch component lag\n",
        "  pitc=sampling_frequency / lag\n",
        "  return pitc,peaks"
      ],
      "metadata": {
        "id": "s6xv4h81fZQd"
      },
      "execution_count": 40,
      "outputs": []
    },
    {
      "cell_type": "code",
      "source": [
        "pitc,peaks=pitch_calc(path)"
      ],
      "metadata": {
        "id": "PIp2L6f0o0bp"
      },
      "execution_count": 41,
      "outputs": []
    },
    {
      "cell_type": "code",
      "source": [
        "pitc"
      ],
      "metadata": {
        "colab": {
          "base_uri": "https://localhost:8080/"
        },
        "id": "r6vQGfnZo-ke",
        "outputId": "9e37288e-bee6-42bd-dcd6-65ab7fd147d2"
      },
      "execution_count": 42,
      "outputs": [
        {
          "output_type": "execute_result",
          "data": {
            "text/plain": [
              "612.5"
            ]
          },
          "metadata": {},
          "execution_count": 42
        }
      ]
    },
    {
      "cell_type": "code",
      "source": [
        "import math\n",
        "def volume_calc(path):\n",
        "  ind=net_total_length.index(min(net_total_length))\n",
        "  path_to_wav=path[ind]\n",
        "  y, sr = librosa.load(path_to_wav)\n",
        "  second = []\n",
        "  for s in range(0,len(y),sr):\n",
        "      second.append( np.abs(y[s:s+sr]).mean())\n",
        "  volume=[20 * math.log10(i) for i in second]\n",
        "  return np.max(np.abs(volume))"
      ],
      "metadata": {
        "id": "pBZMIdDtp3Qr"
      },
      "execution_count": 43,
      "outputs": []
    },
    {
      "cell_type": "code",
      "source": [
        "volume=volume_calc(path)"
      ],
      "metadata": {
        "id": "A4U5y6Y2re1w"
      },
      "execution_count": 44,
      "outputs": []
    },
    {
      "cell_type": "code",
      "source": [
        "!pip install -q transformers\n",
        "from transformers import pipeline\n",
        "\n",
        "def sentiment_happy_proba(net_text):\n",
        "  happy_proba=[]\n",
        "  classifier = pipeline(\"text-classification\", model=\"j-hartmann/emotion-english-distilroberta-base\", return_all_scores=True)\n",
        "  for text in net_text:\n",
        "    classify=classifier(text)\n",
        "    df=pd.DataFrame(classify[0],columns=['label','score'])\n",
        "    happy_proba.append(float(df[df.label=='joy']['score']))\n",
        "  return happy_proba"
      ],
      "metadata": {
        "id": "VlqobpKxuU4d"
      },
      "execution_count": 45,
      "outputs": []
    },
    {
      "cell_type": "code",
      "source": [
        "happy_proba=sentiment_happy_proba(net_text)\n",
        "happy_proba"
      ],
      "metadata": {
        "colab": {
          "base_uri": "https://localhost:8080/",
          "height": 348,
          "referenced_widgets": [
            "7677618d36f04cd48981e4721824ed1c",
            "466285ac75744d4fab1a925b45e0a344",
            "65d5a8d3dbb642d8858f1d57575ebd3d",
            "69f19deadf4445dfa45fca76d4cd2b54",
            "136806dea2d046f19847237805dd2d4d",
            "002f71f43ece40a99113a8028e98a4dc",
            "629801f408d444369355c2b466afdff2",
            "0711cf684c3c457bbe66d0afe727eb49",
            "15ab9ee158624c4788f8add709597226",
            "e6d3773e1c3c498f8fac0b082ab70691",
            "95cb54d1d0fb4400833cbd1c720d7eef",
            "1c103bdbd8c34cffa56329b14f3516c3",
            "58a0e9fe93254508a2a53a08821e33b2",
            "95450383bbcc4d4b9934ca5e42f80afe",
            "a9237e6b29744bb79e5a46ef910680ad",
            "533b4f01075847f28c18de1dacc0894d",
            "f93d4b4348ea4fe1a966b4a491cbc165",
            "c376be95b0b0440c921eed6b8a355ad8",
            "d2583f142623401299890427635c3f1b",
            "02fc6a75bc4c4d36a57a7294bb4bcb50",
            "23913ba26daa42a9ada8846b4b8554a3",
            "ec3d532e5f69488ba626bbdaa6f3da9e",
            "ab241c75426a43f480ecfecb929faca6",
            "6f11fedf6c504c0086d1ad46b9c85f46",
            "9e129009cdd140939372865489ef69b6",
            "3e6a11149a5c43be965e20934b0898ba",
            "e6ec2fdd09d041da8062072af46cd0c7",
            "f6e7147e7fa2440e9cfa1bd8ebe9785d",
            "e18fbaf20ed34fa194bd2111ac37b972",
            "33f9f6876f1249aaa9f2d10fba252f43",
            "dae57f4988b54450ba0b65fb2679db84",
            "3a4003eb76d04af598fecf520ae50e5c",
            "901c20c02d724914850d3ce7d3e7b788",
            "598311649cce4133a9558ddc6b274497",
            "5b67424827f941c7915ddb82b1a3905a",
            "c3bea866270b448891afe85d53d7f88c",
            "fceef84144234bb2b2be61af13debf78",
            "cffbaa8bd51449e5a10240c7a4ee5a7a",
            "c1e12001ce724a93bc38420b6008012c",
            "999209e4943240598a6f8d9550f8e7b2",
            "5403987b18144eb487bc6a66b64fcd59",
            "e818adf5c36840729822b405fdcd7881",
            "8fce1b71a8af492b8a2489bd520afc55",
            "a8c84ca1af344a5cb01e9e8bb5602f58",
            "3767de0d6e1148c0a67f5a2c4374e040",
            "b4d0596991924139bd17f5fbee95d950",
            "f93e38397c6b4842ac4b52e8643f3031",
            "79b9cf3e8750482398a2a4c4408d179a",
            "73482a956cae416e91995d3bb43831f5",
            "510a86174eb14793936ed81706fea021",
            "b2a189ec07654c66be605a2835eca81e",
            "696dc9b4f7314362864f37f2023ba2bb",
            "9b19c15309984fa0918bd0bec63c584f",
            "2a30514025094100af2b2d7616ae3e52",
            "678540f466ba4014ac92032e680348cb",
            "c1c3dbb938054385803f8b2a2d1af34b",
            "98559bdd0b5346b38f53b1040d307d2a",
            "5bd9ea36593b4bf59de43351a4957455",
            "8f939242b1244eca9e0b8f9d6c66c7b8",
            "12294a1a2d87452e9a9b8ca2391c7949",
            "4f0cf0a9ecd9417fa349aa247a103fc4",
            "f80797fb61a14d1b950ce55fdec93d73",
            "c8501f75d72c47a0aead14ae5b0fe00b",
            "ca2ee2483f16409185015c95f7b89efa",
            "b966b609b472490ebfd49cb45d31d5ea",
            "0d11495b85e34e7a96fb7e50dfb279fc",
            "5ed7c3c7b3a3493b88ec8052dd77d084",
            "b1b86afd996b4eff931286a6a0933f84",
            "254f91efba7241cc8dabd00b046699ff",
            "f95ae261e1ad4d16b859b7e16d559e1b",
            "8d740582336243549849e3cf764e8a31",
            "81308ddb848e46b1b9693e23642d0849",
            "8e7096ccb4a9491bae4a5b0cc2cd3884",
            "55005ff907c046ed9629675783695de9",
            "d9c6779728044c529b79f4a43f12ff7f",
            "5fcfd5fc711a44b1ae58b8ad4444bee3",
            "ebc9b2d1eca14b3b8fc598644cd986a3"
          ]
        },
        "id": "UCun7enjuvJb",
        "outputId": "2b67e624-2b60-48a3-e030-75b45faf446c"
      },
      "execution_count": 46,
      "outputs": [
        {
          "output_type": "display_data",
          "data": {
            "text/plain": [
              "Downloading config.json:   0%|          | 0.00/0.98k [00:00<?, ?B/s]"
            ],
            "application/vnd.jupyter.widget-view+json": {
              "version_major": 2,
              "version_minor": 0,
              "model_id": "7677618d36f04cd48981e4721824ed1c"
            }
          },
          "metadata": {}
        },
        {
          "output_type": "display_data",
          "data": {
            "text/plain": [
              "Downloading pytorch_model.bin:   0%|          | 0.00/313M [00:00<?, ?B/s]"
            ],
            "application/vnd.jupyter.widget-view+json": {
              "version_major": 2,
              "version_minor": 0,
              "model_id": "1c103bdbd8c34cffa56329b14f3516c3"
            }
          },
          "metadata": {}
        },
        {
          "output_type": "display_data",
          "data": {
            "text/plain": [
              "Downloading tokenizer_config.json:   0%|          | 0.00/294 [00:00<?, ?B/s]"
            ],
            "application/vnd.jupyter.widget-view+json": {
              "version_major": 2,
              "version_minor": 0,
              "model_id": "ab241c75426a43f480ecfecb929faca6"
            }
          },
          "metadata": {}
        },
        {
          "output_type": "display_data",
          "data": {
            "text/plain": [
              "Downloading vocab.json:   0%|          | 0.00/780k [00:00<?, ?B/s]"
            ],
            "application/vnd.jupyter.widget-view+json": {
              "version_major": 2,
              "version_minor": 0,
              "model_id": "598311649cce4133a9558ddc6b274497"
            }
          },
          "metadata": {}
        },
        {
          "output_type": "display_data",
          "data": {
            "text/plain": [
              "Downloading merges.txt:   0%|          | 0.00/446k [00:00<?, ?B/s]"
            ],
            "application/vnd.jupyter.widget-view+json": {
              "version_major": 2,
              "version_minor": 0,
              "model_id": "3767de0d6e1148c0a67f5a2c4374e040"
            }
          },
          "metadata": {}
        },
        {
          "output_type": "display_data",
          "data": {
            "text/plain": [
              "Downloading tokenizer.json:   0%|          | 0.00/1.29M [00:00<?, ?B/s]"
            ],
            "application/vnd.jupyter.widget-view+json": {
              "version_major": 2,
              "version_minor": 0,
              "model_id": "c1c3dbb938054385803f8b2a2d1af34b"
            }
          },
          "metadata": {}
        },
        {
          "output_type": "display_data",
          "data": {
            "text/plain": [
              "Downloading special_tokens_map.json:   0%|          | 0.00/239 [00:00<?, ?B/s]"
            ],
            "application/vnd.jupyter.widget-view+json": {
              "version_major": 2,
              "version_minor": 0,
              "model_id": "5ed7c3c7b3a3493b88ec8052dd77d084"
            }
          },
          "metadata": {}
        },
        {
          "output_type": "execute_result",
          "data": {
            "text/plain": [
              "[0.35550743341445923,\n",
              " 0.07741912454366684,\n",
              " 0.3135268986225128,\n",
              " 0.16257581114768982,\n",
              " 0.9807090759277344,\n",
              " 0.9807090759277344]"
            ]
          },
          "metadata": {},
          "execution_count": 46
        }
      ]
    },
    {
      "cell_type": "code",
      "source": [
        "def summary(net_text,flag):\n",
        "  content_score=[]\n",
        "  flag=list(flag)\n",
        "  for i in range(len(flag)-1):\n",
        "    matchPercentage=0\n",
        "    mp2=0\n",
        "    if flag[i]=='Yes':\n",
        "      answer=ideal[(i+1)]\n",
        "      text=net_text[i]\n",
        "      text_list = [text,answer]\n",
        "      cv = CountVectorizer()\n",
        "      count_matrix = cv.fit_transform(text_list)\n",
        "      matchPercentage = cosine_similarity(count_matrix)[0][1] * 100\n",
        "      matchPercentage = round(matchPercentage, 2)\n",
        "      mp2=round(((fuzz.token_sort_ratio(text.lower(),answer.lower()))/len(answer.split(\" \")))*100)\n",
        "      content_score.append(mp2 if mp2>matchPercentage else matchPercentage)\n",
        "    else:\n",
        "      content_score.append('Not Applicable')\n",
        "  return content_score"
      ],
      "metadata": {
        "id": "XNDk2LYDu1AG"
      },
      "execution_count": 47,
      "outputs": []
    },
    {
      "cell_type": "code",
      "source": [
        "content_score=summary(net_text,flag)"
      ],
      "metadata": {
        "id": "zM1LP4OL3c-o"
      },
      "execution_count": 48,
      "outputs": []
    },
    {
      "cell_type": "code",
      "source": [
        "from pydub import AudioSegment,silence\n",
        "\n",
        "def silence_detect(path):\n",
        "  silence_secs=[]\n",
        "  silence_num=[]\n",
        "  for i in path:\n",
        "    myaudio = intro = AudioSegment.from_wav(i)\n",
        "    dBFS=myaudio.dBFS\n",
        "    silenced = silence.detect_silence(myaudio, min_silence_len=1000, silence_thresh=dBFS-16)\n",
        "\n",
        "    silenced = [((stop/1000)-(start/1000)) for start,stop in silenced] #in sec\n",
        "    #print(np.max(silenced),len(silenced))\n",
        "    if silenced!=[]:\n",
        "      silence_secs.append(np.max(silenced)),silence_num.append(len(silenced))\n",
        "    else:\n",
        "      silence_secs.append(0),silence_num.append(0)\n",
        "  return silence_secs,silence_num"
      ],
      "metadata": {
        "id": "C4pE_MR33-ES"
      },
      "execution_count": 49,
      "outputs": []
    },
    {
      "cell_type": "code",
      "source": [
        "silence_secs,silence_num=silence_detect(net_transcribed_audio_file_name)"
      ],
      "metadata": {
        "id": "C070F5H98FHz"
      },
      "execution_count": 50,
      "outputs": []
    },
    {
      "cell_type": "code",
      "source": [
        "def filler_words_cohort(net_text):\n",
        "  cohort=[]\n",
        "  net_filtered,net_filtered_unique=filtered_words(net_text)\n",
        "  for i in range(len(net_filtered)):\n",
        "    cohort_score=len(net_filtered[i])/len(net_text[i].split(\" \"))\n",
        "    if cohort_score>0.7:\n",
        "      cohort.append(4)\n",
        "    elif cohort_score>0.4:\n",
        "      cohort.append(3)\n",
        "    elif cohort_score>0.1:\n",
        "      cohort.append(2)\n",
        "    else:\n",
        "      cohort.append(1)\n",
        "  return cohort"
      ],
      "metadata": {
        "id": "jVdZsnpT86eX"
      },
      "execution_count": 51,
      "outputs": []
    },
    {
      "cell_type": "code",
      "source": [
        "filler_words=filler_words_cohort(net_text)\n",
        "filler_words"
      ],
      "metadata": {
        "colab": {
          "base_uri": "https://localhost:8080/"
        },
        "id": "aqS0AxhL-NYc",
        "outputId": "91872297-1df1-417e-c21e-7644bf6d9882"
      },
      "execution_count": 52,
      "outputs": [
        {
          "output_type": "execute_result",
          "data": {
            "text/plain": [
              "[3, 3, 4, 3, 3, 3]"
            ]
          },
          "metadata": {},
          "execution_count": 52
        }
      ]
    },
    {
      "cell_type": "code",
      "source": [
        "def sentiment_cohort(net_text):\n",
        "  happy_proba=sentiment_happy_proba(net_text)\n",
        "  happy=[]\n",
        "  for i in happy_proba: \n",
        "    if i>0.7:\n",
        "      happy.append(4)\n",
        "    elif i>0.4:\n",
        "      happy.append(3)\n",
        "    elif i>0.1:\n",
        "      happy.append(2)\n",
        "    else:\n",
        "      happy.append(1)\n",
        "  return happy"
      ],
      "metadata": {
        "id": "apONWGFi-gpr"
      },
      "execution_count": 53,
      "outputs": []
    },
    {
      "cell_type": "code",
      "source": [
        "sentiment=sentiment_cohort(net_text)"
      ],
      "metadata": {
        "id": "EqEO3C09_fd_"
      },
      "execution_count": 54,
      "outputs": []
    },
    {
      "cell_type": "code",
      "source": [
        "def confidence_cohort(path):\n",
        "  net=[]\n",
        "  net_text,net_word_count,net_total_duration,net_transcribed_audio_file_name=audio_read(path)\n",
        "  filler_words=filler_words_cohort(net_text)\n",
        "  sentiment=sentiment_cohort(net_text)\n",
        "  for i in range(len(sentiment)):\n",
        "    cohort=(sentiment[i]+filler_words[i])/2\n",
        "    cohort=int(cohort)\n",
        "    if cohort==1:\n",
        "      net.append('D')\n",
        "    elif cohort==2:\n",
        "      net.append('C')\n",
        "    elif cohort==3:\n",
        "      net.append('B')\n",
        "    elif cohort==4:\n",
        "      net.append('A')\n",
        "  return net"
      ],
      "metadata": {
        "id": "63M6Z3Nc_r7y"
      },
      "execution_count": 55,
      "outputs": []
    },
    {
      "cell_type": "code",
      "source": [
        "confidence=confidence_cohort(path)"
      ],
      "metadata": {
        "colab": {
          "base_uri": "https://localhost:8080/"
        },
        "id": "q6codCjfBkYa",
        "outputId": "c3635af6-2338-4387-ce92-846920a7a730"
      },
      "execution_count": 56,
      "outputs": [
        {
          "output_type": "stream",
          "name": "stdout",
          "text": [
            "[MoviePy] Writing audio in transcribed_speech1.wav\n"
          ]
        },
        {
          "output_type": "stream",
          "name": "stderr",
          "text": [
            "100%|██████████| 1092/1092 [00:00<00:00, 3265.62it/s]"
          ]
        },
        {
          "output_type": "stream",
          "name": "stdout",
          "text": [
            "[MoviePy] Done.\n"
          ]
        },
        {
          "output_type": "stream",
          "name": "stderr",
          "text": [
            "\n"
          ]
        },
        {
          "output_type": "stream",
          "name": "stdout",
          "text": [
            "Fetching File\n",
            "Converting audio transcripts into text ...\n",
            "remind sidewalking passionate and enthusiastic person who is in line for the future\n",
            "83\n",
            "[MoviePy] Writing audio in transcribed_speech2.wav\n"
          ]
        },
        {
          "output_type": "stream",
          "name": "stderr",
          "text": [
            "100%|██████████| 520/520 [00:00<00:00, 3202.31it/s]"
          ]
        },
        {
          "output_type": "stream",
          "name": "stdout",
          "text": [
            "[MoviePy] Done.\n"
          ]
        },
        {
          "output_type": "stream",
          "name": "stderr",
          "text": [
            "\n"
          ]
        },
        {
          "output_type": "stream",
          "name": "stdout",
          "text": [
            "Fetching File\n",
            "Converting audio transcripts into text ...\n",
            "so rating from my Society scale of 1 to 10 I would like to rate myself 8.8 because I'm of course I'm not perfect and there is always a code for Learning and Development so continuous learning is the most important fundamental part of professional and personal growth so yeah\n",
            "274\n",
            "[MoviePy] Writing audio in transcribed_speech3.wav\n"
          ]
        },
        {
          "output_type": "stream",
          "name": "stderr",
          "text": [
            "100%|██████████| 987/987 [00:00<00:00, 3224.07it/s]"
          ]
        },
        {
          "output_type": "stream",
          "name": "stdout",
          "text": [
            "[MoviePy] Done.\n"
          ]
        },
        {
          "output_type": "stream",
          "name": "stderr",
          "text": [
            "\n"
          ]
        },
        {
          "output_type": "stream",
          "name": "stdout",
          "text": [
            "Fetching File\n",
            "Converting audio transcripts into text ...\n",
            "Mike distran so I think one of my greatest friends, gracing player and motivated and quit learning individual\n",
            "109\n",
            "[MoviePy] Writing audio in transcribed_speech4.wav\n"
          ]
        },
        {
          "output_type": "stream",
          "name": "stderr",
          "text": [
            "100%|██████████| 587/587 [00:00<00:00, 3138.51it/s]"
          ]
        },
        {
          "output_type": "stream",
          "name": "stdout",
          "text": [
            "[MoviePy] Done.\n"
          ]
        },
        {
          "output_type": "stream",
          "name": "stderr",
          "text": [
            "\n"
          ]
        },
        {
          "output_type": "stream",
          "name": "stdout",
          "text": [
            "Fetching File\n",
            "Converting audio transcripts into text ...\n",
            "so what makes me unique is basically what makes me unique is my ability to meet and exceed deadlines in my previous thoughts and completing my predict if he's needed a high level of quality\n",
            "189\n",
            "[MoviePy] Writing audio in transcribed_speech5.wav\n"
          ]
        },
        {
          "output_type": "stream",
          "name": "stderr",
          "text": [
            "100%|██████████| 818/818 [00:00<00:00, 3140.00it/s]"
          ]
        },
        {
          "output_type": "stream",
          "name": "stdout",
          "text": [
            "[MoviePy] Done.\n"
          ]
        },
        {
          "output_type": "stream",
          "name": "stderr",
          "text": [
            "\n"
          ]
        },
        {
          "output_type": "stream",
          "name": "stdout",
          "text": [
            "Fetching File\n",
            "Converting audio transcripts into text ...\n",
            "survive a 12-volt cordless complete mission is to help a college grad student loan debt myself and I would love the opportunity to work with the company that makes a difference so job search and\n",
            "194\n",
            "[MoviePy] Writing audio in transcribed_speech6.wav\n"
          ]
        },
        {
          "output_type": "stream",
          "name": "stderr",
          "text": [
            "100%|██████████| 818/818 [00:00<00:00, 3213.87it/s]"
          ]
        },
        {
          "output_type": "stream",
          "name": "stdout",
          "text": [
            "[MoviePy] Done.\n"
          ]
        },
        {
          "output_type": "stream",
          "name": "stderr",
          "text": [
            "\n"
          ]
        },
        {
          "output_type": "stream",
          "name": "stdout",
          "text": [
            "Fetching File\n",
            "Converting audio transcripts into text ...\n",
            "survive a 12-volt cordless complete mission is to help a college grad student loan debt myself and I would love the opportunity to work with the company that makes a difference so job search and\n",
            "194\n"
          ]
        }
      ]
    },
    {
      "cell_type": "code",
      "source": [
        "def pitch_volume_cohort(path):\n",
        "  pitc,peaks=pitch_calc(path)\n",
        "  volume=volume_calc(path)\n",
        "  pitch=np.abs(pitc-670)\n",
        "  p_cohort=0\n",
        "  v_cohort=0\n",
        "  if pitch<=500:\n",
        "    p_cohort=4\n",
        "  elif pitch<=1000:\n",
        "    p_cohort=3\n",
        "  elif pitch<=1500:\n",
        "    p_cohort=2\n",
        "  else:\n",
        "    p_cohort=1\n",
        "  if volume>=75:\n",
        "    v_cohort=4\n",
        "  elif volume>=50:\n",
        "    v_cohort=3\n",
        "  elif volume>=35:\n",
        "    v_cohort=2\n",
        "  else:\n",
        "    v_cohort=1\n",
        "  return math.ceil((p_cohort+v_cohort)/2)"
      ],
      "metadata": {
        "id": "xTxaXfvlBqCd"
      },
      "execution_count": 57,
      "outputs": []
    },
    {
      "cell_type": "code",
      "source": [
        "pitch_volum=pitch_volume_cohort(path)\n",
        "pitch_volum"
      ],
      "metadata": {
        "colab": {
          "base_uri": "https://localhost:8080/"
        },
        "id": "17NWZcSwCSBO",
        "outputId": "a259f775-9c2d-4feb-e6d0-15e48bd62511"
      },
      "execution_count": 58,
      "outputs": [
        {
          "output_type": "execute_result",
          "data": {
            "text/plain": [
              "4"
            ]
          },
          "metadata": {},
          "execution_count": 58
        }
      ]
    },
    {
      "cell_type": "code",
      "source": [
        "def energy_cohort(path):\n",
        "  cohort= pitch_volume_cohort(path)\n",
        "  cohort=int(cohort)\n",
        "  cohort=[cohort]*6\n",
        "  net=[]\n",
        "  for i in range(len(cohort)):\n",
        "    if cohort[i]==1:\n",
        "      net.append('D')\n",
        "    elif cohort[i]==2:\n",
        "      net.append('C')\n",
        "    elif cohort[i]==3:\n",
        "      net.append('B')\n",
        "    elif cohort[i]==4:\n",
        "      net.append('A')\n",
        "  return net"
      ],
      "metadata": {
        "id": "Qo11dOICCXKK"
      },
      "execution_count": 59,
      "outputs": []
    },
    {
      "cell_type": "code",
      "source": [
        "energy=energy_cohort(path)"
      ],
      "metadata": {
        "id": "fO6zTfWUD-vE"
      },
      "execution_count": 60,
      "outputs": []
    },
    {
      "cell_type": "code",
      "source": [
        "def fluency_cohort(path):\n",
        "  net_text,net_word_count,net_total_duration,net_transcribed_audio_file_name=audio_read(path)\n",
        "  net_filtered,net_filtered_unique=filtered_words(net_text)\n",
        "  tex=''\n",
        "  pace_cohort=[]\n",
        "  for i in range(len(net_filtered)):\n",
        "    if net_word_count[i]>170 and net_word_count[i]<190:\n",
        "      pace_cohort.append(4)\n",
        "    elif net_word_count[i]>100 and net_word_count[i]<120:\n",
        "      pace_cohort.append(3)\n",
        "    elif net_word_count[i]>50 and net_word_count[i]>90:\n",
        "      pace_cohort.append(2)\n",
        "    else:\n",
        "      pace_cohort.append(1)\n",
        "  silenc,coun=silence_detect(net_transcribed_audio_file_name)\n",
        "  silence_cohort=[]\n",
        "  for i in range(len(silenc)):\n",
        "    if silenc[i] <3 or coun[i]<4:\n",
        "      silence_cohort.append(4)\n",
        "    elif silenc[i] <5 or coun[i]<8:\n",
        "      silence_cohort.append(3)\n",
        "    elif silenc[i] < 8 or coun[i]<10:\n",
        "      silence_cohort.append(2)\n",
        "    else:\n",
        "      silence_cohort.append(1)\n",
        "  net=[]\n",
        "  for i in range(len(pace_cohort)):\n",
        "    coh=(pace_cohort[i]+silence_cohort[i])//2\n",
        "    if coh==4:\n",
        "      net.append('A')\n",
        "    elif coh==3:\n",
        "      net.append('B')\n",
        "    elif coh==2:\n",
        "      net.append('C')\n",
        "    elif coh==1:\n",
        "      net.append('D')\n",
        "  return net "
      ],
      "metadata": {
        "id": "vadN0kkwECRu"
      },
      "execution_count": 61,
      "outputs": []
    },
    {
      "cell_type": "code",
      "source": [
        "fluency=fluency_cohort(path)"
      ],
      "metadata": {
        "id": "lJil2eYaNO0D",
        "colab": {
          "base_uri": "https://localhost:8080/"
        },
        "outputId": "8070a54a-b77a-4934-b9c7-450420260f6e"
      },
      "execution_count": 62,
      "outputs": [
        {
          "output_type": "stream",
          "name": "stdout",
          "text": [
            "[MoviePy] Writing audio in transcribed_speech1.wav\n"
          ]
        },
        {
          "output_type": "stream",
          "name": "stderr",
          "text": [
            "100%|██████████| 1092/1092 [00:00<00:00, 3390.62it/s]"
          ]
        },
        {
          "output_type": "stream",
          "name": "stdout",
          "text": [
            "[MoviePy] Done.\n"
          ]
        },
        {
          "output_type": "stream",
          "name": "stderr",
          "text": [
            "\n"
          ]
        },
        {
          "output_type": "stream",
          "name": "stdout",
          "text": [
            "Fetching File\n",
            "Converting audio transcripts into text ...\n",
            "remind sidewalking passionate and enthusiastic person who is in line for the future\n",
            "83\n",
            "[MoviePy] Writing audio in transcribed_speech2.wav\n"
          ]
        },
        {
          "output_type": "stream",
          "name": "stderr",
          "text": [
            "100%|██████████| 520/520 [00:00<00:00, 3263.24it/s]"
          ]
        },
        {
          "output_type": "stream",
          "name": "stdout",
          "text": [
            "[MoviePy] Done.\n"
          ]
        },
        {
          "output_type": "stream",
          "name": "stderr",
          "text": [
            "\n"
          ]
        },
        {
          "output_type": "stream",
          "name": "stdout",
          "text": [
            "Fetching File\n",
            "Converting audio transcripts into text ...\n",
            "so rating from my Society scale of 1 to 10 I would like to rate myself 8.8 because I'm of course I'm not perfect and there is always a code for Learning and Development so continuous learning is the most important fundamental part of professional and personal growth so yeah\n",
            "274\n",
            "[MoviePy] Writing audio in transcribed_speech3.wav\n"
          ]
        },
        {
          "output_type": "stream",
          "name": "stderr",
          "text": [
            "100%|██████████| 987/987 [00:00<00:00, 3378.64it/s]"
          ]
        },
        {
          "output_type": "stream",
          "name": "stdout",
          "text": [
            "[MoviePy] Done.\n"
          ]
        },
        {
          "output_type": "stream",
          "name": "stderr",
          "text": [
            "\n"
          ]
        },
        {
          "output_type": "stream",
          "name": "stdout",
          "text": [
            "Fetching File\n",
            "Converting audio transcripts into text ...\n",
            "Mike distran so I think one of my greatest friends, gracing player and motivated and quit learning individual\n",
            "109\n",
            "[MoviePy] Writing audio in transcribed_speech4.wav\n"
          ]
        },
        {
          "output_type": "stream",
          "name": "stderr",
          "text": [
            "100%|██████████| 587/587 [00:00<00:00, 3431.18it/s]"
          ]
        },
        {
          "output_type": "stream",
          "name": "stdout",
          "text": [
            "[MoviePy] Done.\n"
          ]
        },
        {
          "output_type": "stream",
          "name": "stderr",
          "text": [
            "\n"
          ]
        },
        {
          "output_type": "stream",
          "name": "stdout",
          "text": [
            "Fetching File\n",
            "Converting audio transcripts into text ...\n",
            "so what makes me unique is basically what makes me unique is my ability to meet and exceed deadlines in my previous thoughts and completing my predict if he's needed a high level of quality\n",
            "189\n",
            "[MoviePy] Writing audio in transcribed_speech5.wav\n"
          ]
        },
        {
          "output_type": "stream",
          "name": "stderr",
          "text": [
            "100%|██████████| 818/818 [00:00<00:00, 3522.94it/s]"
          ]
        },
        {
          "output_type": "stream",
          "name": "stdout",
          "text": [
            "[MoviePy] Done.\n"
          ]
        },
        {
          "output_type": "stream",
          "name": "stderr",
          "text": [
            "\n"
          ]
        },
        {
          "output_type": "stream",
          "name": "stdout",
          "text": [
            "Fetching File\n",
            "Converting audio transcripts into text ...\n",
            "survive a 12-volt cordless complete mission is to help a college grad student loan debt myself and I would love the opportunity to work with the company that makes a difference so job search and\n",
            "194\n",
            "[MoviePy] Writing audio in transcribed_speech6.wav\n"
          ]
        },
        {
          "output_type": "stream",
          "name": "stderr",
          "text": [
            "100%|██████████| 818/818 [00:00<00:00, 3390.63it/s]"
          ]
        },
        {
          "output_type": "stream",
          "name": "stdout",
          "text": [
            "[MoviePy] Done.\n"
          ]
        },
        {
          "output_type": "stream",
          "name": "stderr",
          "text": [
            "\n"
          ]
        },
        {
          "output_type": "stream",
          "name": "stdout",
          "text": [
            "Fetching File\n",
            "Converting audio transcripts into text ...\n",
            "survive a 12-volt cordless complete mission is to help a college grad student loan debt myself and I would love the opportunity to work with the company that makes a difference so job search and\n",
            "194\n"
          ]
        }
      ]
    },
    {
      "cell_type": "code",
      "source": [
        "fluency"
      ],
      "metadata": {
        "colab": {
          "base_uri": "https://localhost:8080/"
        },
        "id": "EVoTIBaLNX7Q",
        "outputId": "34e4d1f5-d623-4498-ca53-f2f550088571"
      },
      "execution_count": 63,
      "outputs": [
        {
          "output_type": "execute_result",
          "data": {
            "text/plain": [
              "['C', 'B', 'C', 'C', 'C', 'C']"
            ]
          },
          "metadata": {},
          "execution_count": 63
        }
      ]
    },
    {
      "cell_type": "code",
      "source": [
        "def aggregate_score(content_score,confidence,energy,fluency):\n",
        "  content_score=[i for i in content_score if i!='Not Applicable']\n",
        "  content_score=np.mean(content_score)\n",
        "  cohort=0\n",
        "  net=[]\n",
        "  if content_score>20 and content_score<30:\n",
        "    cohort=1\n",
        "  elif content_score>30 and content_score<40:\n",
        "    cohort=2\n",
        "  elif content_score>40 and content_score<60:\n",
        "    cohort=3\n",
        "  elif content_score>60 and content_score<70:\n",
        "    cohort=4\n",
        "  for i in range(len(confidence)):\n",
        "    net.append(((69-ord(confidence[i]))+(69-ord(energy[i]))+(69-ord(fluency[i]))+cohort)//4)\n",
        "  return [chr(69-i)for i in net]"
      ],
      "metadata": {
        "id": "nicwTv6kOt6P"
      },
      "execution_count": 64,
      "outputs": []
    },
    {
      "cell_type": "code",
      "source": [
        "content_score"
      ],
      "metadata": {
        "id": "T3qdN_TuOfVO",
        "colab": {
          "base_uri": "https://localhost:8080/"
        },
        "outputId": "cb455c02-753e-45a8-a820-eeda193023be"
      },
      "execution_count": 65,
      "outputs": [
        {
          "output_type": "execute_result",
          "data": {
            "text/plain": [
              "[44.39,\n",
              " 73.97,\n",
              " 'Not Applicable',\n",
              " 'Not Applicable',\n",
              " 'Not Applicable',\n",
              " 'Not Applicable']"
            ]
          },
          "metadata": {},
          "execution_count": 65
        }
      ]
    },
    {
      "cell_type": "code",
      "source": [
        "[ord(i) for i in confidence]"
      ],
      "metadata": {
        "colab": {
          "base_uri": "https://localhost:8080/"
        },
        "id": "gDhJNoPuQ7Ty",
        "outputId": "ddf82c4c-efb9-4e55-9395-07d10bf918af"
      },
      "execution_count": 66,
      "outputs": [
        {
          "output_type": "execute_result",
          "data": {
            "text/plain": [
              "[67, 67, 66, 67, 66, 66]"
            ]
          },
          "metadata": {},
          "execution_count": 66
        }
      ]
    },
    {
      "cell_type": "code",
      "source": [
        "fluency"
      ],
      "metadata": {
        "colab": {
          "base_uri": "https://localhost:8080/"
        },
        "id": "kBdyYhg1Q9Wj",
        "outputId": "1233cdef-e791-4646-b133-cd145bfcb313"
      },
      "execution_count": 67,
      "outputs": [
        {
          "output_type": "execute_result",
          "data": {
            "text/plain": [
              "['C', 'B', 'C', 'C', 'C', 'C']"
            ]
          },
          "metadata": {},
          "execution_count": 67
        }
      ]
    },
    {
      "cell_type": "code",
      "source": [
        "energy"
      ],
      "metadata": {
        "colab": {
          "base_uri": "https://localhost:8080/"
        },
        "id": "J36uNWBXQ_rx",
        "outputId": "bb9d2b6d-49a2-4fa4-9d6e-116ce4aa92da"
      },
      "execution_count": 68,
      "outputs": [
        {
          "output_type": "execute_result",
          "data": {
            "text/plain": [
              "['A', 'A', 'A', 'A', 'A', 'A']"
            ]
          },
          "metadata": {},
          "execution_count": 68
        }
      ]
    },
    {
      "cell_type": "code",
      "source": [
        "per_ques=aggregate_score(content_score,confidence,energy,fluency)\n",
        "per_ques"
      ],
      "metadata": {
        "colab": {
          "base_uri": "https://localhost:8080/"
        },
        "id": "c96dMZXxQUCS",
        "outputId": "94bd62f3-0a32-41a4-f61d-44a9f2976bbc"
      },
      "execution_count": 69,
      "outputs": [
        {
          "output_type": "execute_result",
          "data": {
            "text/plain": [
              "['C', 'B', 'B', 'C', 'B', 'B']"
            ]
          },
          "metadata": {},
          "execution_count": 69
        }
      ]
    },
    {
      "cell_type": "code",
      "source": [
        "interaction_score=69-np.mean([ord(i) for i in per_ques])\n",
        "interaction_score"
      ],
      "metadata": {
        "colab": {
          "base_uri": "https://localhost:8080/"
        },
        "id": "j2-Kv65qQqs5",
        "outputId": "a4be4b31-a685-4850-a2d7-556714aa4d05"
      },
      "execution_count": 70,
      "outputs": [
        {
          "output_type": "execute_result",
          "data": {
            "text/plain": [
              "2.6666666666666714"
            ]
          },
          "metadata": {},
          "execution_count": 70
        }
      ]
    },
    {
      "cell_type": "code",
      "source": [
        "interaction_cohort=chr(69-round(interaction_score))\n",
        "interaction_cohort"
      ],
      "metadata": {
        "colab": {
          "base_uri": "https://localhost:8080/",
          "height": 35
        },
        "id": "Qh1H8IP5TdDj",
        "outputId": "62b195d3-aa78-48e4-b71e-8e1eec699728"
      },
      "execution_count": 71,
      "outputs": [
        {
          "output_type": "execute_result",
          "data": {
            "text/plain": [
              "'B'"
            ],
            "application/vnd.google.colaboratory.intrinsic+json": {
              "type": "string"
            }
          },
          "metadata": {},
          "execution_count": 71
        }
      ]
    },
    {
      "cell_type": "code",
      "source": [
        "quotients=pd.read_csv(\"/content/The Power words dashboard  - Power Words.csv\").dropna()\n",
        "text=' '.join(net_text)"
      ],
      "metadata": {
        "id": "9h737cybV9Hf"
      },
      "execution_count": 72,
      "outputs": []
    },
    {
      "cell_type": "code",
      "source": [
        "sales=' '.join(list(quotients['Sales Power words ']))\n",
        "manager=' '.join(list(quotients['Manager Power Words ']))\n",
        "leadership=' '.join(list(quotients['Leadership Power Words']))\n",
        "hr=' '.join(list(quotients['HR Power Words ']))\n",
        "learning=' '.join(list(quotients['Learning Quotient ']))\n",
        "service=' '.join(list(quotients['Service Quotient ']))"
      ],
      "metadata": {
        "id": "HZAOF2aKhuy5"
      },
      "execution_count": 73,
      "outputs": []
    },
    {
      "cell_type": "code",
      "source": [
        "def quotient_scores(sales,manager,leadership,hr,learning,service,text):\n",
        "  content_score={}\n",
        "  sales_list = [text,sales]\n",
        "  mg_list=[text,manager]\n",
        "  ld_list=[text,leadership]\n",
        "  hr_list=[text,hr]\n",
        "  lr_list=[text,learning]\n",
        "  sv_list=[text,service]\n",
        "  cv = CountVectorizer()\n",
        "  count_matrix = cv.fit_transform(sales_list)\n",
        "  matchPercentage = cosine_similarity(count_matrix)[0][1] * 100\n",
        "  matchPercentage = round(matchPercentage, 2)\n",
        "  mp2=round(((fuzz.token_sort_ratio(text.lower(),sales.lower()))/len(sales.split(\" \")))*100)\n",
        "  content_score['sales']=(mp2 if mp2>matchPercentage else matchPercentage)\n",
        "\n",
        "  count_matrix = cv.fit_transform(mg_list)\n",
        "  matchPercentage = cosine_similarity(count_matrix)[0][1] * 100\n",
        "  matchPercentage = round(matchPercentage, 2)\n",
        "  mp2=round(((fuzz.token_sort_ratio(text.lower(),manager.lower()))/len(manager.split(\" \")))*100)\n",
        "  content_score['manager']=(mp2 if mp2>matchPercentage else matchPercentage)\n",
        "\n",
        "  count_matrix = cv.fit_transform(ld_list)\n",
        "  matchPercentage = cosine_similarity(count_matrix)[0][1] * 100\n",
        "  matchPercentage = round(matchPercentage, 2)\n",
        "  mp2=round(((fuzz.token_sort_ratio(text.lower(),leadership.lower()))/len(leadership.split(\" \")))*100)\n",
        "  content_score['leadership']=(mp2 if mp2>matchPercentage else matchPercentage)\n",
        "\n",
        "  count_matrix = cv.fit_transform(hr_list)\n",
        "  matchPercentage = cosine_similarity(count_matrix)[0][1] * 100\n",
        "  matchPercentage = round(matchPercentage, 2)\n",
        "  mp2=round(((fuzz.token_sort_ratio(text.lower(),hr.lower()))/len(hr.split(\" \")))*100)\n",
        "  content_score['hr']=(mp2 if mp2>matchPercentage else matchPercentage)\n",
        "  \n",
        "  count_matrix = cv.fit_transform(lr_list)\n",
        "  matchPercentage = cosine_similarity(count_matrix)[0][1] * 100\n",
        "  matchPercentage = round(matchPercentage, 2)\n",
        "  mp2=round(((fuzz.token_sort_ratio(text.lower(),learning.lower()))/len(learning.split(\" \")))*100)\n",
        "  content_score['learning']=(mp2 if mp2>matchPercentage else matchPercentage)\n",
        "\n",
        "  count_matrix = cv.fit_transform(sv_list)\n",
        "  matchPercentage = cosine_similarity(count_matrix)[0][1] * 100\n",
        "  matchPercentage = round(matchPercentage, 2)\n",
        "  mp2=round(((fuzz.token_sort_ratio(text.lower(),service.lower()))/len(service.split(\" \")))*100)\n",
        "  content_score['service']=(mp2 if mp2>matchPercentage else matchPercentage)\n",
        "\n",
        "  return content_score\n"
      ],
      "metadata": {
        "id": "8DjXI9s8i722"
      },
      "execution_count": 74,
      "outputs": []
    },
    {
      "cell_type": "code",
      "source": [
        "quotient_dict=quotient_scores(sales,manager,leadership,hr,learning,service,text)"
      ],
      "metadata": {
        "id": "gzeiM1mijduq"
      },
      "execution_count": 75,
      "outputs": []
    },
    {
      "cell_type": "code",
      "source": [
        "quotient_dict"
      ],
      "metadata": {
        "colab": {
          "base_uri": "https://localhost:8080/"
        },
        "id": "tKhZZCrrlGCy",
        "outputId": "01e2f69a-88a2-4b6b-be7a-4b08fd03e522"
      },
      "execution_count": 76,
      "outputs": [
        {
          "output_type": "execute_result",
          "data": {
            "text/plain": [
              "{'hr': 12.11,\n",
              " 'leadership': 1.08,\n",
              " 'learning': 5.64,\n",
              " 'manager': 9.12,\n",
              " 'sales': 3.54,\n",
              " 'service': 4.58}"
            ]
          },
          "metadata": {},
          "execution_count": 76
        }
      ]
    },
    {
      "cell_type": "code",
      "source": [
        "id"
      ],
      "metadata": {
        "colab": {
          "base_uri": "https://localhost:8080/"
        },
        "id": "Yjtv9ncOmNmy",
        "outputId": "efa4c5da-0236-41e6-9092-1ae6f0b71f75"
      },
      "execution_count": 77,
      "outputs": [
        {
          "output_type": "execute_result",
          "data": {
            "text/plain": [
              "{'Candidate_ID': '686', 'Interaction_ID': '67897', 'Test_ID': '8890'}"
            ]
          },
          "metadata": {},
          "execution_count": 77
        }
      ]
    },
    {
      "cell_type": "code",
      "source": [
        "from google.colab.patches import cv2_imshow\n",
        "import cv2\n",
        "cloud=cv2.imread('/content/word_cloud.png')"
      ],
      "metadata": {
        "id": "Bv538l4hqCSF"
      },
      "execution_count": 78,
      "outputs": []
    },
    {
      "cell_type": "code",
      "source": [
        "content_score=[i for i in content_score if i!='Not Applicable']\n",
        "content_score=np.mean(content_score)"
      ],
      "metadata": {
        "id": "exPWq76rt7CO"
      },
      "execution_count": 79,
      "outputs": []
    },
    {
      "cell_type": "code",
      "source": [
        "#fill up ids\n",
        "output={}\n",
        "output['Candidate_ID']=[id['Candidate_ID']]*6\n",
        "output['Interaction_ID']=[id['Interaction_ID']]*6\n",
        "output['Test_ID']=[id['Test_ID']]*6\n",
        "output['Interaction_Mode']=[df.iloc[0]['Interaction_Mode']]*6\n",
        "output['MCQ_Percentage']=[(0 if output['Interaction_Mode']!='MCQ' else 1)]*6\n",
        "output['Sales_Quotient']=[quotient_dict['sales']]*6\n",
        "output['Manager_Quotient']=[quotient_dict['manager']]*6\n",
        "output['Leadership_Quotient']=[quotient_dict['leadership']]*6\n",
        "output['Learner_Quotient']=[quotient_dict['learning']]*6\n",
        "output['People_Quotient']=[quotient_dict['service']]*6\n",
        "output['Resume_Score']=[resume_sc]*6\n",
        "output['Pace']=[np.mean(net_word_count)]*6\n",
        "output['Power_word_density']=[power_density]*6\n",
        "output['Word_Cloud']=[cloud]*6\n",
        "output['Volume']=[volume]*6\n",
        "output['Pitch']=[pitc]*6\n",
        "output['Aggregate_content_score']=[content_score]*6\n",
        "output['Raw_interaction_score']=[interaction_score]*6\n",
        "output['Interaction_score']=[interaction_cohort]*6\n",
        "output['Question_no.']=list(df['Question_ID'])[:-1]\n",
        "output['MCQ_Value']=[0]*6\n",
        "#pd.DataFrame(output,columns=output.keys(),index=[0])"
      ],
      "metadata": {
        "id": "Oc3p14zalIJl"
      },
      "execution_count": 80,
      "outputs": []
    },
    {
      "cell_type": "code",
      "source": [
        "output['Question_no.']"
      ],
      "metadata": {
        "colab": {
          "base_uri": "https://localhost:8080/"
        },
        "id": "0SAJmLJuBS4k",
        "outputId": "0c86c96a-8749-42f9-9fdd-f2b3fda83b20"
      },
      "execution_count": 81,
      "outputs": [
        {
          "output_type": "execute_result",
          "data": {
            "text/plain": [
              "['1', '2', '3', '4', '5', '6']"
            ]
          },
          "metadata": {},
          "execution_count": 81
        }
      ]
    },
    {
      "cell_type": "code",
      "source": [
        "content_score"
      ],
      "metadata": {
        "colab": {
          "base_uri": "https://localhost:8080/"
        },
        "id": "6mpGU6IPCLD6",
        "outputId": "c9c96f2c-889b-4130-849b-834db98677af"
      },
      "execution_count": 82,
      "outputs": [
        {
          "output_type": "execute_result",
          "data": {
            "text/plain": [
              "59.18"
            ]
          },
          "metadata": {},
          "execution_count": 82
        }
      ]
    },
    {
      "cell_type": "code",
      "source": [
        "output['Transcript']=net_text\n",
        "output['Confidence']=confidence\n",
        "output['Fluency']=fluency\n",
        "output['Energy']=energy\n",
        "output['Content_score']=content_score\n",
        "output['per_question_score']=per_ques\n",
        "output['silence_number'],output['silence_length']=silence_secs,silence_num\n",
        "output['filler_words_score']=filler_words_cohort(net_text)\n",
        "output['sentiment_score']=happy_proba"
      ],
      "metadata": {
        "id": "UUCzxxjVwrJ8"
      },
      "execution_count": 83,
      "outputs": []
    },
    {
      "cell_type": "code",
      "source": [
        "import collections.abc\n",
        "\n",
        "for key,val in output.items():\n",
        "  if isinstance(val, collections.abc.Sequence):\n",
        "    print(key,len(val))\n",
        "  else:\n",
        "    print('no len for ',key)"
      ],
      "metadata": {
        "colab": {
          "base_uri": "https://localhost:8080/"
        },
        "id": "oqaR6AF3BVZQ",
        "outputId": "d033fcde-4ed1-4883-ee95-fcbe5323b3d6"
      },
      "execution_count": 84,
      "outputs": [
        {
          "output_type": "stream",
          "name": "stdout",
          "text": [
            "Candidate_ID 6\n",
            "Interaction_ID 6\n",
            "Test_ID 6\n",
            "Interaction_Mode 6\n",
            "MCQ_Percentage 6\n",
            "Sales_Quotient 6\n",
            "Manager_Quotient 6\n",
            "Leadership_Quotient 6\n",
            "Learner_Quotient 6\n",
            "People_Quotient 6\n",
            "Resume_Score 6\n",
            "Pace 6\n",
            "Power_word_density 6\n",
            "Word_Cloud 6\n",
            "Volume 6\n",
            "Pitch 6\n",
            "Aggregate_content_score 6\n",
            "Raw_interaction_score 6\n",
            "Interaction_score 6\n",
            "Question_no. 6\n",
            "MCQ_Value 6\n",
            "Transcript 6\n",
            "Confidence 6\n",
            "Fluency 6\n",
            "Energy 6\n",
            "no len for  Content_score\n",
            "per_question_score 6\n",
            "silence_number 6\n",
            "silence_length 6\n",
            "filler_words_score 6\n",
            "sentiment_score 6\n"
          ]
        }
      ]
    },
    {
      "cell_type": "code",
      "source": [
        "output=pd.DataFrame(output,columns=output.keys())"
      ],
      "metadata": {
        "id": "7dH_Yqny712O"
      },
      "execution_count": 85,
      "outputs": []
    },
    {
      "cell_type": "code",
      "source": [
        "cv2_imshow(output['Word_Cloud'][0])"
      ],
      "metadata": {
        "colab": {
          "base_uri": "https://localhost:8080/",
          "height": 817
        },
        "id": "2FtRno9t9Mvr",
        "outputId": "3b74ce83-48da-4129-d84f-af00a38c796d"
      },
      "execution_count": 86,
      "outputs": [
        {
          "output_type": "display_data",
          "data": {
            "text/plain": [
              "<PIL.Image.Image image mode=RGB size=800x800 at 0x7FEFB24F4D50>"
            ],
            "image/png": "[encoded data removed]"
          },
          "metadata": {}
        }
      ]
    },
    {
      "cell_type": "code",
      "source": [
        "output"
      ],
      "metadata": {
        "colab": {
          "base_uri": "https://localhost:8080/",
          "height": 678
        },
        "id": "ORRAI6reCww6",
        "outputId": "f8f0647b-ab03-47b7-e6b7-aec9cf995fd9"
      },
      "execution_count": 87,
      "outputs": [
        {
          "output_type": "execute_result",
          "data": {
            "text/plain": [
              "  Candidate_ID Interaction_ID Test_ID Interaction_Mode  MCQ_Percentage  \\\n",
              "0          686          67897    8890            Audio               0   \n",
              "1          686          67897    8890            Audio               0   \n",
              "2          686          67897    8890            Audio               0   \n",
              "3          686          67897    8890            Audio               0   \n",
              "4          686          67897    8890            Audio               0   \n",
              "5          686          67897    8890            Audio               0   \n",
              "\n",
              "   Sales_Quotient  Manager_Quotient  Leadership_Quotient  Learner_Quotient  \\\n",
              "0            3.54              9.12                 1.08              5.64   \n",
              "1            3.54              9.12                 1.08              5.64   \n",
              "2            3.54              9.12                 1.08              5.64   \n",
              "3            3.54              9.12                 1.08              5.64   \n",
              "4            3.54              9.12                 1.08              5.64   \n",
              "5            3.54              9.12                 1.08              5.64   \n",
              "\n",
              "   People_Quotient  ...                                         Transcript  \\\n",
              "0             4.58  ...  remind sidewalking passionate and enthusiastic...   \n",
              "1             4.58  ...  so rating from my Society scale of 1 to 10 I w...   \n",
              "2             4.58  ...  Mike distran so I think one of my greatest fri...   \n",
              "3             4.58  ...  so what makes me unique is basically what make...   \n",
              "4             4.58  ...  survive a 12-volt cordless complete mission is...   \n",
              "5             4.58  ...  survive a 12-volt cordless complete mission is...   \n",
              "\n",
              "   Confidence  Fluency Energy  Content_score  per_question_score  \\\n",
              "0           C        C      A          59.18                   C   \n",
              "1           C        B      A          59.18                   B   \n",
              "2           B        C      A          59.18                   B   \n",
              "3           C        C      A          59.18                   C   \n",
              "4           B        C      A          59.18                   B   \n",
              "5           B        C      A          59.18                   B   \n",
              "\n",
              "   silence_number  silence_length filler_words_score sentiment_score  \n",
              "0           2.052               2                  3        0.355507  \n",
              "1           0.000               0                  3        0.077419  \n",
              "2           0.000               0                  4        0.313527  \n",
              "3           0.000               0                  3        0.162576  \n",
              "4           0.000               0                  3        0.980709  \n",
              "5           0.000               0                  3        0.980709  \n",
              "\n",
              "[6 rows x 31 columns]"
            ],
            "text/html": [
              "\n",
              "  <div id=\"df-e5779239-9be8-4cde-90f9-4acf038e70e6\">\n",
              "    <div class=\"colab-df-container\">\n",
              "      <div>\n",
              "<style scoped>\n",
              "    .dataframe tbody tr th:only-of-type {\n",
              "        vertical-align: middle;\n",
              "    }\n",
              "\n",
              "    .dataframe tbody tr th {\n",
              "        vertical-align: top;\n",
              "    }\n",
              "\n",
              "    .dataframe thead th {\n",
              "        text-align: right;\n",
              "    }\n",
              "</style>\n",
              "<table border=\"1\" class=\"dataframe\">\n",
              "  <thead>\n",
              "    <tr style=\"text-align: right;\">\n",
              "      <th></th>\n",
              "      <th>Candidate_ID</th>\n",
              "      <th>Interaction_ID</th>\n",
              "      <th>Test_ID</th>\n",
              "      <th>Interaction_Mode</th>\n",
              "      <th>MCQ_Percentage</th>\n",
              "      <th>Sales_Quotient</th>\n",
              "      <th>Manager_Quotient</th>\n",
              "      <th>Leadership_Quotient</th>\n",
              "      <th>Learner_Quotient</th>\n",
              "      <th>People_Quotient</th>\n",
              "      <th>...</th>\n",
              "      <th>Transcript</th>\n",
              "      <th>Confidence</th>\n",
              "      <th>Fluency</th>\n",
              "      <th>Energy</th>\n",
              "      <th>Content_score</th>\n",
              "      <th>per_question_score</th>\n",
              "      <th>silence_number</th>\n",
              "      <th>silence_length</th>\n",
              "      <th>filler_words_score</th>\n",
              "      <th>sentiment_score</th>\n",
              "    </tr>\n",
              "  </thead>\n",
              "  <tbody>\n",
              "    <tr>\n",
              "      <th>0</th>\n",
              "      <td>686</td>\n",
              "      <td>67897</td>\n",
              "      <td>8890</td>\n",
              "      <td>Audio</td>\n",
              "      <td>0</td>\n",
              "      <td>3.54</td>\n",
              "      <td>9.12</td>\n",
              "      <td>1.08</td>\n",
              "      <td>5.64</td>\n",
              "      <td>4.58</td>\n",
              "      <td>...</td>\n",
              "      <td>remind sidewalking passionate and enthusiastic...</td>\n",
              "      <td>C</td>\n",
              "      <td>C</td>\n",
              "      <td>A</td>\n",
              "      <td>59.18</td>\n",
              "      <td>C</td>\n",
              "      <td>2.052</td>\n",
              "      <td>2</td>\n",
              "      <td>3</td>\n",
              "      <td>0.355507</td>\n",
              "    </tr>\n",
              "    <tr>\n",
              "      <th>1</th>\n",
              "      <td>686</td>\n",
              "      <td>67897</td>\n",
              "      <td>8890</td>\n",
              "      <td>Audio</td>\n",
              "      <td>0</td>\n",
              "      <td>3.54</td>\n",
              "      <td>9.12</td>\n",
              "      <td>1.08</td>\n",
              "      <td>5.64</td>\n",
              "      <td>4.58</td>\n",
              "      <td>...</td>\n",
              "      <td>so rating from my Society scale of 1 to 10 I w...</td>\n",
              "      <td>C</td>\n",
              "      <td>B</td>\n",
              "      <td>A</td>\n",
              "      <td>59.18</td>\n",
              "      <td>B</td>\n",
              "      <td>0.000</td>\n",
              "      <td>0</td>\n",
              "      <td>3</td>\n",
              "      <td>0.077419</td>\n",
              "    </tr>\n",
              "    <tr>\n",
              "      <th>2</th>\n",
              "      <td>686</td>\n",
              "      <td>67897</td>\n",
              "      <td>8890</td>\n",
              "      <td>Audio</td>\n",
              "      <td>0</td>\n",
              "      <td>3.54</td>\n",
              "      <td>9.12</td>\n",
              "      <td>1.08</td>\n",
              "      <td>5.64</td>\n",
              "      <td>4.58</td>\n",
              "      <td>...</td>\n",
              "      <td>Mike distran so I think one of my greatest fri...</td>\n",
              "      <td>B</td>\n",
              "      <td>C</td>\n",
              "      <td>A</td>\n",
              "      <td>59.18</td>\n",
              "      <td>B</td>\n",
              "      <td>0.000</td>\n",
              "      <td>0</td>\n",
              "      <td>4</td>\n",
              "      <td>0.313527</td>\n",
              "    </tr>\n",
              "    <tr>\n",
              "      <th>3</th>\n",
              "      <td>686</td>\n",
              "      <td>67897</td>\n",
              "      <td>8890</td>\n",
              "      <td>Audio</td>\n",
              "      <td>0</td>\n",
              "      <td>3.54</td>\n",
              "      <td>9.12</td>\n",
              "      <td>1.08</td>\n",
              "      <td>5.64</td>\n",
              "      <td>4.58</td>\n",
              "      <td>...</td>\n",
              "      <td>so what makes me unique is basically what make...</td>\n",
              "      <td>C</td>\n",
              "      <td>C</td>\n",
              "      <td>A</td>\n",
              "      <td>59.18</td>\n",
              "      <td>C</td>\n",
              "      <td>0.000</td>\n",
              "      <td>0</td>\n",
              "      <td>3</td>\n",
              "      <td>0.162576</td>\n",
              "    </tr>\n",
              "    <tr>\n",
              "      <th>4</th>\n",
              "      <td>686</td>\n",
              "      <td>67897</td>\n",
              "      <td>8890</td>\n",
              "      <td>Audio</td>\n",
              "      <td>0</td>\n",
              "      <td>3.54</td>\n",
              "      <td>9.12</td>\n",
              "      <td>1.08</td>\n",
              "      <td>5.64</td>\n",
              "      <td>4.58</td>\n",
              "      <td>...</td>\n",
              "      <td>survive a 12-volt cordless complete mission is...</td>\n",
              "      <td>B</td>\n",
              "      <td>C</td>\n",
              "      <td>A</td>\n",
              "      <td>59.18</td>\n",
              "      <td>B</td>\n",
              "      <td>0.000</td>\n",
              "      <td>0</td>\n",
              "      <td>3</td>\n",
              "      <td>0.980709</td>\n",
              "    </tr>\n",
              "    <tr>\n",
              "      <th>5</th>\n",
              "      <td>686</td>\n",
              "      <td>67897</td>\n",
              "      <td>8890</td>\n",
              "      <td>Audio</td>\n",
              "      <td>0</td>\n",
              "      <td>3.54</td>\n",
              "      <td>9.12</td>\n",
              "      <td>1.08</td>\n",
              "      <td>5.64</td>\n",
              "      <td>4.58</td>\n",
              "      <td>...</td>\n",
              "      <td>survive a 12-volt cordless complete mission is...</td>\n",
              "      <td>B</td>\n",
              "      <td>C</td>\n",
              "      <td>A</td>\n",
              "      <td>59.18</td>\n",
              "      <td>B</td>\n",
              "      <td>0.000</td>\n",
              "      <td>0</td>\n",
              "      <td>3</td>\n",
              "      <td>0.980709</td>\n",
              "    </tr>\n",
              "  </tbody>\n",
              "</table>\n",
              "<p>6 rows × 31 columns</p>\n",
              "</div>\n",
              "      <button class=\"colab-df-convert\" onclick=\"convertToInteractive('df-e5779239-9be8-4cde-90f9-4acf038e70e6')\"\n",
              "              title=\"Convert this dataframe to an interactive table.\"\n",
              "              style=\"display:none;\">\n",
              "        \n",
              "  <svg xmlns=\"http://www.w3.org/2000/svg\" height=\"24px\"viewBox=\"0 0 24 24\"\n",
              "       width=\"24px\">\n",
              "    <path d=\"M0 0h24v24H0V0z\" fill=\"none\"/>\n",
              "    <path d=\"M18.56 5.44l.94 2.06.94-2.06 2.06-.94-2.06-.94-.94-2.06-.94 2.06-2.06.94zm-11 1L8.5 8.5l.94-2.06 2.06-.94-2.06-.94L8.5 2.5l-.94 2.06-2.06.94zm10 10l.94 2.06.94-2.06 2.06-.94-2.06-.94-.94-2.06-.94 2.06-2.06.94z\"/><path d=\"M17.41 7.96l-1.37-1.37c-.4-.4-.92-.59-1.43-.59-.52 0-1.04.2-1.43.59L10.3 9.45l-7.72 7.72c-.78.78-.78 2.05 0 2.83L4 21.41c.39.39.9.59 1.41.59.51 0 1.02-.2 1.41-.59l7.78-7.78 2.81-2.81c.8-.78.8-2.07 0-2.86zM5.41 20L4 18.59l7.72-7.72 1.47 1.35L5.41 20z\"/>\n",
              "  </svg>\n",
              "      </button>\n",
              "      \n",
              "  <style>\n",
              "    .colab-df-container {\n",
              "      display:flex;\n",
              "      flex-wrap:wrap;\n",
              "      gap: 12px;\n",
              "    }\n",
              "\n",
              "    .colab-df-convert {\n",
              "      background-color: #E8F0FE;\n",
              "      border: none;\n",
              "      border-radius: 50%;\n",
              "      cursor: pointer;\n",
              "      display: none;\n",
              "      fill: #1967D2;\n",
              "      height: 32px;\n",
              "      padding: 0 0 0 0;\n",
              "      width: 32px;\n",
              "    }\n",
              "\n",
              "    .colab-df-convert:hover {\n",
              "      background-color: #E2EBFA;\n",
              "      box-shadow: 0px 1px 2px rgba(60, 64, 67, 0.3), 0px 1px 3px 1px rgba(60, 64, 67, 0.15);\n",
              "      fill: #174EA6;\n",
              "    }\n",
              "\n",
              "    [theme=dark] .colab-df-convert {\n",
              "      background-color: #3B4455;\n",
              "      fill: #D2E3FC;\n",
              "    }\n",
              "\n",
              "    [theme=dark] .colab-df-convert:hover {\n",
              "      background-color: #434B5C;\n",
              "      box-shadow: 0px 1px 3px 1px rgba(0, 0, 0, 0.15);\n",
              "      filter: drop-shadow(0px 1px 2px rgba(0, 0, 0, 0.3));\n",
              "      fill: #FFFFFF;\n",
              "    }\n",
              "  </style>\n",
              "\n",
              "      <script>\n",
              "        const buttonEl =\n",
              "          document.querySelector('#df-e5779239-9be8-4cde-90f9-4acf038e70e6 button.colab-df-convert');\n",
              "        buttonEl.style.display =\n",
              "          google.colab.kernel.accessAllowed ? 'block' : 'none';\n",
              "\n",
              "        async function convertToInteractive(key) {\n",
              "          const element = document.querySelector('#df-e5779239-9be8-4cde-90f9-4acf038e70e6');\n",
              "          const dataTable =\n",
              "            await google.colab.kernel.invokeFunction('convertToInteractive',\n",
              "                                                     [key], {});\n",
              "          if (!dataTable) return;\n",
              "\n",
              "          const docLinkHtml = 'Like what you see? Visit the ' +\n",
              "            '<a target=\"_blank\" href=https://colab.research.google.com/notebooks/data_table.ipynb>data table notebook</a>'\n",
              "            + ' to learn more about interactive tables.';\n",
              "          element.innerHTML = '';\n",
              "          dataTable['output_type'] = 'display_data';\n",
              "          await google.colab.output.renderOutput(dataTable, element);\n",
              "          const docLink = document.createElement('div');\n",
              "          docLink.innerHTML = docLinkHtml;\n",
              "          element.appendChild(docLink);\n",
              "        }\n",
              "      </script>\n",
              "    </div>\n",
              "  </div>\n",
              "  "
            ]
          },
          "metadata": {},
          "execution_count": 87
        }
      ]
    },
    {
      "cell_type": "code",
      "source": [
        ""
      ],
      "metadata": {
        "id": "jcIuyBV759nH"
      },
      "execution_count": null,
      "outputs": []
    }
  ]
}