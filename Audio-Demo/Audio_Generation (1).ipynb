{
  "nbformat": 4,
  "nbformat_minor": 0,
  "metadata": {
    "colab": {
      "name": "Audio_Generation.ipynb",
      "provenance": [],
      "collapsed_sections": [],
      "machine_shape": "hm",
      "include_colab_link": true
    },
    "kernelspec": {
      "name": "python3",
      "display_name": "Python 3"
    },
    "language_info": {
      "name": "python"
    },
    "accelerator": "TPU",
    "gpuClass": "standard",
    "widgets": {
      "application/vnd.jupyter.widget-state+json": {
        "bef3cabffd4a47cb8ec1eb1ab7dddc89": {
          "model_module": "@jupyter-widgets/controls",
          "model_name": "HBoxModel",
          "model_module_version": "1.5.0",
          "state": {
            "_dom_classes": [],
            "_model_module": "@jupyter-widgets/controls",
            "_model_module_version": "1.5.0",
            "_model_name": "HBoxModel",
            "_view_count": null,
            "_view_module": "@jupyter-widgets/controls",
            "_view_module_version": "1.5.0",
            "_view_name": "HBoxView",
            "box_style": "",
            "children": [
              "IPY_MODEL_a0b209fd9bdb4f7a912232dded2e1953",
              "IPY_MODEL_bbd8f6639346496c975b85a3637d0a04",
              "IPY_MODEL_df7938ba667849cb9473361f2d42c83f"
            ],
            "layout": "IPY_MODEL_0529b92e8402479d837e7a403a70c89f"
          }
        },
        "a0b209fd9bdb4f7a912232dded2e1953": {
          "model_module": "@jupyter-widgets/controls",
          "model_name": "HTMLModel",
          "model_module_version": "1.5.0",
          "state": {
            "_dom_classes": [],
            "_model_module": "@jupyter-widgets/controls",
            "_model_module_version": "1.5.0",
            "_model_name": "HTMLModel",
            "_view_count": null,
            "_view_module": "@jupyter-widgets/controls",
            "_view_module_version": "1.5.0",
            "_view_name": "HTMLView",
            "description": "",
            "description_tooltip": null,
            "layout": "IPY_MODEL_3f83cdffb91146658f2bd0f3cd42a2f0",
            "placeholder": "​",
            "style": "IPY_MODEL_d4282afc57294e94a405b16640543853",
            "value": "Downloading: 100%"
          }
        },
        "bbd8f6639346496c975b85a3637d0a04": {
          "model_module": "@jupyter-widgets/controls",
          "model_name": "FloatProgressModel",
          "model_module_version": "1.5.0",
          "state": {
            "_dom_classes": [],
            "_model_module": "@jupyter-widgets/controls",
            "_model_module_version": "1.5.0",
            "_model_name": "FloatProgressModel",
            "_view_count": null,
            "_view_module": "@jupyter-widgets/controls",
            "_view_module_version": "1.5.0",
            "_view_name": "ProgressView",
            "bar_style": "success",
            "description": "",
            "description_tooltip": null,
            "layout": "IPY_MODEL_82cc54a7c4d64007af531065ab8a13c8",
            "max": 1005,
            "min": 0,
            "orientation": "horizontal",
            "style": "IPY_MODEL_1df4b86e16ae45a5bceb8aaeb1c74bc7",
            "value": 1005
          }
        },
        "df7938ba667849cb9473361f2d42c83f": {
          "model_module": "@jupyter-widgets/controls",
          "model_name": "HTMLModel",
          "model_module_version": "1.5.0",
          "state": {
            "_dom_classes": [],
            "_model_module": "@jupyter-widgets/controls",
            "_model_module_version": "1.5.0",
            "_model_name": "HTMLModel",
            "_view_count": null,
            "_view_module": "@jupyter-widgets/controls",
            "_view_module_version": "1.5.0",
            "_view_name": "HTMLView",
            "description": "",
            "description_tooltip": null,
            "layout": "IPY_MODEL_6f686623a17349c2a1e1c763f258fbb2",
            "placeholder": "​",
            "style": "IPY_MODEL_eb3f6cb23d3148e683ac52e56fd5872c",
            "value": " 1.00k/1.00k [00:00&lt;00:00, 35.8kB/s]"
          }
        },
        "0529b92e8402479d837e7a403a70c89f": {
          "model_module": "@jupyter-widgets/base",
          "model_name": "LayoutModel",
          "model_module_version": "1.2.0",
          "state": {
            "_model_module": "@jupyter-widgets/base",
            "_model_module_version": "1.2.0",
            "_model_name": "LayoutModel",
            "_view_count": null,
            "_view_module": "@jupyter-widgets/base",
            "_view_module_version": "1.2.0",
            "_view_name": "LayoutView",
            "align_content": null,
            "align_items": null,
            "align_self": null,
            "border": null,
            "bottom": null,
            "display": null,
            "flex": null,
            "flex_flow": null,
            "grid_area": null,
            "grid_auto_columns": null,
            "grid_auto_flow": null,
            "grid_auto_rows": null,
            "grid_column": null,
            "grid_gap": null,
            "grid_row": null,
            "grid_template_areas": null,
            "grid_template_columns": null,
            "grid_template_rows": null,
            "height": null,
            "justify_content": null,
            "justify_items": null,
            "left": null,
            "margin": null,
            "max_height": null,
            "max_width": null,
            "min_height": null,
            "min_width": null,
            "object_fit": null,
            "object_position": null,
            "order": null,
            "overflow": null,
            "overflow_x": null,
            "overflow_y": null,
            "padding": null,
            "right": null,
            "top": null,
            "visibility": null,
            "width": null
          }
        },
        "3f83cdffb91146658f2bd0f3cd42a2f0": {
          "model_module": "@jupyter-widgets/base",
          "model_name": "LayoutModel",
          "model_module_version": "1.2.0",
          "state": {
            "_model_module": "@jupyter-widgets/base",
            "_model_module_version": "1.2.0",
            "_model_name": "LayoutModel",
            "_view_count": null,
            "_view_module": "@jupyter-widgets/base",
            "_view_module_version": "1.2.0",
            "_view_name": "LayoutView",
            "align_content": null,
            "align_items": null,
            "align_self": null,
            "border": null,
            "bottom": null,
            "display": null,
            "flex": null,
            "flex_flow": null,
            "grid_area": null,
            "grid_auto_columns": null,
            "grid_auto_flow": null,
            "grid_auto_rows": null,
            "grid_column": null,
            "grid_gap": null,
            "grid_row": null,
            "grid_template_areas": null,
            "grid_template_columns": null,
            "grid_template_rows": null,
            "height": null,
            "justify_content": null,
            "justify_items": null,
            "left": null,
            "margin": null,
            "max_height": null,
            "max_width": null,
            "min_height": null,
            "min_width": null,
            "object_fit": null,
            "object_position": null,
            "order": null,
            "overflow": null,
            "overflow_x": null,
            "overflow_y": null,
            "padding": null,
            "right": null,
            "top": null,
            "visibility": null,
            "width": null
          }
        },
        "d4282afc57294e94a405b16640543853": {
          "model_module": "@jupyter-widgets/controls",
          "model_name": "DescriptionStyleModel",
          "model_module_version": "1.5.0",
          "state": {
            "_model_module": "@jupyter-widgets/controls",
            "_model_module_version": "1.5.0",
            "_model_name": "DescriptionStyleModel",
            "_view_count": null,
            "_view_module": "@jupyter-widgets/base",
            "_view_module_version": "1.2.0",
            "_view_name": "StyleView",
            "description_width": ""
          }
        },
        "82cc54a7c4d64007af531065ab8a13c8": {
          "model_module": "@jupyter-widgets/base",
          "model_name": "LayoutModel",
          "model_module_version": "1.2.0",
          "state": {
            "_model_module": "@jupyter-widgets/base",
            "_model_module_version": "1.2.0",
            "_model_name": "LayoutModel",
            "_view_count": null,
            "_view_module": "@jupyter-widgets/base",
            "_view_module_version": "1.2.0",
            "_view_name": "LayoutView",
            "align_content": null,
            "align_items": null,
            "align_self": null,
            "border": null,
            "bottom": null,
            "display": null,
            "flex": null,
            "flex_flow": null,
            "grid_area": null,
            "grid_auto_columns": null,
            "grid_auto_flow": null,
            "grid_auto_rows": null,
            "grid_column": null,
            "grid_gap": null,
            "grid_row": null,
            "grid_template_areas": null,
            "grid_template_columns": null,
            "grid_template_rows": null,
            "height": null,
            "justify_content": null,
            "justify_items": null,
            "left": null,
            "margin": null,
            "max_height": null,
            "max_width": null,
            "min_height": null,
            "min_width": null,
            "object_fit": null,
            "object_position": null,
            "order": null,
            "overflow": null,
            "overflow_x": null,
            "overflow_y": null,
            "padding": null,
            "right": null,
            "top": null,
            "visibility": null,
            "width": null
          }
        },
        "1df4b86e16ae45a5bceb8aaeb1c74bc7": {
          "model_module": "@jupyter-widgets/controls",
          "model_name": "ProgressStyleModel",
          "model_module_version": "1.5.0",
          "state": {
            "_model_module": "@jupyter-widgets/controls",
            "_model_module_version": "1.5.0",
            "_model_name": "ProgressStyleModel",
            "_view_count": null,
            "_view_module": "@jupyter-widgets/base",
            "_view_module_version": "1.2.0",
            "_view_name": "StyleView",
            "bar_color": null,
            "description_width": ""
          }
        },
        "6f686623a17349c2a1e1c763f258fbb2": {
          "model_module": "@jupyter-widgets/base",
          "model_name": "LayoutModel",
          "model_module_version": "1.2.0",
          "state": {
            "_model_module": "@jupyter-widgets/base",
            "_model_module_version": "1.2.0",
            "_model_name": "LayoutModel",
            "_view_count": null,
            "_view_module": "@jupyter-widgets/base",
            "_view_module_version": "1.2.0",
            "_view_name": "LayoutView",
            "align_content": null,
            "align_items": null,
            "align_self": null,
            "border": null,
            "bottom": null,
            "display": null,
            "flex": null,
            "flex_flow": null,
            "grid_area": null,
            "grid_auto_columns": null,
            "grid_auto_flow": null,
            "grid_auto_rows": null,
            "grid_column": null,
            "grid_gap": null,
            "grid_row": null,
            "grid_template_areas": null,
            "grid_template_columns": null,
            "grid_template_rows": null,
            "height": null,
            "justify_content": null,
            "justify_items": null,
            "left": null,
            "margin": null,
            "max_height": null,
            "max_width": null,
            "min_height": null,
            "min_width": null,
            "object_fit": null,
            "object_position": null,
            "order": null,
            "overflow": null,
            "overflow_x": null,
            "overflow_y": null,
            "padding": null,
            "right": null,
            "top": null,
            "visibility": null,
            "width": null
          }
        },
        "eb3f6cb23d3148e683ac52e56fd5872c": {
          "model_module": "@jupyter-widgets/controls",
          "model_name": "DescriptionStyleModel",
          "model_module_version": "1.5.0",
          "state": {
            "_model_module": "@jupyter-widgets/controls",
            "_model_module_version": "1.5.0",
            "_model_name": "DescriptionStyleModel",
            "_view_count": null,
            "_view_module": "@jupyter-widgets/base",
            "_view_module_version": "1.2.0",
            "_view_name": "StyleView",
            "description_width": ""
          }
        },
        "c578f1fb93c445758261dd0a35930e34": {
          "model_module": "@jupyter-widgets/controls",
          "model_name": "HBoxModel",
          "model_module_version": "1.5.0",
          "state": {
            "_dom_classes": [],
            "_model_module": "@jupyter-widgets/controls",
            "_model_module_version": "1.5.0",
            "_model_name": "HBoxModel",
            "_view_count": null,
            "_view_module": "@jupyter-widgets/controls",
            "_view_module_version": "1.5.0",
            "_view_name": "HBoxView",
            "box_style": "",
            "children": [
              "IPY_MODEL_becb5f7a4fa54f289ad6f3aa0ebb74aa",
              "IPY_MODEL_c4981431c1334755a50a92566f7facf8",
              "IPY_MODEL_aef45968317f442381143a9a5dbe2583"
            ],
            "layout": "IPY_MODEL_6403202e26f845cdb6ada6aaf519f395"
          }
        },
        "becb5f7a4fa54f289ad6f3aa0ebb74aa": {
          "model_module": "@jupyter-widgets/controls",
          "model_name": "HTMLModel",
          "model_module_version": "1.5.0",
          "state": {
            "_dom_classes": [],
            "_model_module": "@jupyter-widgets/controls",
            "_model_module_version": "1.5.0",
            "_model_name": "HTMLModel",
            "_view_count": null,
            "_view_module": "@jupyter-widgets/controls",
            "_view_module_version": "1.5.0",
            "_view_name": "HTMLView",
            "description": "",
            "description_tooltip": null,
            "layout": "IPY_MODEL_fc6269c69092496ab284cc839ec54c18",
            "placeholder": "​",
            "style": "IPY_MODEL_a8c6b7f0269948ada32b23516d2e2a3a",
            "value": "Downloading: 100%"
          }
        },
        "c4981431c1334755a50a92566f7facf8": {
          "model_module": "@jupyter-widgets/controls",
          "model_name": "FloatProgressModel",
          "model_module_version": "1.5.0",
          "state": {
            "_dom_classes": [],
            "_model_module": "@jupyter-widgets/controls",
            "_model_module_version": "1.5.0",
            "_model_name": "FloatProgressModel",
            "_view_count": null,
            "_view_module": "@jupyter-widgets/controls",
            "_view_module_version": "1.5.0",
            "_view_name": "ProgressView",
            "bar_style": "success",
            "description": "",
            "description_tooltip": null,
            "layout": "IPY_MODEL_22067008a54945ee80814f5349a870ff",
            "max": 328544361,
            "min": 0,
            "orientation": "horizontal",
            "style": "IPY_MODEL_81f99e57da524e9983143105ad0abd1e",
            "value": 328544361
          }
        },
        "aef45968317f442381143a9a5dbe2583": {
          "model_module": "@jupyter-widgets/controls",
          "model_name": "HTMLModel",
          "model_module_version": "1.5.0",
          "state": {
            "_dom_classes": [],
            "_model_module": "@jupyter-widgets/controls",
            "_model_module_version": "1.5.0",
            "_model_name": "HTMLModel",
            "_view_count": null,
            "_view_module": "@jupyter-widgets/controls",
            "_view_module_version": "1.5.0",
            "_view_name": "HTMLView",
            "description": "",
            "description_tooltip": null,
            "layout": "IPY_MODEL_2d366dc7ab3c4a43a1a85ccd4bf15336",
            "placeholder": "​",
            "style": "IPY_MODEL_919b19e809324ff4828b48bba4e844cf",
            "value": " 329M/329M [00:05&lt;00:00, 63.1MB/s]"
          }
        },
        "6403202e26f845cdb6ada6aaf519f395": {
          "model_module": "@jupyter-widgets/base",
          "model_name": "LayoutModel",
          "model_module_version": "1.2.0",
          "state": {
            "_model_module": "@jupyter-widgets/base",
            "_model_module_version": "1.2.0",
            "_model_name": "LayoutModel",
            "_view_count": null,
            "_view_module": "@jupyter-widgets/base",
            "_view_module_version": "1.2.0",
            "_view_name": "LayoutView",
            "align_content": null,
            "align_items": null,
            "align_self": null,
            "border": null,
            "bottom": null,
            "display": null,
            "flex": null,
            "flex_flow": null,
            "grid_area": null,
            "grid_auto_columns": null,
            "grid_auto_flow": null,
            "grid_auto_rows": null,
            "grid_column": null,
            "grid_gap": null,
            "grid_row": null,
            "grid_template_areas": null,
            "grid_template_columns": null,
            "grid_template_rows": null,
            "height": null,
            "justify_content": null,
            "justify_items": null,
            "left": null,
            "margin": null,
            "max_height": null,
            "max_width": null,
            "min_height": null,
            "min_width": null,
            "object_fit": null,
            "object_position": null,
            "order": null,
            "overflow": null,
            "overflow_x": null,
            "overflow_y": null,
            "padding": null,
            "right": null,
            "top": null,
            "visibility": null,
            "width": null
          }
        },
        "fc6269c69092496ab284cc839ec54c18": {
          "model_module": "@jupyter-widgets/base",
          "model_name": "LayoutModel",
          "model_module_version": "1.2.0",
          "state": {
            "_model_module": "@jupyter-widgets/base",
            "_model_module_version": "1.2.0",
            "_model_name": "LayoutModel",
            "_view_count": null,
            "_view_module": "@jupyter-widgets/base",
            "_view_module_version": "1.2.0",
            "_view_name": "LayoutView",
            "align_content": null,
            "align_items": null,
            "align_self": null,
            "border": null,
            "bottom": null,
            "display": null,
            "flex": null,
            "flex_flow": null,
            "grid_area": null,
            "grid_auto_columns": null,
            "grid_auto_flow": null,
            "grid_auto_rows": null,
            "grid_column": null,
            "grid_gap": null,
            "grid_row": null,
            "grid_template_areas": null,
            "grid_template_columns": null,
            "grid_template_rows": null,
            "height": null,
            "justify_content": null,
            "justify_items": null,
            "left": null,
            "margin": null,
            "max_height": null,
            "max_width": null,
            "min_height": null,
            "min_width": null,
            "object_fit": null,
            "object_position": null,
            "order": null,
            "overflow": null,
            "overflow_x": null,
            "overflow_y": null,
            "padding": null,
            "right": null,
            "top": null,
            "visibility": null,
            "width": null
          }
        },
        "a8c6b7f0269948ada32b23516d2e2a3a": {
          "model_module": "@jupyter-widgets/controls",
          "model_name": "DescriptionStyleModel",
          "model_module_version": "1.5.0",
          "state": {
            "_model_module": "@jupyter-widgets/controls",
            "_model_module_version": "1.5.0",
            "_model_name": "DescriptionStyleModel",
            "_view_count": null,
            "_view_module": "@jupyter-widgets/base",
            "_view_module_version": "1.2.0",
            "_view_name": "StyleView",
            "description_width": ""
          }
        },
        "22067008a54945ee80814f5349a870ff": {
          "model_module": "@jupyter-widgets/base",
          "model_name": "LayoutModel",
          "model_module_version": "1.2.0",
          "state": {
            "_model_module": "@jupyter-widgets/base",
            "_model_module_version": "1.2.0",
            "_model_name": "LayoutModel",
            "_view_count": null,
            "_view_module": "@jupyter-widgets/base",
            "_view_module_version": "1.2.0",
            "_view_name": "LayoutView",
            "align_content": null,
            "align_items": null,
            "align_self": null,
            "border": null,
            "bottom": null,
            "display": null,
            "flex": null,
            "flex_flow": null,
            "grid_area": null,
            "grid_auto_columns": null,
            "grid_auto_flow": null,
            "grid_auto_rows": null,
            "grid_column": null,
            "grid_gap": null,
            "grid_row": null,
            "grid_template_areas": null,
            "grid_template_columns": null,
            "grid_template_rows": null,
            "height": null,
            "justify_content": null,
            "justify_items": null,
            "left": null,
            "margin": null,
            "max_height": null,
            "max_width": null,
            "min_height": null,
            "min_width": null,
            "object_fit": null,
            "object_position": null,
            "order": null,
            "overflow": null,
            "overflow_x": null,
            "overflow_y": null,
            "padding": null,
            "right": null,
            "top": null,
            "visibility": null,
            "width": null
          }
        },
        "81f99e57da524e9983143105ad0abd1e": {
          "model_module": "@jupyter-widgets/controls",
          "model_name": "ProgressStyleModel",
          "model_module_version": "1.5.0",
          "state": {
            "_model_module": "@jupyter-widgets/controls",
            "_model_module_version": "1.5.0",
            "_model_name": "ProgressStyleModel",
            "_view_count": null,
            "_view_module": "@jupyter-widgets/base",
            "_view_module_version": "1.2.0",
            "_view_name": "StyleView",
            "bar_color": null,
            "description_width": ""
          }
        },
        "2d366dc7ab3c4a43a1a85ccd4bf15336": {
          "model_module": "@jupyter-widgets/base",
          "model_name": "LayoutModel",
          "model_module_version": "1.2.0",
          "state": {
            "_model_module": "@jupyter-widgets/base",
            "_model_module_version": "1.2.0",
            "_model_name": "LayoutModel",
            "_view_count": null,
            "_view_module": "@jupyter-widgets/base",
            "_view_module_version": "1.2.0",
            "_view_name": "LayoutView",
            "align_content": null,
            "align_items": null,
            "align_self": null,
            "border": null,
            "bottom": null,
            "display": null,
            "flex": null,
            "flex_flow": null,
            "grid_area": null,
            "grid_auto_columns": null,
            "grid_auto_flow": null,
            "grid_auto_rows": null,
            "grid_column": null,
            "grid_gap": null,
            "grid_row": null,
            "grid_template_areas": null,
            "grid_template_columns": null,
            "grid_template_rows": null,
            "height": null,
            "justify_content": null,
            "justify_items": null,
            "left": null,
            "margin": null,
            "max_height": null,
            "max_width": null,
            "min_height": null,
            "min_width": null,
            "object_fit": null,
            "object_position": null,
            "order": null,
            "overflow": null,
            "overflow_x": null,
            "overflow_y": null,
            "padding": null,
            "right": null,
            "top": null,
            "visibility": null,
            "width": null
          }
        },
        "919b19e809324ff4828b48bba4e844cf": {
          "model_module": "@jupyter-widgets/controls",
          "model_name": "DescriptionStyleModel",
          "model_module_version": "1.5.0",
          "state": {
            "_model_module": "@jupyter-widgets/controls",
            "_model_module_version": "1.5.0",
            "_model_name": "DescriptionStyleModel",
            "_view_count": null,
            "_view_module": "@jupyter-widgets/base",
            "_view_module_version": "1.2.0",
            "_view_name": "StyleView",
            "description_width": ""
          }
        },
        "fb27da35aff3484fa9c547caf20f9b92": {
          "model_module": "@jupyter-widgets/controls",
          "model_name": "HBoxModel",
          "model_module_version": "1.5.0",
          "state": {
            "_dom_classes": [],
            "_model_module": "@jupyter-widgets/controls",
            "_model_module_version": "1.5.0",
            "_model_name": "HBoxModel",
            "_view_count": null,
            "_view_module": "@jupyter-widgets/controls",
            "_view_module_version": "1.5.0",
            "_view_name": "HBoxView",
            "box_style": "",
            "children": [
              "IPY_MODEL_860d0fc823934ad899af1aa0aae98517",
              "IPY_MODEL_12f55e42e8254888a017709b9ead6622",
              "IPY_MODEL_af424c81bd374922a28954ad1673ab32"
            ],
            "layout": "IPY_MODEL_2df99c01a67441e1963d8d7e382afa5e"
          }
        },
        "860d0fc823934ad899af1aa0aae98517": {
          "model_module": "@jupyter-widgets/controls",
          "model_name": "HTMLModel",
          "model_module_version": "1.5.0",
          "state": {
            "_dom_classes": [],
            "_model_module": "@jupyter-widgets/controls",
            "_model_module_version": "1.5.0",
            "_model_name": "HTMLModel",
            "_view_count": null,
            "_view_module": "@jupyter-widgets/controls",
            "_view_module_version": "1.5.0",
            "_view_name": "HTMLView",
            "description": "",
            "description_tooltip": null,
            "layout": "IPY_MODEL_dc7661302f06437fb42ca702ee58044e",
            "placeholder": "​",
            "style": "IPY_MODEL_1126d8dc51744db496ec1319ad45ad2d",
            "value": "Downloading: 100%"
          }
        },
        "12f55e42e8254888a017709b9ead6622": {
          "model_module": "@jupyter-widgets/controls",
          "model_name": "FloatProgressModel",
          "model_module_version": "1.5.0",
          "state": {
            "_dom_classes": [],
            "_model_module": "@jupyter-widgets/controls",
            "_model_module_version": "1.5.0",
            "_model_name": "FloatProgressModel",
            "_view_count": null,
            "_view_module": "@jupyter-widgets/controls",
            "_view_module_version": "1.5.0",
            "_view_name": "ProgressView",
            "bar_style": "success",
            "description": "",
            "description_tooltip": null,
            "layout": "IPY_MODEL_4e1105b0f9204aad94cdb3a2caac47e9",
            "max": 294,
            "min": 0,
            "orientation": "horizontal",
            "style": "IPY_MODEL_4bc49c3ddb3d4de3bd4477353e4817c0",
            "value": 294
          }
        },
        "af424c81bd374922a28954ad1673ab32": {
          "model_module": "@jupyter-widgets/controls",
          "model_name": "HTMLModel",
          "model_module_version": "1.5.0",
          "state": {
            "_dom_classes": [],
            "_model_module": "@jupyter-widgets/controls",
            "_model_module_version": "1.5.0",
            "_model_name": "HTMLModel",
            "_view_count": null,
            "_view_module": "@jupyter-widgets/controls",
            "_view_module_version": "1.5.0",
            "_view_name": "HTMLView",
            "description": "",
            "description_tooltip": null,
            "layout": "IPY_MODEL_a8344251be9c4289b0069f0e886f804d",
            "placeholder": "​",
            "style": "IPY_MODEL_5046f343bb1b4899bf4c2cb12ed8c286",
            "value": " 294/294 [00:00&lt;00:00, 11.7kB/s]"
          }
        },
        "2df99c01a67441e1963d8d7e382afa5e": {
          "model_module": "@jupyter-widgets/base",
          "model_name": "LayoutModel",
          "model_module_version": "1.2.0",
          "state": {
            "_model_module": "@jupyter-widgets/base",
            "_model_module_version": "1.2.0",
            "_model_name": "LayoutModel",
            "_view_count": null,
            "_view_module": "@jupyter-widgets/base",
            "_view_module_version": "1.2.0",
            "_view_name": "LayoutView",
            "align_content": null,
            "align_items": null,
            "align_self": null,
            "border": null,
            "bottom": null,
            "display": null,
            "flex": null,
            "flex_flow": null,
            "grid_area": null,
            "grid_auto_columns": null,
            "grid_auto_flow": null,
            "grid_auto_rows": null,
            "grid_column": null,
            "grid_gap": null,
            "grid_row": null,
            "grid_template_areas": null,
            "grid_template_columns": null,
            "grid_template_rows": null,
            "height": null,
            "justify_content": null,
            "justify_items": null,
            "left": null,
            "margin": null,
            "max_height": null,
            "max_width": null,
            "min_height": null,
            "min_width": null,
            "object_fit": null,
            "object_position": null,
            "order": null,
            "overflow": null,
            "overflow_x": null,
            "overflow_y": null,
            "padding": null,
            "right": null,
            "top": null,
            "visibility": null,
            "width": null
          }
        },
        "dc7661302f06437fb42ca702ee58044e": {
          "model_module": "@jupyter-widgets/base",
          "model_name": "LayoutModel",
          "model_module_version": "1.2.0",
          "state": {
            "_model_module": "@jupyter-widgets/base",
            "_model_module_version": "1.2.0",
            "_model_name": "LayoutModel",
            "_view_count": null,
            "_view_module": "@jupyter-widgets/base",
            "_view_module_version": "1.2.0",
            "_view_name": "LayoutView",
            "align_content": null,
            "align_items": null,
            "align_self": null,
            "border": null,
            "bottom": null,
            "display": null,
            "flex": null,
            "flex_flow": null,
            "grid_area": null,
            "grid_auto_columns": null,
            "grid_auto_flow": null,
            "grid_auto_rows": null,
            "grid_column": null,
            "grid_gap": null,
            "grid_row": null,
            "grid_template_areas": null,
            "grid_template_columns": null,
            "grid_template_rows": null,
            "height": null,
            "justify_content": null,
            "justify_items": null,
            "left": null,
            "margin": null,
            "max_height": null,
            "max_width": null,
            "min_height": null,
            "min_width": null,
            "object_fit": null,
            "object_position": null,
            "order": null,
            "overflow": null,
            "overflow_x": null,
            "overflow_y": null,
            "padding": null,
            "right": null,
            "top": null,
            "visibility": null,
            "width": null
          }
        },
        "1126d8dc51744db496ec1319ad45ad2d": {
          "model_module": "@jupyter-widgets/controls",
          "model_name": "DescriptionStyleModel",
          "model_module_version": "1.5.0",
          "state": {
            "_model_module": "@jupyter-widgets/controls",
            "_model_module_version": "1.5.0",
            "_model_name": "DescriptionStyleModel",
            "_view_count": null,
            "_view_module": "@jupyter-widgets/base",
            "_view_module_version": "1.2.0",
            "_view_name": "StyleView",
            "description_width": ""
          }
        },
        "4e1105b0f9204aad94cdb3a2caac47e9": {
          "model_module": "@jupyter-widgets/base",
          "model_name": "LayoutModel",
          "model_module_version": "1.2.0",
          "state": {
            "_model_module": "@jupyter-widgets/base",
            "_model_module_version": "1.2.0",
            "_model_name": "LayoutModel",
            "_view_count": null,
            "_view_module": "@jupyter-widgets/base",
            "_view_module_version": "1.2.0",
            "_view_name": "LayoutView",
            "align_content": null,
            "align_items": null,
            "align_self": null,
            "border": null,
            "bottom": null,
            "display": null,
            "flex": null,
            "flex_flow": null,
            "grid_area": null,
            "grid_auto_columns": null,
            "grid_auto_flow": null,
            "grid_auto_rows": null,
            "grid_column": null,
            "grid_gap": null,
            "grid_row": null,
            "grid_template_areas": null,
            "grid_template_columns": null,
            "grid_template_rows": null,
            "height": null,
            "justify_content": null,
            "justify_items": null,
            "left": null,
            "margin": null,
            "max_height": null,
            "max_width": null,
            "min_height": null,
            "min_width": null,
            "object_fit": null,
            "object_position": null,
            "order": null,
            "overflow": null,
            "overflow_x": null,
            "overflow_y": null,
            "padding": null,
            "right": null,
            "top": null,
            "visibility": null,
            "width": null
          }
        },
        "4bc49c3ddb3d4de3bd4477353e4817c0": {
          "model_module": "@jupyter-widgets/controls",
          "model_name": "ProgressStyleModel",
          "model_module_version": "1.5.0",
          "state": {
            "_model_module": "@jupyter-widgets/controls",
            "_model_module_version": "1.5.0",
            "_model_name": "ProgressStyleModel",
            "_view_count": null,
            "_view_module": "@jupyter-widgets/base",
            "_view_module_version": "1.2.0",
            "_view_name": "StyleView",
            "bar_color": null,
            "description_width": ""
          }
        },
        "a8344251be9c4289b0069f0e886f804d": {
          "model_module": "@jupyter-widgets/base",
          "model_name": "LayoutModel",
          "model_module_version": "1.2.0",
          "state": {
            "_model_module": "@jupyter-widgets/base",
            "_model_module_version": "1.2.0",
            "_model_name": "LayoutModel",
            "_view_count": null,
            "_view_module": "@jupyter-widgets/base",
            "_view_module_version": "1.2.0",
            "_view_name": "LayoutView",
            "align_content": null,
            "align_items": null,
            "align_self": null,
            "border": null,
            "bottom": null,
            "display": null,
            "flex": null,
            "flex_flow": null,
            "grid_area": null,
            "grid_auto_columns": null,
            "grid_auto_flow": null,
            "grid_auto_rows": null,
            "grid_column": null,
            "grid_gap": null,
            "grid_row": null,
            "grid_template_areas": null,
            "grid_template_columns": null,
            "grid_template_rows": null,
            "height": null,
            "justify_content": null,
            "justify_items": null,
            "left": null,
            "margin": null,
            "max_height": null,
            "max_width": null,
            "min_height": null,
            "min_width": null,
            "object_fit": null,
            "object_position": null,
            "order": null,
            "overflow": null,
            "overflow_x": null,
            "overflow_y": null,
            "padding": null,
            "right": null,
            "top": null,
            "visibility": null,
            "width": null
          }
        },
        "5046f343bb1b4899bf4c2cb12ed8c286": {
          "model_module": "@jupyter-widgets/controls",
          "model_name": "DescriptionStyleModel",
          "model_module_version": "1.5.0",
          "state": {
            "_model_module": "@jupyter-widgets/controls",
            "_model_module_version": "1.5.0",
            "_model_name": "DescriptionStyleModel",
            "_view_count": null,
            "_view_module": "@jupyter-widgets/base",
            "_view_module_version": "1.2.0",
            "_view_name": "StyleView",
            "description_width": ""
          }
        },
        "e8b7a43f26574449996a464292347cf7": {
          "model_module": "@jupyter-widgets/controls",
          "model_name": "HBoxModel",
          "model_module_version": "1.5.0",
          "state": {
            "_dom_classes": [],
            "_model_module": "@jupyter-widgets/controls",
            "_model_module_version": "1.5.0",
            "_model_name": "HBoxModel",
            "_view_count": null,
            "_view_module": "@jupyter-widgets/controls",
            "_view_module_version": "1.5.0",
            "_view_name": "HBoxView",
            "box_style": "",
            "children": [
              "IPY_MODEL_06962fded7bb4acb9f3e3a3640551980",
              "IPY_MODEL_57482d77cc124936810c797ef86cf335",
              "IPY_MODEL_71a57486323f4b1bb2deb46a6a81ce97"
            ],
            "layout": "IPY_MODEL_3f84760f1d44490a8bc065b9abef4946"
          }
        },
        "06962fded7bb4acb9f3e3a3640551980": {
          "model_module": "@jupyter-widgets/controls",
          "model_name": "HTMLModel",
          "model_module_version": "1.5.0",
          "state": {
            "_dom_classes": [],
            "_model_module": "@jupyter-widgets/controls",
            "_model_module_version": "1.5.0",
            "_model_name": "HTMLModel",
            "_view_count": null,
            "_view_module": "@jupyter-widgets/controls",
            "_view_module_version": "1.5.0",
            "_view_name": "HTMLView",
            "description": "",
            "description_tooltip": null,
            "layout": "IPY_MODEL_59e1ae6b26a546e483af6d327c75bf34",
            "placeholder": "​",
            "style": "IPY_MODEL_64748be6452a4b578b00c8b286f3aaa4",
            "value": "Downloading: 100%"
          }
        },
        "57482d77cc124936810c797ef86cf335": {
          "model_module": "@jupyter-widgets/controls",
          "model_name": "FloatProgressModel",
          "model_module_version": "1.5.0",
          "state": {
            "_dom_classes": [],
            "_model_module": "@jupyter-widgets/controls",
            "_model_module_version": "1.5.0",
            "_model_name": "FloatProgressModel",
            "_view_count": null,
            "_view_module": "@jupyter-widgets/controls",
            "_view_module_version": "1.5.0",
            "_view_name": "ProgressView",
            "bar_style": "success",
            "description": "",
            "description_tooltip": null,
            "layout": "IPY_MODEL_a85f8f1e65b842988ed44746dfe61718",
            "max": 798293,
            "min": 0,
            "orientation": "horizontal",
            "style": "IPY_MODEL_7d14113d937247f1858df842d242fd01",
            "value": 798293
          }
        },
        "71a57486323f4b1bb2deb46a6a81ce97": {
          "model_module": "@jupyter-widgets/controls",
          "model_name": "HTMLModel",
          "model_module_version": "1.5.0",
          "state": {
            "_dom_classes": [],
            "_model_module": "@jupyter-widgets/controls",
            "_model_module_version": "1.5.0",
            "_model_name": "HTMLModel",
            "_view_count": null,
            "_view_module": "@jupyter-widgets/controls",
            "_view_module_version": "1.5.0",
            "_view_name": "HTMLView",
            "description": "",
            "description_tooltip": null,
            "layout": "IPY_MODEL_02b7341a75984bbeb8b4a0129754d0e8",
            "placeholder": "​",
            "style": "IPY_MODEL_4adbcf2aca934f43a4547bdcf04e427a",
            "value": " 798k/798k [00:00&lt;00:00, 1.71MB/s]"
          }
        },
        "3f84760f1d44490a8bc065b9abef4946": {
          "model_module": "@jupyter-widgets/base",
          "model_name": "LayoutModel",
          "model_module_version": "1.2.0",
          "state": {
            "_model_module": "@jupyter-widgets/base",
            "_model_module_version": "1.2.0",
            "_model_name": "LayoutModel",
            "_view_count": null,
            "_view_module": "@jupyter-widgets/base",
            "_view_module_version": "1.2.0",
            "_view_name": "LayoutView",
            "align_content": null,
            "align_items": null,
            "align_self": null,
            "border": null,
            "bottom": null,
            "display": null,
            "flex": null,
            "flex_flow": null,
            "grid_area": null,
            "grid_auto_columns": null,
            "grid_auto_flow": null,
            "grid_auto_rows": null,
            "grid_column": null,
            "grid_gap": null,
            "grid_row": null,
            "grid_template_areas": null,
            "grid_template_columns": null,
            "grid_template_rows": null,
            "height": null,
            "justify_content": null,
            "justify_items": null,
            "left": null,
            "margin": null,
            "max_height": null,
            "max_width": null,
            "min_height": null,
            "min_width": null,
            "object_fit": null,
            "object_position": null,
            "order": null,
            "overflow": null,
            "overflow_x": null,
            "overflow_y": null,
            "padding": null,
            "right": null,
            "top": null,
            "visibility": null,
            "width": null
          }
        },
        "59e1ae6b26a546e483af6d327c75bf34": {
          "model_module": "@jupyter-widgets/base",
          "model_name": "LayoutModel",
          "model_module_version": "1.2.0",
          "state": {
            "_model_module": "@jupyter-widgets/base",
            "_model_module_version": "1.2.0",
            "_model_name": "LayoutModel",
            "_view_count": null,
            "_view_module": "@jupyter-widgets/base",
            "_view_module_version": "1.2.0",
            "_view_name": "LayoutView",
            "align_content": null,
            "align_items": null,
            "align_self": null,
            "border": null,
            "bottom": null,
            "display": null,
            "flex": null,
            "flex_flow": null,
            "grid_area": null,
            "grid_auto_columns": null,
            "grid_auto_flow": null,
            "grid_auto_rows": null,
            "grid_column": null,
            "grid_gap": null,
            "grid_row": null,
            "grid_template_areas": null,
            "grid_template_columns": null,
            "grid_template_rows": null,
            "height": null,
            "justify_content": null,
            "justify_items": null,
            "left": null,
            "margin": null,
            "max_height": null,
            "max_width": null,
            "min_height": null,
            "min_width": null,
            "object_fit": null,
            "object_position": null,
            "order": null,
            "overflow": null,
            "overflow_x": null,
            "overflow_y": null,
            "padding": null,
            "right": null,
            "top": null,
            "visibility": null,
            "width": null
          }
        },
        "64748be6452a4b578b00c8b286f3aaa4": {
          "model_module": "@jupyter-widgets/controls",
          "model_name": "DescriptionStyleModel",
          "model_module_version": "1.5.0",
          "state": {
            "_model_module": "@jupyter-widgets/controls",
            "_model_module_version": "1.5.0",
            "_model_name": "DescriptionStyleModel",
            "_view_count": null,
            "_view_module": "@jupyter-widgets/base",
            "_view_module_version": "1.2.0",
            "_view_name": "StyleView",
            "description_width": ""
          }
        },
        "a85f8f1e65b842988ed44746dfe61718": {
          "model_module": "@jupyter-widgets/base",
          "model_name": "LayoutModel",
          "model_module_version": "1.2.0",
          "state": {
            "_model_module": "@jupyter-widgets/base",
            "_model_module_version": "1.2.0",
            "_model_name": "LayoutModel",
            "_view_count": null,
            "_view_module": "@jupyter-widgets/base",
            "_view_module_version": "1.2.0",
            "_view_name": "LayoutView",
            "align_content": null,
            "align_items": null,
            "align_self": null,
            "border": null,
            "bottom": null,
            "display": null,
            "flex": null,
            "flex_flow": null,
            "grid_area": null,
            "grid_auto_columns": null,
            "grid_auto_flow": null,
            "grid_auto_rows": null,
            "grid_column": null,
            "grid_gap": null,
            "grid_row": null,
            "grid_template_areas": null,
            "grid_template_columns": null,
            "grid_template_rows": null,
            "height": null,
            "justify_content": null,
            "justify_items": null,
            "left": null,
            "margin": null,
            "max_height": null,
            "max_width": null,
            "min_height": null,
            "min_width": null,
            "object_fit": null,
            "object_position": null,
            "order": null,
            "overflow": null,
            "overflow_x": null,
            "overflow_y": null,
            "padding": null,
            "right": null,
            "top": null,
            "visibility": null,
            "width": null
          }
        },
        "7d14113d937247f1858df842d242fd01": {
          "model_module": "@jupyter-widgets/controls",
          "model_name": "ProgressStyleModel",
          "model_module_version": "1.5.0",
          "state": {
            "_model_module": "@jupyter-widgets/controls",
            "_model_module_version": "1.5.0",
            "_model_name": "ProgressStyleModel",
            "_view_count": null,
            "_view_module": "@jupyter-widgets/base",
            "_view_module_version": "1.2.0",
            "_view_name": "StyleView",
            "bar_color": null,
            "description_width": ""
          }
        },
        "02b7341a75984bbeb8b4a0129754d0e8": {
          "model_module": "@jupyter-widgets/base",
          "model_name": "LayoutModel",
          "model_module_version": "1.2.0",
          "state": {
            "_model_module": "@jupyter-widgets/base",
            "_model_module_version": "1.2.0",
            "_model_name": "LayoutModel",
            "_view_count": null,
            "_view_module": "@jupyter-widgets/base",
            "_view_module_version": "1.2.0",
            "_view_name": "LayoutView",
            "align_content": null,
            "align_items": null,
            "align_self": null,
            "border": null,
            "bottom": null,
            "display": null,
            "flex": null,
            "flex_flow": null,
            "grid_area": null,
            "grid_auto_columns": null,
            "grid_auto_flow": null,
            "grid_auto_rows": null,
            "grid_column": null,
            "grid_gap": null,
            "grid_row": null,
            "grid_template_areas": null,
            "grid_template_columns": null,
            "grid_template_rows": null,
            "height": null,
            "justify_content": null,
            "justify_items": null,
            "left": null,
            "margin": null,
            "max_height": null,
            "max_width": null,
            "min_height": null,
            "min_width": null,
            "object_fit": null,
            "object_position": null,
            "order": null,
            "overflow": null,
            "overflow_x": null,
            "overflow_y": null,
            "padding": null,
            "right": null,
            "top": null,
            "visibility": null,
            "width": null
          }
        },
        "4adbcf2aca934f43a4547bdcf04e427a": {
          "model_module": "@jupyter-widgets/controls",
          "model_name": "DescriptionStyleModel",
          "model_module_version": "1.5.0",
          "state": {
            "_model_module": "@jupyter-widgets/controls",
            "_model_module_version": "1.5.0",
            "_model_name": "DescriptionStyleModel",
            "_view_count": null,
            "_view_module": "@jupyter-widgets/base",
            "_view_module_version": "1.2.0",
            "_view_name": "StyleView",
            "description_width": ""
          }
        },
        "5d6b9e822db245c993e23a18bfbc10d7": {
          "model_module": "@jupyter-widgets/controls",
          "model_name": "HBoxModel",
          "model_module_version": "1.5.0",
          "state": {
            "_dom_classes": [],
            "_model_module": "@jupyter-widgets/controls",
            "_model_module_version": "1.5.0",
            "_model_name": "HBoxModel",
            "_view_count": null,
            "_view_module": "@jupyter-widgets/controls",
            "_view_module_version": "1.5.0",
            "_view_name": "HBoxView",
            "box_style": "",
            "children": [
              "IPY_MODEL_3a4564e2a9694ca5b564894f96cec3a3",
              "IPY_MODEL_90e8465f75a64b16aba996db1083b83f",
              "IPY_MODEL_b7d1bdfeba404cf6971ad0aaee8a594e"
            ],
            "layout": "IPY_MODEL_c5c089c5cb074c44b7ed50911dbb0c35"
          }
        },
        "3a4564e2a9694ca5b564894f96cec3a3": {
          "model_module": "@jupyter-widgets/controls",
          "model_name": "HTMLModel",
          "model_module_version": "1.5.0",
          "state": {
            "_dom_classes": [],
            "_model_module": "@jupyter-widgets/controls",
            "_model_module_version": "1.5.0",
            "_model_name": "HTMLModel",
            "_view_count": null,
            "_view_module": "@jupyter-widgets/controls",
            "_view_module_version": "1.5.0",
            "_view_name": "HTMLView",
            "description": "",
            "description_tooltip": null,
            "layout": "IPY_MODEL_4011f61dbf284f0fac4f0e850ad27983",
            "placeholder": "​",
            "style": "IPY_MODEL_b4307aabfbc94810bfffde3d1333c3c3",
            "value": "Downloading: 100%"
          }
        },
        "90e8465f75a64b16aba996db1083b83f": {
          "model_module": "@jupyter-widgets/controls",
          "model_name": "FloatProgressModel",
          "model_module_version": "1.5.0",
          "state": {
            "_dom_classes": [],
            "_model_module": "@jupyter-widgets/controls",
            "_model_module_version": "1.5.0",
            "_model_name": "FloatProgressModel",
            "_view_count": null,
            "_view_module": "@jupyter-widgets/controls",
            "_view_module_version": "1.5.0",
            "_view_name": "ProgressView",
            "bar_style": "success",
            "description": "",
            "description_tooltip": null,
            "layout": "IPY_MODEL_c169b6febaa549bf8a7507b1667c60d4",
            "max": 456356,
            "min": 0,
            "orientation": "horizontal",
            "style": "IPY_MODEL_0d34c5f4f969457ab4c4dcdc221d6eb1",
            "value": 456356
          }
        },
        "b7d1bdfeba404cf6971ad0aaee8a594e": {
          "model_module": "@jupyter-widgets/controls",
          "model_name": "HTMLModel",
          "model_module_version": "1.5.0",
          "state": {
            "_dom_classes": [],
            "_model_module": "@jupyter-widgets/controls",
            "_model_module_version": "1.5.0",
            "_model_name": "HTMLModel",
            "_view_count": null,
            "_view_module": "@jupyter-widgets/controls",
            "_view_module_version": "1.5.0",
            "_view_name": "HTMLView",
            "description": "",
            "description_tooltip": null,
            "layout": "IPY_MODEL_9761467e12c84ba1afca9c51ca2493de",
            "placeholder": "​",
            "style": "IPY_MODEL_311c42091add413b943143344fe8df5c",
            "value": " 456k/456k [00:00&lt;00:00, 1.68MB/s]"
          }
        },
        "c5c089c5cb074c44b7ed50911dbb0c35": {
          "model_module": "@jupyter-widgets/base",
          "model_name": "LayoutModel",
          "model_module_version": "1.2.0",
          "state": {
            "_model_module": "@jupyter-widgets/base",
            "_model_module_version": "1.2.0",
            "_model_name": "LayoutModel",
            "_view_count": null,
            "_view_module": "@jupyter-widgets/base",
            "_view_module_version": "1.2.0",
            "_view_name": "LayoutView",
            "align_content": null,
            "align_items": null,
            "align_self": null,
            "border": null,
            "bottom": null,
            "display": null,
            "flex": null,
            "flex_flow": null,
            "grid_area": null,
            "grid_auto_columns": null,
            "grid_auto_flow": null,
            "grid_auto_rows": null,
            "grid_column": null,
            "grid_gap": null,
            "grid_row": null,
            "grid_template_areas": null,
            "grid_template_columns": null,
            "grid_template_rows": null,
            "height": null,
            "justify_content": null,
            "justify_items": null,
            "left": null,
            "margin": null,
            "max_height": null,
            "max_width": null,
            "min_height": null,
            "min_width": null,
            "object_fit": null,
            "object_position": null,
            "order": null,
            "overflow": null,
            "overflow_x": null,
            "overflow_y": null,
            "padding": null,
            "right": null,
            "top": null,
            "visibility": null,
            "width": null
          }
        },
        "4011f61dbf284f0fac4f0e850ad27983": {
          "model_module": "@jupyter-widgets/base",
          "model_name": "LayoutModel",
          "model_module_version": "1.2.0",
          "state": {
            "_model_module": "@jupyter-widgets/base",
            "_model_module_version": "1.2.0",
            "_model_name": "LayoutModel",
            "_view_count": null,
            "_view_module": "@jupyter-widgets/base",
            "_view_module_version": "1.2.0",
            "_view_name": "LayoutView",
            "align_content": null,
            "align_items": null,
            "align_self": null,
            "border": null,
            "bottom": null,
            "display": null,
            "flex": null,
            "flex_flow": null,
            "grid_area": null,
            "grid_auto_columns": null,
            "grid_auto_flow": null,
            "grid_auto_rows": null,
            "grid_column": null,
            "grid_gap": null,
            "grid_row": null,
            "grid_template_areas": null,
            "grid_template_columns": null,
            "grid_template_rows": null,
            "height": null,
            "justify_content": null,
            "justify_items": null,
            "left": null,
            "margin": null,
            "max_height": null,
            "max_width": null,
            "min_height": null,
            "min_width": null,
            "object_fit": null,
            "object_position": null,
            "order": null,
            "overflow": null,
            "overflow_x": null,
            "overflow_y": null,
            "padding": null,
            "right": null,
            "top": null,
            "visibility": null,
            "width": null
          }
        },
        "b4307aabfbc94810bfffde3d1333c3c3": {
          "model_module": "@jupyter-widgets/controls",
          "model_name": "DescriptionStyleModel",
          "model_module_version": "1.5.0",
          "state": {
            "_model_module": "@jupyter-widgets/controls",
            "_model_module_version": "1.5.0",
            "_model_name": "DescriptionStyleModel",
            "_view_count": null,
            "_view_module": "@jupyter-widgets/base",
            "_view_module_version": "1.2.0",
            "_view_name": "StyleView",
            "description_width": ""
          }
        },
        "c169b6febaa549bf8a7507b1667c60d4": {
          "model_module": "@jupyter-widgets/base",
          "model_name": "LayoutModel",
          "model_module_version": "1.2.0",
          "state": {
            "_model_module": "@jupyter-widgets/base",
            "_model_module_version": "1.2.0",
            "_model_name": "LayoutModel",
            "_view_count": null,
            "_view_module": "@jupyter-widgets/base",
            "_view_module_version": "1.2.0",
            "_view_name": "LayoutView",
            "align_content": null,
            "align_items": null,
            "align_self": null,
            "border": null,
            "bottom": null,
            "display": null,
            "flex": null,
            "flex_flow": null,
            "grid_area": null,
            "grid_auto_columns": null,
            "grid_auto_flow": null,
            "grid_auto_rows": null,
            "grid_column": null,
            "grid_gap": null,
            "grid_row": null,
            "grid_template_areas": null,
            "grid_template_columns": null,
            "grid_template_rows": null,
            "height": null,
            "justify_content": null,
            "justify_items": null,
            "left": null,
            "margin": null,
            "max_height": null,
            "max_width": null,
            "min_height": null,
            "min_width": null,
            "object_fit": null,
            "object_position": null,
            "order": null,
            "overflow": null,
            "overflow_x": null,
            "overflow_y": null,
            "padding": null,
            "right": null,
            "top": null,
            "visibility": null,
            "width": null
          }
        },
        "0d34c5f4f969457ab4c4dcdc221d6eb1": {
          "model_module": "@jupyter-widgets/controls",
          "model_name": "ProgressStyleModel",
          "model_module_version": "1.5.0",
          "state": {
            "_model_module": "@jupyter-widgets/controls",
            "_model_module_version": "1.5.0",
            "_model_name": "ProgressStyleModel",
            "_view_count": null,
            "_view_module": "@jupyter-widgets/base",
            "_view_module_version": "1.2.0",
            "_view_name": "StyleView",
            "bar_color": null,
            "description_width": ""
          }
        },
        "9761467e12c84ba1afca9c51ca2493de": {
          "model_module": "@jupyter-widgets/base",
          "model_name": "LayoutModel",
          "model_module_version": "1.2.0",
          "state": {
            "_model_module": "@jupyter-widgets/base",
            "_model_module_version": "1.2.0",
            "_model_name": "LayoutModel",
            "_view_count": null,
            "_view_module": "@jupyter-widgets/base",
            "_view_module_version": "1.2.0",
            "_view_name": "LayoutView",
            "align_content": null,
            "align_items": null,
            "align_self": null,
            "border": null,
            "bottom": null,
            "display": null,
            "flex": null,
            "flex_flow": null,
            "grid_area": null,
            "grid_auto_columns": null,
            "grid_auto_flow": null,
            "grid_auto_rows": null,
            "grid_column": null,
            "grid_gap": null,
            "grid_row": null,
            "grid_template_areas": null,
            "grid_template_columns": null,
            "grid_template_rows": null,
            "height": null,
            "justify_content": null,
            "justify_items": null,
            "left": null,
            "margin": null,
            "max_height": null,
            "max_width": null,
            "min_height": null,
            "min_width": null,
            "object_fit": null,
            "object_position": null,
            "order": null,
            "overflow": null,
            "overflow_x": null,
            "overflow_y": null,
            "padding": null,
            "right": null,
            "top": null,
            "visibility": null,
            "width": null
          }
        },
        "311c42091add413b943143344fe8df5c": {
          "model_module": "@jupyter-widgets/controls",
          "model_name": "DescriptionStyleModel",
          "model_module_version": "1.5.0",
          "state": {
            "_model_module": "@jupyter-widgets/controls",
            "_model_module_version": "1.5.0",
            "_model_name": "DescriptionStyleModel",
            "_view_count": null,
            "_view_module": "@jupyter-widgets/base",
            "_view_module_version": "1.2.0",
            "_view_name": "StyleView",
            "description_width": ""
          }
        },
        "d228eb20f84c446c86040b3757978321": {
          "model_module": "@jupyter-widgets/controls",
          "model_name": "HBoxModel",
          "model_module_version": "1.5.0",
          "state": {
            "_dom_classes": [],
            "_model_module": "@jupyter-widgets/controls",
            "_model_module_version": "1.5.0",
            "_model_name": "HBoxModel",
            "_view_count": null,
            "_view_module": "@jupyter-widgets/controls",
            "_view_module_version": "1.5.0",
            "_view_name": "HBoxView",
            "box_style": "",
            "children": [
              "IPY_MODEL_b331e64cb1b64c4bbd9d6a3d940f013b",
              "IPY_MODEL_274ff8441f4c43f8bd3386bef9da06d8",
              "IPY_MODEL_0f26acfe45584d73a5a19c35e59410c2"
            ],
            "layout": "IPY_MODEL_8ef2273a2fe748e6b5d6975398d8ad60"
          }
        },
        "b331e64cb1b64c4bbd9d6a3d940f013b": {
          "model_module": "@jupyter-widgets/controls",
          "model_name": "HTMLModel",
          "model_module_version": "1.5.0",
          "state": {
            "_dom_classes": [],
            "_model_module": "@jupyter-widgets/controls",
            "_model_module_version": "1.5.0",
            "_model_name": "HTMLModel",
            "_view_count": null,
            "_view_module": "@jupyter-widgets/controls",
            "_view_module_version": "1.5.0",
            "_view_name": "HTMLView",
            "description": "",
            "description_tooltip": null,
            "layout": "IPY_MODEL_92c8df4ceac74e8eb300680943af4dc1",
            "placeholder": "​",
            "style": "IPY_MODEL_c8391416787247d98df28e798da8670a",
            "value": "Downloading: 100%"
          }
        },
        "274ff8441f4c43f8bd3386bef9da06d8": {
          "model_module": "@jupyter-widgets/controls",
          "model_name": "FloatProgressModel",
          "model_module_version": "1.5.0",
          "state": {
            "_dom_classes": [],
            "_model_module": "@jupyter-widgets/controls",
            "_model_module_version": "1.5.0",
            "_model_name": "FloatProgressModel",
            "_view_count": null,
            "_view_module": "@jupyter-widgets/controls",
            "_view_module_version": "1.5.0",
            "_view_name": "ProgressView",
            "bar_style": "success",
            "description": "",
            "description_tooltip": null,
            "layout": "IPY_MODEL_d3b839c5b73b442a83130110ac31d83e",
            "max": 1356047,
            "min": 0,
            "orientation": "horizontal",
            "style": "IPY_MODEL_fc3d8b3364a24b6c95522b44a9759fa7",
            "value": 1356047
          }
        },
        "0f26acfe45584d73a5a19c35e59410c2": {
          "model_module": "@jupyter-widgets/controls",
          "model_name": "HTMLModel",
          "model_module_version": "1.5.0",
          "state": {
            "_dom_classes": [],
            "_model_module": "@jupyter-widgets/controls",
            "_model_module_version": "1.5.0",
            "_model_name": "HTMLModel",
            "_view_count": null,
            "_view_module": "@jupyter-widgets/controls",
            "_view_module_version": "1.5.0",
            "_view_name": "HTMLView",
            "description": "",
            "description_tooltip": null,
            "layout": "IPY_MODEL_5c2e5521e93c4db2aa10adfcffd57588",
            "placeholder": "​",
            "style": "IPY_MODEL_99ee39b560b34c0e9819375d837da373",
            "value": " 1.36M/1.36M [00:00&lt;00:00, 1.87MB/s]"
          }
        },
        "8ef2273a2fe748e6b5d6975398d8ad60": {
          "model_module": "@jupyter-widgets/base",
          "model_name": "LayoutModel",
          "model_module_version": "1.2.0",
          "state": {
            "_model_module": "@jupyter-widgets/base",
            "_model_module_version": "1.2.0",
            "_model_name": "LayoutModel",
            "_view_count": null,
            "_view_module": "@jupyter-widgets/base",
            "_view_module_version": "1.2.0",
            "_view_name": "LayoutView",
            "align_content": null,
            "align_items": null,
            "align_self": null,
            "border": null,
            "bottom": null,
            "display": null,
            "flex": null,
            "flex_flow": null,
            "grid_area": null,
            "grid_auto_columns": null,
            "grid_auto_flow": null,
            "grid_auto_rows": null,
            "grid_column": null,
            "grid_gap": null,
            "grid_row": null,
            "grid_template_areas": null,
            "grid_template_columns": null,
            "grid_template_rows": null,
            "height": null,
            "justify_content": null,
            "justify_items": null,
            "left": null,
            "margin": null,
            "max_height": null,
            "max_width": null,
            "min_height": null,
            "min_width": null,
            "object_fit": null,
            "object_position": null,
            "order": null,
            "overflow": null,
            "overflow_x": null,
            "overflow_y": null,
            "padding": null,
            "right": null,
            "top": null,
            "visibility": null,
            "width": null
          }
        },
        "92c8df4ceac74e8eb300680943af4dc1": {
          "model_module": "@jupyter-widgets/base",
          "model_name": "LayoutModel",
          "model_module_version": "1.2.0",
          "state": {
            "_model_module": "@jupyter-widgets/base",
            "_model_module_version": "1.2.0",
            "_model_name": "LayoutModel",
            "_view_count": null,
            "_view_module": "@jupyter-widgets/base",
            "_view_module_version": "1.2.0",
            "_view_name": "LayoutView",
            "align_content": null,
            "align_items": null,
            "align_self": null,
            "border": null,
            "bottom": null,
            "display": null,
            "flex": null,
            "flex_flow": null,
            "grid_area": null,
            "grid_auto_columns": null,
            "grid_auto_flow": null,
            "grid_auto_rows": null,
            "grid_column": null,
            "grid_gap": null,
            "grid_row": null,
            "grid_template_areas": null,
            "grid_template_columns": null,
            "grid_template_rows": null,
            "height": null,
            "justify_content": null,
            "justify_items": null,
            "left": null,
            "margin": null,
            "max_height": null,
            "max_width": null,
            "min_height": null,
            "min_width": null,
            "object_fit": null,
            "object_position": null,
            "order": null,
            "overflow": null,
            "overflow_x": null,
            "overflow_y": null,
            "padding": null,
            "right": null,
            "top": null,
            "visibility": null,
            "width": null
          }
        },
        "c8391416787247d98df28e798da8670a": {
          "model_module": "@jupyter-widgets/controls",
          "model_name": "DescriptionStyleModel",
          "model_module_version": "1.5.0",
          "state": {
            "_model_module": "@jupyter-widgets/controls",
            "_model_module_version": "1.5.0",
            "_model_name": "DescriptionStyleModel",
            "_view_count": null,
            "_view_module": "@jupyter-widgets/base",
            "_view_module_version": "1.2.0",
            "_view_name": "StyleView",
            "description_width": ""
          }
        },
        "d3b839c5b73b442a83130110ac31d83e": {
          "model_module": "@jupyter-widgets/base",
          "model_name": "LayoutModel",
          "model_module_version": "1.2.0",
          "state": {
            "_model_module": "@jupyter-widgets/base",
            "_model_module_version": "1.2.0",
            "_model_name": "LayoutModel",
            "_view_count": null,
            "_view_module": "@jupyter-widgets/base",
            "_view_module_version": "1.2.0",
            "_view_name": "LayoutView",
            "align_content": null,
            "align_items": null,
            "align_self": null,
            "border": null,
            "bottom": null,
            "display": null,
            "flex": null,
            "flex_flow": null,
            "grid_area": null,
            "grid_auto_columns": null,
            "grid_auto_flow": null,
            "grid_auto_rows": null,
            "grid_column": null,
            "grid_gap": null,
            "grid_row": null,
            "grid_template_areas": null,
            "grid_template_columns": null,
            "grid_template_rows": null,
            "height": null,
            "justify_content": null,
            "justify_items": null,
            "left": null,
            "margin": null,
            "max_height": null,
            "max_width": null,
            "min_height": null,
            "min_width": null,
            "object_fit": null,
            "object_position": null,
            "order": null,
            "overflow": null,
            "overflow_x": null,
            "overflow_y": null,
            "padding": null,
            "right": null,
            "top": null,
            "visibility": null,
            "width": null
          }
        },
        "fc3d8b3364a24b6c95522b44a9759fa7": {
          "model_module": "@jupyter-widgets/controls",
          "model_name": "ProgressStyleModel",
          "model_module_version": "1.5.0",
          "state": {
            "_model_module": "@jupyter-widgets/controls",
            "_model_module_version": "1.5.0",
            "_model_name": "ProgressStyleModel",
            "_view_count": null,
            "_view_module": "@jupyter-widgets/base",
            "_view_module_version": "1.2.0",
            "_view_name": "StyleView",
            "bar_color": null,
            "description_width": ""
          }
        },
        "5c2e5521e93c4db2aa10adfcffd57588": {
          "model_module": "@jupyter-widgets/base",
          "model_name": "LayoutModel",
          "model_module_version": "1.2.0",
          "state": {
            "_model_module": "@jupyter-widgets/base",
            "_model_module_version": "1.2.0",
            "_model_name": "LayoutModel",
            "_view_count": null,
            "_view_module": "@jupyter-widgets/base",
            "_view_module_version": "1.2.0",
            "_view_name": "LayoutView",
            "align_content": null,
            "align_items": null,
            "align_self": null,
            "border": null,
            "bottom": null,
            "display": null,
            "flex": null,
            "flex_flow": null,
            "grid_area": null,
            "grid_auto_columns": null,
            "grid_auto_flow": null,
            "grid_auto_rows": null,
            "grid_column": null,
            "grid_gap": null,
            "grid_row": null,
            "grid_template_areas": null,
            "grid_template_columns": null,
            "grid_template_rows": null,
            "height": null,
            "justify_content": null,
            "justify_items": null,
            "left": null,
            "margin": null,
            "max_height": null,
            "max_width": null,
            "min_height": null,
            "min_width": null,
            "object_fit": null,
            "object_position": null,
            "order": null,
            "overflow": null,
            "overflow_x": null,
            "overflow_y": null,
            "padding": null,
            "right": null,
            "top": null,
            "visibility": null,
            "width": null
          }
        },
        "99ee39b560b34c0e9819375d837da373": {
          "model_module": "@jupyter-widgets/controls",
          "model_name": "DescriptionStyleModel",
          "model_module_version": "1.5.0",
          "state": {
            "_model_module": "@jupyter-widgets/controls",
            "_model_module_version": "1.5.0",
            "_model_name": "DescriptionStyleModel",
            "_view_count": null,
            "_view_module": "@jupyter-widgets/base",
            "_view_module_version": "1.2.0",
            "_view_name": "StyleView",
            "description_width": ""
          }
        },
        "19f3f130afc244af9ae5bfaceaa93fb7": {
          "model_module": "@jupyter-widgets/controls",
          "model_name": "HBoxModel",
          "model_module_version": "1.5.0",
          "state": {
            "_dom_classes": [],
            "_model_module": "@jupyter-widgets/controls",
            "_model_module_version": "1.5.0",
            "_model_name": "HBoxModel",
            "_view_count": null,
            "_view_module": "@jupyter-widgets/controls",
            "_view_module_version": "1.5.0",
            "_view_name": "HBoxView",
            "box_style": "",
            "children": [
              "IPY_MODEL_ffbecc13ebbc4802a4bcb6547f8d577a",
              "IPY_MODEL_7465e49ef0744b35af507714fca716e9",
              "IPY_MODEL_6a877b21778744ffb070d671542887ea"
            ],
            "layout": "IPY_MODEL_a41b450b59f647b39d7fbc7ad36c72e9"
          }
        },
        "ffbecc13ebbc4802a4bcb6547f8d577a": {
          "model_module": "@jupyter-widgets/controls",
          "model_name": "HTMLModel",
          "model_module_version": "1.5.0",
          "state": {
            "_dom_classes": [],
            "_model_module": "@jupyter-widgets/controls",
            "_model_module_version": "1.5.0",
            "_model_name": "HTMLModel",
            "_view_count": null,
            "_view_module": "@jupyter-widgets/controls",
            "_view_module_version": "1.5.0",
            "_view_name": "HTMLView",
            "description": "",
            "description_tooltip": null,
            "layout": "IPY_MODEL_95d6d1949f4a4cc68534ade54a50e23f",
            "placeholder": "​",
            "style": "IPY_MODEL_af165d14e37b4ed1aaa93ac6fb606a87",
            "value": "Downloading: 100%"
          }
        },
        "7465e49ef0744b35af507714fca716e9": {
          "model_module": "@jupyter-widgets/controls",
          "model_name": "FloatProgressModel",
          "model_module_version": "1.5.0",
          "state": {
            "_dom_classes": [],
            "_model_module": "@jupyter-widgets/controls",
            "_model_module_version": "1.5.0",
            "_model_name": "FloatProgressModel",
            "_view_count": null,
            "_view_module": "@jupyter-widgets/controls",
            "_view_module_version": "1.5.0",
            "_view_name": "ProgressView",
            "bar_style": "success",
            "description": "",
            "description_tooltip": null,
            "layout": "IPY_MODEL_5712f819c2d04449adb8b4acc4ea89ed",
            "max": 239,
            "min": 0,
            "orientation": "horizontal",
            "style": "IPY_MODEL_11e88fb7a1e64540b7c62a89e69c432c",
            "value": 239
          }
        },
        "6a877b21778744ffb070d671542887ea": {
          "model_module": "@jupyter-widgets/controls",
          "model_name": "HTMLModel",
          "model_module_version": "1.5.0",
          "state": {
            "_dom_classes": [],
            "_model_module": "@jupyter-widgets/controls",
            "_model_module_version": "1.5.0",
            "_model_name": "HTMLModel",
            "_view_count": null,
            "_view_module": "@jupyter-widgets/controls",
            "_view_module_version": "1.5.0",
            "_view_name": "HTMLView",
            "description": "",
            "description_tooltip": null,
            "layout": "IPY_MODEL_6f9cfe561f444c588733803841b23d9f",
            "placeholder": "​",
            "style": "IPY_MODEL_22bc39c94da24b2ebd8cfb15c4b04349",
            "value": " 239/239 [00:00&lt;00:00, 9.21kB/s]"
          }
        },
        "a41b450b59f647b39d7fbc7ad36c72e9": {
          "model_module": "@jupyter-widgets/base",
          "model_name": "LayoutModel",
          "model_module_version": "1.2.0",
          "state": {
            "_model_module": "@jupyter-widgets/base",
            "_model_module_version": "1.2.0",
            "_model_name": "LayoutModel",
            "_view_count": null,
            "_view_module": "@jupyter-widgets/base",
            "_view_module_version": "1.2.0",
            "_view_name": "LayoutView",
            "align_content": null,
            "align_items": null,
            "align_self": null,
            "border": null,
            "bottom": null,
            "display": null,
            "flex": null,
            "flex_flow": null,
            "grid_area": null,
            "grid_auto_columns": null,
            "grid_auto_flow": null,
            "grid_auto_rows": null,
            "grid_column": null,
            "grid_gap": null,
            "grid_row": null,
            "grid_template_areas": null,
            "grid_template_columns": null,
            "grid_template_rows": null,
            "height": null,
            "justify_content": null,
            "justify_items": null,
            "left": null,
            "margin": null,
            "max_height": null,
            "max_width": null,
            "min_height": null,
            "min_width": null,
            "object_fit": null,
            "object_position": null,
            "order": null,
            "overflow": null,
            "overflow_x": null,
            "overflow_y": null,
            "padding": null,
            "right": null,
            "top": null,
            "visibility": null,
            "width": null
          }
        },
        "95d6d1949f4a4cc68534ade54a50e23f": {
          "model_module": "@jupyter-widgets/base",
          "model_name": "LayoutModel",
          "model_module_version": "1.2.0",
          "state": {
            "_model_module": "@jupyter-widgets/base",
            "_model_module_version": "1.2.0",
            "_model_name": "LayoutModel",
            "_view_count": null,
            "_view_module": "@jupyter-widgets/base",
            "_view_module_version": "1.2.0",
            "_view_name": "LayoutView",
            "align_content": null,
            "align_items": null,
            "align_self": null,
            "border": null,
            "bottom": null,
            "display": null,
            "flex": null,
            "flex_flow": null,
            "grid_area": null,
            "grid_auto_columns": null,
            "grid_auto_flow": null,
            "grid_auto_rows": null,
            "grid_column": null,
            "grid_gap": null,
            "grid_row": null,
            "grid_template_areas": null,
            "grid_template_columns": null,
            "grid_template_rows": null,
            "height": null,
            "justify_content": null,
            "justify_items": null,
            "left": null,
            "margin": null,
            "max_height": null,
            "max_width": null,
            "min_height": null,
            "min_width": null,
            "object_fit": null,
            "object_position": null,
            "order": null,
            "overflow": null,
            "overflow_x": null,
            "overflow_y": null,
            "padding": null,
            "right": null,
            "top": null,
            "visibility": null,
            "width": null
          }
        },
        "af165d14e37b4ed1aaa93ac6fb606a87": {
          "model_module": "@jupyter-widgets/controls",
          "model_name": "DescriptionStyleModel",
          "model_module_version": "1.5.0",
          "state": {
            "_model_module": "@jupyter-widgets/controls",
            "_model_module_version": "1.5.0",
            "_model_name": "DescriptionStyleModel",
            "_view_count": null,
            "_view_module": "@jupyter-widgets/base",
            "_view_module_version": "1.2.0",
            "_view_name": "StyleView",
            "description_width": ""
          }
        },
        "5712f819c2d04449adb8b4acc4ea89ed": {
          "model_module": "@jupyter-widgets/base",
          "model_name": "LayoutModel",
          "model_module_version": "1.2.0",
          "state": {
            "_model_module": "@jupyter-widgets/base",
            "_model_module_version": "1.2.0",
            "_model_name": "LayoutModel",
            "_view_count": null,
            "_view_module": "@jupyter-widgets/base",
            "_view_module_version": "1.2.0",
            "_view_name": "LayoutView",
            "align_content": null,
            "align_items": null,
            "align_self": null,
            "border": null,
            "bottom": null,
            "display": null,
            "flex": null,
            "flex_flow": null,
            "grid_area": null,
            "grid_auto_columns": null,
            "grid_auto_flow": null,
            "grid_auto_rows": null,
            "grid_column": null,
            "grid_gap": null,
            "grid_row": null,
            "grid_template_areas": null,
            "grid_template_columns": null,
            "grid_template_rows": null,
            "height": null,
            "justify_content": null,
            "justify_items": null,
            "left": null,
            "margin": null,
            "max_height": null,
            "max_width": null,
            "min_height": null,
            "min_width": null,
            "object_fit": null,
            "object_position": null,
            "order": null,
            "overflow": null,
            "overflow_x": null,
            "overflow_y": null,
            "padding": null,
            "right": null,
            "top": null,
            "visibility": null,
            "width": null
          }
        },
        "11e88fb7a1e64540b7c62a89e69c432c": {
          "model_module": "@jupyter-widgets/controls",
          "model_name": "ProgressStyleModel",
          "model_module_version": "1.5.0",
          "state": {
            "_model_module": "@jupyter-widgets/controls",
            "_model_module_version": "1.5.0",
            "_model_name": "ProgressStyleModel",
            "_view_count": null,
            "_view_module": "@jupyter-widgets/base",
            "_view_module_version": "1.2.0",
            "_view_name": "StyleView",
            "bar_color": null,
            "description_width": ""
          }
        },
        "6f9cfe561f444c588733803841b23d9f": {
          "model_module": "@jupyter-widgets/base",
          "model_name": "LayoutModel",
          "model_module_version": "1.2.0",
          "state": {
            "_model_module": "@jupyter-widgets/base",
            "_model_module_version": "1.2.0",
            "_model_name": "LayoutModel",
            "_view_count": null,
            "_view_module": "@jupyter-widgets/base",
            "_view_module_version": "1.2.0",
            "_view_name": "LayoutView",
            "align_content": null,
            "align_items": null,
            "align_self": null,
            "border": null,
            "bottom": null,
            "display": null,
            "flex": null,
            "flex_flow": null,
            "grid_area": null,
            "grid_auto_columns": null,
            "grid_auto_flow": null,
            "grid_auto_rows": null,
            "grid_column": null,
            "grid_gap": null,
            "grid_row": null,
            "grid_template_areas": null,
            "grid_template_columns": null,
            "grid_template_rows": null,
            "height": null,
            "justify_content": null,
            "justify_items": null,
            "left": null,
            "margin": null,
            "max_height": null,
            "max_width": null,
            "min_height": null,
            "min_width": null,
            "object_fit": null,
            "object_position": null,
            "order": null,
            "overflow": null,
            "overflow_x": null,
            "overflow_y": null,
            "padding": null,
            "right": null,
            "top": null,
            "visibility": null,
            "width": null
          }
        },
        "22bc39c94da24b2ebd8cfb15c4b04349": {
          "model_module": "@jupyter-widgets/controls",
          "model_name": "DescriptionStyleModel",
          "model_module_version": "1.5.0",
          "state": {
            "_model_module": "@jupyter-widgets/controls",
            "_model_module_version": "1.5.0",
            "_model_name": "DescriptionStyleModel",
            "_view_count": null,
            "_view_module": "@jupyter-widgets/base",
            "_view_module_version": "1.2.0",
            "_view_name": "StyleView",
            "description_width": ""
          }
        }
      }
    }
  },
  "cells": [
    {
      "cell_type": "markdown",
      "metadata": {
        "id": "view-in-github",
        "colab_type": "text"
      },
      "source": [
        "<a href=\"https://colab.research.google.com/github/bitanb1999/TalentSumoAI/blob/main/Audio-Demo/Audio_Generation%20(1).ipynb\" target=\"_parent\"><img src=\"https://colab.research.google.com/assets/colab-badge.svg\" alt=\"Open In Colab\"/></a>"
      ]
    },
    {
      "cell_type": "markdown",
      "source": [
        "## Requirements"
      ],
      "metadata": {
        "id": "LzkaiOj_Xjny"
      }
    },
    {
      "cell_type": "code",
      "source": [
        "!pip install fuzzywuzzy\n",
        "!pip install imageio==2.4.1\n",
        "!pip install pygame"
      ],
      "metadata": {
        "colab": {
          "base_uri": "https://localhost:8080/"
        },
        "id": "-dw1o9J-5Bws",
        "outputId": "5c7c231d-773b-4013-e0d5-1091b7e93d16"
      },
      "execution_count": 1,
      "outputs": [
        {
          "output_type": "stream",
          "name": "stdout",
          "text": [
            "Looking in indexes: https://pypi.org/simple, https://us-python.pkg.dev/colab-wheels/public/simple/\n",
            "Collecting fuzzywuzzy\n",
            "  Downloading fuzzywuzzy-0.18.0-py2.py3-none-any.whl (18 kB)\n",
            "Installing collected packages: fuzzywuzzy\n",
            "Successfully installed fuzzywuzzy-0.18.0\n",
            "Looking in indexes: https://pypi.org/simple, https://us-python.pkg.dev/colab-wheels/public/simple/\n",
            "Collecting imageio==2.4.1\n",
            "  Downloading imageio-2.4.1.tar.gz (3.3 MB)\n",
            "\u001b[K     |████████████████████████████████| 3.3 MB 5.0 MB/s \n",
            "\u001b[?25hRequirement already satisfied: numpy in /usr/local/lib/python3.7/dist-packages (from imageio==2.4.1) (1.21.6)\n",
            "Requirement already satisfied: pillow in /usr/local/lib/python3.7/dist-packages (from imageio==2.4.1) (7.1.2)\n",
            "Building wheels for collected packages: imageio\n",
            "  Building wheel for imageio (setup.py) ... \u001b[?25l\u001b[?25hdone\n",
            "  Created wheel for imageio: filename=imageio-2.4.1-py3-none-any.whl size=3303885 sha256=4c4246560b78ee2306b7a93f00242fd5b0fc9e85e75a3a4c7994e7a323a81147\n",
            "  Stored in directory: /root/.cache/pip/wheels/46/20/07/7bb9c8c44e6ec2efa60fd0e6280094f53f65f41767ef69a5ee\n",
            "Successfully built imageio\n",
            "Installing collected packages: imageio\n",
            "  Attempting uninstall: imageio\n",
            "    Found existing installation: imageio 2.9.0\n",
            "    Uninstalling imageio-2.9.0:\n",
            "      Successfully uninstalled imageio-2.9.0\n",
            "Successfully installed imageio-2.4.1\n",
            "Looking in indexes: https://pypi.org/simple, https://us-python.pkg.dev/colab-wheels/public/simple/\n",
            "Collecting pygame\n",
            "  Downloading pygame-2.1.2-cp37-cp37m-manylinux_2_17_x86_64.manylinux2014_x86_64.whl (21.8 MB)\n",
            "\u001b[K     |████████████████████████████████| 21.8 MB 1.2 MB/s \n",
            "\u001b[?25hInstalling collected packages: pygame\n",
            "Successfully installed pygame-2.1.2\n"
          ]
        }
      ]
    },
    {
      "cell_type": "code",
      "source": [
        "!pip install PyQt5 nltk pyLDAvis\n",
        "!pip install numba==0.48\n",
        "!pip install librosa==0.7.2\n",
        "!pip install amfm_decompy aubio pydub\n",
        "!pip install Wave moviepy==0.2.1.1 SpeechRecognition\n",
        "!pip install sentence-transformers\n",
        "!pip install wordninja"
      ],
      "metadata": {
        "colab": {
          "base_uri": "https://localhost:8080/"
        },
        "id": "R5v6JGlcXhit",
        "outputId": "ddeb6594-7cb4-4949-ff22-82133e285d09"
      },
      "execution_count": 3,
      "outputs": [
        {
          "output_type": "stream",
          "name": "stdout",
          "text": [
            "Looking in indexes: https://pypi.org/simple, https://us-python.pkg.dev/colab-wheels/public/simple/\n",
            "Requirement already satisfied: PyQt5 in /usr/local/lib/python3.7/dist-packages (5.15.7)\n",
            "Requirement already satisfied: nltk in /usr/local/lib/python3.7/dist-packages (3.7)\n",
            "Requirement already satisfied: pyLDAvis in /usr/local/lib/python3.7/dist-packages (3.3.1)\n",
            "Requirement already satisfied: PyQt5-sip<13,>=12.11 in /usr/local/lib/python3.7/dist-packages (from PyQt5) (12.11.0)\n",
            "Requirement already satisfied: PyQt5-Qt5>=5.15.0 in /usr/local/lib/python3.7/dist-packages (from PyQt5) (5.15.2)\n",
            "Requirement already satisfied: joblib in /usr/local/lib/python3.7/dist-packages (from nltk) (1.2.0)\n",
            "Requirement already satisfied: regex>=2021.8.3 in /usr/local/lib/python3.7/dist-packages (from nltk) (2022.6.2)\n",
            "Requirement already satisfied: click in /usr/local/lib/python3.7/dist-packages (from nltk) (7.1.2)\n",
            "Requirement already satisfied: tqdm in /usr/local/lib/python3.7/dist-packages (from nltk) (4.64.1)\n",
            "Requirement already satisfied: funcy in /usr/local/lib/python3.7/dist-packages (from pyLDAvis) (1.17)\n",
            "Requirement already satisfied: scikit-learn in /usr/local/lib/python3.7/dist-packages (from pyLDAvis) (1.0.2)\n",
            "Requirement already satisfied: sklearn in /usr/local/lib/python3.7/dist-packages (from pyLDAvis) (0.0)\n",
            "Requirement already satisfied: gensim in /usr/local/lib/python3.7/dist-packages (from pyLDAvis) (3.6.0)\n",
            "Requirement already satisfied: setuptools in /usr/local/lib/python3.7/dist-packages (from pyLDAvis) (57.4.0)\n",
            "Requirement already satisfied: scipy in /usr/local/lib/python3.7/dist-packages (from pyLDAvis) (1.7.3)\n",
            "Requirement already satisfied: pandas>=1.2.0 in /usr/local/lib/python3.7/dist-packages (from pyLDAvis) (1.3.5)\n",
            "Requirement already satisfied: numexpr in /usr/local/lib/python3.7/dist-packages (from pyLDAvis) (2.8.3)\n",
            "Requirement already satisfied: numpy>=1.20.0 in /usr/local/lib/python3.7/dist-packages (from pyLDAvis) (1.21.6)\n",
            "Requirement already satisfied: jinja2 in /usr/local/lib/python3.7/dist-packages (from pyLDAvis) (2.11.3)\n",
            "Requirement already satisfied: future in /usr/local/lib/python3.7/dist-packages (from pyLDAvis) (0.16.0)\n",
            "Requirement already satisfied: pytz>=2017.3 in /usr/local/lib/python3.7/dist-packages (from pandas>=1.2.0->pyLDAvis) (2022.4)\n",
            "Requirement already satisfied: python-dateutil>=2.7.3 in /usr/local/lib/python3.7/dist-packages (from pandas>=1.2.0->pyLDAvis) (2.8.2)\n",
            "Requirement already satisfied: six>=1.5 in /usr/local/lib/python3.7/dist-packages (from python-dateutil>=2.7.3->pandas>=1.2.0->pyLDAvis) (1.15.0)\n",
            "Requirement already satisfied: smart-open>=1.2.1 in /usr/local/lib/python3.7/dist-packages (from gensim->pyLDAvis) (5.2.1)\n",
            "Requirement already satisfied: MarkupSafe>=0.23 in /usr/local/lib/python3.7/dist-packages (from jinja2->pyLDAvis) (2.0.1)\n",
            "Requirement already satisfied: packaging in /usr/local/lib/python3.7/dist-packages (from numexpr->pyLDAvis) (21.3)\n",
            "Requirement already satisfied: pyparsing!=3.0.5,>=2.0.2 in /usr/local/lib/python3.7/dist-packages (from packaging->numexpr->pyLDAvis) (3.0.9)\n",
            "Requirement already satisfied: threadpoolctl>=2.0.0 in /usr/local/lib/python3.7/dist-packages (from scikit-learn->pyLDAvis) (3.1.0)\n",
            "Looking in indexes: https://pypi.org/simple, https://us-python.pkg.dev/colab-wheels/public/simple/\n",
            "Collecting numba==0.48\n",
            "  Using cached numba-0.48.0-1-cp37-cp37m-manylinux2014_x86_64.whl (3.5 MB)\n",
            "Collecting llvmlite<0.32.0,>=0.31.0dev0\n",
            "  Using cached llvmlite-0.31.0-cp37-cp37m-manylinux1_x86_64.whl (20.2 MB)\n",
            "Requirement already satisfied: setuptools in /usr/local/lib/python3.7/dist-packages (from numba==0.48) (57.4.0)\n",
            "Requirement already satisfied: numpy>=1.15 in /usr/local/lib/python3.7/dist-packages (from numba==0.48) (1.21.6)\n",
            "Installing collected packages: llvmlite, numba\n",
            "  Attempting uninstall: llvmlite\n",
            "    Found existing installation: llvmlite 0.39.1\n",
            "    Uninstalling llvmlite-0.39.1:\n",
            "      Successfully uninstalled llvmlite-0.39.1\n",
            "  Attempting uninstall: numba\n",
            "    Found existing installation: numba 0.56.3\n",
            "    Uninstalling numba-0.56.3:\n",
            "      Successfully uninstalled numba-0.56.3\n",
            "\u001b[31mERROR: pip's dependency resolver does not currently take into account all the packages that are installed. This behaviour is the source of the following dependency conflicts.\n",
            "resampy 0.4.2 requires numba>=0.53, but you have numba 0.48.0 which is incompatible.\n",
            "kapre 0.3.7 requires librosa>=0.7.2, but you have librosa 0.6.0 which is incompatible.\u001b[0m\n",
            "Successfully installed llvmlite-0.31.0 numba-0.48.0\n",
            "Looking in indexes: https://pypi.org/simple, https://us-python.pkg.dev/colab-wheels/public/simple/\n",
            "Collecting librosa==0.7.2\n",
            "  Downloading librosa-0.7.2.tar.gz (1.6 MB)\n",
            "\u001b[K     |████████████████████████████████| 1.6 MB 5.0 MB/s \n",
            "\u001b[?25hRequirement already satisfied: audioread>=2.0.0 in /usr/local/lib/python3.7/dist-packages (from librosa==0.7.2) (3.0.0)\n",
            "Requirement already satisfied: numpy>=1.15.0 in /usr/local/lib/python3.7/dist-packages (from librosa==0.7.2) (1.21.6)\n",
            "Requirement already satisfied: scipy>=1.0.0 in /usr/local/lib/python3.7/dist-packages (from librosa==0.7.2) (1.7.3)\n",
            "Requirement already satisfied: scikit-learn!=0.19.0,>=0.14.0 in /usr/local/lib/python3.7/dist-packages (from librosa==0.7.2) (1.0.2)\n",
            "Requirement already satisfied: joblib>=0.12 in /usr/local/lib/python3.7/dist-packages (from librosa==0.7.2) (1.2.0)\n",
            "Requirement already satisfied: decorator>=3.0.0 in /usr/local/lib/python3.7/dist-packages (from librosa==0.7.2) (4.4.2)\n",
            "Requirement already satisfied: six>=1.3 in /usr/local/lib/python3.7/dist-packages (from librosa==0.7.2) (1.15.0)\n",
            "Requirement already satisfied: resampy>=0.2.2 in /usr/local/lib/python3.7/dist-packages (from librosa==0.7.2) (0.4.2)\n",
            "Requirement already satisfied: numba>=0.43.0 in /usr/local/lib/python3.7/dist-packages (from librosa==0.7.2) (0.48.0)\n",
            "Requirement already satisfied: soundfile>=0.9.0 in /usr/local/lib/python3.7/dist-packages (from librosa==0.7.2) (0.11.0)\n",
            "Requirement already satisfied: llvmlite<0.32.0,>=0.31.0dev0 in /usr/local/lib/python3.7/dist-packages (from numba>=0.43.0->librosa==0.7.2) (0.31.0)\n",
            "Requirement already satisfied: setuptools in /usr/local/lib/python3.7/dist-packages (from numba>=0.43.0->librosa==0.7.2) (57.4.0)\n",
            "Collecting numba>=0.43.0\n",
            "  Using cached numba-0.56.3-cp37-cp37m-manylinux2014_x86_64.manylinux_2_17_x86_64.whl (3.5 MB)\n",
            "Requirement already satisfied: importlib-metadata in /usr/local/lib/python3.7/dist-packages (from numba>=0.43.0->librosa==0.7.2) (4.13.0)\n",
            "  Downloading numba-0.56.2-cp37-cp37m-manylinux2014_x86_64.manylinux_2_17_x86_64.whl (3.5 MB)\n",
            "\u001b[K     |████████████████████████████████| 3.5 MB 67.5 MB/s \n",
            "\u001b[?25h  Downloading numba-0.56.0-cp37-cp37m-manylinux2014_x86_64.manylinux_2_17_x86_64.whl (3.5 MB)\n",
            "\u001b[K     |████████████████████████████████| 3.5 MB 55.1 MB/s \n",
            "\u001b[?25h  Downloading numba-0.55.2-cp37-cp37m-manylinux2014_x86_64.manylinux_2_17_x86_64.whl (3.3 MB)\n",
            "\u001b[K     |████████████████████████████████| 3.3 MB 73.2 MB/s \n",
            "\u001b[?25h  Downloading numba-0.55.1-1-cp37-cp37m-manylinux2014_x86_64.manylinux_2_17_x86_64.whl (3.3 MB)\n",
            "\u001b[K     |████████████████████████████████| 3.3 MB 73.1 MB/s \n",
            "\u001b[?25h  Downloading numba-0.55.0-1-cp37-cp37m-manylinux2014_x86_64.manylinux_2_17_x86_64.whl (3.3 MB)\n",
            "\u001b[K     |████████████████████████████████| 3.3 MB 61.8 MB/s \n",
            "\u001b[?25h  Downloading numba-0.54.1-cp37-cp37m-manylinux2014_x86_64.manylinux_2_17_x86_64.whl (3.3 MB)\n",
            "\u001b[K     |████████████████████████████████| 3.3 MB 66.1 MB/s \n",
            "\u001b[?25hCollecting numpy>=1.15.0\n",
            "  Downloading numpy-1.20.3-cp37-cp37m-manylinux_2_12_x86_64.manylinux2010_x86_64.whl (15.3 MB)\n",
            "\u001b[K     |████████████████████████████████| 15.3 MB 68.9 MB/s \n",
            "\u001b[?25hCollecting numba>=0.43.0\n",
            "  Downloading numba-0.54.0-2-cp37-cp37m-manylinux2014_x86_64.manylinux_2_17_x86_64.whl (3.4 MB)\n",
            "\u001b[K     |████████████████████████████████| 3.4 MB 69.8 MB/s \n",
            "\u001b[?25h  Downloading numba-0.53.1-cp37-cp37m-manylinux2014_x86_64.whl (3.4 MB)\n",
            "\u001b[K     |████████████████████████████████| 3.4 MB 74.3 MB/s \n",
            "\u001b[?25h  Downloading numba-0.53.0-cp37-cp37m-manylinux2014_x86_64.whl (3.4 MB)\n",
            "\u001b[K     |████████████████████████████████| 3.4 MB 71.9 MB/s \n",
            "\u001b[?25hINFO: pip is looking at multiple versions of resampy to determine which version is compatible with other requirements. This could take a while.\n",
            "Collecting resampy>=0.2.2\n",
            "  Downloading resampy-0.4.2-py3-none-any.whl (3.1 MB)\n",
            "\u001b[K     |████████████████████████████████| 3.1 MB 71.5 MB/s \n",
            "\u001b[?25h  Downloading resampy-0.4.1-py3-none-any.whl (3.1 MB)\n",
            "\u001b[K     |████████████████████████████████| 3.1 MB 71.3 MB/s \n",
            "\u001b[?25h  Downloading resampy-0.4.0-py3-none-any.whl (3.1 MB)\n",
            "\u001b[K     |████████████████████████████████| 3.1 MB 71.3 MB/s \n",
            "\u001b[?25h  Downloading resampy-0.3.1-py3-none-any.whl (3.1 MB)\n",
            "\u001b[K     |████████████████████████████████| 3.1 MB 72.6 MB/s \n",
            "\u001b[?25hRequirement already satisfied: threadpoolctl>=2.0.0 in /usr/local/lib/python3.7/dist-packages (from scikit-learn!=0.19.0,>=0.14.0->librosa==0.7.2) (3.1.0)\n",
            "Requirement already satisfied: cffi>=1.0 in /usr/local/lib/python3.7/dist-packages (from soundfile>=0.9.0->librosa==0.7.2) (1.15.1)\n",
            "Requirement already satisfied: pycparser in /usr/local/lib/python3.7/dist-packages (from cffi>=1.0->soundfile>=0.9.0->librosa==0.7.2) (2.21)\n",
            "Building wheels for collected packages: librosa\n",
            "  Building wheel for librosa (setup.py) ... \u001b[?25l\u001b[?25hdone\n",
            "  Created wheel for librosa: filename=librosa-0.7.2-py3-none-any.whl size=1612902 sha256=9e28f2bfba12d08ffe9343b3b93de275348445c9cd6b4cb483fa44c8b3293465\n",
            "  Stored in directory: /root/.cache/pip/wheels/18/9e/42/3224f85730f92fa2925f0b4fb6ef7f9c5431a64dfc77b95b39\n",
            "Successfully built librosa\n",
            "Installing collected packages: resampy, librosa\n",
            "  Attempting uninstall: resampy\n",
            "    Found existing installation: resampy 0.4.2\n",
            "    Uninstalling resampy-0.4.2:\n",
            "      Successfully uninstalled resampy-0.4.2\n",
            "  Attempting uninstall: librosa\n",
            "    Found existing installation: librosa 0.6.0\n",
            "    Uninstalling librosa-0.6.0:\n",
            "      Successfully uninstalled librosa-0.6.0\n",
            "Successfully installed librosa-0.7.2 resampy-0.3.1\n",
            "Looking in indexes: https://pypi.org/simple, https://us-python.pkg.dev/colab-wheels/public/simple/\n",
            "Collecting amfm_decompy\n",
            "  Downloading AMFM_decompy-1.0.11.tar.gz (751 kB)\n",
            "\u001b[K     |████████████████████████████████| 751 kB 5.0 MB/s \n",
            "\u001b[?25hCollecting aubio\n",
            "  Downloading aubio-0.4.9.tar.gz (479 kB)\n",
            "\u001b[K     |████████████████████████████████| 479 kB 68.2 MB/s \n",
            "\u001b[?25hCollecting pydub\n",
            "  Downloading pydub-0.25.1-py2.py3-none-any.whl (32 kB)\n",
            "Requirement already satisfied: numpy in /usr/local/lib/python3.7/dist-packages (from amfm_decompy) (1.21.6)\n",
            "Requirement already satisfied: scipy in /usr/local/lib/python3.7/dist-packages (from amfm_decompy) (1.7.3)\n",
            "Building wheels for collected packages: amfm-decompy, aubio\n",
            "  Building wheel for amfm-decompy (setup.py) ... \u001b[?25l\u001b[?25hdone\n",
            "  Created wheel for amfm-decompy: filename=AMFM_decompy-1.0.11-py3-none-any.whl size=42848 sha256=873b6dfe32a9faef051f3c4984185de516bf636001af01f032faf22e4ec287bd\n",
            "  Stored in directory: /root/.cache/pip/wheels/a6/76/66/d51bd6c921a5842c5f22c9e0f59ed0735fbedd06a27d17f62e\n",
            "  Building wheel for aubio (setup.py) ... \u001b[?25l\u001b[?25hdone\n",
            "  Created wheel for aubio: filename=aubio-0.4.9-cp37-cp37m-linux_x86_64.whl size=390123 sha256=9f7fb48ab0e1c94b1f3454fff5397d185c19feef2559e93bfdcd7f06343d5be7\n",
            "  Stored in directory: /root/.cache/pip/wheels/82/d4/6a/930c11ef645b5c5b14e5152ea5030ab1d665593405ca3c5d3e\n",
            "Successfully built amfm-decompy aubio\n",
            "Installing collected packages: pydub, aubio, amfm-decompy\n",
            "Successfully installed amfm-decompy-1.0.11 aubio-0.4.9 pydub-0.25.1\n",
            "Looking in indexes: https://pypi.org/simple, https://us-python.pkg.dev/colab-wheels/public/simple/\n",
            "Collecting Wave\n",
            "  Downloading Wave-0.0.2.zip (38 kB)\n",
            "Collecting moviepy==0.2.1.1\n",
            "  Downloading moviepy-0.2.1.1.tar.gz (56 kB)\n",
            "\u001b[K     |████████████████████████████████| 56 kB 4.3 MB/s \n",
            "\u001b[33mWARNING: Discarding https://files.pythonhosted.org/packages/22/cf/c5c29de87b81423fabbf6c84e75f6aad6c6d39903345f0401bebe76dae60/moviepy-0.2.1.1.tar.gz#sha256=ba43ddd781d743becc26068bfaf4e4477bf876b5e4aa2121b188f8b6c2053783 (from https://pypi.org/simple/moviepy/). Command errored out with exit status 1: python setup.py egg_info Check the logs for full command output.\u001b[0m\n",
            "\u001b[31mERROR: Could not find a version that satisfies the requirement moviepy==0.2.1.1 (from versions: 0.2.1.6.3.linux-i686, 0.2.1, 0.2.1.1, 0.2.1.2, 0.2.1.3, 0.2.1.4, 0.2.1.5, 0.2.1.6, 0.2.1.6.1, 0.2.1.6.2, 0.2.1.6.3, 0.2.1.6.4, 0.2.1.6.5, 0.2.1.6.7, 0.2.1.6.8, 0.2.1.6.9, 0.2.1.6.91, 0.2.1.6.92, 0.2.1.6.93, 0.2.1.7, 0.2.1.7.2, 0.2.1.7.3, 0.2.1.7.8, 0.2.1.7.9, 0.2.1.7.10, 0.2.1.7.11, 0.2.1.7.12, 0.2.1.7.13, 0.2.1.7.14, 0.2.1.7.15, 0.2.1.7.16, 0.2.1.7.17, 0.2.1.7.18, 0.2.1.7.19, 0.2.1.7.20, 0.2.1.7.21, 0.2.1.7.22, 0.2.1.8, 0.2.1.8.1, 0.2.1.8.2, 0.2.1.8.3, 0.2.1.8.4, 0.2.1.8.5, 0.2.1.8.6, 0.2.1.8.7, 0.2.1.8.8, 0.2.1.8.9, 0.2.1.8.10, 0.2.1.8.11, 0.2.1.8.12, 0.2.1.9, 0.2.1.9.1, 0.2.1.9.2, 0.2.1.9.3, 0.2.1.9.4, 0.2.1.9.5, 0.2.1.9.7, 0.2.2, 0.2.2.1, 0.2.2.2, 0.2.2.3, 0.2.2.4, 0.2.2.5, 0.2.2.6, 0.2.2.7, 0.2.2.8, 0.2.2.9, 0.2.2.10, 0.2.2.11, 0.2.2.12, 0.2.2.13, 0.2.3.1, 0.2.3.2, 0.2.3.3, 0.2.3.4, 0.2.3.5, 1.0.0, 1.0.1, 1.0.2, 1.0.3, 2.0.0.dev1, 2.0.0.dev2)\u001b[0m\n",
            "\u001b[31mERROR: No matching distribution found for moviepy==0.2.1.1\u001b[0m\n",
            "\u001b[?25hLooking in indexes: https://pypi.org/simple, https://us-python.pkg.dev/colab-wheels/public/simple/\n",
            "Collecting sentence-transformers\n",
            "  Downloading sentence-transformers-2.2.2.tar.gz (85 kB)\n",
            "\u001b[K     |████████████████████████████████| 85 kB 3.0 MB/s \n",
            "\u001b[?25hCollecting transformers<5.0.0,>=4.6.0\n",
            "  Downloading transformers-4.23.1-py3-none-any.whl (5.3 MB)\n",
            "\u001b[K     |████████████████████████████████| 5.3 MB 29.8 MB/s \n",
            "\u001b[?25hRequirement already satisfied: tqdm in /usr/local/lib/python3.7/dist-packages (from sentence-transformers) (4.64.1)\n",
            "Requirement already satisfied: torch>=1.6.0 in /usr/local/lib/python3.7/dist-packages (from sentence-transformers) (1.12.1+cu113)\n",
            "Requirement already satisfied: torchvision in /usr/local/lib/python3.7/dist-packages (from sentence-transformers) (0.13.1+cu113)\n",
            "Requirement already satisfied: numpy in /usr/local/lib/python3.7/dist-packages (from sentence-transformers) (1.21.6)\n",
            "Requirement already satisfied: scikit-learn in /usr/local/lib/python3.7/dist-packages (from sentence-transformers) (1.0.2)\n",
            "Requirement already satisfied: scipy in /usr/local/lib/python3.7/dist-packages (from sentence-transformers) (1.7.3)\n",
            "Requirement already satisfied: nltk in /usr/local/lib/python3.7/dist-packages (from sentence-transformers) (3.7)\n",
            "Collecting sentencepiece\n",
            "  Downloading sentencepiece-0.1.97-cp37-cp37m-manylinux_2_17_x86_64.manylinux2014_x86_64.whl (1.3 MB)\n",
            "\u001b[K     |████████████████████████████████| 1.3 MB 8.7 MB/s \n",
            "\u001b[?25hCollecting huggingface-hub>=0.4.0\n",
            "  Downloading huggingface_hub-0.10.1-py3-none-any.whl (163 kB)\n",
            "\u001b[K     |████████████████████████████████| 163 kB 74.7 MB/s \n",
            "\u001b[?25hRequirement already satisfied: requests in /usr/local/lib/python3.7/dist-packages (from huggingface-hub>=0.4.0->sentence-transformers) (2.23.0)\n",
            "Requirement already satisfied: typing-extensions>=3.7.4.3 in /usr/local/lib/python3.7/dist-packages (from huggingface-hub>=0.4.0->sentence-transformers) (4.1.1)\n",
            "Requirement already satisfied: pyyaml>=5.1 in /usr/local/lib/python3.7/dist-packages (from huggingface-hub>=0.4.0->sentence-transformers) (6.0)\n",
            "Requirement already satisfied: packaging>=20.9 in /usr/local/lib/python3.7/dist-packages (from huggingface-hub>=0.4.0->sentence-transformers) (21.3)\n",
            "Requirement already satisfied: filelock in /usr/local/lib/python3.7/dist-packages (from huggingface-hub>=0.4.0->sentence-transformers) (3.8.0)\n",
            "Requirement already satisfied: importlib-metadata in /usr/local/lib/python3.7/dist-packages (from huggingface-hub>=0.4.0->sentence-transformers) (4.13.0)\n",
            "Requirement already satisfied: pyparsing!=3.0.5,>=2.0.2 in /usr/local/lib/python3.7/dist-packages (from packaging>=20.9->huggingface-hub>=0.4.0->sentence-transformers) (3.0.9)\n",
            "Collecting tokenizers!=0.11.3,<0.14,>=0.11.1\n",
            "  Downloading tokenizers-0.13.1-cp37-cp37m-manylinux_2_17_x86_64.manylinux2014_x86_64.whl (7.6 MB)\n",
            "\u001b[K     |████████████████████████████████| 7.6 MB 70.6 MB/s \n",
            "\u001b[?25hRequirement already satisfied: regex!=2019.12.17 in /usr/local/lib/python3.7/dist-packages (from transformers<5.0.0,>=4.6.0->sentence-transformers) (2022.6.2)\n",
            "Requirement already satisfied: zipp>=0.5 in /usr/local/lib/python3.7/dist-packages (from importlib-metadata->huggingface-hub>=0.4.0->sentence-transformers) (3.9.0)\n",
            "Requirement already satisfied: click in /usr/local/lib/python3.7/dist-packages (from nltk->sentence-transformers) (7.1.2)\n",
            "Requirement already satisfied: joblib in /usr/local/lib/python3.7/dist-packages (from nltk->sentence-transformers) (1.2.0)\n",
            "Requirement already satisfied: urllib3!=1.25.0,!=1.25.1,<1.26,>=1.21.1 in /usr/local/lib/python3.7/dist-packages (from requests->huggingface-hub>=0.4.0->sentence-transformers) (1.24.3)\n",
            "Requirement already satisfied: chardet<4,>=3.0.2 in /usr/local/lib/python3.7/dist-packages (from requests->huggingface-hub>=0.4.0->sentence-transformers) (3.0.4)\n",
            "Requirement already satisfied: idna<3,>=2.5 in /usr/local/lib/python3.7/dist-packages (from requests->huggingface-hub>=0.4.0->sentence-transformers) (2.10)\n",
            "Requirement already satisfied: certifi>=2017.4.17 in /usr/local/lib/python3.7/dist-packages (from requests->huggingface-hub>=0.4.0->sentence-transformers) (2022.9.24)\n",
            "Requirement already satisfied: threadpoolctl>=2.0.0 in /usr/local/lib/python3.7/dist-packages (from scikit-learn->sentence-transformers) (3.1.0)\n",
            "Requirement already satisfied: pillow!=8.3.*,>=5.3.0 in /usr/local/lib/python3.7/dist-packages (from torchvision->sentence-transformers) (7.1.2)\n",
            "Building wheels for collected packages: sentence-transformers\n",
            "  Building wheel for sentence-transformers (setup.py) ... \u001b[?25l\u001b[?25hdone\n",
            "  Created wheel for sentence-transformers: filename=sentence_transformers-2.2.2-py3-none-any.whl size=125938 sha256=2480d1f63eff42a138da540e5e7413015f9f786af2f82c7fc2257871a8a58964\n",
            "  Stored in directory: /root/.cache/pip/wheels/bf/06/fb/d59c1e5bd1dac7f6cf61ec0036cc3a10ab8fecaa6b2c3d3ee9\n",
            "Successfully built sentence-transformers\n",
            "Installing collected packages: tokenizers, huggingface-hub, transformers, sentencepiece, sentence-transformers\n",
            "Successfully installed huggingface-hub-0.10.1 sentence-transformers-2.2.2 sentencepiece-0.1.97 tokenizers-0.13.1 transformers-4.23.1\n",
            "Looking in indexes: https://pypi.org/simple, https://us-python.pkg.dev/colab-wheels/public/simple/\n",
            "Collecting wordninja\n",
            "  Downloading wordninja-2.0.0.tar.gz (541 kB)\n",
            "\u001b[K     |████████████████████████████████| 541 kB 5.0 MB/s \n",
            "\u001b[?25hBuilding wheels for collected packages: wordninja\n",
            "  Building wheel for wordninja (setup.py) ... \u001b[?25l\u001b[?25hdone\n",
            "  Created wheel for wordninja: filename=wordninja-2.0.0-py3-none-any.whl size=541551 sha256=fc200d0b137fde0b65077a0c39eb47d25d62e570f0bbdc0914425a7aaccbfd79\n",
            "  Stored in directory: /root/.cache/pip/wheels/dd/3f/eb/a2692e3d2b9deb1487b09ba4967dd6920bd5032bfd9ff7acfc\n",
            "Successfully built wordninja\n",
            "Installing collected packages: wordninja\n",
            "Successfully installed wordninja-2.0.0\n"
          ]
        }
      ]
    },
    {
      "cell_type": "code",
      "source": [
        "!pip install gensim docx2txt\n",
        "from gensim.summarization.summarizer import summarize\n",
        "from gensim.summarization import keywords# Import the library\n",
        "# to convert MSword doc to txt for processing.\n",
        "import docx2txt\n",
        "!pip install textract PyPDF2\n",
        "import textract\n",
        "import PyPDF2\n",
        "!pip install jsonlines\n",
        "!pip install pyyaml==5.4.1"
      ],
      "metadata": {
        "colab": {
          "base_uri": "https://localhost:8080/"
        },
        "id": "WoB76e4bdTUT",
        "outputId": "34220961-1b30-4f2b-d1b1-13b094939c41"
      },
      "execution_count": 2,
      "outputs": [
        {
          "output_type": "stream",
          "name": "stdout",
          "text": [
            "Looking in indexes: https://pypi.org/simple, https://us-python.pkg.dev/colab-wheels/public/simple/\n",
            "Requirement already satisfied: gensim in /usr/local/lib/python3.7/dist-packages (3.6.0)\n",
            "Requirement already satisfied: docx2txt in /usr/local/lib/python3.7/dist-packages (0.8)\n",
            "Requirement already satisfied: smart-open>=1.2.1 in /usr/local/lib/python3.7/dist-packages (from gensim) (5.2.1)\n",
            "Requirement already satisfied: scipy>=0.18.1 in /usr/local/lib/python3.7/dist-packages (from gensim) (1.7.3)\n",
            "Requirement already satisfied: six>=1.5.0 in /usr/local/lib/python3.7/dist-packages (from gensim) (1.12.0)\n",
            "Requirement already satisfied: numpy>=1.11.3 in /usr/local/lib/python3.7/dist-packages (from gensim) (1.21.6)\n",
            "Looking in indexes: https://pypi.org/simple, https://us-python.pkg.dev/colab-wheels/public/simple/\n",
            "Requirement already satisfied: textract in /usr/local/lib/python3.7/dist-packages (1.6.5)\n",
            "Requirement already satisfied: PyPDF2 in /usr/local/lib/python3.7/dist-packages (2.11.1)\n",
            "Requirement already satisfied: extract-msg<=0.29.* in /usr/local/lib/python3.7/dist-packages (from textract) (0.28.7)\n",
            "Requirement already satisfied: beautifulsoup4~=4.8.0 in /usr/local/lib/python3.7/dist-packages (from textract) (4.8.2)\n",
            "Requirement already satisfied: python-pptx~=0.6.18 in /usr/local/lib/python3.7/dist-packages (from textract) (0.6.21)\n",
            "Requirement already satisfied: chardet==3.* in /usr/local/lib/python3.7/dist-packages (from textract) (3.0.4)\n",
            "Requirement already satisfied: SpeechRecognition~=3.8.1 in /usr/local/lib/python3.7/dist-packages (from textract) (3.8.1)\n",
            "Requirement already satisfied: docx2txt~=0.8 in /usr/local/lib/python3.7/dist-packages (from textract) (0.8)\n",
            "Requirement already satisfied: six~=1.12.0 in /usr/local/lib/python3.7/dist-packages (from textract) (1.12.0)\n",
            "Requirement already satisfied: xlrd~=1.2.0 in /usr/local/lib/python3.7/dist-packages (from textract) (1.2.0)\n",
            "Requirement already satisfied: argcomplete~=1.10.0 in /usr/local/lib/python3.7/dist-packages (from textract) (1.10.3)\n",
            "Requirement already satisfied: pdfminer.six==20191110 in /usr/local/lib/python3.7/dist-packages (from textract) (20191110)\n",
            "Requirement already satisfied: sortedcontainers in /usr/local/lib/python3.7/dist-packages (from pdfminer.six==20191110->textract) (2.4.0)\n",
            "Requirement already satisfied: pycryptodome in /usr/local/lib/python3.7/dist-packages (from pdfminer.six==20191110->textract) (3.15.0)\n",
            "Requirement already satisfied: soupsieve>=1.2 in /usr/local/lib/python3.7/dist-packages (from beautifulsoup4~=4.8.0->textract) (2.3.2.post1)\n",
            "Requirement already satisfied: imapclient==2.1.0 in /usr/local/lib/python3.7/dist-packages (from extract-msg<=0.29.*->textract) (2.1.0)\n",
            "Requirement already satisfied: tzlocal>=2.1 in /usr/local/lib/python3.7/dist-packages (from extract-msg<=0.29.*->textract) (4.2)\n",
            "Requirement already satisfied: olefile>=0.46 in /usr/local/lib/python3.7/dist-packages (from extract-msg<=0.29.*->textract) (0.46)\n",
            "Requirement already satisfied: ebcdic>=1.1.1 in /usr/local/lib/python3.7/dist-packages (from extract-msg<=0.29.*->textract) (1.1.1)\n",
            "Requirement already satisfied: compressed-rtf>=1.0.6 in /usr/local/lib/python3.7/dist-packages (from extract-msg<=0.29.*->textract) (1.0.6)\n",
            "Requirement already satisfied: Pillow>=3.3.2 in /usr/local/lib/python3.7/dist-packages (from python-pptx~=0.6.18->textract) (7.1.2)\n",
            "Requirement already satisfied: XlsxWriter>=0.5.7 in /usr/local/lib/python3.7/dist-packages (from python-pptx~=0.6.18->textract) (3.0.3)\n",
            "Requirement already satisfied: lxml>=3.1.0 in /usr/local/lib/python3.7/dist-packages (from python-pptx~=0.6.18->textract) (4.9.1)\n",
            "Requirement already satisfied: pytz-deprecation-shim in /usr/local/lib/python3.7/dist-packages (from tzlocal>=2.1->extract-msg<=0.29.*->textract) (0.1.0.post0)\n",
            "Requirement already satisfied: backports.zoneinfo in /usr/local/lib/python3.7/dist-packages (from tzlocal>=2.1->extract-msg<=0.29.*->textract) (0.2.1)\n",
            "Requirement already satisfied: typing-extensions>=3.10.0.0 in /usr/local/lib/python3.7/dist-packages (from PyPDF2) (4.1.1)\n",
            "Requirement already satisfied: tzdata in /usr/local/lib/python3.7/dist-packages (from pytz-deprecation-shim->tzlocal>=2.1->extract-msg<=0.29.*->textract) (2022.5)\n",
            "Looking in indexes: https://pypi.org/simple, https://us-python.pkg.dev/colab-wheels/public/simple/\n",
            "Requirement already satisfied: jsonlines in /usr/local/lib/python3.7/dist-packages (3.1.0)\n",
            "Requirement already satisfied: attrs>=19.2.0 in /usr/local/lib/python3.7/dist-packages (from jsonlines) (22.1.0)\n",
            "Requirement already satisfied: typing-extensions in /usr/local/lib/python3.7/dist-packages (from jsonlines) (4.1.1)\n",
            "Looking in indexes: https://pypi.org/simple, https://us-python.pkg.dev/colab-wheels/public/simple/\n",
            "Requirement already satisfied: pyyaml==5.4.1 in /usr/local/lib/python3.7/dist-packages (5.4.1)\n"
          ]
        }
      ]
    },
    {
      "cell_type": "code",
      "source": [
        "#spacy\n",
        "import spacy\n",
        "from spacy.pipeline import EntityRuler\n",
        "from spacy.lang.en import English\n",
        "from spacy.tokens import Doc\n",
        "\n",
        "#gensim\n",
        "import gensim\n",
        "from gensim import corpora\n",
        "\n",
        "#Visualization\n",
        "from spacy import displacy\n",
        "import pyLDAvis.gensim_models\n",
        "from wordcloud import WordCloud\n",
        "import plotly.express as px\n",
        "import matplotlib.pyplot as plt\n",
        "\n",
        "#Data loading/ Data manipulation\n",
        "import pandas as pd\n",
        "import numpy as np\n",
        "import jsonlines\n",
        "\n",
        "#nltk\n",
        "import re\n",
        "import nltk\n",
        "from nltk.corpus import stopwords\n",
        "from nltk.stem import WordNetLemmatizer\n",
        "nltk.download(['stopwords','wordnet'])\n",
        "import librosa\n",
        "#warning\n",
        "import warnings \n",
        "warnings.filterwarnings('ignore')"
      ],
      "metadata": {
        "colab": {
          "base_uri": "https://localhost:8080/"
        },
        "id": "X4HuUHubThdU",
        "outputId": "bd41d0e2-3678-43e1-bc08-c5137b113fa0"
      },
      "execution_count": 3,
      "outputs": [
        {
          "output_type": "stream",
          "name": "stderr",
          "text": [
            "[nltk_data] Downloading package stopwords to /root/nltk_data...\n",
            "[nltk_data]   Package stopwords is already up-to-date!\n",
            "[nltk_data] Downloading package wordnet to /root/nltk_data...\n",
            "[nltk_data]   Package wordnet is already up-to-date!\n"
          ]
        }
      ]
    },
    {
      "cell_type": "code",
      "source": [
        "!wget https://raw.githubusercontent.com/pandmi/jobzilla_ai/main/jz_skill_patterns.jsonl"
      ],
      "metadata": {
        "colab": {
          "base_uri": "https://localhost:8080/"
        },
        "id": "UNyTVJjig284",
        "outputId": "be00b664-e615-4aff-f1ca-6e02f003ae7f"
      },
      "execution_count": 4,
      "outputs": [
        {
          "output_type": "stream",
          "name": "stdout",
          "text": [
            "--2022-10-23 16:54:18--  https://raw.githubusercontent.com/pandmi/jobzilla_ai/main/jz_skill_patterns.jsonl\n",
            "Resolving raw.githubusercontent.com (raw.githubusercontent.com)... 185.199.110.133, 185.199.109.133, 185.199.111.133, ...\n",
            "Connecting to raw.githubusercontent.com (raw.githubusercontent.com)|185.199.110.133|:443... connected.\n",
            "HTTP request sent, awaiting response... 200 OK\n",
            "Length: 143937 (141K) [text/plain]\n",
            "Saving to: ‘jz_skill_patterns.jsonl’\n",
            "\n",
            "jz_skill_patterns.j 100%[===================>] 140.56K  --.-KB/s    in 0.02s   \n",
            "\n",
            "2022-10-23 16:54:18 (6.39 MB/s) - ‘jz_skill_patterns.jsonl’ saved [143937/143937]\n",
            "\n"
          ]
        }
      ]
    },
    {
      "cell_type": "code",
      "source": [
        "import en_core_web_sm\n",
        "nlp = spacy.load(\"en_core_web_sm\")\n",
        "skill_pattern_path = \"/content/jz_skill_patterns.jsonl\"\n",
        "ruler = nlp.add_pipe(\"entity_ruler\")\n",
        "ruler.from_disk(skill_pattern_path)\n",
        "nlp.pipe_names"
      ],
      "metadata": {
        "colab": {
          "base_uri": "https://localhost:8080/"
        },
        "id": "LwIYVUKBXlfb",
        "outputId": "13ca2134-f968-4aab-c2c3-08310be6fb1a"
      },
      "execution_count": 5,
      "outputs": [
        {
          "output_type": "execute_result",
          "data": {
            "text/plain": [
              "['tok2vec',\n",
              " 'tagger',\n",
              " 'parser',\n",
              " 'attribute_ruler',\n",
              " 'lemmatizer',\n",
              " 'ner',\n",
              " 'entity_ruler']"
            ]
          },
          "metadata": {},
          "execution_count": 5
        }
      ]
    },
    {
      "cell_type": "markdown",
      "source": [
        "## Input"
      ],
      "metadata": {
        "id": "LTbNizqpXo9c"
      }
    },
    {
      "cell_type": "code",
      "source": [
        "import os\n",
        "os.environ['GOOGLE_CLOUD_PROJECT']=\"august-cirrus-306813\""
      ],
      "metadata": {
        "id": "293YbvFlLZVb"
      },
      "execution_count": 6,
      "outputs": []
    },
    {
      "cell_type": "code",
      "execution_count": 7,
      "metadata": {
        "id": "MRXDBOwLe_S2"
      },
      "outputs": [],
      "source": [
        "from google.colab import auth\n",
        "import gspread\n",
        "from google.auth import default\n",
        "#autenticating to google\n",
        "auth.authenticate_user()\n",
        "creds, _ = default()\n",
        "gc = gspread.authorize(creds)"
      ]
    },
    {
      "cell_type": "code",
      "source": [
        "import pandas as pd\n",
        "#defining my worksheet\n",
        "worksheet = gc.open('Outsourcing Tracker').sheet1\n",
        "#get_all_values gives a list of rows\n",
        "rows = worksheet.get_all_values()\n",
        "#Convert to a DataFrame \n",
        "df = pd.DataFrame(rows)\n",
        "df.columns = df.iloc[0]\n",
        "df = df.iloc[1:]\n",
        "df.head()"
      ],
      "metadata": {
        "colab": {
          "base_uri": "https://localhost:8080/",
          "height": 583
        },
        "id": "xM6Jdl8UqvGn",
        "outputId": "c5db9ce5-6716-48b1-8c0e-512d4a91e117"
      },
      "execution_count": 8,
      "outputs": [
        {
          "output_type": "execute_result",
          "data": {
            "text/plain": [
              "0 Interaction_ID Candidate_ID Test_ID      Track Interaction_Mode  \\\n",
              "1          67897          686    8890  New Grad             Audio   \n",
              "2                                                                   \n",
              "3                                                                   \n",
              "4                                                                   \n",
              "5                                                                   \n",
              "\n",
              "0                                        Description Question_ID  \\\n",
              "1  Web css html java python tailwind django web d...           1   \n",
              "2                                                              2   \n",
              "3                                                              3   \n",
              "4                                                              4   \n",
              "5                                                              5   \n",
              "\n",
              "0                                           Question Answer_Format  \\\n",
              "1                            Tell me about yourself?         Video   \n",
              "2  How would you rate yourself on a scale of 1 to...         Video   \n",
              "3  What are your greatest strengths and weaknesse...         Video   \n",
              "4                             What makes you unique?         Video   \n",
              "5                      Why do you want to work here?         Video   \n",
              "\n",
              "0 Base_Scoring  Content_Scoring  \\\n",
              "1           Yes             Yes   \n",
              "2           Yes             Yes   \n",
              "3           Yes              No   \n",
              "4           Yes              No   \n",
              "5           Yes              No   \n",
              "\n",
              "0                                           Response  \\\n",
              "1  https://drive.google.com/file/d/1MC-mZll6SVt5e...   \n",
              "2  https://drive.google.com/file/d/1ME4pnmzhhVZyC...   \n",
              "3  https://drive.google.com/file/d/1MEMk1pq3SoSYK...   \n",
              "4  https://drive.google.com/file/d/1MHiJtZhHhaFg8...   \n",
              "5  https://drive.google.com/file/d/1MMl2PShXqn7ZQ...   \n",
              "\n",
              "0                                       Ideal_answer  \n",
              "1  I am a determined, hard-working, passionate an...  \n",
              "2  I would like to rate myself an 8. 8 because I ...  \n",
              "3  I think one of my greatest strengths is that I...  \n",
              "4  What makes me unique is my ability to meet and...  \n",
              "5  The company’s mission to help college grads pa...  "
            ],
            "text/html": [
              "\n",
              "  <div id=\"df-f60f399e-0cf0-43d1-9c12-1a2ad6c904b3\">\n",
              "    <div class=\"colab-df-container\">\n",
              "      <div>\n",
              "<style scoped>\n",
              "    .dataframe tbody tr th:only-of-type {\n",
              "        vertical-align: middle;\n",
              "    }\n",
              "\n",
              "    .dataframe tbody tr th {\n",
              "        vertical-align: top;\n",
              "    }\n",
              "\n",
              "    .dataframe thead th {\n",
              "        text-align: right;\n",
              "    }\n",
              "</style>\n",
              "<table border=\"1\" class=\"dataframe\">\n",
              "  <thead>\n",
              "    <tr style=\"text-align: right;\">\n",
              "      <th></th>\n",
              "      <th>Interaction_ID</th>\n",
              "      <th>Candidate_ID</th>\n",
              "      <th>Test_ID</th>\n",
              "      <th>Track</th>\n",
              "      <th>Interaction_Mode</th>\n",
              "      <th>Description</th>\n",
              "      <th>Question_ID</th>\n",
              "      <th>Question</th>\n",
              "      <th>Answer_Format</th>\n",
              "      <th>Base_Scoring</th>\n",
              "      <th>Content_Scoring</th>\n",
              "      <th>Response</th>\n",
              "      <th>Ideal_answer</th>\n",
              "    </tr>\n",
              "  </thead>\n",
              "  <tbody>\n",
              "    <tr>\n",
              "      <th>1</th>\n",
              "      <td>67897</td>\n",
              "      <td>686</td>\n",
              "      <td>8890</td>\n",
              "      <td>New Grad</td>\n",
              "      <td>Audio</td>\n",
              "      <td>Web css html java python tailwind django web d...</td>\n",
              "      <td>1</td>\n",
              "      <td>Tell me about yourself?</td>\n",
              "      <td>Video</td>\n",
              "      <td>Yes</td>\n",
              "      <td>Yes</td>\n",
              "      <td>https://drive.google.com/file/d/1MC-mZll6SVt5e...</td>\n",
              "      <td>I am a determined, hard-working, passionate an...</td>\n",
              "    </tr>\n",
              "    <tr>\n",
              "      <th>2</th>\n",
              "      <td></td>\n",
              "      <td></td>\n",
              "      <td></td>\n",
              "      <td></td>\n",
              "      <td></td>\n",
              "      <td></td>\n",
              "      <td>2</td>\n",
              "      <td>How would you rate yourself on a scale of 1 to...</td>\n",
              "      <td>Video</td>\n",
              "      <td>Yes</td>\n",
              "      <td>Yes</td>\n",
              "      <td>https://drive.google.com/file/d/1ME4pnmzhhVZyC...</td>\n",
              "      <td>I would like to rate myself an 8. 8 because I ...</td>\n",
              "    </tr>\n",
              "    <tr>\n",
              "      <th>3</th>\n",
              "      <td></td>\n",
              "      <td></td>\n",
              "      <td></td>\n",
              "      <td></td>\n",
              "      <td></td>\n",
              "      <td></td>\n",
              "      <td>3</td>\n",
              "      <td>What are your greatest strengths and weaknesse...</td>\n",
              "      <td>Video</td>\n",
              "      <td>Yes</td>\n",
              "      <td>No</td>\n",
              "      <td>https://drive.google.com/file/d/1MEMk1pq3SoSYK...</td>\n",
              "      <td>I think one of my greatest strengths is that I...</td>\n",
              "    </tr>\n",
              "    <tr>\n",
              "      <th>4</th>\n",
              "      <td></td>\n",
              "      <td></td>\n",
              "      <td></td>\n",
              "      <td></td>\n",
              "      <td></td>\n",
              "      <td></td>\n",
              "      <td>4</td>\n",
              "      <td>What makes you unique?</td>\n",
              "      <td>Video</td>\n",
              "      <td>Yes</td>\n",
              "      <td>No</td>\n",
              "      <td>https://drive.google.com/file/d/1MHiJtZhHhaFg8...</td>\n",
              "      <td>What makes me unique is my ability to meet and...</td>\n",
              "    </tr>\n",
              "    <tr>\n",
              "      <th>5</th>\n",
              "      <td></td>\n",
              "      <td></td>\n",
              "      <td></td>\n",
              "      <td></td>\n",
              "      <td></td>\n",
              "      <td></td>\n",
              "      <td>5</td>\n",
              "      <td>Why do you want to work here?</td>\n",
              "      <td>Video</td>\n",
              "      <td>Yes</td>\n",
              "      <td>No</td>\n",
              "      <td>https://drive.google.com/file/d/1MMl2PShXqn7ZQ...</td>\n",
              "      <td>The company’s mission to help college grads pa...</td>\n",
              "    </tr>\n",
              "  </tbody>\n",
              "</table>\n",
              "</div>\n",
              "      <button class=\"colab-df-convert\" onclick=\"convertToInteractive('df-f60f399e-0cf0-43d1-9c12-1a2ad6c904b3')\"\n",
              "              title=\"Convert this dataframe to an interactive table.\"\n",
              "              style=\"display:none;\">\n",
              "        \n",
              "  <svg xmlns=\"http://www.w3.org/2000/svg\" height=\"24px\"viewBox=\"0 0 24 24\"\n",
              "       width=\"24px\">\n",
              "    <path d=\"M0 0h24v24H0V0z\" fill=\"none\"/>\n",
              "    <path d=\"M18.56 5.44l.94 2.06.94-2.06 2.06-.94-2.06-.94-.94-2.06-.94 2.06-2.06.94zm-11 1L8.5 8.5l.94-2.06 2.06-.94-2.06-.94L8.5 2.5l-.94 2.06-2.06.94zm10 10l.94 2.06.94-2.06 2.06-.94-2.06-.94-.94-2.06-.94 2.06-2.06.94z\"/><path d=\"M17.41 7.96l-1.37-1.37c-.4-.4-.92-.59-1.43-.59-.52 0-1.04.2-1.43.59L10.3 9.45l-7.72 7.72c-.78.78-.78 2.05 0 2.83L4 21.41c.39.39.9.59 1.41.59.51 0 1.02-.2 1.41-.59l7.78-7.78 2.81-2.81c.8-.78.8-2.07 0-2.86zM5.41 20L4 18.59l7.72-7.72 1.47 1.35L5.41 20z\"/>\n",
              "  </svg>\n",
              "      </button>\n",
              "      \n",
              "  <style>\n",
              "    .colab-df-container {\n",
              "      display:flex;\n",
              "      flex-wrap:wrap;\n",
              "      gap: 12px;\n",
              "    }\n",
              "\n",
              "    .colab-df-convert {\n",
              "      background-color: #E8F0FE;\n",
              "      border: none;\n",
              "      border-radius: 50%;\n",
              "      cursor: pointer;\n",
              "      display: none;\n",
              "      fill: #1967D2;\n",
              "      height: 32px;\n",
              "      padding: 0 0 0 0;\n",
              "      width: 32px;\n",
              "    }\n",
              "\n",
              "    .colab-df-convert:hover {\n",
              "      background-color: #E2EBFA;\n",
              "      box-shadow: 0px 1px 2px rgba(60, 64, 67, 0.3), 0px 1px 3px 1px rgba(60, 64, 67, 0.15);\n",
              "      fill: #174EA6;\n",
              "    }\n",
              "\n",
              "    [theme=dark] .colab-df-convert {\n",
              "      background-color: #3B4455;\n",
              "      fill: #D2E3FC;\n",
              "    }\n",
              "\n",
              "    [theme=dark] .colab-df-convert:hover {\n",
              "      background-color: #434B5C;\n",
              "      box-shadow: 0px 1px 3px 1px rgba(0, 0, 0, 0.15);\n",
              "      filter: drop-shadow(0px 1px 2px rgba(0, 0, 0, 0.3));\n",
              "      fill: #FFFFFF;\n",
              "    }\n",
              "  </style>\n",
              "\n",
              "      <script>\n",
              "        const buttonEl =\n",
              "          document.querySelector('#df-f60f399e-0cf0-43d1-9c12-1a2ad6c904b3 button.colab-df-convert');\n",
              "        buttonEl.style.display =\n",
              "          google.colab.kernel.accessAllowed ? 'block' : 'none';\n",
              "\n",
              "        async function convertToInteractive(key) {\n",
              "          const element = document.querySelector('#df-f60f399e-0cf0-43d1-9c12-1a2ad6c904b3');\n",
              "          const dataTable =\n",
              "            await google.colab.kernel.invokeFunction('convertToInteractive',\n",
              "                                                     [key], {});\n",
              "          if (!dataTable) return;\n",
              "\n",
              "          const docLinkHtml = 'Like what you see? Visit the ' +\n",
              "            '<a target=\"_blank\" href=https://colab.research.google.com/notebooks/data_table.ipynb>data table notebook</a>'\n",
              "            + ' to learn more about interactive tables.';\n",
              "          element.innerHTML = '';\n",
              "          dataTable['output_type'] = 'display_data';\n",
              "          await google.colab.output.renderOutput(dataTable, element);\n",
              "          const docLink = document.createElement('div');\n",
              "          docLink.innerHTML = docLinkHtml;\n",
              "          element.appendChild(docLink);\n",
              "        }\n",
              "      </script>\n",
              "    </div>\n",
              "  </div>\n",
              "  "
            ]
          },
          "metadata": {},
          "execution_count": 8
        }
      ]
    },
    {
      "cell_type": "code",
      "source": [
        "for i in range(7):\n",
        "  dir= \"question_answers\"+str(i+1)\n",
        "  %mkdir $dir\n",
        "  %cd $dir\n",
        "  file_id=df.iloc[i]['Response'].split(\"/\")[-2]\n",
        "  !gdown $file_id\n",
        "  %cd ../ "
      ],
      "metadata": {
        "colab": {
          "base_uri": "https://localhost:8080/"
        },
        "id": "ucScprmZzMq7",
        "outputId": "408cbf7a-f294-4d76-905c-d8ecee4ac7f3"
      },
      "execution_count": 9,
      "outputs": [
        {
          "output_type": "stream",
          "name": "stdout",
          "text": [
            "/content/question_answers1\n",
            "Downloading...\n",
            "From: https://drive.google.com/uc?id=1MC-mZll6SVt5ekun8ncjkH2GymlbYf8y\n",
            "To: /content/question_answers1/VID_20220726_130803(0).mp4\n",
            "100% 125M/125M [00:01<00:00, 82.6MB/s]\n",
            "/content\n",
            "/content/question_answers2\n",
            "Downloading...\n",
            "From: https://drive.google.com/uc?id=1ME4pnmzhhVZyCFcBaDXaeUmWlF4ehKRy\n",
            "To: /content/question_answers2/VID_20220726_131310.mp4\n",
            "100% 59.6M/59.6M [00:00<00:00, 80.5MB/s]\n",
            "/content\n",
            "/content/question_answers3\n",
            "Downloading...\n",
            "From: https://drive.google.com/uc?id=1MEMk1pq3SoSYKYITIYJ7EHmyRwp4ZTbE\n",
            "To: /content/question_answers3/VID_20220726_131411.mp4\n",
            "100% 113M/113M [00:01<00:00, 58.9MB/s]\n",
            "/content\n",
            "/content/question_answers4\n",
            "Downloading...\n",
            "From: https://drive.google.com/uc?id=1MHiJtZhHhaFg8vxXXrkcuO66jpUxfnE7\n",
            "To: /content/question_answers4/VID_20220726_131753.mp4\n",
            "100% 67.4M/67.4M [00:00<00:00, 91.4MB/s]\n",
            "/content\n",
            "/content/question_answers5\n",
            "Downloading...\n",
            "From: https://drive.google.com/uc?id=1MMl2PShXqn7ZQtWVE5oAN8pxfjWfMWTE\n",
            "To: /content/question_answers5/VID_20220726_132525.mp4\n",
            "100% 93.4M/93.4M [00:01<00:00, 70.9MB/s]\n",
            "/content\n",
            "/content/question_answers6\n",
            "Downloading...\n",
            "From: https://drive.google.com/uc?id=1MMl2PShXqn7ZQtWVE5oAN8pxfjWfMWTE\n",
            "To: /content/question_answers6/VID_20220726_132525.mp4\n",
            "100% 93.4M/93.4M [00:00<00:00, 129MB/s]\n",
            "/content\n",
            "/content/question_answers7\n",
            "Downloading...\n",
            "From: https://drive.google.com/uc?id=18g1qvb_SPb2270ChyyVr7tzXP5TizjmD\n",
            "To: /content/question_answers7/RESUME.pdf\n",
            "100% 43.3k/43.3k [00:00<00:00, 61.1MB/s]\n",
            "/content\n"
          ]
        }
      ]
    },
    {
      "cell_type": "markdown",
      "source": [
        "## Calculations:"
      ],
      "metadata": {
        "id": "7Qs2YVL4ZrN9"
      }
    },
    {
      "cell_type": "code",
      "source": [
        "#ideal answers\n",
        "ideal={}\n",
        "for i in range(len(df['Ideal_answer'])-1):\n",
        "  ideal[i+1]=df.iloc[i]['Ideal_answer']"
      ],
      "metadata": {
        "id": "5ynFaH_7SBQz"
      },
      "execution_count": 10,
      "outputs": []
    },
    {
      "cell_type": "code",
      "source": [
        "ideal"
      ],
      "metadata": {
        "colab": {
          "base_uri": "https://localhost:8080/"
        },
        "id": "n_KoUKLNW4nK",
        "outputId": "2c962979-b37b-4767-f5e2-6de2898096c0"
      },
      "execution_count": 11,
      "outputs": [
        {
          "output_type": "execute_result",
          "data": {
            "text/plain": [
              "{1: 'I am a determined, hard-working, passionate and enthusiastic person who has ambitious plans for the future. Over the years I have built up a track record for being a self-starter, a highly motivated person and someone who is supportive of others when they need my help or assistance. I am a patient person who understands you only get what you want in life if you are prepared to work hard at it, if you listen to others’ experience and knowledge, and if you apply yourself fully in everything you do. I am respectful, disciplined and a good team worker and I understand there are many applicants all willing for this place but I can assure you I will do the best to benefit the company.',\n",
              " 2: 'I would like to rate myself an 8. 8 because I know that I am not perfect and there is always a scope for learning and improvement. Continuous learning is the most fundamental part of personal and professional growth.\\n',\n",
              " 3: 'I think one of my greatest strengths is that I am a great team player. I am also a self-motivated and quick learning individual. Whatever task that I set to do, I always give my best and complete it diligently well in advance. My weakness would be that I am learning to master people skills while meeting new individuals. I get nervous while talking to new people. I have been working on this for quite a long time and I can say with utmost confidence that I have come a long way.\\n',\n",
              " 4: 'What makes me unique is my ability to meet and exceed deadlines. In my previous role as an intern, my manager consistently praised me for completing my projects efficiently with a high level of quality. This allowed me to take on additional responsibilities and eventually led to a promotion',\n",
              " 5: 'The company’s mission to help college grads pay off their student loan debt resonates with me. I’ve been in student loan debt myself and would love the opportunity to work with a company that’s making a difference. Finding a company with a positive work environment and values that align with my own has remained a priority throughout my job search and this company ranks at the top of the list.',\n",
              " 6: 'Yes. It is quite essential to measure your performance and gain perspective of how effective your work procedure and working strategies are. Informally, it could be done by taking verbal feedback from your co-workers, subordinates and managers. A formal procedure for this would be 360-degree feedback to understand your working strategies and their effectiveness. Additionally, a performance appraisal should also be performed.'}"
            ]
          },
          "metadata": {},
          "execution_count": 11
        }
      ]
    },
    {
      "cell_type": "code",
      "source": [
        "#content_scoring flag\n",
        "flag=df['Content_Scoring']\n",
        "dat_format=df['Answer_Format']\n",
        "base_flag=df['Base_Scoring ']\n",
        "id={}\n",
        "labels=['Interaction_ID','Candidate_ID','Test_ID']\n",
        "for i in labels:\n",
        "  id[i]=df.iloc[0][i]"
      ],
      "metadata": {
        "id": "d7U-z2mYYJl9"
      },
      "execution_count": 12,
      "outputs": []
    },
    {
      "cell_type": "code",
      "source": [
        "flag"
      ],
      "metadata": {
        "colab": {
          "base_uri": "https://localhost:8080/"
        },
        "id": "5uFEPENg3P5Y",
        "outputId": "f7911237-3bf8-43ae-b413-a8001b56b03d"
      },
      "execution_count": 13,
      "outputs": [
        {
          "output_type": "execute_result",
          "data": {
            "text/plain": [
              "1    Yes\n",
              "2    Yes\n",
              "3     No\n",
              "4     No\n",
              "5     No\n",
              "6     No\n",
              "7    Yes\n",
              "Name: Content_Scoring, dtype: object"
            ]
          },
          "metadata": {},
          "execution_count": 13
        }
      ]
    },
    {
      "cell_type": "code",
      "source": [
        "def extract_text_from_pdf(file):\n",
        "    '''Opens and reads in a PDF file from path'''\n",
        "    \n",
        "    pdfFileObj = open(file, 'rb')\n",
        "      \n",
        "    # creating a pdf reader object\n",
        "    pdfReader = PyPDF2.PdfFileReader(pdfFileObj)\n",
        "      \n",
        "    # printing number of pages in pdf file\n",
        "    page_count = pdfReader.getNumPages()\n",
        "      \n",
        "    # creating a page object\n",
        "    pageObj = pdfReader.getPage(0)\n",
        "      \n",
        "    # extracting text from page\n",
        "    text = [pdfReader.getPage(i).extractText() for i in range(page_count)]\n",
        "      \n",
        "    # closing the pdf file object\n",
        "    pdfFileObj.close()\n",
        "    \n",
        "    \n",
        "    \n",
        "    return str(text).replace(\"\\\\n\", \"\")"
      ],
      "metadata": {
        "id": "PsPo7sr_d0TA"
      },
      "execution_count": 14,
      "outputs": []
    },
    {
      "cell_type": "code",
      "source": [
        "import en_core_web_sm\n",
        "\n",
        "# Load pre-trained English language model\n",
        "#nlp = en_core_web_sm.load()\n",
        "\n",
        "def create_tokenized_texts_list():\n",
        "    '''Create two lists, one with the names of the candidate and one with the tokenized \n",
        "       resume texts extracted from either a .pdf or .doc'''\n",
        "    resume_texts= ''\n",
        "    \n",
        "    # Loop over the contents of the directory containing the resumes, filtering by .pdf or .doc(x)\n",
        "    resume=os.listdir('/content/question_answers7/')[0]\n",
        "\n",
        "    # Read in every resume with pdf extension in the directory\n",
        "    resume_texts=(extract_text_from_pdf('/content/question_answers7/' + resume))\n",
        "    \n",
        "        \n",
        "    return resume_texts, resume\n"
      ],
      "metadata": {
        "id": "c-iFjhFOeC-0"
      },
      "execution_count": 15,
      "outputs": []
    },
    {
      "cell_type": "code",
      "source": [
        "def get_skills(text):\n",
        "    doc = nlp(text)\n",
        "    myset = []\n",
        "    subset = []\n",
        "    for ent in doc.ents:\n",
        "        if ent.label_ == \"SKILL\":\n",
        "            subset.append(ent.text)\n",
        "    myset.append(subset)\n",
        "    return subset\n",
        "\n",
        "\n",
        "def unique_skills(x):\n",
        "    return list(set(x))"
      ],
      "metadata": {
        "id": "41buMeRzgXLN"
      },
      "execution_count": 16,
      "outputs": []
    },
    {
      "cell_type": "code",
      "source": [
        "import nltk\n",
        "import wordninja\n",
        "nltk.download('omw-1.4')\n",
        "def clean_resume():\n",
        "  texts,names=create_tokenized_texts_list()\n",
        "  texts=' '.join(texts.split(\"\\\\uf\"))\n",
        "  clean = []\n",
        "\n",
        "  review = re.sub(\n",
        "      '(@[A-Za-z0-9]+)|([^0-9A-Za-z \\t])|(\\w+:\\/\\/\\S+)|^rt|http.+?\"',\n",
        "      \" \",\n",
        "      texts,\n",
        "  )\n",
        "  review = review.lower()\n",
        "  review = review.split()\n",
        "  lm = WordNetLemmatizer()\n",
        "  review = [\n",
        "      lm.lemmatize(word)\n",
        "      for word in review\n",
        "      if not word in set(stopwords.words(\"english\"))\n",
        "  ]\n",
        "  review = \" \".join(review)\n",
        "  clean=' '.join(wordninja.split(review))\n",
        "  return clean"
      ],
      "metadata": {
        "colab": {
          "base_uri": "https://localhost:8080/"
        },
        "id": "jRh5TJoG1edF",
        "outputId": "a6bdca19-403b-46e9-a3df-216bd812c259"
      },
      "execution_count": 17,
      "outputs": [
        {
          "output_type": "stream",
          "name": "stderr",
          "text": [
            "[nltk_data] Downloading package omw-1.4 to /root/nltk_data...\n"
          ]
        }
      ]
    },
    {
      "cell_type": "code",
      "source": [
        "from fuzzywuzzy import fuzz\n",
        "from sklearn.feature_extraction.text import CountVectorizer\n",
        "from sklearn.metrics.pairwise import cosine_similarity\n",
        "# get the match percentage\n",
        "def resume_score():\n",
        "  cleaned_resume=clean_resume()\n",
        "  job_skills=df.iloc[0]['Description']\n",
        "  text_list = [cleaned_resume,job_skills]\n",
        "  cv = CountVectorizer()\n",
        "  count_matrix = cv.fit_transform(text_list)\n",
        "  matchPercentage = cosine_similarity(count_matrix)[0][1] * 100\n",
        "  matchPercentage = round(matchPercentage, 2)\n",
        "  mp2=round(((fuzz.token_sort_ratio(cleaned_resume.lower(),job_skills.lower()))/len(job_skills.split(\" \")))*100)\n",
        "\n",
        "\n",
        "  return mp2 if mp2>matchPercentage else matchPercentage\n"
      ],
      "metadata": {
        "id": "D3IrSQ2uhiZ0"
      },
      "execution_count": 18,
      "outputs": []
    },
    {
      "cell_type": "code",
      "source": [
        "resume_sc=resume_score()\n",
        "resume_sc"
      ],
      "metadata": {
        "colab": {
          "base_uri": "https://localhost:8080/"
        },
        "id": "qli_kNRQ2TJb",
        "outputId": "1dda2479-4e36-416a-9cb5-71c02611925a"
      },
      "execution_count": 19,
      "outputs": [
        {
          "output_type": "execute_result",
          "data": {
            "text/plain": [
              "42"
            ]
          },
          "metadata": {},
          "execution_count": 19
        }
      ]
    },
    {
      "cell_type": "code",
      "source": [
        "def startConvertion(path = 'sample.wav',lang = 'en-IN'):\n",
        "    with sr.AudioFile(path) as source:\n",
        "        r = sr.Recognizer()\n",
        "        print('Fetching File')\n",
        "        audio_text = r.listen(source,timeout=6000, phrase_time_limit=6000)\n",
        "        # recoginize_() method will throw a request error if the API is unreachable, hence using exception handling\n",
        "        try:\n",
        "        \n",
        "            # using google speech recognition\n",
        "            print('Converting audio transcripts into text ...')\n",
        "            text = r.recognize_google(audio_text)\n",
        "            print(text)\n",
        "            return text\n",
        "    \n",
        "        except:\n",
        "            print('Sorry.. run again...')"
      ],
      "metadata": {
        "id": "wWarLstxZ3Xk"
      },
      "execution_count": 20,
      "outputs": []
    },
    {
      "cell_type": "code",
      "source": [
        "import numpy as np # linear algebra\n",
        "import pandas as pd\n",
        "import wave, math, contextlib\n",
        "import speech_recognition as sr\n",
        "#import imageio-ffmpeg\n",
        "from moviepy.editor import AudioFileClip\n",
        "\n",
        "#returns pace,duration,text,filenames\n",
        "def audio_read(path):\n",
        "  net_text=[]\n",
        "  net_word_count=[]\n",
        "  net_total_duration=[]\n",
        "  net_transcribed_audio_file_name=[]\n",
        "  for i in range(len(df['Response'])-1):\n",
        "    transcribed_audio_file_name = \"transcribed_speech\"+str(i+1)+\".wav\"\n",
        "    zoom_video_file_name = path[i]\n",
        "    audioclip = AudioFileClip(zoom_video_file_name)\n",
        "    audioclip.write_audiofile(transcribed_audio_file_name)\n",
        "    with contextlib.closing(wave.open(transcribed_audio_file_name,'r')) as f:\n",
        "        frames = f.getnframes()\n",
        "        rate = f.getframerate()\n",
        "        duration = frames / float(rate)\n",
        "    total_duration = math.ceil(duration / 60)\n",
        "    r = sr.Recognizer()\n",
        "    with open('transcription.txt', 'w') as f:\n",
        "      print(f.write(startConvertion(transcribed_audio_file_name)))\n",
        "    with open('transcription.txt', 'r') as f:\n",
        "      text=f.read()\n",
        "    word_count_tex=len(text.split(\" \"))/(total_duration/2);\n",
        "    #print(\"Words per minute are:\",word_count_tex)\n",
        "    net_text.append(text)\n",
        "    net_word_count.append(word_count_tex)\n",
        "    net_total_duration.append(total_duration)\n",
        "    net_transcribed_audio_file_name.append(transcribed_audio_file_name)\n",
        "  return net_text,net_word_count,net_total_duration,net_transcribed_audio_file_name"
      ],
      "metadata": {
        "id": "mBWCbHz-Q2Rx",
        "colab": {
          "base_uri": "https://localhost:8080/"
        },
        "outputId": "9a0b529f-f5f5-4a1a-ef2b-d0f8c1747b39"
      },
      "execution_count": 21,
      "outputs": [
        {
          "output_type": "stream",
          "name": "stdout",
          "text": [
            "Imageio: 'ffmpeg-linux64-v3.3.1' was not found on your computer; downloading it now.\n",
            "Try 1. Download from https://github.com/imageio/imageio-binaries/raw/master/ffmpeg/ffmpeg-linux64-v3.3.1 (43.8 MB)\n",
            "Downloading: 8192/45929032 bytes (0.0%)\b\b\b\b\b\b\b\b\b\b\b\b\b\b\b\b\b\b\b\b\b\b\b\b\b\b2891776/45929032 bytes (6.3%)\b\b\b\b\b\b\b\b\b\b\b\b\b\b\b\b\b\b\b\b\b\b\b\b\b\b\b\b\b6807552/45929032 bytes (14.8%)\b\b\b\b\b\b\b\b\b\b\b\b\b\b\b\b\b\b\b\b\b\b\b\b\b\b\b\b\b\b10805248/45929032 bytes (23.5%)\b\b\b\b\b\b\b\b\b\b\b\b\b\b\b\b\b\b\b\b\b\b\b\b\b\b\b\b\b\b\b15048704/45929032 bytes (32.8%)\b\b\b\b\b\b\b\b\b\b\b\b\b\b\b\b\b\b\b\b\b\b\b\b\b\b\b\b\b\b\b19308544/45929032 bytes (42.0%)\b\b\b\b\b\b\b\b\b\b\b\b\b\b\b\b\b\b\b\b\b\b\b\b\b\b\b\b\b\b\b23592960/45929032 bytes (51.4%)\b\b\b\b\b\b\b\b\b\b\b\b\b\b\b\b\b\b\b\b\b\b\b\b\b\b\b\b\b\b\b27549696/45929032 bytes (60.0%)\b\b\b\b\b\b\b\b\b\b\b\b\b\b\b\b\b\b\b\b\b\b\b\b\b\b\b\b\b\b\b31399936/45929032 bytes (68.4%)\b\b\b\b\b\b\b\b\b\b\b\b\b\b\b\b\b\b\b\b\b\b\b\b\b\b\b\b\b\b\b35291136/45929032 bytes (76.8%)\b\b\b\b\b\b\b\b\b\b\b\b\b\b\b\b\b\b\b\b\b\b\b\b\b\b\b\b\b\b\b39223296/45929032 bytes (85.4%)\b\b\b\b\b\b\b\b\b\b\b\b\b\b\b\b\b\b\b\b\b\b\b\b\b\b\b\b\b\b\b43474944/45929032 bytes (94.7%)\b\b\b\b\b\b\b\b\b\b\b\b\b\b\b\b\b\b\b\b\b\b\b\b\b\b\b\b\b\b\b45929032/45929032 bytes (100.0%)\n",
            "  Done\n",
            "File saved as /root/.imageio/ffmpeg/ffmpeg-linux64-v3.3.1.\n",
            "pygame 2.1.2 (SDL 2.0.16, Python 3.7.15)\n",
            "Hello from the pygame community. https://www.pygame.org/contribute.html\n"
          ]
        }
      ]
    },
    {
      "cell_type": "code",
      "source": [
        "#storing all the data\n",
        "path=[]\n",
        "for i in range(len(df['Response'])-1):\n",
        "  dir='/content/question_answers'+str(i+1)+'/'\n",
        "  newfile=os.listdir(dir)[0]\n",
        "  new_dir=dir+newfile\n",
        "  path.append(new_dir)"
      ],
      "metadata": {
        "id": "Xh9OJYkhZeLX"
      },
      "execution_count": 22,
      "outputs": []
    },
    {
      "cell_type": "code",
      "source": [
        "path"
      ],
      "metadata": {
        "colab": {
          "base_uri": "https://localhost:8080/"
        },
        "id": "_vLjy5wyaiXh",
        "outputId": "65749a2a-650e-4fcd-f3a3-428a8e16d18e"
      },
      "execution_count": 23,
      "outputs": [
        {
          "output_type": "execute_result",
          "data": {
            "text/plain": [
              "['/content/question_answers1/VID_20220726_130803(0).mp4',\n",
              " '/content/question_answers2/VID_20220726_131310.mp4',\n",
              " '/content/question_answers3/VID_20220726_131411.mp4',\n",
              " '/content/question_answers4/VID_20220726_131753.mp4',\n",
              " '/content/question_answers5/VID_20220726_132525.mp4',\n",
              " '/content/question_answers6/VID_20220726_132525.mp4']"
            ]
          },
          "metadata": {},
          "execution_count": 23
        }
      ]
    },
    {
      "cell_type": "code",
      "source": [
        "net_text,net_word_count,net_total_duration,net_transcribed_audio_file_name=audio_read(path)"
      ],
      "metadata": {
        "colab": {
          "base_uri": "https://localhost:8080/"
        },
        "id": "krYGE37Rajel",
        "outputId": "96ff9a9c-19c7-4da3-e422-f5c8f7b593c7"
      },
      "execution_count": 24,
      "outputs": [
        {
          "output_type": "stream",
          "name": "stdout",
          "text": [
            "[MoviePy] Writing audio in transcribed_speech1.wav\n"
          ]
        },
        {
          "output_type": "stream",
          "name": "stderr",
          "text": [
            "100%|██████████| 1092/1092 [00:00<00:00, 3321.40it/s]"
          ]
        },
        {
          "output_type": "stream",
          "name": "stdout",
          "text": [
            "[MoviePy] Done.\n"
          ]
        },
        {
          "output_type": "stream",
          "name": "stderr",
          "text": [
            "\n"
          ]
        },
        {
          "output_type": "stream",
          "name": "stdout",
          "text": [
            "Fetching File\n",
            "Converting audio transcripts into text ...\n",
            "remind sidewalking passionate and enthusiastic person who is in line for the future\n",
            "83\n",
            "[MoviePy] Writing audio in transcribed_speech2.wav\n"
          ]
        },
        {
          "output_type": "stream",
          "name": "stderr",
          "text": [
            "100%|██████████| 520/520 [00:00<00:00, 3203.59it/s]"
          ]
        },
        {
          "output_type": "stream",
          "name": "stdout",
          "text": [
            "[MoviePy] Done.\n"
          ]
        },
        {
          "output_type": "stream",
          "name": "stderr",
          "text": [
            "\n"
          ]
        },
        {
          "output_type": "stream",
          "name": "stdout",
          "text": [
            "Fetching File\n",
            "Converting audio transcripts into text ...\n",
            "so rating from my Society scale of 1 to 10 I would like to rate myself 8.8 because I'm of course I'm not perfect and there is always a code for Learning and Development so continuous learning is the most important fundamental part of professional and personal growth so yeah\n",
            "274\n",
            "[MoviePy] Writing audio in transcribed_speech3.wav\n"
          ]
        },
        {
          "output_type": "stream",
          "name": "stderr",
          "text": [
            "100%|██████████| 987/987 [00:00<00:00, 3073.62it/s]"
          ]
        },
        {
          "output_type": "stream",
          "name": "stdout",
          "text": [
            "[MoviePy] Done.\n"
          ]
        },
        {
          "output_type": "stream",
          "name": "stderr",
          "text": [
            "\n"
          ]
        },
        {
          "output_type": "stream",
          "name": "stdout",
          "text": [
            "Fetching File\n",
            "Converting audio transcripts into text ...\n",
            "Mike distran so I think one of my greatest friends, gracing player and motivated and quit learning individual\n",
            "109\n",
            "[MoviePy] Writing audio in transcribed_speech4.wav\n"
          ]
        },
        {
          "output_type": "stream",
          "name": "stderr",
          "text": [
            "100%|██████████| 587/587 [00:00<00:00, 3161.14it/s]"
          ]
        },
        {
          "output_type": "stream",
          "name": "stdout",
          "text": [
            "[MoviePy] Done.\n"
          ]
        },
        {
          "output_type": "stream",
          "name": "stderr",
          "text": [
            "\n"
          ]
        },
        {
          "output_type": "stream",
          "name": "stdout",
          "text": [
            "Fetching File\n",
            "Converting audio transcripts into text ...\n",
            "so what makes me unique is basically what makes me unique is my ability to meet and exceed deadlines in my previous thoughts and completing my predict if he's needed a high level of quality\n",
            "189\n",
            "[MoviePy] Writing audio in transcribed_speech5.wav\n"
          ]
        },
        {
          "output_type": "stream",
          "name": "stderr",
          "text": [
            "100%|██████████| 818/818 [00:00<00:00, 3129.66it/s]"
          ]
        },
        {
          "output_type": "stream",
          "name": "stdout",
          "text": [
            "[MoviePy] Done.\n"
          ]
        },
        {
          "output_type": "stream",
          "name": "stderr",
          "text": [
            "\n"
          ]
        },
        {
          "output_type": "stream",
          "name": "stdout",
          "text": [
            "Fetching File\n",
            "Converting audio transcripts into text ...\n",
            "survive a 12-volt cordless complete mission is to help a college grad student loan debt myself and I would love the opportunity to work with the company that makes a difference so job search and\n",
            "194\n",
            "[MoviePy] Writing audio in transcribed_speech6.wav\n"
          ]
        },
        {
          "output_type": "stream",
          "name": "stderr",
          "text": [
            "100%|██████████| 818/818 [00:00<00:00, 3232.45it/s]"
          ]
        },
        {
          "output_type": "stream",
          "name": "stdout",
          "text": [
            "[MoviePy] Done.\n"
          ]
        },
        {
          "output_type": "stream",
          "name": "stderr",
          "text": [
            "\n"
          ]
        },
        {
          "output_type": "stream",
          "name": "stdout",
          "text": [
            "Fetching File\n",
            "Converting audio transcripts into text ...\n",
            "survive a 12-volt cordless complete mission is to help a college grad student loan debt myself and I would love the opportunity to work with the company that makes a difference so job search and\n",
            "194\n"
          ]
        }
      ]
    },
    {
      "cell_type": "code",
      "source": [
        "net_text[0],net_transcribed_audio_file_name[0],net_total_duration[0]"
      ],
      "metadata": {
        "colab": {
          "base_uri": "https://localhost:8080/"
        },
        "id": "xKsN6Oj6aryg",
        "outputId": "620f4e59-e15b-4eff-b102-f159d16df030"
      },
      "execution_count": 25,
      "outputs": [
        {
          "output_type": "execute_result",
          "data": {
            "text/plain": [
              "('remind sidewalking passionate and enthusiastic person who is in line for the future',\n",
              " 'transcribed_speech1.wav',\n",
              " 1)"
            ]
          },
          "metadata": {},
          "execution_count": 25
        }
      ]
    },
    {
      "cell_type": "code",
      "source": [
        "import nltk\n",
        "nltk.download('punkt')\n",
        "nltk.download('stopwords')\n",
        "from nltk.corpus import stopwords\n",
        "#print(stopwords.words('english'))\n",
        "from nltk.tokenize import word_tokenize\n",
        "stop_words = set(stopwords.words('english'))\n",
        "def filtered_words(net_text):\n",
        "  net_filtered=[]\n",
        "  net_filtered_unique=[]\n",
        "  for i in net_text:\n",
        "    word_tokens = word_tokenize(i)\n",
        "    filtered_sentence = []\n",
        "    for w in word_tokens:\n",
        "      if w not in stop_words:\n",
        "        filtered_sentence.append(w)\n",
        "    net_filtered.append(filtered_sentence)\n",
        "    filtered_sentence_unique=list(pd.Series(filtered_sentence).unique())\n",
        "    net_filtered_unique.append(filtered_sentence_unique)\n",
        "    #print(word_tokens)\n",
        "    #print(filtered_sentence)\n",
        "  return net_filtered,net_filtered_unique"
      ],
      "metadata": {
        "colab": {
          "base_uri": "https://localhost:8080/"
        },
        "id": "RtZ9ZonkbHOw",
        "outputId": "e49da3b7-6b14-4ae4-bfe1-0cb9459d9186"
      },
      "execution_count": 26,
      "outputs": [
        {
          "output_type": "stream",
          "name": "stderr",
          "text": [
            "[nltk_data] Downloading package punkt to /root/nltk_data...\n",
            "[nltk_data]   Unzipping tokenizers/punkt.zip.\n",
            "[nltk_data] Downloading package stopwords to /root/nltk_data...\n",
            "[nltk_data]   Package stopwords is already up-to-date!\n"
          ]
        }
      ]
    },
    {
      "cell_type": "code",
      "source": [
        "net_filtered,net_filtered_unique=filtered_words(net_text)"
      ],
      "metadata": {
        "id": "KsKjzbgSsA13"
      },
      "execution_count": 27,
      "outputs": []
    },
    {
      "cell_type": "code",
      "source": [
        "from operator import itemgetter\n",
        "import math\n",
        "def total_length(net_text):\n",
        "  net_total_words=[]\n",
        "  for text in net_text:\n",
        "    total_words = text.split()\n",
        "    total_word_length = len(total_words)\n",
        "    net_total_words.append(total_word_length)\n",
        "  #print(total_word_length)\n",
        "  return net_total_words"
      ],
      "metadata": {
        "id": "HbjSa9FitHBs"
      },
      "execution_count": 28,
      "outputs": []
    },
    {
      "cell_type": "code",
      "source": [
        "net_total_length=total_length(net_text)\n",
        "net_total_length"
      ],
      "metadata": {
        "colab": {
          "base_uri": "https://localhost:8080/"
        },
        "id": "PA822OZSzS65",
        "outputId": "2c2b8930-e69c-455a-a263-288fd8b897c2"
      },
      "execution_count": 29,
      "outputs": [
        {
          "output_type": "execute_result",
          "data": {
            "text/plain": [
              "[13, 50, 18, 35, 35, 35]"
            ]
          },
          "metadata": {},
          "execution_count": 29
        }
      ]
    },
    {
      "cell_type": "code",
      "source": [
        "def check_sent(word, sentences): \n",
        "    final = [all([w in x for w in word]) for x in sentences] \n",
        "    sent_len = [sentences[i] for i in range(0, len(final)) if final[i]]\n",
        "    return int(len(sent_len))"
      ],
      "metadata": {
        "id": "PvV6Xf88zvPX"
      },
      "execution_count": 30,
      "outputs": []
    },
    {
      "cell_type": "code",
      "source": [
        "def tf_scoring(text,net_filtered_unique):\n",
        "  net_total_length=total_length(net_text)\n",
        "  tf_score = {}\n",
        "  for each_word in ' '.join([' '.join(i) for i in net_filtered_unique]).split(\" \"):\n",
        "      each_word = each_word.replace('.','')\n",
        "      if each_word not in stop_words:\n",
        "          if each_word in tf_score:\n",
        "              tf_score[each_word] += 1\n",
        "          else:\n",
        "              tf_score[each_word] = 1\n",
        "\n",
        "  # Dividing by total_word_length for each dictionary element\n",
        "  tf_score.update((x, y/int(np.mean(net_total_length))) for x, y in tf_score.items())\n",
        "  #print(tf_score)\n",
        "  return tf_score"
      ],
      "metadata": {
        "id": "zqi0dh64z9e7"
      },
      "execution_count": 31,
      "outputs": []
    },
    {
      "cell_type": "code",
      "source": [
        "def get_top_n(dict_elem, n):\n",
        "    result = dict(sorted(dict_elem.items(), key = itemgetter(1), reverse = True)[:n]) \n",
        "    return result"
      ],
      "metadata": {
        "id": "4ccAOHol0VMs"
      },
      "execution_count": 32,
      "outputs": []
    },
    {
      "cell_type": "code",
      "source": [
        "def get_power_words(net_text,net_filtered_unique):\n",
        "  keymax=[]\n",
        "  tf_val=get_top_n(tf_scoring(' '.join(net_text),net_filtered_unique), 20)\n",
        "  keymax.extend(sorted(tf_val, key=tf_val.get, reverse=True))\n",
        "  return list(set(list(keymax)))[:20]"
      ],
      "metadata": {
        "id": "Lxypt2Rc0Y-i"
      },
      "execution_count": 33,
      "outputs": []
    },
    {
      "cell_type": "code",
      "source": [
        "power_words=get_power_words(net_text,net_filtered_unique)"
      ],
      "metadata": {
        "id": "7CUMeh9G7-eF"
      },
      "execution_count": 34,
      "outputs": []
    },
    {
      "cell_type": "code",
      "source": [
        "import matplotlib\n",
        "import pandas\n",
        "import wordcloud\n",
        "from wordcloud import WordCloud, STOPWORDS\n",
        "import matplotlib.pyplot as plt\n",
        "import pandas as pd\n",
        "\n",
        "\n",
        "def plot_cloud(net_text):\n",
        "  text=' '.join(net_text)\n",
        "  comment_words = ''\n",
        "  stopwords = set(STOPWORDS)\n",
        "  net_filtered,net_filtered_unique=filtered_words(net_text)\n",
        "  # split the value\n",
        "  tokens = ' '.join(([' '.join(i) for i in net_filtered_unique])).split(\" \")\n",
        "\n",
        "  # Converts each token into lowercase\n",
        "  for i in range(len(tokens)):\n",
        "      tokens[i] = tokens[i].lower()\n",
        "\n",
        "      comment_words += \" \".join(tokens)+\" \"\n",
        "\n",
        "      wordcloud = WordCloud(width = 800, height = 800,background_color ='white',stopwords = stopwords,min_font_size= 10).generate(comment_words)\n",
        "  plt.figure(figsize = (8, 8), facecolor = None)\n",
        "  plt.imshow(wordcloud)\n",
        "  plt.axis(\"off\")\n",
        "  plt.tight_layout(pad = 0)\n",
        "  plt.show()\n",
        "  \n",
        "  return wordcloud"
      ],
      "metadata": {
        "id": "VldTXyhn8AbZ"
      },
      "execution_count": 35,
      "outputs": []
    },
    {
      "cell_type": "code",
      "source": [
        "plot_cloud(net_text).to_file(\"word_cloud.png\")"
      ],
      "metadata": {
        "id": "ljz-tX8Zx8gE"
      },
      "execution_count": null,
      "outputs": []
    },
    {
      "cell_type": "code",
      "source": [
        "def power_word_density(net_text):\n",
        "  cou=[];\n",
        "  total_duration=net_total_duration\n",
        "  net_filtered,net_filtered_unique=filtered_words([val for key,val in ideal.items()])\n",
        "  for i in net_text:\n",
        "    for j in net_filtered_unique:\n",
        "        cou.append(len(j)/len(i.split(\" \")))\n",
        "  \n",
        "  cou=np.mean(cou)\n",
        "  #print('Power word density/min:',cou)\n",
        "  return cou"
      ],
      "metadata": {
        "id": "F5paUX4fZUTq"
      },
      "execution_count": 37,
      "outputs": []
    },
    {
      "cell_type": "code",
      "source": [
        "power_density=power_word_density(net_text)\n",
        "power_density"
      ],
      "metadata": {
        "colab": {
          "base_uri": "https://localhost:8080/"
        },
        "id": "TNg6tgULfM2z",
        "outputId": "2f2a53e3-c78e-491e-d44c-37d47036796a"
      },
      "execution_count": 38,
      "outputs": [
        {
          "output_type": "execute_result",
          "data": {
            "text/plain": [
              "1.4225410392077058"
            ]
          },
          "metadata": {},
          "execution_count": 38
        }
      ]
    },
    {
      "cell_type": "code",
      "source": [
        "import librosa\n",
        "import matplotlib.pyplot as plt\n",
        "import numpy as np\n",
        "import statsmodels.api as sm\n",
        "from scipy.signal import find_peaks\n",
        "import librosa.display\n",
        "import sklearn\n",
        "def pitch_calc(path):\n",
        "  ind=net_total_length.index(min(net_total_length))\n",
        "  path_to_wav=path[ind]\n",
        "  data, sampling_frequency = librosa.load(path_to_wav)\n",
        "  auto = sm.tsa.acf(data, nlags=2000)\n",
        "  peaks = find_peaks(auto)[0] # Find peaks of the autocorrelation\n",
        "  lag = peaks[0] # Choose the first peak as our pitch component lag\n",
        "  pitc=sampling_frequency / lag\n",
        "  return pitc,peaks"
      ],
      "metadata": {
        "id": "s6xv4h81fZQd"
      },
      "execution_count": 39,
      "outputs": []
    },
    {
      "cell_type": "code",
      "source": [
        "pitc,peaks=pitch_calc(path)"
      ],
      "metadata": {
        "id": "PIp2L6f0o0bp"
      },
      "execution_count": 40,
      "outputs": []
    },
    {
      "cell_type": "code",
      "source": [
        "pitc"
      ],
      "metadata": {
        "colab": {
          "base_uri": "https://localhost:8080/"
        },
        "id": "r6vQGfnZo-ke",
        "outputId": "901b12f9-9c74-4e3f-daf9-01aa69b3154d"
      },
      "execution_count": 41,
      "outputs": [
        {
          "output_type": "execute_result",
          "data": {
            "text/plain": [
              "612.5"
            ]
          },
          "metadata": {},
          "execution_count": 41
        }
      ]
    },
    {
      "cell_type": "code",
      "source": [
        "import math\n",
        "def volume_calc(path):\n",
        "  ind=net_total_length.index(min(net_total_length))\n",
        "  path_to_wav=path[ind]\n",
        "  y, sr = librosa.load(path_to_wav)\n",
        "  second = []\n",
        "  for s in range(0,len(y),sr):\n",
        "      second.append( np.abs(y[s:s+sr]).mean())\n",
        "  volume=[20 * math.log10(i) for i in second]\n",
        "  return np.max(np.abs(volume))"
      ],
      "metadata": {
        "id": "pBZMIdDtp3Qr"
      },
      "execution_count": 42,
      "outputs": []
    },
    {
      "cell_type": "code",
      "source": [
        "volume=volume_calc(path)"
      ],
      "metadata": {
        "id": "A4U5y6Y2re1w"
      },
      "execution_count": 43,
      "outputs": []
    },
    {
      "cell_type": "code",
      "source": [
        "!pip install -q transformers\n",
        "from transformers import pipeline\n",
        "\n",
        "def sentiment_happy_proba(net_text):\n",
        "  happy_proba=[]\n",
        "  classifier = pipeline(\"text-classification\", model=\"j-hartmann/emotion-english-distilroberta-base\", return_all_scores=True)\n",
        "  for text in net_text:\n",
        "    classify=classifier(text)\n",
        "    df=pd.DataFrame(classify[0],columns=['label','score'])\n",
        "    happy_proba.append(float(df[df.label=='joy']['score']))\n",
        "  return happy_proba"
      ],
      "metadata": {
        "id": "VlqobpKxuU4d"
      },
      "execution_count": 44,
      "outputs": []
    },
    {
      "cell_type": "code",
      "source": [
        "happy_proba=sentiment_happy_proba(net_text)\n",
        "happy_proba"
      ],
      "metadata": {
        "colab": {
          "base_uri": "https://localhost:8080/",
          "height": 348,
          "referenced_widgets": [
            "bef3cabffd4a47cb8ec1eb1ab7dddc89",
            "a0b209fd9bdb4f7a912232dded2e1953",
            "bbd8f6639346496c975b85a3637d0a04",
            "df7938ba667849cb9473361f2d42c83f",
            "0529b92e8402479d837e7a403a70c89f",
            "3f83cdffb91146658f2bd0f3cd42a2f0",
            "d4282afc57294e94a405b16640543853",
            "82cc54a7c4d64007af531065ab8a13c8",
            "1df4b86e16ae45a5bceb8aaeb1c74bc7",
            "6f686623a17349c2a1e1c763f258fbb2",
            "eb3f6cb23d3148e683ac52e56fd5872c",
            "c578f1fb93c445758261dd0a35930e34",
            "becb5f7a4fa54f289ad6f3aa0ebb74aa",
            "c4981431c1334755a50a92566f7facf8",
            "aef45968317f442381143a9a5dbe2583",
            "6403202e26f845cdb6ada6aaf519f395",
            "fc6269c69092496ab284cc839ec54c18",
            "a8c6b7f0269948ada32b23516d2e2a3a",
            "22067008a54945ee80814f5349a870ff",
            "81f99e57da524e9983143105ad0abd1e",
            "2d366dc7ab3c4a43a1a85ccd4bf15336",
            "919b19e809324ff4828b48bba4e844cf",
            "fb27da35aff3484fa9c547caf20f9b92",
            "860d0fc823934ad899af1aa0aae98517",
            "12f55e42e8254888a017709b9ead6622",
            "af424c81bd374922a28954ad1673ab32",
            "2df99c01a67441e1963d8d7e382afa5e",
            "dc7661302f06437fb42ca702ee58044e",
            "1126d8dc51744db496ec1319ad45ad2d",
            "4e1105b0f9204aad94cdb3a2caac47e9",
            "4bc49c3ddb3d4de3bd4477353e4817c0",
            "a8344251be9c4289b0069f0e886f804d",
            "5046f343bb1b4899bf4c2cb12ed8c286",
            "e8b7a43f26574449996a464292347cf7",
            "06962fded7bb4acb9f3e3a3640551980",
            "57482d77cc124936810c797ef86cf335",
            "71a57486323f4b1bb2deb46a6a81ce97",
            "3f84760f1d44490a8bc065b9abef4946",
            "59e1ae6b26a546e483af6d327c75bf34",
            "64748be6452a4b578b00c8b286f3aaa4",
            "a85f8f1e65b842988ed44746dfe61718",
            "7d14113d937247f1858df842d242fd01",
            "02b7341a75984bbeb8b4a0129754d0e8",
            "4adbcf2aca934f43a4547bdcf04e427a",
            "5d6b9e822db245c993e23a18bfbc10d7",
            "3a4564e2a9694ca5b564894f96cec3a3",
            "90e8465f75a64b16aba996db1083b83f",
            "b7d1bdfeba404cf6971ad0aaee8a594e",
            "c5c089c5cb074c44b7ed50911dbb0c35",
            "4011f61dbf284f0fac4f0e850ad27983",
            "b4307aabfbc94810bfffde3d1333c3c3",
            "c169b6febaa549bf8a7507b1667c60d4",
            "0d34c5f4f969457ab4c4dcdc221d6eb1",
            "9761467e12c84ba1afca9c51ca2493de",
            "311c42091add413b943143344fe8df5c",
            "d228eb20f84c446c86040b3757978321",
            "b331e64cb1b64c4bbd9d6a3d940f013b",
            "274ff8441f4c43f8bd3386bef9da06d8",
            "0f26acfe45584d73a5a19c35e59410c2",
            "8ef2273a2fe748e6b5d6975398d8ad60",
            "92c8df4ceac74e8eb300680943af4dc1",
            "c8391416787247d98df28e798da8670a",
            "d3b839c5b73b442a83130110ac31d83e",
            "fc3d8b3364a24b6c95522b44a9759fa7",
            "5c2e5521e93c4db2aa10adfcffd57588",
            "99ee39b560b34c0e9819375d837da373",
            "19f3f130afc244af9ae5bfaceaa93fb7",
            "ffbecc13ebbc4802a4bcb6547f8d577a",
            "7465e49ef0744b35af507714fca716e9",
            "6a877b21778744ffb070d671542887ea",
            "a41b450b59f647b39d7fbc7ad36c72e9",
            "95d6d1949f4a4cc68534ade54a50e23f",
            "af165d14e37b4ed1aaa93ac6fb606a87",
            "5712f819c2d04449adb8b4acc4ea89ed",
            "11e88fb7a1e64540b7c62a89e69c432c",
            "6f9cfe561f444c588733803841b23d9f",
            "22bc39c94da24b2ebd8cfb15c4b04349"
          ]
        },
        "id": "UCun7enjuvJb",
        "outputId": "67095b99-3b7b-4379-be20-c54551408fb6"
      },
      "execution_count": 45,
      "outputs": [
        {
          "output_type": "display_data",
          "data": {
            "text/plain": [
              "Downloading:   0%|          | 0.00/1.00k [00:00<?, ?B/s]"
            ],
            "application/vnd.jupyter.widget-view+json": {
              "version_major": 2,
              "version_minor": 0,
              "model_id": "bef3cabffd4a47cb8ec1eb1ab7dddc89"
            }
          },
          "metadata": {}
        },
        {
          "output_type": "display_data",
          "data": {
            "text/plain": [
              "Downloading:   0%|          | 0.00/329M [00:00<?, ?B/s]"
            ],
            "application/vnd.jupyter.widget-view+json": {
              "version_major": 2,
              "version_minor": 0,
              "model_id": "c578f1fb93c445758261dd0a35930e34"
            }
          },
          "metadata": {}
        },
        {
          "output_type": "display_data",
          "data": {
            "text/plain": [
              "Downloading:   0%|          | 0.00/294 [00:00<?, ?B/s]"
            ],
            "application/vnd.jupyter.widget-view+json": {
              "version_major": 2,
              "version_minor": 0,
              "model_id": "fb27da35aff3484fa9c547caf20f9b92"
            }
          },
          "metadata": {}
        },
        {
          "output_type": "display_data",
          "data": {
            "text/plain": [
              "Downloading:   0%|          | 0.00/798k [00:00<?, ?B/s]"
            ],
            "application/vnd.jupyter.widget-view+json": {
              "version_major": 2,
              "version_minor": 0,
              "model_id": "e8b7a43f26574449996a464292347cf7"
            }
          },
          "metadata": {}
        },
        {
          "output_type": "display_data",
          "data": {
            "text/plain": [
              "Downloading:   0%|          | 0.00/456k [00:00<?, ?B/s]"
            ],
            "application/vnd.jupyter.widget-view+json": {
              "version_major": 2,
              "version_minor": 0,
              "model_id": "5d6b9e822db245c993e23a18bfbc10d7"
            }
          },
          "metadata": {}
        },
        {
          "output_type": "display_data",
          "data": {
            "text/plain": [
              "Downloading:   0%|          | 0.00/1.36M [00:00<?, ?B/s]"
            ],
            "application/vnd.jupyter.widget-view+json": {
              "version_major": 2,
              "version_minor": 0,
              "model_id": "d228eb20f84c446c86040b3757978321"
            }
          },
          "metadata": {}
        },
        {
          "output_type": "display_data",
          "data": {
            "text/plain": [
              "Downloading:   0%|          | 0.00/239 [00:00<?, ?B/s]"
            ],
            "application/vnd.jupyter.widget-view+json": {
              "version_major": 2,
              "version_minor": 0,
              "model_id": "19f3f130afc244af9ae5bfaceaa93fb7"
            }
          },
          "metadata": {}
        },
        {
          "output_type": "execute_result",
          "data": {
            "text/plain": [
              "[0.35550743341445923,\n",
              " 0.07741912454366684,\n",
              " 0.3135268986225128,\n",
              " 0.16257581114768982,\n",
              " 0.9807090759277344,\n",
              " 0.9807090759277344]"
            ]
          },
          "metadata": {},
          "execution_count": 45
        }
      ]
    },
    {
      "cell_type": "code",
      "source": [
        "def summary(net_text,flag):\n",
        "  content_score=[]\n",
        "  flag=list(flag)\n",
        "  for i in range(len(flag)-1):\n",
        "    matchPercentage=0\n",
        "    mp2=0\n",
        "    if flag[i]=='Yes':\n",
        "      answer=ideal[(i+1)]\n",
        "      text=net_text[i]\n",
        "      text_list = [text,answer]\n",
        "      cv = CountVectorizer()\n",
        "      count_matrix = cv.fit_transform(text_list)\n",
        "      matchPercentage = cosine_similarity(count_matrix)[0][1] * 100\n",
        "      matchPercentage = round(matchPercentage, 2)\n",
        "      mp2=round(((fuzz.token_sort_ratio(text.lower(),answer.lower()))/len(answer.split(\" \")))*100)\n",
        "      content_score.append(mp2 if mp2>matchPercentage else matchPercentage)\n",
        "    else:\n",
        "      content_score.append('Not Applicable')\n",
        "  return content_score"
      ],
      "metadata": {
        "id": "XNDk2LYDu1AG"
      },
      "execution_count": 46,
      "outputs": []
    },
    {
      "cell_type": "code",
      "source": [
        "content_score=summary(net_text,flag)"
      ],
      "metadata": {
        "id": "zM1LP4OL3c-o"
      },
      "execution_count": 47,
      "outputs": []
    },
    {
      "cell_type": "code",
      "source": [
        "from pydub import AudioSegment,silence\n",
        "\n",
        "def silence_detect(path):\n",
        "  silence_secs=[]\n",
        "  silence_num=[]\n",
        "  for i in path:\n",
        "    myaudio = intro = AudioSegment.from_wav(i)\n",
        "    dBFS=myaudio.dBFS\n",
        "    silenced = silence.detect_silence(myaudio, min_silence_len=1000, silence_thresh=dBFS-16)\n",
        "\n",
        "    silenced = [((stop/1000)-(start/1000)) for start,stop in silenced] #in sec\n",
        "    #print(np.max(silenced),len(silenced))\n",
        "    if silenced!=[]:\n",
        "      silence_secs.append(np.max(silenced)),silence_num.append(len(silenced))\n",
        "    else:\n",
        "      silence_secs.append(0),silence_num.append(0)\n",
        "  return silence_secs,silence_num"
      ],
      "metadata": {
        "id": "C4pE_MR33-ES"
      },
      "execution_count": 48,
      "outputs": []
    },
    {
      "cell_type": "code",
      "source": [
        "silence_secs,silence_num=silence_detect(net_transcribed_audio_file_name)"
      ],
      "metadata": {
        "id": "C070F5H98FHz"
      },
      "execution_count": 49,
      "outputs": []
    },
    {
      "cell_type": "code",
      "source": [
        "def filler_words_cohort(net_text):\n",
        "  cohort=[]\n",
        "  net_filtered,net_filtered_unique=filtered_words(net_text)\n",
        "  for i in range(len(net_filtered)):\n",
        "    cohort_score=len(net_filtered[i])/len(net_text[i].split(\" \"))\n",
        "    if cohort_score>0.7:\n",
        "      cohort.append(4)\n",
        "    elif cohort_score>0.4:\n",
        "      cohort.append(3)\n",
        "    elif cohort_score>0.1:\n",
        "      cohort.append(2)\n",
        "    else:\n",
        "      cohort.append(1)\n",
        "  return cohort"
      ],
      "metadata": {
        "id": "jVdZsnpT86eX"
      },
      "execution_count": 50,
      "outputs": []
    },
    {
      "cell_type": "code",
      "source": [
        "filler_words=filler_words_cohort(net_text)\n",
        "filler_words"
      ],
      "metadata": {
        "colab": {
          "base_uri": "https://localhost:8080/"
        },
        "id": "aqS0AxhL-NYc",
        "outputId": "f6ea0812-0103-42d3-a8d6-9b929edde35f"
      },
      "execution_count": 51,
      "outputs": [
        {
          "output_type": "execute_result",
          "data": {
            "text/plain": [
              "[3, 3, 4, 3, 3, 3]"
            ]
          },
          "metadata": {},
          "execution_count": 51
        }
      ]
    },
    {
      "cell_type": "code",
      "source": [
        "def sentiment_cohort(net_text):\n",
        "  happy_proba=sentiment_happy_proba(net_text)\n",
        "  happy=[]\n",
        "  for i in happy_proba: \n",
        "    if i>0.7:\n",
        "      happy.append(4)\n",
        "    elif i>0.4:\n",
        "      happy.append(3)\n",
        "    elif i>0.1:\n",
        "      happy.append(2)\n",
        "    else:\n",
        "      happy.append(1)\n",
        "  return happy"
      ],
      "metadata": {
        "id": "apONWGFi-gpr"
      },
      "execution_count": 52,
      "outputs": []
    },
    {
      "cell_type": "code",
      "source": [
        "sentiment=sentiment_cohort(net_text)"
      ],
      "metadata": {
        "id": "EqEO3C09_fd_"
      },
      "execution_count": 53,
      "outputs": []
    },
    {
      "cell_type": "code",
      "source": [
        "def confidence_cohort(path):\n",
        "  net=[]\n",
        "  net_text,net_word_count,net_total_duration,net_transcribed_audio_file_name=audio_read(path)\n",
        "  filler_words=filler_words_cohort(net_text)\n",
        "  sentiment=sentiment_cohort(net_text)\n",
        "  for i in range(len(sentiment)):\n",
        "    cohort=(sentiment[i]+filler_words[i])/2\n",
        "    cohort=int(cohort)\n",
        "    if cohort==1:\n",
        "      net.append('D')\n",
        "    elif cohort==2:\n",
        "      net.append('C')\n",
        "    elif cohort==3:\n",
        "      net.append('B')\n",
        "    elif cohort==4:\n",
        "      net.append('A')\n",
        "  return net"
      ],
      "metadata": {
        "id": "63M6Z3Nc_r7y"
      },
      "execution_count": 54,
      "outputs": []
    },
    {
      "cell_type": "code",
      "source": [
        "confidence=confidence_cohort(path)"
      ],
      "metadata": {
        "colab": {
          "base_uri": "https://localhost:8080/"
        },
        "id": "q6codCjfBkYa",
        "outputId": "c79948b3-d0d2-47b8-ca4a-94b3e7525828"
      },
      "execution_count": 55,
      "outputs": [
        {
          "output_type": "stream",
          "name": "stdout",
          "text": [
            "[MoviePy] Writing audio in transcribed_speech1.wav\n"
          ]
        },
        {
          "output_type": "stream",
          "name": "stderr",
          "text": [
            "100%|██████████| 1092/1092 [00:00<00:00, 3380.89it/s]"
          ]
        },
        {
          "output_type": "stream",
          "name": "stdout",
          "text": [
            "[MoviePy] Done.\n"
          ]
        },
        {
          "output_type": "stream",
          "name": "stderr",
          "text": [
            "\n"
          ]
        },
        {
          "output_type": "stream",
          "name": "stdout",
          "text": [
            "Fetching File\n",
            "Converting audio transcripts into text ...\n",
            "remind sidewalking passionate and enthusiastic person who is in line for the future\n",
            "83\n",
            "[MoviePy] Writing audio in transcribed_speech2.wav\n"
          ]
        },
        {
          "output_type": "stream",
          "name": "stderr",
          "text": [
            "100%|██████████| 520/520 [00:00<00:00, 3218.09it/s]"
          ]
        },
        {
          "output_type": "stream",
          "name": "stdout",
          "text": [
            "[MoviePy] Done.\n"
          ]
        },
        {
          "output_type": "stream",
          "name": "stderr",
          "text": [
            "\n"
          ]
        },
        {
          "output_type": "stream",
          "name": "stdout",
          "text": [
            "Fetching File\n",
            "Converting audio transcripts into text ...\n",
            "so rating from my Society scale of 1 to 10 I would like to rate myself 8.8 because I'm of course I'm not perfect and there is always a code for Learning and Development so continuous learning is the most important fundamental part of professional and personal growth so yeah\n",
            "274\n",
            "[MoviePy] Writing audio in transcribed_speech3.wav\n"
          ]
        },
        {
          "output_type": "stream",
          "name": "stderr",
          "text": [
            "100%|██████████| 987/987 [00:00<00:00, 3321.65it/s]\n"
          ]
        },
        {
          "output_type": "stream",
          "name": "stdout",
          "text": [
            "[MoviePy] Done.\n",
            "Fetching File\n",
            "Converting audio transcripts into text ...\n",
            "Mike distran so I think one of my greatest friends, gracing player and motivated and quit learning individual\n",
            "109\n",
            "[MoviePy] Writing audio in transcribed_speech4.wav\n"
          ]
        },
        {
          "output_type": "stream",
          "name": "stderr",
          "text": [
            "100%|██████████| 587/587 [00:00<00:00, 3372.04it/s]"
          ]
        },
        {
          "output_type": "stream",
          "name": "stdout",
          "text": [
            "[MoviePy] Done.\n"
          ]
        },
        {
          "output_type": "stream",
          "name": "stderr",
          "text": [
            "\n"
          ]
        },
        {
          "output_type": "stream",
          "name": "stdout",
          "text": [
            "Fetching File\n",
            "Converting audio transcripts into text ...\n",
            "so what makes me unique is basically what makes me unique is my ability to meet and exceed deadlines in my previous thoughts and completing my predict if he's needed a high level of quality\n",
            "189\n",
            "[MoviePy] Writing audio in transcribed_speech5.wav\n"
          ]
        },
        {
          "output_type": "stream",
          "name": "stderr",
          "text": [
            "100%|██████████| 818/818 [00:00<00:00, 3301.95it/s]"
          ]
        },
        {
          "output_type": "stream",
          "name": "stdout",
          "text": [
            "[MoviePy] Done.\n"
          ]
        },
        {
          "output_type": "stream",
          "name": "stderr",
          "text": [
            "\n"
          ]
        },
        {
          "output_type": "stream",
          "name": "stdout",
          "text": [
            "Fetching File\n",
            "Converting audio transcripts into text ...\n",
            "survive a 12-volt cordless complete mission is to help a college grad student loan debt myself and I would love the opportunity to work with the company that makes a difference so job search and\n",
            "194\n",
            "[MoviePy] Writing audio in transcribed_speech6.wav\n"
          ]
        },
        {
          "output_type": "stream",
          "name": "stderr",
          "text": [
            "100%|██████████| 818/818 [00:00<00:00, 3198.94it/s]"
          ]
        },
        {
          "output_type": "stream",
          "name": "stdout",
          "text": [
            "[MoviePy] Done.\n"
          ]
        },
        {
          "output_type": "stream",
          "name": "stderr",
          "text": [
            "\n"
          ]
        },
        {
          "output_type": "stream",
          "name": "stdout",
          "text": [
            "Fetching File\n",
            "Converting audio transcripts into text ...\n",
            "survive a 12-volt cordless complete mission is to help a college grad student loan debt myself and I would love the opportunity to work with the company that makes a difference so job search and\n",
            "194\n"
          ]
        }
      ]
    },
    {
      "cell_type": "code",
      "source": [
        "def pitch_volume_cohort(path):\n",
        "  pitc,peaks=pitch_calc(path)\n",
        "  volume=volume_calc(path)\n",
        "  pitch=np.abs(pitc-670)\n",
        "  p_cohort=0\n",
        "  v_cohort=0\n",
        "  if pitch<=500:\n",
        "    p_cohort=4\n",
        "  elif pitch<=1000:\n",
        "    p_cohort=3\n",
        "  elif pitch<=1500:\n",
        "    p_cohort=2\n",
        "  else:\n",
        "    p_cohort=1\n",
        "  if volume>=75:\n",
        "    v_cohort=4\n",
        "  elif volume>=50:\n",
        "    v_cohort=3\n",
        "  elif volume>=35:\n",
        "    v_cohort=2\n",
        "  else:\n",
        "    v_cohort=1\n",
        "  return math.ceil((p_cohort+v_cohort)/2)"
      ],
      "metadata": {
        "id": "xTxaXfvlBqCd"
      },
      "execution_count": 56,
      "outputs": []
    },
    {
      "cell_type": "code",
      "source": [
        "pitch_volum=pitch_volume_cohort(path)\n",
        "pitch_volum"
      ],
      "metadata": {
        "colab": {
          "base_uri": "https://localhost:8080/"
        },
        "id": "17NWZcSwCSBO",
        "outputId": "0ba5cc86-ec88-4ce7-8d6d-dba778dafe52"
      },
      "execution_count": 57,
      "outputs": [
        {
          "output_type": "execute_result",
          "data": {
            "text/plain": [
              "4"
            ]
          },
          "metadata": {},
          "execution_count": 57
        }
      ]
    },
    {
      "cell_type": "code",
      "source": [
        "def energy_cohort(path):\n",
        "  cohort= pitch_volume_cohort(path)\n",
        "  cohort=int(cohort)\n",
        "  cohort=[cohort]*6\n",
        "  net=[]\n",
        "  for i in range(len(cohort)):\n",
        "    if cohort[i]==1:\n",
        "      net.append('D')\n",
        "    elif cohort[i]==2:\n",
        "      net.append('C')\n",
        "    elif cohort[i]==3:\n",
        "      net.append('B')\n",
        "    elif cohort[i]==4:\n",
        "      net.append('A')\n",
        "  return net"
      ],
      "metadata": {
        "id": "Qo11dOICCXKK"
      },
      "execution_count": 58,
      "outputs": []
    },
    {
      "cell_type": "code",
      "source": [
        "energy=energy_cohort(path)"
      ],
      "metadata": {
        "id": "fO6zTfWUD-vE"
      },
      "execution_count": 59,
      "outputs": []
    },
    {
      "cell_type": "code",
      "source": [
        "def fluency_cohort(path):\n",
        "  net_text,net_word_count,net_total_duration,net_transcribed_audio_file_name=audio_read(path)\n",
        "  net_filtered,net_filtered_unique=filtered_words(net_text)\n",
        "  tex=''\n",
        "  pace_cohort=[]\n",
        "  for i in range(len(net_filtered)):\n",
        "    if net_word_count[i]>170 and net_word_count[i]<190:\n",
        "      pace_cohort.append(4)\n",
        "    elif net_word_count[i]>100 and net_word_count[i]<120:\n",
        "      pace_cohort.append(3)\n",
        "    elif net_word_count[i]>50 and net_word_count[i]>90:\n",
        "      pace_cohort.append(2)\n",
        "    else:\n",
        "      pace_cohort.append(1)\n",
        "  silenc,coun=silence_detect(net_transcribed_audio_file_name)\n",
        "  silence_cohort=[]\n",
        "  for i in range(len(silenc)):\n",
        "    if silenc[i] <3 or coun[i]<4:\n",
        "      silence_cohort.append(4)\n",
        "    elif silenc[i] <5 or coun[i]<8:\n",
        "      silence_cohort.append(3)\n",
        "    elif silenc[i] < 8 or coun[i]<10:\n",
        "      silence_cohort.append(2)\n",
        "    else:\n",
        "      silence_cohort.append(1)\n",
        "  net=[]\n",
        "  for i in range(len(pace_cohort)):\n",
        "    coh=(pace_cohort[i]+silence_cohort[i])//2\n",
        "    if coh==4:\n",
        "      net.append('A')\n",
        "    elif coh==3:\n",
        "      net.append('B')\n",
        "    elif coh==2:\n",
        "      net.append('C')\n",
        "    elif coh==1:\n",
        "      net.append('D')\n",
        "  return net "
      ],
      "metadata": {
        "id": "vadN0kkwECRu"
      },
      "execution_count": 60,
      "outputs": []
    },
    {
      "cell_type": "code",
      "source": [
        "fluency=fluency_cohort(path)"
      ],
      "metadata": {
        "id": "lJil2eYaNO0D",
        "colab": {
          "base_uri": "https://localhost:8080/"
        },
        "outputId": "336c7dee-c267-4e49-b938-f728a1b45c49"
      },
      "execution_count": 61,
      "outputs": [
        {
          "output_type": "stream",
          "name": "stdout",
          "text": [
            "[MoviePy] Writing audio in transcribed_speech1.wav\n"
          ]
        },
        {
          "output_type": "stream",
          "name": "stderr",
          "text": [
            "100%|██████████| 1092/1092 [00:00<00:00, 3098.94it/s]"
          ]
        },
        {
          "output_type": "stream",
          "name": "stdout",
          "text": [
            "[MoviePy] Done.\n"
          ]
        },
        {
          "output_type": "stream",
          "name": "stderr",
          "text": [
            "\n"
          ]
        },
        {
          "output_type": "stream",
          "name": "stdout",
          "text": [
            "Fetching File\n",
            "Converting audio transcripts into text ...\n",
            "remind sidewalking passionate and enthusiastic person who is in line for the future\n",
            "83\n",
            "[MoviePy] Writing audio in transcribed_speech2.wav\n"
          ]
        },
        {
          "output_type": "stream",
          "name": "stderr",
          "text": [
            "100%|██████████| 520/520 [00:00<00:00, 3000.35it/s]"
          ]
        },
        {
          "output_type": "stream",
          "name": "stdout",
          "text": [
            "[MoviePy] Done.\n"
          ]
        },
        {
          "output_type": "stream",
          "name": "stderr",
          "text": [
            "\n"
          ]
        },
        {
          "output_type": "stream",
          "name": "stdout",
          "text": [
            "Fetching File\n",
            "Converting audio transcripts into text ...\n",
            "so rating from my Society scale of 1 to 10 I would like to rate myself 8.8 because I'm of course I'm not perfect and there is always a code for Learning and Development so continuous learning is the most important fundamental part of professional and personal growth so yeah\n",
            "274\n",
            "[MoviePy] Writing audio in transcribed_speech3.wav\n"
          ]
        },
        {
          "output_type": "stream",
          "name": "stderr",
          "text": [
            "100%|██████████| 987/987 [00:00<00:00, 2886.05it/s]"
          ]
        },
        {
          "output_type": "stream",
          "name": "stdout",
          "text": [
            "[MoviePy] Done.\n"
          ]
        },
        {
          "output_type": "stream",
          "name": "stderr",
          "text": [
            "\n"
          ]
        },
        {
          "output_type": "stream",
          "name": "stdout",
          "text": [
            "Fetching File\n",
            "Converting audio transcripts into text ...\n",
            "Mike distran so I think one of my greatest friends, gracing player and motivated and quit learning individual\n",
            "109\n",
            "[MoviePy] Writing audio in transcribed_speech4.wav\n"
          ]
        },
        {
          "output_type": "stream",
          "name": "stderr",
          "text": [
            "100%|██████████| 587/587 [00:00<00:00, 2568.30it/s]"
          ]
        },
        {
          "output_type": "stream",
          "name": "stdout",
          "text": [
            "[MoviePy] Done.\n"
          ]
        },
        {
          "output_type": "stream",
          "name": "stderr",
          "text": [
            "\n"
          ]
        },
        {
          "output_type": "stream",
          "name": "stdout",
          "text": [
            "Fetching File\n",
            "Converting audio transcripts into text ...\n",
            "so what makes me unique is basically what makes me unique is my ability to meet and exceed deadlines in my previous thoughts and completing my predict if he's needed a high level of quality\n",
            "189\n",
            "[MoviePy] Writing audio in transcribed_speech5.wav\n"
          ]
        },
        {
          "output_type": "stream",
          "name": "stderr",
          "text": [
            "100%|██████████| 818/818 [00:00<00:00, 2978.63it/s]"
          ]
        },
        {
          "output_type": "stream",
          "name": "stdout",
          "text": [
            "[MoviePy] Done.\n"
          ]
        },
        {
          "output_type": "stream",
          "name": "stderr",
          "text": [
            "\n"
          ]
        },
        {
          "output_type": "stream",
          "name": "stdout",
          "text": [
            "Fetching File\n",
            "Converting audio transcripts into text ...\n",
            "survive a 12-volt cordless complete mission is to help a college grad student loan debt myself and I would love the opportunity to work with the company that makes a difference so job search and\n",
            "194\n",
            "[MoviePy] Writing audio in transcribed_speech6.wav\n"
          ]
        },
        {
          "output_type": "stream",
          "name": "stderr",
          "text": [
            "100%|██████████| 818/818 [00:00<00:00, 2950.49it/s]"
          ]
        },
        {
          "output_type": "stream",
          "name": "stdout",
          "text": [
            "[MoviePy] Done.\n"
          ]
        },
        {
          "output_type": "stream",
          "name": "stderr",
          "text": [
            "\n"
          ]
        },
        {
          "output_type": "stream",
          "name": "stdout",
          "text": [
            "Fetching File\n",
            "Converting audio transcripts into text ...\n",
            "survive a 12-volt cordless complete mission is to help a college grad student loan debt myself and I would love the opportunity to work with the company that makes a difference so job search and\n",
            "194\n"
          ]
        }
      ]
    },
    {
      "cell_type": "code",
      "source": [
        "fluency"
      ],
      "metadata": {
        "colab": {
          "base_uri": "https://localhost:8080/"
        },
        "id": "EVoTIBaLNX7Q",
        "outputId": "bacb5c09-e669-4e80-fbaa-920c6ab91cb2"
      },
      "execution_count": 62,
      "outputs": [
        {
          "output_type": "execute_result",
          "data": {
            "text/plain": [
              "['C', 'B', 'C', 'C', 'C', 'C']"
            ]
          },
          "metadata": {},
          "execution_count": 62
        }
      ]
    },
    {
      "cell_type": "code",
      "source": [
        "def aggregate_score(content_score,confidence,energy,fluency):\n",
        "  content_score=[i for i in content_score if i!='Not Applicable']\n",
        "  content_score=np.mean(content_score)\n",
        "  cohort=0\n",
        "  net=[]\n",
        "  if content_score>20 and content_score<30:\n",
        "    cohort=1\n",
        "  elif content_score>30 and content_score<40:\n",
        "    cohort=2\n",
        "  elif content_score>40 and content_score<60:\n",
        "    cohort=3\n",
        "  elif content_score>60 and content_score<70:\n",
        "    cohort=4\n",
        "  for i in range(len(confidence)):\n",
        "    net.append(((69-ord(confidence[i]))+(69-ord(energy[i]))+(69-ord(fluency[i]))+cohort)//4)\n",
        "  return [chr(69-i)for i in net]"
      ],
      "metadata": {
        "id": "nicwTv6kOt6P"
      },
      "execution_count": 63,
      "outputs": []
    },
    {
      "cell_type": "code",
      "source": [
        "content_score"
      ],
      "metadata": {
        "id": "T3qdN_TuOfVO",
        "colab": {
          "base_uri": "https://localhost:8080/"
        },
        "outputId": "2ffbfeea-de62-4e67-ca72-662c24980d2c"
      },
      "execution_count": 64,
      "outputs": [
        {
          "output_type": "execute_result",
          "data": {
            "text/plain": [
              "[44.39,\n",
              " 73.97,\n",
              " 'Not Applicable',\n",
              " 'Not Applicable',\n",
              " 'Not Applicable',\n",
              " 'Not Applicable']"
            ]
          },
          "metadata": {},
          "execution_count": 64
        }
      ]
    },
    {
      "cell_type": "code",
      "source": [
        "[ord(i) for i in confidence]"
      ],
      "metadata": {
        "colab": {
          "base_uri": "https://localhost:8080/"
        },
        "id": "gDhJNoPuQ7Ty",
        "outputId": "ab226afd-c02d-4905-9194-6aaecbb462ed"
      },
      "execution_count": 65,
      "outputs": [
        {
          "output_type": "execute_result",
          "data": {
            "text/plain": [
              "[67, 67, 66, 67, 66, 66]"
            ]
          },
          "metadata": {},
          "execution_count": 65
        }
      ]
    },
    {
      "cell_type": "code",
      "source": [
        "fluency"
      ],
      "metadata": {
        "colab": {
          "base_uri": "https://localhost:8080/"
        },
        "id": "kBdyYhg1Q9Wj",
        "outputId": "ec07ead5-d628-40f0-b93b-611d124dddc6"
      },
      "execution_count": 66,
      "outputs": [
        {
          "output_type": "execute_result",
          "data": {
            "text/plain": [
              "['C', 'B', 'C', 'C', 'C', 'C']"
            ]
          },
          "metadata": {},
          "execution_count": 66
        }
      ]
    },
    {
      "cell_type": "code",
      "source": [
        "energy"
      ],
      "metadata": {
        "colab": {
          "base_uri": "https://localhost:8080/"
        },
        "id": "J36uNWBXQ_rx",
        "outputId": "16bd026b-1a98-4369-bd2b-58778db4fb5e"
      },
      "execution_count": 67,
      "outputs": [
        {
          "output_type": "execute_result",
          "data": {
            "text/plain": [
              "['A', 'A', 'A', 'A', 'A', 'A']"
            ]
          },
          "metadata": {},
          "execution_count": 67
        }
      ]
    },
    {
      "cell_type": "code",
      "source": [
        "per_ques=aggregate_score(content_score,confidence,energy,fluency)\n",
        "per_ques"
      ],
      "metadata": {
        "colab": {
          "base_uri": "https://localhost:8080/"
        },
        "id": "c96dMZXxQUCS",
        "outputId": "f0522787-91cb-4695-8f50-eb1a97866c78"
      },
      "execution_count": 68,
      "outputs": [
        {
          "output_type": "execute_result",
          "data": {
            "text/plain": [
              "['C', 'B', 'B', 'C', 'B', 'B']"
            ]
          },
          "metadata": {},
          "execution_count": 68
        }
      ]
    },
    {
      "cell_type": "code",
      "source": [
        "interaction_score=69-np.mean([ord(i) for i in per_ques])\n",
        "interaction_score"
      ],
      "metadata": {
        "colab": {
          "base_uri": "https://localhost:8080/"
        },
        "id": "j2-Kv65qQqs5",
        "outputId": "bb59b219-fadc-464d-d714-211d2a5f23c5"
      },
      "execution_count": 83,
      "outputs": [
        {
          "output_type": "execute_result",
          "data": {
            "text/plain": [
              "2.6666666666666714"
            ]
          },
          "metadata": {},
          "execution_count": 83
        }
      ]
    },
    {
      "cell_type": "code",
      "source": [
        "interaction_percentage=0\n",
        "if interaction_score>3:\n",
        "  interaction_percentage=75+((interaction_score-3)*25)\n",
        "elif interaction_score>2:\n",
        "  interaction_percentage=60+((interaction_score-2)*15)\n",
        "elif interaction_score>1:\n",
        "  interaction_percentage=40+((interaction_score-3)*20)\n",
        "else:\n",
        "  interaction_percentage=25+((interaction_score-3)*15)"
      ],
      "metadata": {
        "id": "2o-XIO306pTB"
      },
      "execution_count": 85,
      "outputs": []
    },
    {
      "cell_type": "code",
      "source": [
        "interaction_cohort=chr(69-round(interaction_score))\n",
        "interaction_cohort"
      ],
      "metadata": {
        "colab": {
          "base_uri": "https://localhost:8080/",
          "height": 35
        },
        "id": "Qh1H8IP5TdDj",
        "outputId": "29f5a93f-5c95-4228-d350-dfd990fa8ea9"
      },
      "execution_count": 86,
      "outputs": [
        {
          "output_type": "execute_result",
          "data": {
            "text/plain": [
              "'B'"
            ],
            "application/vnd.google.colaboratory.intrinsic+json": {
              "type": "string"
            }
          },
          "metadata": {},
          "execution_count": 86
        }
      ]
    },
    {
      "cell_type": "code",
      "source": [
        "quotients=pd.read_csv(\"/content/The Power words dashboard  - Power Words.csv\").dropna()\n",
        "text=' '.join(net_text)"
      ],
      "metadata": {
        "id": "9h737cybV9Hf"
      },
      "execution_count": 71,
      "outputs": []
    },
    {
      "cell_type": "code",
      "source": [
        "sales=' '.join(list(quotients['Sales Power words ']))\n",
        "manager=' '.join(list(quotients['Manager Power Words ']))\n",
        "leadership=' '.join(list(quotients['Leadership Power Words']))\n",
        "hr=' '.join(list(quotients['HR Power Words ']))\n",
        "learning=' '.join(list(quotients['Learning Quotient ']))\n",
        "service=' '.join(list(quotients['Service Quotient ']))"
      ],
      "metadata": {
        "id": "HZAOF2aKhuy5"
      },
      "execution_count": 72,
      "outputs": []
    },
    {
      "cell_type": "code",
      "source": [
        "def quotient_scores(sales,manager,leadership,hr,learning,service,text):\n",
        "  content_score={}\n",
        "  sales_list = [text,sales]\n",
        "  mg_list=[text,manager]\n",
        "  ld_list=[text,leadership]\n",
        "  hr_list=[text,hr]\n",
        "  lr_list=[text,learning]\n",
        "  sv_list=[text,service]\n",
        "  cv = CountVectorizer()\n",
        "  count_matrix = cv.fit_transform(sales_list)\n",
        "  matchPercentage = cosine_similarity(count_matrix)[0][1] * 100\n",
        "  matchPercentage = round(matchPercentage, 2)\n",
        "  mp2=round(((fuzz.token_sort_ratio(text.lower(),sales.lower()))/len(sales.split(\" \")))*100)\n",
        "  content_score['sales']=(mp2 if mp2>matchPercentage else matchPercentage)\n",
        "\n",
        "  count_matrix = cv.fit_transform(mg_list)\n",
        "  matchPercentage = cosine_similarity(count_matrix)[0][1] * 100\n",
        "  matchPercentage = round(matchPercentage, 2)\n",
        "  mp2=round(((fuzz.token_sort_ratio(text.lower(),manager.lower()))/len(manager.split(\" \")))*100)\n",
        "  content_score['manager']=(mp2 if mp2>matchPercentage else matchPercentage)\n",
        "\n",
        "  count_matrix = cv.fit_transform(ld_list)\n",
        "  matchPercentage = cosine_similarity(count_matrix)[0][1] * 100\n",
        "  matchPercentage = round(matchPercentage, 2)\n",
        "  mp2=round(((fuzz.token_sort_ratio(text.lower(),leadership.lower()))/len(leadership.split(\" \")))*100)\n",
        "  content_score['leadership']=(mp2 if mp2>matchPercentage else matchPercentage)\n",
        "\n",
        "  count_matrix = cv.fit_transform(hr_list)\n",
        "  matchPercentage = cosine_similarity(count_matrix)[0][1] * 100\n",
        "  matchPercentage = round(matchPercentage, 2)\n",
        "  mp2=round(((fuzz.token_sort_ratio(text.lower(),hr.lower()))/len(hr.split(\" \")))*100)\n",
        "  content_score['hr']=(mp2 if mp2>matchPercentage else matchPercentage)\n",
        "  \n",
        "  count_matrix = cv.fit_transform(lr_list)\n",
        "  matchPercentage = cosine_similarity(count_matrix)[0][1] * 100\n",
        "  matchPercentage = round(matchPercentage, 2)\n",
        "  mp2=round(((fuzz.token_sort_ratio(text.lower(),learning.lower()))/len(learning.split(\" \")))*100)\n",
        "  content_score['learning']=(mp2 if mp2>matchPercentage else matchPercentage)\n",
        "\n",
        "  count_matrix = cv.fit_transform(sv_list)\n",
        "  matchPercentage = cosine_similarity(count_matrix)[0][1] * 100\n",
        "  matchPercentage = round(matchPercentage, 2)\n",
        "  mp2=round(((fuzz.token_sort_ratio(text.lower(),service.lower()))/len(service.split(\" \")))*100)\n",
        "  content_score['service']=(mp2 if mp2>matchPercentage else matchPercentage)\n",
        "\n",
        "  return content_score\n"
      ],
      "metadata": {
        "id": "8DjXI9s8i722"
      },
      "execution_count": 72,
      "outputs": []
    },
    {
      "cell_type": "code",
      "source": [
        "quotient_dict=quotient_scores(sales,manager,leadership,hr,learning,service,text)"
      ],
      "metadata": {
        "id": "gzeiM1mijduq"
      },
      "execution_count": 72,
      "outputs": []
    },
    {
      "cell_type": "code",
      "source": [
        "from google.colab.patches import cv2_imshow\n",
        "import cv2\n",
        "cloud=cv2.imread('/content/word_cloud.png')"
      ],
      "metadata": {
        "id": "Bv538l4hqCSF"
      },
      "execution_count": 72,
      "outputs": []
    },
    {
      "cell_type": "code",
      "source": [
        "content_score=[i for i in content_score if i!='Not Applicable']\n",
        "content_score=np.mean(content_score)"
      ],
      "metadata": {
        "id": "exPWq76rt7CO"
      },
      "execution_count": 72,
      "outputs": []
    },
    {
      "cell_type": "code",
      "source": [
        "#fill up ids\n",
        "output={}\n",
        "output['Candidate_ID']=[id['Candidate_ID']]*6\n",
        "output['Interaction_ID']=[id['Interaction_ID']]*6\n",
        "output['Test_ID']=[id['Test_ID']]*6\n",
        "output['Interaction_Mode']=[df.iloc[0]['Interaction_Mode']]*6\n",
        "output['MCQ_Percentage']=[(0 if output['Interaction_Mode']!='MCQ' else 1)]*6\n",
        "output['Sales_Quotient']=[quotient_dict['sales']]*6\n",
        "output['Manager_Quotient']=[quotient_dict['manager']]*6\n",
        "output['Leadership_Quotient']=[quotient_dict['leadership']]*6\n",
        "output['Learner_Quotient']=[quotient_dict['learning']]*6\n",
        "output['People_Quotient']=[quotient_dict['service']]*6\n",
        "output['Resume_Score']=[resume_sc]*6\n",
        "output['Pace']=[np.mean(net_word_count)]*6\n",
        "output['Power_word_density']=[power_density]*6\n",
        "#output['Word_Cloud']=[cloud]*6\n",
        "output['Volume']=[volume]*6\n",
        "output['Pitch']=[pitc]*6\n",
        "output['Aggregate_content_score']=[content_score]*6\n",
        "output['Raw_interaction_score']=[interaction_score]*6\n",
        "output['Interaction_grade']=[interaction_cohort]*6\n",
        "output['Question_no.']=list(df['Question_ID'])[:-1]\n",
        "output['MCQ_Value']=[0]*6\n",
        "#pd.DataFrame(output,columns=output.keys(),index=[0])"
      ],
      "metadata": {
        "id": "Oc3p14zalIJl"
      },
      "execution_count": 76,
      "outputs": []
    },
    {
      "cell_type": "code",
      "source": [
        "output['Interaction_percentage'],output['Interaction_score']=[interaction_percentage]*6,[interaction_score]*6"
      ],
      "metadata": {
        "id": "bsqKI52-0gnL"
      },
      "execution_count": null,
      "outputs": []
    },
    {
      "cell_type": "code",
      "source": [
        "output['Question_no.']"
      ],
      "metadata": {
        "colab": {
          "base_uri": "https://localhost:8080/"
        },
        "id": "0SAJmLJuBS4k",
        "outputId": "3554e8f4-4505-42ea-9ec3-b74bee431961"
      },
      "execution_count": 77,
      "outputs": [
        {
          "output_type": "execute_result",
          "data": {
            "text/plain": [
              "['1', '2', '3', '4', '5', '6']"
            ]
          },
          "metadata": {},
          "execution_count": 77
        }
      ]
    },
    {
      "cell_type": "code",
      "source": [
        "output['Transcript']=net_text\n",
        "output['Confidence']=confidence\n",
        "output['Fluency']=fluency\n",
        "output['Energy']=energy\n",
        "output['Content_score']=content_score\n",
        "output['per_question_score']=per_ques\n",
        "output['silence_number'],output['silence_length']=silence_secs,silence_num\n",
        "output['filler_words_score']=filler_words_cohort(net_text)\n",
        "output['sentiment_score']=happy_proba"
      ],
      "metadata": {
        "id": "UUCzxxjVwrJ8"
      },
      "execution_count": 78,
      "outputs": []
    },
    {
      "cell_type": "code",
      "source": [
        "import collections.abc\n",
        "\n",
        "for key,val in output.items():\n",
        "  if isinstance(val, collections.abc.Sequence):\n",
        "    print(key,len(val))\n",
        "  else:\n",
        "    print('no len for ',key)"
      ],
      "metadata": {
        "colab": {
          "base_uri": "https://localhost:8080/"
        },
        "id": "oqaR6AF3BVZQ",
        "outputId": "af832e4f-ee9f-4d5a-88d1-0c75865ae0e1"
      },
      "execution_count": 79,
      "outputs": [
        {
          "output_type": "stream",
          "name": "stdout",
          "text": [
            "Candidate_ID 6\n",
            "Interaction_ID 6\n",
            "Test_ID 6\n",
            "Interaction_Mode 6\n",
            "MCQ_Percentage 6\n",
            "Resume_Score 6\n",
            "Pace 6\n",
            "Power_word_density 6\n",
            "Volume 6\n",
            "Pitch 6\n",
            "Aggregate_content_score 6\n",
            "Raw_interaction_score 6\n",
            "Interaction_score 6\n",
            "Question_no. 6\n",
            "MCQ_Value 6\n",
            "Transcript 6\n",
            "Confidence 6\n",
            "Fluency 6\n",
            "Energy 6\n",
            "Content_score 6\n",
            "per_question_score 6\n",
            "silence_number 6\n",
            "silence_length 6\n",
            "filler_words_score 6\n",
            "sentiment_score 6\n"
          ]
        }
      ]
    },
    {
      "cell_type": "code",
      "source": [
        "output=pd.DataFrame(output,columns=output.keys())"
      ],
      "metadata": {
        "id": "7dH_Yqny712O"
      },
      "execution_count": 87,
      "outputs": []
    },
    {
      "cell_type": "code",
      "source": [
        "output"
      ],
      "metadata": {
        "colab": {
          "base_uri": "https://localhost:8080/",
          "height": 678
        },
        "id": "ORRAI6reCww6",
        "outputId": "a7e8c56e-cced-4909-e561-7ddab471b4c4"
      },
      "execution_count": 88,
      "outputs": [
        {
          "output_type": "execute_result",
          "data": {
            "text/plain": [
              "  Candidate_ID Interaction_ID Test_ID Interaction_Mode  MCQ_Percentage  \\\n",
              "0          686          67897    8890            Audio               0   \n",
              "1          686          67897    8890            Audio               0   \n",
              "2          686          67897    8890            Audio               0   \n",
              "3          686          67897    8890            Audio               0   \n",
              "4          686          67897    8890            Audio               0   \n",
              "5          686          67897    8890            Audio               0   \n",
              "\n",
              "   Resume_Score  Pace  Power_word_density     Volume  Pitch  ...  \\\n",
              "0            42  62.0            1.422541  75.884085  612.5  ...   \n",
              "1            42  62.0            1.422541  75.884085  612.5  ...   \n",
              "2            42  62.0            1.422541  75.884085  612.5  ...   \n",
              "3            42  62.0            1.422541  75.884085  612.5  ...   \n",
              "4            42  62.0            1.422541  75.884085  612.5  ...   \n",
              "5            42  62.0            1.422541  75.884085  612.5  ...   \n",
              "\n",
              "                                          Transcript  Confidence Fluency  \\\n",
              "0  remind sidewalking passionate and enthusiastic...           C       C   \n",
              "1  so rating from my Society scale of 1 to 10 I w...           C       B   \n",
              "2  Mike distran so I think one of my greatest fri...           B       C   \n",
              "3  so what makes me unique is basically what make...           C       C   \n",
              "4  survive a 12-volt cordless complete mission is...           B       C   \n",
              "5  survive a 12-volt cordless complete mission is...           B       C   \n",
              "\n",
              "  Energy   Content_score per_question_score silence_number silence_length  \\\n",
              "0      A           44.39                  C          2.052              2   \n",
              "1      A           73.97                  B          0.000              0   \n",
              "2      A  Not Applicable                  B          0.000              0   \n",
              "3      A  Not Applicable                  C          0.000              0   \n",
              "4      A  Not Applicable                  B          0.000              0   \n",
              "5      A  Not Applicable                  B          0.000              0   \n",
              "\n",
              "  filler_words_score sentiment_score  \n",
              "0                  3        0.355507  \n",
              "1                  3        0.077419  \n",
              "2                  4        0.313527  \n",
              "3                  3        0.162576  \n",
              "4                  3        0.980709  \n",
              "5                  3        0.980709  \n",
              "\n",
              "[6 rows x 25 columns]"
            ],
            "text/html": [
              "\n",
              "  <div id=\"df-bc065c4c-21be-4ec7-aea5-784bd4daee49\">\n",
              "    <div class=\"colab-df-container\">\n",
              "      <div>\n",
              "<style scoped>\n",
              "    .dataframe tbody tr th:only-of-type {\n",
              "        vertical-align: middle;\n",
              "    }\n",
              "\n",
              "    .dataframe tbody tr th {\n",
              "        vertical-align: top;\n",
              "    }\n",
              "\n",
              "    .dataframe thead th {\n",
              "        text-align: right;\n",
              "    }\n",
              "</style>\n",
              "<table border=\"1\" class=\"dataframe\">\n",
              "  <thead>\n",
              "    <tr style=\"text-align: right;\">\n",
              "      <th></th>\n",
              "      <th>Candidate_ID</th>\n",
              "      <th>Interaction_ID</th>\n",
              "      <th>Test_ID</th>\n",
              "      <th>Interaction_Mode</th>\n",
              "      <th>MCQ_Percentage</th>\n",
              "      <th>Resume_Score</th>\n",
              "      <th>Pace</th>\n",
              "      <th>Power_word_density</th>\n",
              "      <th>Volume</th>\n",
              "      <th>Pitch</th>\n",
              "      <th>...</th>\n",
              "      <th>Transcript</th>\n",
              "      <th>Confidence</th>\n",
              "      <th>Fluency</th>\n",
              "      <th>Energy</th>\n",
              "      <th>Content_score</th>\n",
              "      <th>per_question_score</th>\n",
              "      <th>silence_number</th>\n",
              "      <th>silence_length</th>\n",
              "      <th>filler_words_score</th>\n",
              "      <th>sentiment_score</th>\n",
              "    </tr>\n",
              "  </thead>\n",
              "  <tbody>\n",
              "    <tr>\n",
              "      <th>0</th>\n",
              "      <td>686</td>\n",
              "      <td>67897</td>\n",
              "      <td>8890</td>\n",
              "      <td>Audio</td>\n",
              "      <td>0</td>\n",
              "      <td>42</td>\n",
              "      <td>62.0</td>\n",
              "      <td>1.422541</td>\n",
              "      <td>75.884085</td>\n",
              "      <td>612.5</td>\n",
              "      <td>...</td>\n",
              "      <td>remind sidewalking passionate and enthusiastic...</td>\n",
              "      <td>C</td>\n",
              "      <td>C</td>\n",
              "      <td>A</td>\n",
              "      <td>44.39</td>\n",
              "      <td>C</td>\n",
              "      <td>2.052</td>\n",
              "      <td>2</td>\n",
              "      <td>3</td>\n",
              "      <td>0.355507</td>\n",
              "    </tr>\n",
              "    <tr>\n",
              "      <th>1</th>\n",
              "      <td>686</td>\n",
              "      <td>67897</td>\n",
              "      <td>8890</td>\n",
              "      <td>Audio</td>\n",
              "      <td>0</td>\n",
              "      <td>42</td>\n",
              "      <td>62.0</td>\n",
              "      <td>1.422541</td>\n",
              "      <td>75.884085</td>\n",
              "      <td>612.5</td>\n",
              "      <td>...</td>\n",
              "      <td>so rating from my Society scale of 1 to 10 I w...</td>\n",
              "      <td>C</td>\n",
              "      <td>B</td>\n",
              "      <td>A</td>\n",
              "      <td>73.97</td>\n",
              "      <td>B</td>\n",
              "      <td>0.000</td>\n",
              "      <td>0</td>\n",
              "      <td>3</td>\n",
              "      <td>0.077419</td>\n",
              "    </tr>\n",
              "    <tr>\n",
              "      <th>2</th>\n",
              "      <td>686</td>\n",
              "      <td>67897</td>\n",
              "      <td>8890</td>\n",
              "      <td>Audio</td>\n",
              "      <td>0</td>\n",
              "      <td>42</td>\n",
              "      <td>62.0</td>\n",
              "      <td>1.422541</td>\n",
              "      <td>75.884085</td>\n",
              "      <td>612.5</td>\n",
              "      <td>...</td>\n",
              "      <td>Mike distran so I think one of my greatest fri...</td>\n",
              "      <td>B</td>\n",
              "      <td>C</td>\n",
              "      <td>A</td>\n",
              "      <td>Not Applicable</td>\n",
              "      <td>B</td>\n",
              "      <td>0.000</td>\n",
              "      <td>0</td>\n",
              "      <td>4</td>\n",
              "      <td>0.313527</td>\n",
              "    </tr>\n",
              "    <tr>\n",
              "      <th>3</th>\n",
              "      <td>686</td>\n",
              "      <td>67897</td>\n",
              "      <td>8890</td>\n",
              "      <td>Audio</td>\n",
              "      <td>0</td>\n",
              "      <td>42</td>\n",
              "      <td>62.0</td>\n",
              "      <td>1.422541</td>\n",
              "      <td>75.884085</td>\n",
              "      <td>612.5</td>\n",
              "      <td>...</td>\n",
              "      <td>so what makes me unique is basically what make...</td>\n",
              "      <td>C</td>\n",
              "      <td>C</td>\n",
              "      <td>A</td>\n",
              "      <td>Not Applicable</td>\n",
              "      <td>C</td>\n",
              "      <td>0.000</td>\n",
              "      <td>0</td>\n",
              "      <td>3</td>\n",
              "      <td>0.162576</td>\n",
              "    </tr>\n",
              "    <tr>\n",
              "      <th>4</th>\n",
              "      <td>686</td>\n",
              "      <td>67897</td>\n",
              "      <td>8890</td>\n",
              "      <td>Audio</td>\n",
              "      <td>0</td>\n",
              "      <td>42</td>\n",
              "      <td>62.0</td>\n",
              "      <td>1.422541</td>\n",
              "      <td>75.884085</td>\n",
              "      <td>612.5</td>\n",
              "      <td>...</td>\n",
              "      <td>survive a 12-volt cordless complete mission is...</td>\n",
              "      <td>B</td>\n",
              "      <td>C</td>\n",
              "      <td>A</td>\n",
              "      <td>Not Applicable</td>\n",
              "      <td>B</td>\n",
              "      <td>0.000</td>\n",
              "      <td>0</td>\n",
              "      <td>3</td>\n",
              "      <td>0.980709</td>\n",
              "    </tr>\n",
              "    <tr>\n",
              "      <th>5</th>\n",
              "      <td>686</td>\n",
              "      <td>67897</td>\n",
              "      <td>8890</td>\n",
              "      <td>Audio</td>\n",
              "      <td>0</td>\n",
              "      <td>42</td>\n",
              "      <td>62.0</td>\n",
              "      <td>1.422541</td>\n",
              "      <td>75.884085</td>\n",
              "      <td>612.5</td>\n",
              "      <td>...</td>\n",
              "      <td>survive a 12-volt cordless complete mission is...</td>\n",
              "      <td>B</td>\n",
              "      <td>C</td>\n",
              "      <td>A</td>\n",
              "      <td>Not Applicable</td>\n",
              "      <td>B</td>\n",
              "      <td>0.000</td>\n",
              "      <td>0</td>\n",
              "      <td>3</td>\n",
              "      <td>0.980709</td>\n",
              "    </tr>\n",
              "  </tbody>\n",
              "</table>\n",
              "<p>6 rows × 25 columns</p>\n",
              "</div>\n",
              "      <button class=\"colab-df-convert\" onclick=\"convertToInteractive('df-bc065c4c-21be-4ec7-aea5-784bd4daee49')\"\n",
              "              title=\"Convert this dataframe to an interactive table.\"\n",
              "              style=\"display:none;\">\n",
              "        \n",
              "  <svg xmlns=\"http://www.w3.org/2000/svg\" height=\"24px\"viewBox=\"0 0 24 24\"\n",
              "       width=\"24px\">\n",
              "    <path d=\"M0 0h24v24H0V0z\" fill=\"none\"/>\n",
              "    <path d=\"M18.56 5.44l.94 2.06.94-2.06 2.06-.94-2.06-.94-.94-2.06-.94 2.06-2.06.94zm-11 1L8.5 8.5l.94-2.06 2.06-.94-2.06-.94L8.5 2.5l-.94 2.06-2.06.94zm10 10l.94 2.06.94-2.06 2.06-.94-2.06-.94-.94-2.06-.94 2.06-2.06.94z\"/><path d=\"M17.41 7.96l-1.37-1.37c-.4-.4-.92-.59-1.43-.59-.52 0-1.04.2-1.43.59L10.3 9.45l-7.72 7.72c-.78.78-.78 2.05 0 2.83L4 21.41c.39.39.9.59 1.41.59.51 0 1.02-.2 1.41-.59l7.78-7.78 2.81-2.81c.8-.78.8-2.07 0-2.86zM5.41 20L4 18.59l7.72-7.72 1.47 1.35L5.41 20z\"/>\n",
              "  </svg>\n",
              "      </button>\n",
              "      \n",
              "  <style>\n",
              "    .colab-df-container {\n",
              "      display:flex;\n",
              "      flex-wrap:wrap;\n",
              "      gap: 12px;\n",
              "    }\n",
              "\n",
              "    .colab-df-convert {\n",
              "      background-color: #E8F0FE;\n",
              "      border: none;\n",
              "      border-radius: 50%;\n",
              "      cursor: pointer;\n",
              "      display: none;\n",
              "      fill: #1967D2;\n",
              "      height: 32px;\n",
              "      padding: 0 0 0 0;\n",
              "      width: 32px;\n",
              "    }\n",
              "\n",
              "    .colab-df-convert:hover {\n",
              "      background-color: #E2EBFA;\n",
              "      box-shadow: 0px 1px 2px rgba(60, 64, 67, 0.3), 0px 1px 3px 1px rgba(60, 64, 67, 0.15);\n",
              "      fill: #174EA6;\n",
              "    }\n",
              "\n",
              "    [theme=dark] .colab-df-convert {\n",
              "      background-color: #3B4455;\n",
              "      fill: #D2E3FC;\n",
              "    }\n",
              "\n",
              "    [theme=dark] .colab-df-convert:hover {\n",
              "      background-color: #434B5C;\n",
              "      box-shadow: 0px 1px 3px 1px rgba(0, 0, 0, 0.15);\n",
              "      filter: drop-shadow(0px 1px 2px rgba(0, 0, 0, 0.3));\n",
              "      fill: #FFFFFF;\n",
              "    }\n",
              "  </style>\n",
              "\n",
              "      <script>\n",
              "        const buttonEl =\n",
              "          document.querySelector('#df-bc065c4c-21be-4ec7-aea5-784bd4daee49 button.colab-df-convert');\n",
              "        buttonEl.style.display =\n",
              "          google.colab.kernel.accessAllowed ? 'block' : 'none';\n",
              "\n",
              "        async function convertToInteractive(key) {\n",
              "          const element = document.querySelector('#df-bc065c4c-21be-4ec7-aea5-784bd4daee49');\n",
              "          const dataTable =\n",
              "            await google.colab.kernel.invokeFunction('convertToInteractive',\n",
              "                                                     [key], {});\n",
              "          if (!dataTable) return;\n",
              "\n",
              "          const docLinkHtml = 'Like what you see? Visit the ' +\n",
              "            '<a target=\"_blank\" href=https://colab.research.google.com/notebooks/data_table.ipynb>data table notebook</a>'\n",
              "            + ' to learn more about interactive tables.';\n",
              "          element.innerHTML = '';\n",
              "          dataTable['output_type'] = 'display_data';\n",
              "          await google.colab.output.renderOutput(dataTable, element);\n",
              "          const docLink = document.createElement('div');\n",
              "          docLink.innerHTML = docLinkHtml;\n",
              "          element.appendChild(docLink);\n",
              "        }\n",
              "      </script>\n",
              "    </div>\n",
              "  </div>\n",
              "  "
            ]
          },
          "metadata": {},
          "execution_count": 88
        }
      ]
    }
  ]
}