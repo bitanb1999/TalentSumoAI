{
  "nbformat": 4,
  "nbformat_minor": 0,
  "metadata": {
    "colab": {
      "name": "Speech-to-Text.ipynb",
      "provenance": [],
      "authorship_tag": "ABX9TyM0NvxvaV8R325VZ++SJYAz",
      "include_colab_link": true
    },
    "kernelspec": {
      "name": "python3",
      "display_name": "Python 3"
    },
    "language_info": {
      "name": "python"
    }
  },
  "cells": [
    {
      "cell_type": "markdown",
      "metadata": {
        "id": "view-in-github",
        "colab_type": "text"
      },
      "source": [
        "<a href=\"https://colab.research.google.com/github/bitanb1999/TalentSumoAI/blob/main/Speech_to_Text.ipynb\" target=\"_parent\"><img src=\"https://colab.research.google.com/assets/colab-badge.svg\" alt=\"Open In Colab\"/></a>"
      ]
    },
    {
      "cell_type": "markdown",
      "source": [
        "###Speech-to-text"
      ],
      "metadata": {
        "id": "U_OCAEA8ftrp"
      }
    },
    {
      "cell_type": "code",
      "execution_count": 1,
      "metadata": {
        "colab": {
          "base_uri": "https://localhost:8080/"
        },
        "id": "tbNKi-M_fcBH",
        "outputId": "f77e4ab2-ad2f-4fef-80bf-51ac154521eb"
      },
      "outputs": [
        {
          "output_type": "stream",
          "name": "stdout",
          "text": [
            "Collecting SpeechRecognition\n",
            "  Downloading SpeechRecognition-3.8.1-py2.py3-none-any.whl (32.8 MB)\n",
            "\u001b[K     |████████████████████████████████| 32.8 MB 198 kB/s \n",
            "\u001b[?25hInstalling collected packages: SpeechRecognition\n",
            "Successfully installed SpeechRecognition-3.8.1\n"
          ]
        }
      ],
      "source": [
        "!pip install SpeechRecognition"
      ]
    },
    {
      "cell_type": "code",
      "source": [
        "!pip install pydub"
      ],
      "metadata": {
        "colab": {
          "base_uri": "https://localhost:8080/"
        },
        "id": "PomtM8z5gPZp",
        "outputId": "f67dcea3-2572-4466-eae2-1de61d2385ef"
      },
      "execution_count": 3,
      "outputs": [
        {
          "output_type": "stream",
          "name": "stdout",
          "text": [
            "Collecting pydub\n",
            "  Downloading pydub-0.25.1-py2.py3-none-any.whl (32 kB)\n",
            "Installing collected packages: pydub\n",
            "Successfully installed pydub-0.25.1\n"
          ]
        }
      ]
    },
    {
      "cell_type": "code",
      "source": [
        "from os import path\n",
        "from pydub import AudioSegment\n",
        "\n",
        "# files                                                                         \n",
        "src = \"/content/20220326-202223.mp3\"\n",
        "dst = \"test.wav\"\n",
        "\n",
        "# convert wav to mp3                                                            \n",
        "sound = AudioSegment.from_mp3(src)\n",
        "sound.export(dst, format=\"wav\")"
      ],
      "metadata": {
        "colab": {
          "base_uri": "https://localhost:8080/"
        },
        "id": "kLobEmSCgRQu",
        "outputId": "c96d161a-3a50-42f3-a328-8050c31844a2"
      },
      "execution_count": 4,
      "outputs": [
        {
          "output_type": "execute_result",
          "data": {
            "text/plain": [
              "<_io.BufferedRandom name='test.wav'>"
            ]
          },
          "metadata": {},
          "execution_count": 4
        }
      ]
    },
    {
      "cell_type": "code",
      "source": [
        "#import library\n",
        "import speech_recognition as sr\n",
        "\n",
        "# Initialize recognizer class (for recognizing the speech)\n",
        "r = sr.Recognizer()\n",
        "\n",
        "# Reading Audio file as source\n",
        "# listening the audio file and store in audio_text variable\n",
        "\n",
        "with sr.AudioFile('/content/test.wav') as source:\n",
        "    \n",
        "    audio_text = r.listen(source)\n",
        "    \n",
        "# recoginize_() method will throw a request error if the API is unreachable, hence using exception handling\n",
        "    try:\n",
        "        \n",
        "        # using google speech recognition\n",
        "        text = r.recognize_google(audio_text)\n",
        "        print('Converting audio transcripts into text ...')\n",
        "        print(text)\n",
        "     \n",
        "    except:\n",
        "         print('Sorry.. run again...')"
      ],
      "metadata": {
        "colab": {
          "base_uri": "https://localhost:8080/"
        },
        "id": "jEDP2lwyfs79",
        "outputId": "ef6a1424-caf5-4369-d47f-fd97a27154fa"
      },
      "execution_count": 5,
      "outputs": [
        {
          "output_type": "stream",
          "name": "stdout",
          "text": [
            "Converting audio transcripts into text ...\n",
            "My Name Is Earl\n"
          ]
        }
      ]
    },
    {
      "cell_type": "code",
      "source": [
        "# importing libraries\n",
        "import speech_recognition as sr\n",
        "\n",
        "import os\n",
        "\n",
        "from pydub import AudioSegment\n",
        "from pydub.silence import split_on_silence\n",
        "\n",
        "# a function that splits the audio file into chunks\n",
        "# and applies speech recognition\n",
        "def silence_based_conversion(path = \"/content/test.wav\"):\n",
        "\n",
        "\t# open the audio file stored in\n",
        "\t# the local system as a wav file.\n",
        "\tsong = AudioSegment.from_wav(path)\n",
        "\n",
        "\t# open a file where we will concatenate\n",
        "\t# and store the recognized text\n",
        "\tfh = open(\"recognized.txt\", \"w+\")\n",
        "\t\t\n",
        "\t# split track where silence is 0.5 seconds\n",
        "\t# or more and get chunks\n",
        "\tchunks = split_on_silence(song,\n",
        "\t\t# must be silent for at least 0.5 seconds\n",
        "\t\t# or 500 ms. adjust this value based on user\n",
        "\t\t# requirement. if the speaker stays silent for\n",
        "\t\t# longer, increase this value. else, decrease it.\n",
        "\t\tmin_silence_len = 500,\n",
        "\n",
        "\t\t# consider it silent if quieter than -16 dBFS\n",
        "\t\t# adjust this per requirement\n",
        "\t\tsilence_thresh = -16\n",
        "\t)\n",
        "\n",
        "\t# create a directory to store the audio chunks.\n",
        "\ttry:\n",
        "\t\tos.mkdir('audio_chunks')\n",
        "\texcept(FileExistsError):\n",
        "\t\tpass\n",
        "\n",
        "\t# move into the directory to\n",
        "\t# store the audio files.\n",
        "\tos.chdir('audio_chunks')\n",
        "\n",
        "\ti = 0\n",
        "\t# process each chunk\n",
        "\tfor chunk in chunks:\n",
        "\t\t\t\n",
        "\t\t# Create 0.5 seconds silence chunk\n",
        "\t\tchunk_silent = AudioSegment.silent(duration = 10)\n",
        "\n",
        "\t\t# add 0.5 sec silence to beginning and\n",
        "\t\t# end of audio chunk. This is done so that\n",
        "\t\t# it doesn't seem abruptly sliced.\n",
        "\t\taudio_chunk = chunk_silent + chunk + chunk_silent\n",
        "\n",
        "\t\t# export audio chunk and save it in\n",
        "\t\t# the current directory.\n",
        "\t\tprint(\"saving chunk{0}.wav\".format(i))\n",
        "\t\t# specify the bitrate to be 192 k\n",
        "\t\taudio_chunk.export(\"./chunk{0}.wav\".format(i), bitrate ='192k', format =\"wav\")\n",
        "\n",
        "\t\t# the name of the newly created chunk\n",
        "\t\tfilename = 'chunk'+str(i)+'.wav'\n",
        "\n",
        "\t\tprint(\"Processing chunk \"+str(i))\n",
        "\n",
        "\t\t# get the name of the newly created chunk\n",
        "\t\t# in the AUDIO_FILE variable for later use.\n",
        "\t\tfile = filename\n",
        "\n",
        "\t\t# create a speech recognition object\n",
        "\t\tr = sr.Recognizer()\n",
        "\n",
        "\t\t# recognize the chunk\n",
        "\t\twith sr.AudioFile(file) as source:\n",
        "\t\t\t# remove this if it is not working\n",
        "\t\t\t# correctly.\n",
        "\t\t\tr.adjust_for_ambient_noise(source)\n",
        "\t\t\taudio_listened = r.listen(source)\n",
        "\n",
        "\t\ttry:\n",
        "\t\t\t# try converting it to text\n",
        "\t\t\trec = r.recognize_google(audio_listened)\n",
        "\t\t\t# write the output to the file.\n",
        "\t\t\tfh.write(rec+\". \")\n",
        "\n",
        "\t\t# catch any errors.\n",
        "\t\texcept sr.UnknownValueError:\n",
        "\t\t\tprint(\"Could not understand audio\")\n",
        "\n",
        "\t\texcept sr.RequestError as e:\n",
        "\t\t\tprint(\"Could not request results. check your internet connection\")\n",
        "\n",
        "\t\ti += 1\n",
        "\n",
        "\tos.chdir('..')\n",
        "\n",
        "\n",
        "if __name__ == '__main__':\n",
        "\t\t\n",
        "\tprint('Enter the audio file path')\n",
        "\n",
        "\tpath = input()\n",
        "\n",
        "\tsilence_based_conversion(path)\n"
      ],
      "metadata": {
        "colab": {
          "base_uri": "https://localhost:8080/"
        },
        "id": "ljyV2nW7gryM",
        "outputId": "476c6103-5f62-4a8c-94ce-e45cbc9d17fa"
      },
      "execution_count": 7,
      "outputs": [
        {
          "name": "stdout",
          "output_type": "stream",
          "text": [
            "Enter the audio file path\n",
            "/content/test.wav\n"
          ]
        }
      ]
    },
    {
      "cell_type": "code",
      "source": [
        "def recognize_speech_from_mic(recognizer, microphone):\n",
        "    \"\"\"Transcribe speech from recorded from `microphone`.\n",
        "    Returns a dictionary with three keys:\n",
        "    \"success\": a boolean indicating whether or not the API request was\n",
        "               successful\n",
        "    \"error\":   `None` if no error occured, otherwise a string containing\n",
        "               an error message if the API could not be reached or\n",
        "               speech was unrecognizable\n",
        "    \"transcription\": `None` if speech could not be transcribed,\n",
        "               otherwise a string containing the transcribed text\n",
        "    \"\"\"\n",
        "    # check that recognizer and microphone arguments are appropriate type\n",
        "    if not isinstance(recognizer, sr.Recognizer):\n",
        "        raise TypeError(\"`recognizer` must be `Recognizer` instance\")\n",
        "\n",
        "    if not isinstance(microphone, sr.Microphone):\n",
        "        raise TypeError(\"`microphone` must be `Microphone` instance\")\n",
        "\n",
        "    # adjust the recognizer sensitivity to ambient noise and record audio\n",
        "    # from the microphone\n",
        "    with microphone as source:\n",
        "        recognizer.adjust_for_ambient_noise(source) # #  analyze the audio source for 1 second\n",
        "        audio = recognizer.listen(source)\n",
        "\n",
        "    # set up the response object\n",
        "    response = {\n",
        "        \"success\": True,\n",
        "        \"error\": None,\n",
        "        \"transcription\": None\n",
        "    }\n",
        "\n",
        "    # try recognizing the speech in the recording\n",
        "    # if a RequestError or UnknownValueError exception is caught,\n",
        "    #   update the response object accordingly\n",
        "    try:\n",
        "        response[\"transcription\"] = recognizer.recognize_google(audio)\n",
        "    except sr.RequestError:\n",
        "        # API was unreachable or unresponsive\n",
        "        response[\"success\"] = False\n",
        "        response[\"error\"] = \"API unavailable/unresponsive\"\n",
        "    except sr.UnknownValueError:\n",
        "        # speech was unintelligible\n",
        "        response[\"error\"] = \"Unable to recognize speech\"\n",
        "\n",
        "    return response"
      ],
      "metadata": {
        "id": "WIaFGQjRiDxu"
      },
      "execution_count": 16,
      "outputs": []
    },
    {
      "cell_type": "markdown",
      "source": [
        "###Link: https://realpython.com/python-speech-recognition/"
      ],
      "metadata": {
        "id": "pvzHKH6_kAbu"
      }
    }
  ]
}